{
 "cells": [
  {
   "cell_type": "markdown",
   "id": "76001f0f",
   "metadata": {},
   "source": [
    "## KUIS 2\n",
    "\n",
    "## Nama : Indah Retno Iriani\n",
    "## NIM : 2131710104\n",
    "## Kelas : MI-1E"
   ]
  },
  {
   "cell_type": "code",
   "execution_count": 1,
   "id": "55767bae",
   "metadata": {},
   "outputs": [
    {
     "name": "stdout",
     "output_type": "stream",
     "text": [
      "Masukkan nilai N : 5\n",
      "1\n",
      "12\n",
      "123\n",
      "1234\n",
      "12345\n"
     ]
    }
   ],
   "source": [
    "//Jawaban nomor 1\n",
    "\n",
    "import java.util.Scanner;\n",
    "Scanner input = new Scanner(System.in);\n",
    "System.out.print(\"Masukkan nilai N : \");\n",
    "int N = input.nextInt();\n",
    "for(int i=1 ; i<=N; i++){\n",
    "    for(int j=1 ; j<=i ; j++){\n",
    "        System.out.print(  j);\n",
    "    }\n",
    "    System.out.println();\n",
    "}"
   ]
  },
  {
   "cell_type": "code",
   "execution_count": 2,
   "id": "d99a5cb0",
   "metadata": {},
   "outputs": [
    {
     "name": "stdout",
     "output_type": "stream",
     "text": [
      "Masukkan nilai N : 5\n",
      "1\n",
      "22\n",
      "333\n",
      "4444\n",
      "55555\n"
     ]
    }
   ],
   "source": [
    "//Jawaban nomor 2\n",
    "\n",
    "import java.util.Scanner;\n",
    "Scanner input = new Scanner(System.in);\n",
    "System.out.print(\"Masukkan nilai N : \");\n",
    "int N = input.nextInt();\n",
    "for(int i=1 ; i<=N ; i++){\n",
    "    for(int j=1 ; j<=i ; j++){\n",
    "        System.out.print(i);\n",
    "    }\n",
    "    System.out.println();\n",
    "}"
   ]
  },
  {
   "cell_type": "code",
   "execution_count": 11,
   "id": "52e602a0",
   "metadata": {},
   "outputs": [
    {
     "name": "stdout",
     "output_type": "stream",
     "text": [
      "Masukkan huruf: I\n",
      "Masukkan huruf: N\n",
      "Masukkan huruf: D\n",
      "Masukkan huruf: A\n",
      "Masukkan huruf: H\n",
      " \n",
      "Masukkan huruf: R\n",
      "Masukkan huruf: E\n",
      "Masukkan huruf: T\n",
      "Masukkan huruf: N\n",
      "Masukkan huruf: O\n",
      " \n",
      "Masukkan huruf: I\n",
      "Masukkan huruf: R\n",
      "Masukkan huruf: I\n",
      "Masukkan huruf: A\n",
      "Masukkan huruf: N\n",
      " \n",
      "Masukkan huruf: I\n",
      "Masukkan huruf: D\n",
      "Masukkan huruf: A\n",
      "Masukkan huruf: R\n",
      "Masukkan huruf: I\n",
      " \n",
      "I N D A H \n",
      "R E T N O \n",
      "I R I A N \n",
      "I D A R I \n",
      " \n",
      "N adalah huruf terbesar pada baris ke-1 berada di kolom 2 \n",
      "T adalah huruf terbesar pada baris ke-2 berada di kolom 3 \n",
      "R adalah huruf terbesar pada baris ke-3 berada di kolom 2 \n",
      "R adalah huruf terbesar pada baris ke-4 berada di kolom 4"
     ]
    }
   ],
   "source": [
    "// jawaban 3\n",
    "\n",
    "import java.util.Scanner;\n",
    "Scanner input = new Scanner(System.in);\n",
    "char[][] huruf = new char[4][5];\n",
    "char besar;\n",
    "int huruf1, urutan, max;\n",
    "\n",
    "for(int i = 0; i < huruf.length; i++){\n",
    "    for(int j = 0; j < huruf[0].length; j++){\n",
    "    System.out.print(\"Masukkan huruf: \");\n",
    "    huruf[i][j] = input.next().charAt(0);\n",
    "    }\n",
    "    System.out.println(\" \");\n",
    "}\n",
    "\n",
    "for(int i = 0; i < huruf.length; i++){\n",
    "    for(int j = 0; j < huruf[0].length; j++){\n",
    "    System.out.print(huruf[i][j] + \" \");\n",
    "    }\n",
    "    System.out.println();\n",
    "}\n",
    "\n",
    "for(int i = 0; i < huruf.length; i++){\n",
    "    max = 0;\n",
    "    for(int j = 0; j < huruf[i].length; j++){\n",
    "    huruf1 = (int) huruf[i][j];\n",
    "    if(huruf[i][j] > max){\n",
    "    max = huruf[i][j];\n",
    "    urutan = j;\n",
    "    }\n",
    "    besar = (char) max;\n",
    "    }\n",
    "    System.out.println(\" \");\n",
    "    System.out.print( besar + \" adalah huruf terbesar pada baris ke-\" + (i+1) +\" berada di kolom \" + (urutan + 1));\n",
    "}"
   ]
  },
  {
   "cell_type": "code",
   "execution_count": 57,
   "id": "f9920a15",
   "metadata": {},
   "outputs": [
    {
     "name": "stdout",
     "output_type": "stream",
     "text": [
      "17-11-2021\n",
      "Tanggal Sekarang : 17 November 2021\n"
     ]
    }
   ],
   "source": [
    "//jawaban nomor 4\n",
    "\n",
    "import java.text.SimpleDateFormat;\n",
    "import java.util.Date;\n",
    "\n",
    "Date tgl = new Date(); //ambil tanggal saat ini\n",
    "\n",
    "SimpleDateFormat d = new SimpleDateFormat(\"d-M-Y\");\n",
    "String ini_tanggal = d.format(tgl);\n",
    "System.out.println(ini_tanggal);\n",
    "\n",
    "SimpleDateFormat d = new SimpleDateFormat(\"d MMMM Y\");\n",
    "String ini_tahun = d.format(tgl);\n",
    "System.out.println(\"Tanggal Sekarang : \" + ini_tahun);"
   ]
  },
  {
   "cell_type": "code",
   "execution_count": 13,
   "id": "21fc86d4",
   "metadata": {},
   "outputs": [
    {
     "name": "stdout",
     "output_type": "stream",
     "text": [
      "Tanggal Sekarang :  17 November 2021\n"
     ]
    }
   ],
   "source": [
    "//Jawaban nomor 4 menggunakan array\n",
    "\n",
    "import java.text.SimpleDateFormat;\n",
    "import java.util.Date;\n",
    "\n",
    "String ini_bulan [] ={\"Januari\",\"Februari\",\"Maret\",\"April\",\"Mei\",\"Juni\",\"Juli\",\"Agustus\",\"September\",\"Oktober\",\"November\",\"Desember\"};\n",
    "\n",
    "Date tgl = new Date();\n",
    "\n",
    "SimpleDateFormat d = new SimpleDateFormat(\" d \");\n",
    "String ini_tanggal = d.format(tgl);\n",
    "System.out.print(\"Tanggal Sekarang : \"+ini_tanggal);\n",
    "\n",
    "SimpleDateFormat d = new SimpleDateFormat(\"M\");\n",
    "String bulan = d.format(tgl);\n",
    "System.out.print(ini_bulan[10]);\n",
    "\n",
    "SimpleDateFormat d = new SimpleDateFormat(\" Y\");\n",
    "String ini_tahun = d.format(tgl);\n",
    "System.out.println(ini_tahun);\n",
    "\n"
   ]
  },
  {
   "cell_type": "code",
   "execution_count": null,
   "id": "37c06c78",
   "metadata": {},
   "outputs": [],
   "source": []
  }
 ],
 "metadata": {
  "kernelspec": {
   "display_name": "Java",
   "language": "java",
   "name": "java"
  },
  "language_info": {
   "codemirror_mode": "java",
   "file_extension": ".jshell",
   "mimetype": "text/x-java-source",
   "name": "Java",
   "pygments_lexer": "java",
   "version": "11.0.12+8-LTS-237"
  }
 },
 "nbformat": 4,
 "nbformat_minor": 5
}
