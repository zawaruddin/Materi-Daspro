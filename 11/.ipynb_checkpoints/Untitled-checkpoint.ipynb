{
 "cells": [
  {
   "cell_type": "code",
   "execution_count": 12,
   "id": "c23c3b38",
   "metadata": {},
   "outputs": [
    {
     "name": "stdout",
     "output_type": "stream",
     "text": [
      "Masukkan Nama :asdsa\n",
      "Masukkan alamat : asasd\n",
      "Pilih Jenis Tabungan BNI/BCA/BRI : \n",
      "BNI\n",
      "Masukkan Kode Nasabah : 123\n",
      "Masukkan Nomer Rekening : 123\n",
      "Masukkan No. Telepon : 123\n"
     ]
    }
   ],
   "source": [
    "import java.util.Scanner;\n",
    "Scanner sc = new Scanner(System.in);\n",
    "int kn, nr, nt;\n",
    "String nama, alamat, jenistabungan;\n",
    "System.out.print(\"Masukkan Nama :\");\n",
    "nama = sc.nextLine();\n",
    "System.out.print(\"Masukkan alamat : \");\n",
    "alamat = sc.nextLine();\n",
    "System.out.print(\"Pilih Jenis Tabungan BNI/BCA/BRI : \");\n",
    "jenistabungan = sc.nextLine();\n",
    "System.out.print(\"Masukkan Kode Nasabah : \");\n",
    "kn = sc.nextInt();\n",
    "System.out.print(\"Masukkan Nomer Rekening : \");\n",
    "nr = sc.nextInt();\n",
    "System.out.print(\"Masukkan No. Telepon : \");\n",
    "nt = sc.nextInt();\n",
    "\n",
    "if(jenistabungan == BNI){\n",
    "    \n",
    "}"
   ]
  },
  {
   "cell_type": "code",
   "execution_count": null,
   "id": "87864067",
   "metadata": {},
   "outputs": [],
   "source": []
  }
 ],
 "metadata": {
  "kernelspec": {
   "display_name": "Java",
   "language": "java",
   "name": "java"
  },
  "language_info": {
   "codemirror_mode": "java",
   "file_extension": ".jshell",
   "mimetype": "text/x-java-source",
   "name": "Java",
   "pygments_lexer": "java",
   "version": "11.0.12+8-LTS-237"
  }
 },
 "nbformat": 4,
 "nbformat_minor": 5
}
