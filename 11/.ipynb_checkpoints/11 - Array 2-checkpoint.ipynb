{
 "cells": [
  {
   "cell_type": "markdown",
   "metadata": {},
   "source": [
    "# JOBSHEET 11. ARRAY 2"
   ]
  },
  {
   "cell_type": "markdown",
   "metadata": {},
   "source": [
    "## Tujuan\n",
    "* Mahasiswa mampu memahami pembuatan array dua dimensi\n",
    "* Mahasiswa mampu menyelesaikan studi kasus dengan memanfaatkan array dua dimensi"
   ]
  },
  {
   "cell_type": "markdown",
   "metadata": {},
   "source": [
    "## Alat dan Bahan\n",
    "* PC/Laptop\n",
    "* Browser\n",
    "* Koneksi internet\n",
    "* Anaconda3 + Java kernel (opsional)"
   ]
  },
  {
   "cell_type": "markdown",
   "metadata": {},
   "source": [
    "## Praktikum"
   ]
  },
  {
   "cell_type": "markdown",
   "metadata": {},
   "source": [
    "### Percobaan 1: Deklarasi, Inisialisasi, dan Menampilkan Array 2 Dimensi\n",
    "Pada Percobaan 1, kode program yang dibuat digunakan untuk menyimpan nilai praktikum dari 2 orang mahasiswa pada 3 mata kuliah yang berbeda.\n",
    "1.\tBuat array bertipe **integer** dengan nama **nilai** dengan kapasitas baris 2 elemen (menyatakan jumlah mahasiswa) dan kolom 3 elemen (menyatakan jumlah mata kuliah)\n",
    "![Gambar 1](images/percobaan1-1.PNG)"
   ]
  },
  {
   "cell_type": "code",
   "execution_count": 1,
   "metadata": {},
   "outputs": [],
   "source": [
    "int[][] nilai = new int[2][3];"
   ]
  },
  {
   "cell_type": "markdown",
   "metadata": {},
   "source": [
    "2. Isi masing-masing elemen array **nilai** sebagai berikut:\n",
    "![Gambar 2](images/percobaan1-2.PNG)"
   ]
  },
  {
   "cell_type": "code",
   "execution_count": 2,
   "metadata": {},
   "outputs": [
    {
     "data": {
      "text/plain": [
       "67"
      ]
     },
     "execution_count": 2,
     "metadata": {},
     "output_type": "execute_result"
    }
   ],
   "source": [
    "nilai[0][0] = 75;\n",
    "nilai[0][1] = 90;\n",
    "nilai[0][2] = 88;\n",
    "nilai[1][0] = 79;\n",
    "nilai[1][1] = 82;\n",
    "nilai[1][2] = 67;"
   ]
  },
  {
   "cell_type": "markdown",
   "metadata": {},
   "source": [
    "3. Tampilkan semua isi elemen array **nilai**\n",
    "![Gambar 3](images/percobaan1-3.PNG)"
   ]
  },
  {
   "cell_type": "code",
   "execution_count": 3,
   "metadata": {},
   "outputs": [
    {
     "name": "stdout",
     "output_type": "stream",
     "text": [
      "75 90 88\n",
      "79 82 67\n"
     ]
    }
   ],
   "source": [
    "System.out.println(nilai[0][0] + \" \" + nilai[0][1] + \" \" + nilai[0][2]);\n",
    "System.out.println(nilai[1][0] + \" \" + nilai[1][1] + \" \" + nilai[1][2]);"
   ]
  },
  {
   "cell_type": "markdown",
   "metadata": {},
   "source": [
    "#### Pertanyaan\n",
    "1. Apakah pengisian elemen array harus dilakukan secara berurutan mulai dari indeks 0? Jelaskan!"
   ]
  },
  {
   "cell_type": "markdown",
   "metadata": {},
   "source": [
    "Jika menggunakan looping dan input dengan scanner maka harus berurutan. jika pengisian elemen array dengan mengakses indeks baris dan kolom dari variable array, kemudian nilai diisikan menggunakan operator assignment tidak harus berurutan. jika menggunakan inisialisasi array harus diisikan secara berurutan."
   ]
  },
  {
   "cell_type": "markdown",
   "metadata": {},
   "source": [
    "2. Lakukan modifikasi pada Percobaan 1 Langkah 3 untuk menampilkan semua isi elemen array **nilai** menggunakan perulangan *for*"
   ]
  },
  {
   "cell_type": "code",
   "execution_count": 15,
   "metadata": {},
   "outputs": [
    {
     "name": "stdout",
     "output_type": "stream",
     "text": [
      "75 90 88 \n",
      "79 82 67 \n"
     ]
    }
   ],
   "source": [
    "int[][] nilai = new int[2][3];\n",
    "nilai[0][0] = 75;\n",
    "nilai[0][1] = 90;\n",
    "nilai[0][2] = 88;\n",
    "nilai[1][0] = 79;\n",
    "nilai[1][1] = 82;\n",
    "nilai[1][2] = 67;\n",
    "for(int i=0; i<nilai.length; i++){\n",
    "    for(int j=0; j<nilai[0].length; j++){\n",
    "        System.out.print(nilai[i][j] + \" \");\n",
    "    }\n",
    "    System.out.println();\n",
    "}"
   ]
  },
  {
   "cell_type": "markdown",
   "metadata": {},
   "source": [
    "### Percobaan 2: Mengisi Elemen Array 2 Dimensi Menggunakan Input Keyboard\n",
    "Pada Percobaan 2, kode program yang dibuat digunakan untuk menyimpan nilai rating restoran yang terdaftar pada aplikasi pemesanan makanan online. Rating diberikan oleh 4 orang pengguna kepada 2 restoran yang terdaftar.\n",
    "1. Import dan deklarasikan Scanner dengan nama **sc**\n",
    "![Gambar 4](images/percobaan2-1.jpg)"
   ]
  },
  {
   "cell_type": "code",
   "execution_count": 19,
   "metadata": {},
   "outputs": [],
   "source": [
    "import java.util.Scanner;\n",
    "Scanner sc = new Scanner(System.in);"
   ]
  },
  {
   "cell_type": "markdown",
   "metadata": {},
   "source": [
    "2.\tBuat array bertipe **integer** dengan nama **rating** dengan kapasitas baris 4 elemen (menyatakan jumlah pengguna) dan kolom 2 elemen (menyatakan jumlah restoran)\n",
    "![Gambar 5](images/percobaan2-2.PNG)"
   ]
  },
  {
   "cell_type": "code",
   "execution_count": 20,
   "metadata": {},
   "outputs": [],
   "source": [
    "int[][] rating = new int[4][2];"
   ]
  },
  {
   "cell_type": "markdown",
   "metadata": {},
   "source": [
    "3. Dengan menggunakan perulangan *for*, buat input untuk mengisi elemen array **rating**\n",
    "![Gambar 6](images/percobaan2-3.PNG)"
   ]
  },
  {
   "cell_type": "code",
   "execution_count": 27,
   "metadata": {},
   "outputs": [
    {
     "name": "stdout",
     "output_type": "stream",
     "text": [
      "Masukkan rating pengguna 0 untuk restoran 0 : 10\n",
      "Masukkan rating pengguna 0 untuk restoran 1 : 9\n",
      "\n",
      "Masukkan rating pengguna 1 untuk restoran 0 : 8\n",
      "Masukkan rating pengguna 1 untuk restoran 1 : 7\n",
      "\n",
      "Masukkan rating pengguna 2 untuk restoran 0 : 9\n",
      "Masukkan rating pengguna 2 untuk restoran 1 : 10\n",
      "\n",
      "Masukkan rating pengguna 3 untuk restoran 0 : 6\n",
      "Masukkan rating pengguna 3 untuk restoran 1 : 4\n",
      "\n"
     ]
    }
   ],
   "source": [
    "for(int i=0; i<rating.length; i++){\n",
    "    for(int j=0; j<rating[0].length; j++){\n",
    "        System.out.print(\"Masukkan rating pengguna \" + i + \" untuk restoran \" + j + \" : \");\n",
    "        rating[i][j] = sc.nextInt();\n",
    "    }\n",
    "    System.out.println();\n",
    "}"
   ]
  },
  {
   "cell_type": "markdown",
   "metadata": {},
   "source": [
    "4. Dengan menggunakan perulangan *for-each*, tampilkan semua isi elemen dari array **rating**\n",
    "![Gambar 7](images/percobaan2-4.PNG)"
   ]
  },
  {
   "cell_type": "code",
   "execution_count": 28,
   "metadata": {},
   "outputs": [
    {
     "name": "stdout",
     "output_type": "stream",
     "text": [
      "10 9 \n",
      "8 7 \n",
      "9 10 \n",
      "6 4 \n"
     ]
    }
   ],
   "source": [
    "for(int[] rtg : rating){\n",
    "    for(int r: rtg){\n",
    "        System.out.print(r + \" \");\n",
    "    }\n",
    "    System.out.println();\n",
    "}"
   ]
  },
  {
   "cell_type": "markdown",
   "metadata": {},
   "source": [
    "#### Pertanyaan\n",
    "1. Pada Percobaan 2 Langkah 3, dapatkah posisi i ditukar dengan posisi j? Jelaskan alasannya!"
   ]
  },
  {
   "cell_type": "code",
   "execution_count": 23,
   "metadata": {},
   "outputs": [
    {
     "name": "stdout",
     "output_type": "stream",
     "text": [
      "Masukkan rating pengguna 0 untuk restoran 0 : 1\n",
      "Masukkan rating pengguna 0 untuk restoran 1 : 2\n",
      "\n",
      "Masukkan rating pengguna 1 untuk restoran 0 : 3\n",
      "Masukkan rating pengguna 1 untuk restoran 1 : 4\n",
      "\n",
      "Masukkan rating pengguna 2 untuk restoran 0 : 5\n"
     ]
    },
    {
     "ename": "EvalException",
     "evalue": "Index 2 out of bounds for length 2",
     "output_type": "error",
     "traceback": [
      "\u001b[1m\u001b[31m---------------------------------------------------------------------------\u001b[0m",
      "\u001b[1m\u001b[31mjava.lang.ArrayIndexOutOfBoundsException: Index 2 out of bounds for length 2\u001b[0m",
      "\u001b[1m\u001b[31m\tat .(#39:4)\u001b[0m"
     ]
    }
   ],
   "source": [
    "for(int i=0; i<rating.length; i++){\n",
    "    for(int j=0; j<rating[0].length; j++){\n",
    "        System.out.print(\"Masukkan rating pengguna \" + i + \" untuk restoran \" + j + \" : \");\n",
    "        rating[j][i] = sc.nextInt();\n",
    "    }\n",
    "    System.out.println();\n",
    "}"
   ]
  },
  {
   "cell_type": "markdown",
   "metadata": {},
   "source": [
    "tidak bisa, karena terjadi eror pada length indeksnya."
   ]
  },
  {
   "cell_type": "markdown",
   "metadata": {},
   "source": [
    "2. Tambahkan kode program untuk menentukan banyaknya baris dan kolom elemen array secara dinamis (baris dan kolom ditentukan saat program berjalan melalui input keyboard)!"
   ]
  },
  {
   "cell_type": "code",
   "execution_count": 44,
   "metadata": {},
   "outputs": [
    {
     "name": "stdout",
     "output_type": "stream",
     "text": [
      "Masukkan rating pengguna 0 untuk restoran 0 : 1\n",
      "Masukkan rating pengguna 0 untuk restoran 1 : 2\n",
      "\n",
      "Masukkan rating pengguna 1 untuk restoran 0 : 3\n",
      "Masukkan rating pengguna 1 untuk restoran 1 : 4\n",
      "\n",
      "Masukkan rating pengguna 2 untuk restoran 0 : 5\n",
      "Masukkan rating pengguna 2 untuk restoran 1 : 6\n",
      "\n",
      "Masukkan rating pengguna 3 untuk restoran 0 : 7\n",
      "Masukkan rating pengguna 3 untuk restoran 1 : 8\n",
      "\n",
      "Banyak baris adalah 4\n",
      "Banyak kolom adalah 2\n"
     ]
    }
   ],
   "source": [
    "import java.util.Scanner;\n",
    "Scanner sc = new Scanner(System.in);\n",
    "int[][] rating = new int[4][2];\n",
    "for(int i=0; i<rating.length; i++){\n",
    "    for(int j=0; j<rating[0].length; j++){\n",
    "        System.out.print(\"Masukkan rating pengguna \" + i + \" untuk restoran \" + j + \" : \");\n",
    "        rating[i][j] = sc.nextInt();\n",
    "    }\n",
    "    System.out.println();\n",
    "}\n",
    "System.out.println(\"Banyak baris adalah \" + rating.length);\n",
    "System.out.println(\"Banyak kolom adalah \" + rating[0].length);"
   ]
  },
  {
   "cell_type": "markdown",
   "metadata": {},
   "source": [
    "## Percobaan 3: Melakukan Operasi Aritmatika pada Elemen Array 2 Dimensi\n",
    "Pada Percobaan 3, kode program yang dibuat digunakan untuk menghitung nilai rata-rata harga setiap bahan pokok selama 1 semester. Terdapat 3 bahan pokok yang dicatat harganya setiap akhir bulan. Program dibuat berdasarkan flowchart berikut.\n",
    "![Gambar 8](images/percobaan3.jpg)\n",
    "1. Import dan deklarasikan Scanner dengan nama **sc**\n",
    "![Gambar 9](images/percobaan3-1.jpg)"
   ]
  },
  {
   "cell_type": "code",
   "execution_count": 41,
   "metadata": {},
   "outputs": [],
   "source": [
    "import java.util.Scanner;\n",
    "Scanner sc = new Scanner(System.in);"
   ]
  },
  {
   "cell_type": "markdown",
   "metadata": {},
   "source": [
    "2.\tBuat array bertipe **integer** dengan nama **harga** dengan kapasitas baris 3 elemen (menyatakan jumlah bahan pokok) dan kolom 6 elemen (menyatakan jumlah bulan). Deklarasikan juga variabel **total** dan **rata** bertipe **double**\n",
    "![Gambar 10](images/percobaan3-2.PNG)"
   ]
  },
  {
   "cell_type": "code",
   "execution_count": 42,
   "metadata": {},
   "outputs": [],
   "source": [
    "int[][] harga = new int[3][6];\n",
    "double total, rata;"
   ]
  },
  {
   "cell_type": "markdown",
   "metadata": {},
   "source": [
    "3. Dengan menggunakan perulangan *for*, buat input untuk mengisi elemen array **harga**. Kemudian, perhitungan total harga dilakukan untuk setiap bulan (kolom) pada setiap bahan pokok (baris). Setelah itu, nilai rata-rata dihitung untuk setiap bahan pokok (tiap satu baris) dan ditampilkan\n",
    "![Gambar 11](images/percobaan3-3.PNG)"
   ]
  },
  {
   "cell_type": "code",
   "execution_count": 43,
   "metadata": {},
   "outputs": [
    {
     "name": "stdout",
     "output_type": "stream",
     "text": [
      "Masukkan harga[0][0]: 2000\n",
      "Masukkan harga[0][1]: 3000\n",
      "Masukkan harga[0][2]: 4000\n",
      "Masukkan harga[0][3]: 5000\n",
      "Masukkan harga[0][4]: 6000\n",
      "Masukkan harga[0][5]: 7000\n",
      "Rata-rata harga bahan ke-0 adalah 4500,00\n",
      "Masukkan harga[1][0]: 1000\n",
      "Masukkan harga[1][1]: 2000\n",
      "Masukkan harga[1][2]: 3000\n",
      "Masukkan harga[1][3]: 4000\n",
      "Masukkan harga[1][4]: 5000\n",
      "Masukkan harga[1][5]: 6000\n",
      "Rata-rata harga bahan ke-1 adalah 3500,00\n",
      "Masukkan harga[2][0]: 7000\n",
      "Masukkan harga[2][1]: 8000\n",
      "Masukkan harga[2][2]: 9000\n",
      "Masukkan harga[2][3]: 10000\n",
      "Masukkan harga[2][4]: 11000\n",
      "Masukkan harga[2][5]: 12000\n",
      "Rata-rata harga bahan ke-2 adalah 9500,00\n"
     ]
    }
   ],
   "source": [
    "for(int i=0; i<harga.length; i++){\n",
    "    total = 0;\n",
    "    rata = 0;\n",
    "    for(int j=0; j<harga[0].length; j++){\n",
    "        System.out.printf(\"Masukkan harga[%d][%d]: \", i, j);\n",
    "        harga[i][j] = sc.nextInt();\n",
    "        total+=harga[i][j];\n",
    "    }\n",
    "    rata=total/harga[0].length;\n",
    "    System.out.printf(\"Rata-rata harga bahan ke-%d adalah %.2f\\n\", i, rata);\n",
    "}"
   ]
  },
  {
   "cell_type": "markdown",
   "metadata": {},
   "source": [
    "#### Pertanyaan\n",
    "1. Jelaskan fungsi dari **rata = total / harga[0].length**!"
   ]
  },
  {
   "cell_type": "markdown",
   "metadata": {},
   "source": [
    "untuk menghitung rata-rata yang memiliki rumus total dibagi dengan banyak kolom harga."
   ]
  },
  {
   "cell_type": "markdown",
   "metadata": {},
   "source": [
    "2. Mengapa insialisasi variabel **total = 0** dan **rata = 0** berada di dalam perulangan *for* yang pertama? Menurut Anda, apa yang terjadi jika inisialisasi kedua variabel tersebut diletakkan di luar perulangan *for* (setelah deklarasi array)?"
   ]
  },
  {
   "cell_type": "markdown",
   "metadata": {},
   "source": [
    "jika variabel total=0 dan rata=0 terletak diluar perulangan for maka terjadi penumpukan dari nilai total dan rata."
   ]
  },
  {
   "cell_type": "markdown",
   "metadata": {},
   "source": [
    "## Tugas"
   ]
  },
  {
   "cell_type": "markdown",
   "metadata": {},
   "source": [
    "1. Perhatikan flowchart berikut.\n",
    "![Gambar 12](images/tugas-1.jpg)\n",
    "Buat kode program sesuai dengan flowchart tersebut untuk mencari suhu tertinggi yang dicatat dari 5 kota di Jepang selama 7 hari berturut-turut!"
   ]
  },
  {
   "cell_type": "code",
   "execution_count": 5,
   "metadata": {},
   "outputs": [
    {
     "name": "stdout",
     "output_type": "stream",
     "text": [
      "Masukkan suhu : 21\n",
      "Masukkan suhu : 22\n",
      "Masukkan suhu : 23\n",
      "Masukkan suhu : 24\n",
      "Masukkan suhu : 25\n",
      "Masukkan suhu : 26\n",
      "Masukkan suhu : 27\n",
      "Data suhu selama 7 hari kota 0\n",
      "Suhu paling tinggi ialah 27.0\n",
      "Masukkan suhu : 11\n",
      "Masukkan suhu : 12\n",
      "Masukkan suhu : 13\n",
      "Masukkan suhu : 14\n",
      "Masukkan suhu : 15\n",
      "Masukkan suhu : 16\n",
      "Masukkan suhu : 17\n",
      "Data suhu selama 7 hari kota 1\n",
      "Suhu paling tinggi ialah 17.0\n",
      "Masukkan suhu : 31\n",
      "Masukkan suhu : 32\n",
      "Masukkan suhu : 34\n",
      "Masukkan suhu : 35\n",
      "Masukkan suhu : 36\n",
      "Masukkan suhu : 37\n",
      "Masukkan suhu : 33\n",
      "Data suhu selama 7 hari kota 2\n",
      "Suhu paling tinggi ialah 37.0\n",
      "Masukkan suhu : 45\n",
      "Masukkan suhu : 47\n",
      "Masukkan suhu : 42\n",
      "Masukkan suhu : 41\n",
      "Masukkan suhu : 43\n",
      "Masukkan suhu : 44\n",
      "Masukkan suhu : 46\n",
      "Data suhu selama 7 hari kota 3\n",
      "Suhu paling tinggi ialah 47.0\n",
      "Masukkan suhu : 58\n",
      "Masukkan suhu : 59\n",
      "Masukkan suhu : 72\n",
      "Masukkan suhu : 35\n",
      "Masukkan suhu : 68\n",
      "Masukkan suhu : 90\n",
      "Masukkan suhu : 23\n",
      "Data suhu selama 7 hari kota 4\n",
      "Suhu paling tinggi ialah 90.0\n"
     ]
    }
   ],
   "source": [
    "import java.util.Scanner;\n",
    "Scanner sc = new Scanner(System.in);\n",
    "double[][] suhu = new double[5][7];\n",
    "int x, y;\n",
    "double max=0;\n",
    "\n",
    "for(x=0; x<suhu.length; x++){\n",
    "    max=0;\n",
    "    for(y=0; y<suhu[0].length; y++){\n",
    "        System.out.print(\"Masukkan suhu : \");\n",
    "        suhu[x][y] = sc.nextDouble();\n",
    "        if(suhu[x][y]>max){\n",
    "            max=suhu[x][y];\n",
    "        }\n",
    "    }\n",
    "    System.out.println(\"Data suhu selama 7 hari kota \" + x);\n",
    "    System.out.println(\"Suhu paling tinggi ialah \" + max);\n",
    "}"
   ]
  },
  {
   "cell_type": "markdown",
   "metadata": {},
   "source": [
    "2. Terdapat hasil pencatatan data lima mahasiswa yang berisi informasi mengenai umur, berat badan (kg), dan tinggi badan (cm). Data tersebut disimpan ke dalam array dua dimensi.\n",
    "![Gambar 13](images/tugas-2.PNG)\n",
    "*Keterangan: penyimpanan nilai dapat dilakukan melalui inisialisasi menggunakan operator assignment*\n",
    " * Tampilkan *berat badan terendah* di antara kelima mahasiswa tersebut\n",
    " * Tampilkan *rata-rata tinggi badan* dari kelima mahasiswa tersebut\n",
    " * Tampilkan nama mahasiswa dengan *umur tertua* di antara kelima mahasiswa tersebut"
   ]
  },
  {
   "cell_type": "code",
   "execution_count": 27,
   "metadata": {},
   "outputs": [
    {
     "name": "stdout",
     "output_type": "stream",
     "text": [
      "Berat badan paling rendah diantara 5 mahasiswa adalah 45\n",
      "Rata-rata tinggi badan dari kelima mahasiswa tersebut adalah 157.8\n",
      "Mahasiswa tertua yang berumur 20 ialah bernama Beky\n"
     ]
    }
   ],
   "source": [
    "int min=100;\n",
    "String[] nama = {\"Desi\", \"Rofan\", \"Lala\", \"Beky\", \"Ega\"};\n",
    "int[][] data = {\n",
    "    {19, 51, 155},\n",
    "    {18, 55, 163},\n",
    "    {18, 45, 153},\n",
    "    {20, 46, 158},\n",
    "    {19, 58, 160}\n",
    "};\n",
    "double rata, total=0;\n",
    "int tertua=0, umur;\n",
    "\n",
    "for(int i=0; i<data.length; i++){\n",
    "    if(data[i][1]<min){\n",
    "        min=data[i][1];\n",
    "    }\n",
    "}\n",
    "System.out.println(\"Berat badan paling rendah diantara 5 mahasiswa adalah \" + min);\n",
    "\n",
    "for(int i=0; i<data.length; i++){\n",
    "    total+=data[i][2];\n",
    "}\n",
    "rata = total/data.length;\n",
    "System.out.println(\"Rata-rata tinggi badan dari kelima mahasiswa tersebut adalah \" + rata);\n",
    "\n",
    "for(int i=0; i<data.length; i++){\n",
    "    if(data[i][0]>tertua){\n",
    "        tertua=data[i][0];\n",
    "        umur=i;\n",
    "    }\n",
    "}\n",
    "System.out.println(\"Mahasiswa tertua yang berumur \" + tertua + \" ialah bernama \" + nama[umur]);"
   ]
  }
 ],
 "metadata": {
  "kernelspec": {
   "display_name": "Java",
   "language": "java",
   "name": "java"
  },
  "language_info": {
   "codemirror_mode": "java",
   "file_extension": ".jshell",
   "mimetype": "text/x-java-source",
   "name": "Java",
   "pygments_lexer": "java",
   "version": "11.0.12+8-LTS-237"
  }
 },
 "nbformat": 4,
 "nbformat_minor": 4
}
