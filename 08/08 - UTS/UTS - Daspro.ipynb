{
 "cells": [
  {
   "cell_type": "markdown",
   "metadata": {
    "collapsed": true
   },
   "source": [
    "# Ujian Tengah Semester (UTS)\n",
    "\n",
    "- **NIM   : 2131710064\n",
    "- **Nama  : Nanda Shabrina Putri Kurnia\n",
    "- **Kelas : MI-1E\n",
    "\n",
    "## Deskripsi\n",
    "+ Silahkan kerjakan soal yang sekiranya mudah dahulu\n",
    "+ Jawaban langsung ditulis di bawah soal\n",
    "+ Waktu pengerjaan UTS adalah *90 menit*\n",
    "    - submit jawaban ke LMS maksimal pukul 10.45, lebih dari itu **nilai dikurangi**\n",
    "    - submit dan pull-request via github akan diberi nilai tambah (maksimal pukul 10.50, lebih dari itu **tidak diberi** nilai tambah)\n",
    "\n",
    "## Soal UTS\n",
    "### Soal 1  (skor 30)\n",
    "Buatlah sebuah program untuk menentukan minimal lembar uang yang dikeluarkan berdasarkan inputan uang yang diinputkan user (menggunakan _library Scanner_). Lembar uang sesuai dengan lembar nominal mata uang Rupiah yaitu lembar uang 1.000, 2.000, 5.000, 10.000, 20.000, 50.000, dan 100.000.\n",
    "\n",
    "Contoh: ![Contoh Soal 1](images/Soal1.png)"
   ]
  },
  {
   "cell_type": "code",
   "execution_count": 1,
   "metadata": {},
   "outputs": [
    {
     "ename": "CompilationException",
     "evalue": "",
     "output_type": "error",
     "traceback": [
      "\u001b[1m\u001b[30m|   \u001b[1m\u001b[30mint nominalUang, lembar\u001b[0m\u001b[1m\u001b[30m\u001b[41m\u001b[0m\u001b[1m\u001b[30m uang;\u001b[0m",
      "\u001b[1m\u001b[31m';' expected\u001b[0m",
      ""
     ]
    }
   ],
   "source": [
    "/* Jawaban Soal 1 */\n",
    "import java.util.Scanner;\n",
    "Scanner input = new Scanner(System.in);\n",
    "int nominalUang, lembar uang;\n",
    "\n",
    "System.out.println(\"*** Program menentukan minimal lembar mata uang yang dikeluarkan ***\");\n",
    "System.out.println(\"NIM  : 2131710064\");\n",
    "System.out.println(\"Nama : Nanda Shabrina Putri Kurnia\");\n",
    "System.out.println(\"-----------------------------------\");\n",
    "\n",
    "System.out.println(\">> Mulai\");\n",
    "System.out.print(\"Masukkan nominal uang: \");\n",
    "nominalUang = input.nextInt();\n",
    "System.out.println(\"------------------------------\");\n",
    "\n",
    "System.out.println(\">> Hasil\");\n"
   ]
  },
  {
   "cell_type": "markdown",
   "metadata": {},
   "source": [
    "### Soal 2 (skor 20)\n",
    "Buatlah program dengan menggunakan **semua perulangan** _(for, while, do-while)_ untuk menampilkan huruf abjad A-Z secara terurut. Program akan selesai menampilkan huruf abjad (selesai _looping_) ketika huruf yang ditampilkan sama dengan huruf yang dimasukkan oleh pengguna.\n",
    "\n",
    "Contoh ![Contoh Soal 2](images/Soal2.png)"
   ]
  },
  {
   "cell_type": "code",
   "execution_count": 2,
   "metadata": {},
   "outputs": [
    {
     "name": "stdout",
     "output_type": "stream",
     "text": [
      "*** Program menentukan minimal lembar mata uang yang dikeluarkan ***\n",
      "NIM  : 2131710064\n",
      "Nama : Nanda Shabrina Putri Kurnia\n",
      "-----------------------------------\n",
      ">> Mulai\n",
      "Masukkan huruf untuk berhenti looping: M\n",
      "-----------------------------------\n",
      "Masukkan huruf: M\n"
     ]
    }
   ],
   "source": [
    "/* Jawaban Soal 2 */\n",
    "import java.util.Scanner;\n",
    "Scanner input = new Scanner(System.in);\n",
    "char huruf1, huruf2;\n",
    "\n",
    "System.out.println(\"*** Program menentukan minimal lembar mata uang yang dikeluarkan ***\");\n",
    "System.out.println(\"NIM  : 2131710064\");\n",
    "System.out.println(\"Nama : Nanda Shabrina Putri Kurnia\");\n",
    "System.out.println(\"-----------------------------------\");\n",
    "\n",
    "System.out.println(\">> Mulai\");\n",
    "System.out.print(\"Masukkan huruf untuk berhenti looping: \");\n",
    "huruf1 = input.next().charAt(0);\n",
    "System.out.println(\"-----------------------------------\");\n",
    "\n",
    "for(char huruf2=0;huruf2<=12;huruf2++){\n",
    "    System.out.print(\"Masukkan huruf: \");\n",
    "    huruf2 = input.next().charAt(0);\n",
    "}\n"
   ]
  },
  {
   "cell_type": "markdown",
   "metadata": {},
   "source": [
    "### Soal 3 (skor 20/30)\n",
    "Buatlah sebuah program dengan menggunakan **satu jenis perulangan** untuk menghitung nilai berdasarkan masukkan dari user. Perulangan akan terus berjalan jika user mengetikkan huruf kapital **\"Y\"** dan perulangan akan berhenti saat user mengetikkan huruf kapital **\"N\"**. \n",
    "Setelah perulangan berhenti, program akan memilih **angka terkecil** dan **angka terbesar** dari angka yang dimasukkan user dan menghitung jumlah dan rata-rata angkat-angka tersebut. Program boleh menggunakan salah satu perulangan : \n",
    "\n",
    "  + _While_ (20 poin), atau\n",
    "  + _Do-while_ (20 poin), atau\n",
    "  + _For_ (30 poin)\n",
    "  \n",
    "Contoh ![Contoh Soal 3](images/Soal3.png)\n"
   ]
  },
  {
   "cell_type": "code",
   "execution_count": null,
   "metadata": {
    "scrolled": true
   },
   "outputs": [],
   "source": [
    "/* Jawaban Soal 3 */\n",
    "import java.util.Scanner;\n",
    "Scanner input = new Scanner(System.in);\n",
    "int angka, min=0, max=0, total, rata;\n",
    "char pilihan;\n",
    "\n",
    "System.out.println(\"*** Program Menghitung Angka ***\");\n",
    "System.out.println(\"NIM  : 2131710064\");\n",
    "System.out.println(\"Nama : Nanda Shabrina Putri Kurnia\");\n",
    "System.out.println(\"-----------------------------------\");\n",
    "\n",
    "System.out.println(\">> Mulai\");\n",
    "for(int i=0 ; i<5 ; i++){\n",
    "    System.out.print(\"Masukkan angka ke-\"+(i+1)+\" : \");\n",
    "    angka = input.nextInt();\n",
    "}\n",
    "if(angka<max){\n",
    "        min = angka;\n",
    "        System.out.print(\"Angka terkecil: \"+min);\n",
    "    } else if(angka>min){\n",
    "        max = angka;\n",
    "        System.out.print(\"Angka terbesar: \"+max);\n",
    "    }\n",
    "    total+=angka;\n",
    "    System.out.println(\"Total bilangan : \"+total);"
   ]
  },
  {
   "cell_type": "markdown",
   "metadata": {},
   "source": [
    "### Soal 4 (skor 30++)\n",
    "Buatlah program klasifikasi umur yang sesuai dengan flowchar berikut **(skor 30)**. \n",
    "![Contoh Soal 4](images/Soal4.png)\n",
    "\n",
    "Saat perulangan berhenti. Hitung jumlah rata-rata umur yang telah dimasukkan, dan dari rata-rata tersebut termasuk klasifikasi umur apa? **(+poin 20)**"
   ]
  },
  {
   "cell_type": "code",
   "execution_count": 7,
   "metadata": {},
   "outputs": [
    {
     "name": "stdout",
     "output_type": "stream",
     "text": [
      "*** Soal Nomor 4 ***\n",
      "NIM  : 2131710064\n",
      "Nama : Nanda Shabrina Putri Kurnia\n",
      "-----------------------------------\n",
      "Apakah anda ingin berhenti?\n",
      "Masukkan umur: \n",
      "12\n",
      "Remaja\n",
      "Masukkan umur: \n",
      "18\n",
      "Dewasa\n",
      "Masukkan umur: \n",
      "70\n",
      "Tua\n"
     ]
    },
    {
     "ename": "CompilationException",
     "evalue": "",
     "output_type": "error",
     "traceback": [
      "\u001b[1m\u001b[30m|   \u001b[1m\u001b[30m\u001b[0m\u001b[1m\u001b[30m\u001b[41m\u001b[0m\u001b[1m\u001b[30m}  \u001b[0m",
      "\u001b[1m\u001b[31millegal start of statement\u001b[0m",
      ""
     ]
    }
   ],
   "source": [
    "/* Jawaban Soal 4 */\n",
    "import java.util.Scanner;\n",
    "Scanner input = new Scanner(System.in);\n",
    "int umur, berhenti, totalumur, count;\n",
    "\n",
    "System.out.println(\"*** Soal Nomor 4 ***\");\n",
    "System.out.println(\"NIM  : 2131710064\");\n",
    "System.out.println(\"Nama : Nanda Shabrina Putri Kurnia\");\n",
    "System.out.println(\"-----------------------------------\");\n",
    "\n",
    "System.out.println(\"Apakah anda ingin berhenti?\");\n",
    "count = 0;\n",
    "while (true){\n",
    "    System.out.println(\"Masukkan umur: \");\n",
    "    umur = input.nextInt();\n",
    "    if(umur <= 5){\n",
    "        System.out.println(\"Balita\");\n",
    "    }else if(umur <= 10){\n",
    "        System.out.println(\"Anak-anak\");\n",
    "    }else if(umur <= 17){\n",
    "        System.out.println(\"Remaja\");\n",
    "    }else if(umur <= 40){\n",
    "        System.out.println(\"Dewasa\");\n",
    "    }else if(umur <= 60){\n",
    "        System.out.println(\"Paruh baya\");\n",
    "    }else{\n",
    "        System.out.println(\"Tua\");\n",
    "    }\n",
    "    totalumur += umur;\n",
    "    count++;\n",
    "    if(totalumur>=100) break;\n",
    "    }\n",
    "}  \n",
    "System.out.println(\"Total umur: \"+totalumur);\n",
    "avg = totalumur / count;\n",
    "System.out.println(\"Rata-rata umur: \"+avg);\n",
    "\n",
    "\n"
   ]
  },
  {
   "cell_type": "code",
   "execution_count": null,
   "metadata": {},
   "outputs": [],
   "source": []
  }
 ],
 "metadata": {
  "kernelspec": {
   "display_name": "Java",
   "language": "java",
   "name": "java"
  },
  "language_info": {
   "codemirror_mode": "java",
   "file_extension": ".jshell",
   "mimetype": "text/x-java-source",
   "name": "Java",
   "pygments_lexer": "java",
   "version": "11.0.12+8-LTS-237"
  }
 },
 "nbformat": 4,
 "nbformat_minor": 1
}
