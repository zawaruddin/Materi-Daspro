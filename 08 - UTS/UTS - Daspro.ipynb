{
 "cells": [
  {
   "cell_type": "markdown",
   "metadata": {
    "collapsed": true
   },
   "source": [
    "# Ujian Tengah Semester (UTS)\n",
    "\n",
    "- **NIM   :** 2131710104 \n",
    "- **Nama  :** Indah Retno Iriani\n",
    "- **Kelas :** MI-1E\n",
    "\n",
    "## Deskripsi\n",
    "+ Silahkan kerjakan soal yang sekiranya mudah dahulu\n",
    "+ Jawaban langsung ditulis di bawah soal\n",
    "+ Waktu pengerjaan UTS adalah *90 menit*\n",
    "    - submit jawaban ke LMS maksimal pukul 10.45, lebih dari itu **nilai dikurangi**\n",
    "    - submit dan pull-request via github akan diberi nilai tambah (maksimal pukul 10.50, lebih dari itu **tidak diberi** nilai tambah)\n",
    "\n",
    "## Soal UTS\n",
    "### Soal 1  (skor 30)\n",
    "Buatlah sebuah program untuk menentukan minimal lembar uang yang dikeluarkan berdasarkan inputan uang yang diinputkan user (menggunakan _library Scanner_). Lembar uang sesuai dengan lembar nominal mata uang Rupiah yaitu lembar uang 1.000, 2.000, 5.000, 10.000, 20.000, 50.000, dan 100.000.\n",
    "\n",
    "Contoh: ![Contoh Soal 1](images/Soal1.png)"
   ]
  },
  {
   "cell_type": "code",
   "execution_count": null,
   "metadata": {},
   "outputs": [],
   "source": [
    "/* Jawaban Soal 1 */\n",
    "import java.util.Scanner;\n",
    "Scanner input = new Scanner(System.in);\n",
    "int nominal=0;\n",
    "\n",
    "System.out.println(\"*** Program menentukan minimal lembar mata uang yang dikeluarkan\");\n",
    "System.out.println(\"NIM : 2131710104\");\n",
    "System.out.println(\"Nama: Indah Retno Iriani\");\n",
    "System.out.println(\"----------------------------\\n\");\n",
    "System.out.println(\">> Mulai\");\n",
    "System.out.print(\"Masukkan nominal uang: \" + nominal);\n",
    "nominal = input.nextInt();\n"
   ]
  },
  {
   "cell_type": "markdown",
   "metadata": {},
   "source": [
    "### Soal 2 (skor 20)\n",
    "Buatlah program dengan menggunakan **semua perulangan** _(for, while, do-while)_ untuk menampilkan huruf abjad A-Z secara terurut. Program akan selesai menampilkan huruf abjad (selesai _looping_) ketika huruf yang ditampilkan sama dengan huruf yang dimasukkan oleh pengguna.\n",
    "\n",
    "Contoh ![Contoh Soal 2](images/Soal2.png)"
   ]
  },
  {
   "cell_type": "code",
   "execution_count": 39,
   "metadata": {},
   "outputs": [
    {
     "name": "stdout",
     "output_type": "stream",
     "text": [
      "***PROGRAM MENAMPILKAN HURUF ABJAD***\n",
      "NIM  : 2131710104\n",
      "Nama : Indah Retno Iriani \n",
      "---------------------------\n",
      ">>>MUlAI\n",
      "---------------------------\n",
      "\n",
      "Masukkan huruf untuk berhenti looping  : S\n",
      "Program Loop (For)A B C D E F G H I J K L M N O P Q R S "
     ]
    }
   ],
   "source": [
    "/* Jawaban Soal 2 */\n",
    "import java.util.Scanner;\n",
    "Scanner input = new Scanner(System.in);\n",
    "char huruf;\n",
    "int total;\n",
    "int count = 0;\n",
    "    \n",
    "System.out.println(\"***PROGRAM MENAMPILKAN HURUF ABJAD***\");\n",
    "System.out.println(\"NIM  : 2131710104\");\n",
    "System.out.println(\"Nama : Indah Retno Iriani \");\n",
    "System.out.println(\"---------------------------\");\n",
    "System.out.println(\">>>MUlAI\");\n",
    "System.out.println(\"---------------------------\\n\");\n",
    "System.out.print(\"Masukkan huruf untuk berhenti looping  : \");\n",
    "huruf = input.next().charAt(0);\n",
    "System.out.print(\"Program Loop (For)\");\n",
    "for(char i='A'; i<=huruf; i++){\n",
    "    System.out.print( i + \" \" );\n",
    "}\n",
    "\n"
   ]
  },
  {
   "cell_type": "markdown",
   "metadata": {},
   "source": [
    "### Soal 3 (skor 20/30)\n",
    "Buatlah sebuah program dengan menggunakan **satu jenis perulangan** untuk menghitung nilai berdasarkan masukkan dari user. Perulangan akan terus berjalan jika user mengetikkan huruf kapital **\"Y\"** dan perulangan akan berhenti saat user mengetikkan huruf kapital **\"N\"**. \n",
    "Setelah perulangan berhenti, program akan memilih **angka terkecil** dan **angka terbesar** dari angka yang dimasukkan user dan menghitung jumlah dan rata-rata angkat-angka tersebut. Program boleh menggunakan salah satu perulangan : \n",
    "\n",
    "  + _While_ (20 poin), atau\n",
    "  + _Do-while_ (20 poin), atau\n",
    "  + _For_ (30 poin)\n",
    "  \n",
    "Contoh ![Contoh Soal 3](images/Soal3.png)\n"
   ]
  },
  {
   "cell_type": "code",
   "execution_count": 50,
   "metadata": {},
   "outputs": [
    {
     "name": "stdout",
     "output_type": "stream",
     "text": [
      "===PROGRAM MENGHITUNG ANGKA===\n"
     ]
    },
    {
     "ename": "CompilationException",
     "evalue": "",
     "output_type": "error",
     "traceback": [
      "\u001b[1m\u001b[30m|   \u001b[1m\u001b[30m    if(\u001b[0m\u001b[1m\u001b[30m\u001b[41mhuruf = 'T'\u001b[0m\u001b[1m\u001b[30m) break;\u001b[0m",
      "\u001b[1m\u001b[31mincompatible types: char cannot be converted to boolean\u001b[0m",
      ""
     ]
    }
   ],
   "source": [
    "/* Jawaban Soal 3 */\n",
    "import java.util.Scanner;\n",
    "Scanner input = new Scanner(System.in);\n",
    "int angka, total;\n",
    "char huruf = 'T', huruf = 'Y';\n",
    "double avg;\n",
    "count = 0;\n",
    "System.out.println(\"===PROGRAM MENGHITUNG ANGKA===\");\n",
    "for(int i=0 ; i<5 ; i++){\n",
    "    System.out.print(\"Masukkan Angka : \");\n",
    "    angka = input.nextInt();\n",
    "    System.out.print(\"Mau memasukkan angka kembali(Y/T) : \");\n",
    "    huruf = input.next().charAt(0);\n",
    "    if(huruf = 'T') break;\n",
    "    total += angka;\n",
    "    count++;\n",
    "}\n",
    "System.out.println(\"Output Program\");\n",
    "System.out.println(\"Angka terkecil :\");\n",
    "System.out.println(\"Angka terbesar :\");\n",
    "System.out.println(\"Jumlah angka : \" + total);\n",
    "avg = (double)total/count;\n",
    "System.out.println(\"Rata-rata: \" + avg);"
   ]
  },
  {
   "cell_type": "code",
   "execution_count": 7,
   "metadata": {},
   "outputs": [
    {
     "name": "stdout",
     "output_type": "stream",
     "text": [
      "**Program menampilkan huruf abjad**\n",
      "NIM : 2131710143\n",
      "NIM : Bangkit Maulana Caniago\n",
      "--------------------------\n",
      ">>>Mulai\n",
      "Masukan angka ke-1 = 4\n",
      "Masukan angka kembali (Y/T) ? : Y\n",
      "Masukan angka ke-2 = 2\n",
      "Masukan angka kembali (Y/T) ? : Y\n",
      "Masukan angka ke-3 = 9\n",
      "Masukan angka kembali (Y/T) ? : Y\n",
      "Masukan angka ke-4 = 10\n",
      "Masukan angka kembali (Y/T) ? : Y\n",
      "Masukan angka ke-5 = 12\n",
      "Masukan angka kembali (Y/T) ? : N\n",
      "Yang anda masukan salah*********Output program********\n",
      "Jumlah Bilangan : 37\n",
      "Rata rata : 7.0\n",
      "Selesai <<<\n"
     ]
    }
   ],
   "source": [
    "import java.util.Scanner;\n",
    "Scanner sc = new Scanner(System.in);\n",
    "\n",
    "System.out.println(\"**Program menampilkan huruf abjad**\");\n",
    "System.out.println(\"NIM : 2131710143\");\n",
    "System.out.println(\"NIM : Bangkit Maulana Caniago\");\n",
    "System.out.println(\"--------------------------\");\n",
    "\n",
    "boolean isloop = true ;\n",
    "int angka = 0 , total = 0 , kecil , besar , temp;\n",
    "double avg;\n",
    "char option;\n",
    "System.out.println(\">>>Mulai\");\n",
    "int j = 0;\n",
    "for(int i = 0;isloop;i++){\n",
    "    j++;\n",
    "    System.out.print(\"Masukan angka ke-\" + j + \" = \");\n",
    "    angka = sc.nextInt();\n",
    "    System.out.print(\"Masukan angka kembali (Y/T) ? : \");\n",
    "    option = sc.next().charAt(0);\n",
    "    total += angka;\n",
    "    temp = angka;\n",
    "    if (option == 'Y'){\n",
    "        continue;\n",
    "    }\n",
    "    else if (option == 'T'){\n",
    "        break;\n",
    "    }else{\n",
    "        System.out.print(\"Yang anda masukan salah\");\n",
    "        break;\n",
    "    }\n",
    "}\n",
    "avg = total / j ;\n",
    "System.out.println(\"*********Output program********\");\n",
    "System.out.println(\"Jumlah Bilangan : \" + total);\n",
    "System.out.println(\"Rata rata : \" + avg);\n",
    "System.out.println(\"Selesai <<<\");"
   ]
  },
  {
   "cell_type": "markdown",
   "metadata": {},
   "source": [
    "### Soal 4 (skor 30++)\n",
    "Buatlah program klasifikasi umur yang sesuai dengan flowchar berikut **(skor 30)**. \n",
    "![Contoh Soal 4](images/Soal4.png)\n",
    "\n",
    "Saat perulangan berhenti. Hitung jumlah rata-rata umur yang telah dimasukkan, dan dari rata-rata tersebut termasuk klasifikasi umur apa? **(+poin 20)**"
   ]
  },
  {
   "cell_type": "code",
   "execution_count": 4,
   "metadata": {},
   "outputs": [
    {
     "name": "stdout",
     "output_type": "stream",
     "text": [
      "Masukkan umur: 20\n"
     ]
    }
   ],
   "source": [
    "/* Jawaban Soal 4 */\n",
    "import java.util.Scanner;\n",
    "Scanner input = new Scanner(System.in);\n",
    "int umur, rata2, klasifikasi;\n",
    "\n",
    "System.out.print(\"Masukkan umur: \");\n",
    "umur = input.nextInt();\n"
   ]
  },
  {
   "cell_type": "code",
   "execution_count": 3,
   "metadata": {},
   "outputs": [
    {
     "name": "stdout",
     "output_type": "stream",
     "text": [
      "Masukkan jumlah uang : Rp 200000\n",
      "Anda memiliki 2 lembar uang kertas\n",
      "2 lembar uang Rp 100.000\n",
      "0 lembar uang Rp 50.000\n",
      "0 lembar uang Rp 20.000\n",
      "0 lembar uang Rp 10.000\n",
      "0 lembar uang Rp 5.000\n",
      "0 lembar uang Rp 2.000\n",
      "0 lembar uang Rp 1.000\n"
     ]
    }
   ],
   "source": [
    "import java.util.Scanner;\n",
    "  Scanner input = new Scanner(System.in);\n",
    "  int a=0;\n",
    "  int b=0;\n",
    "  int c=0;\n",
    "  int d=0;\n",
    "  int e=0;\n",
    "  int f=0;\n",
    "  int g=0;\n",
    "  int jumlah=0;\n",
    "\n",
    "  System.out.print(\"Masukkan jumlah uang : Rp \");\n",
    "  int uang = input.nextInt();\n",
    "    if (uang>1000){\n",
    "      while (uang>=100000){\n",
    "        uang-=100000;\n",
    "        a++;\n",
    "        jumlah++;\n",
    "      }\n",
    "      if (uang>=50000){\n",
    "          uang-=50000;\n",
    "          b++;\n",
    "          jumlah++;\n",
    "      }\n",
    "      while (uang>=20000){\n",
    "        uang-=20000;\n",
    "        c++;\n",
    "        jumlah++;\n",
    "      }\n",
    "      if (uang>=10000){\n",
    "        uang-=10000;\n",
    "        d++;\n",
    "        jumlah++;\n",
    "      }if (uang>=5000){\n",
    "        uang-=5000;\n",
    "        e++;\n",
    "        jumlah++;\n",
    "      }\n",
    "      while (uang>2000){\n",
    "        uang-=2000;\n",
    "        f++;\n",
    "        jumlah++;\n",
    "      }if (uang>=1000){\n",
    "        uang-=1000;\n",
    "        g++;\n",
    "        jumlah++;\n",
    "      }\n",
    "      System.out.printf(\"Anda memiliki %d lembar uang kertas\\n\", jumlah);\n",
    "      System.out.println(a+\" lembar uang Rp 100.000\");\n",
    "      System.out.println(b+\" lembar uang Rp 50.000\");\n",
    "      System.out.println(c+\" lembar uang Rp 20.000\");\n",
    "      System.out.println(d+\" lembar uang Rp 10.000\");\n",
    "      System.out.println(e+\" lembar uang Rp 5.000\");\n",
    "      System.out.println(f+\" lembar uang Rp 2.000\");\n",
    "      System.out.println(g+\" lembar uang Rp 1.000\");\n",
    "    }else {\n",
    "      System.out.println(\"Anda tidak memiliki uang kertas\");\n",
    "    }\n",
    "  \n"
   ]
  },
  {
   "cell_type": "code",
   "execution_count": null,
   "metadata": {},
   "outputs": [],
   "source": []
  }
 ],
 "metadata": {
  "kernelspec": {
   "display_name": "Java",
   "language": "java",
   "name": "java"
  },
  "language_info": {
   "codemirror_mode": "java",
   "file_extension": ".jshell",
   "mimetype": "text/x-java-source",
   "name": "Java",
   "pygments_lexer": "java",
   "version": "11.0.12+8-LTS-237"
  }
 },
 "nbformat": 4,
 "nbformat_minor": 1
}
