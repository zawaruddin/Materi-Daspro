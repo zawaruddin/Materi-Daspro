{
 "cells": [
  {
   "cell_type": "markdown",
   "metadata": {
    "collapsed": true
   },
   "source": [
    "# JOBSHEET 3\n",
    "\n",
    "# Variabel, Tipe Data, Operator dan Input-Output\n",
    "\n",
    "## 1. Tujuan\n",
    "+ Mahasiswa dapat memahami dan mampu menjelaskan tentang Tipe Data ke pemrograman Java\n",
    "+ Mahasiswa dapat memahami dan mampu menjelaskan tentang Variabel pada pemrograman Java\n",
    "+ Mahasiswa dapat menerangkan dan mampu menjelaskan tentang Input-output ke pemrograman Java\n",
    "+ Mahasiswa dapat mengemukakan dan mampu menjelaskan tentang Sequence ke pemrograman Java\n",
    "+ Mahasiswa dapat memahami dan mampu menguraikan tentang Operator ke pemrograman Java"
   ]
  },
  {
   "cell_type": "markdown",
   "metadata": {},
   "source": [
    "## 2. Praktikum\n",
    "### 2.1 Percobaan 1: Penggunaan Variabel\n",
    "#### Waktu percobaan : 40 menit\n",
    "1. Buka teks editor\n",
    "2. Buat file baru, beri nama ContohVariabel.java\n",
    "3. Tuliskan struktur dasar bahasa java yang berisi fungsi main().\n",
    "4. Tuliskan kode di bawah ini pada public static void main(String args[])\n",
    "    \n",
    "   ![](images/image-004.jpg)\n",
    "   \n",
    "5. Jalankan kode program yang telah Anda buat kemudian amati hasilnya."
   ]
  },
  {
   "cell_type": "markdown",
   "metadata": {},
   "source": [
    "### Pertanyaan\n",
    "\n",
    "1. Silakan Anda ubah nama variabel sehingga model penamaan variabel menjadi baik dan benar!\n",
    "2. Jalankan kembali kode yang telah Anda buat kemudian amati hasilnya."
   ]
  },
  {
   "cell_type": "markdown",
   "metadata": {},
   "source": [
    "### 2.2 Percobaan 2: Penggunaan Tipe Data\n",
    "\n",
    "#### Waktu percobaan : 40 menit\n",
    "\n",
    "1. Buka teks editor\n",
    "2. Buat file baru, beri nama ContohTipeData.java\n",
    "3. Tuliskan struktur dasar bahasa java yang berisi fungsi main().\n",
    "4. Tuliskan kode di bawah ini pada public static void main(String args[])\n",
    "\n",
    "    ![](images/image-011.jpg)\n",
    "\n",
    "5. Jalankan kode program yang telah Anda buat kemudian amati hasilnya."
   ]
  },
  {
   "cell_type": "markdown",
   "metadata": {},
   "source": [
    "### Pertanyaan\n",
    "\n",
    "1. Mengapa ketika menampilkan nilai hasilnya bukan A ?\n",
    "2. Apa maksud sintak byte jarak = (byte) 130 ? kemudian mengapa ketika ditampilkan hasilnya berubah?\n",
    "3. Pada float suhu = 60.50F; , silakan hilangkan F kemudian jalankan kembali. Apa yang terjadi?\n",
    "4. Mengapa ketika menampilkan nilai berat, hasilnya berubah?\n",
    "5. Maksud inisialisasi 0x10 pada variabel angkaDesimal digunakan untuk apa?"
   ]
  },
  {
   "cell_type": "markdown",
   "metadata": {},
   "source": [
    "### 2.3 Percobaan 3: Penggunaan Operator\n",
    "\n",
    "#### Waktu percobaan : 40 menit\n",
    "\n",
    "1. Buka teks editor\n",
    "2. Buat file baru, beri nama ContohOperator.java\n",
    "3. Tuliskan struktur dasar bahasa java yang berisi fungsi main().\n",
    "4. Tuliskan kode di bawah ini pada public static void main(String args[])\n",
    "\n",
    "    ![](images/image-016.jpg)\n",
    "\n",
    "5. Jalankan kode program yang telah Anda buat kemudian amati hasilnya."
   ]
  },
  {
   "cell_type": "markdown",
   "metadata": {},
   "source": [
    "### Pertanyaan\n",
    "\n",
    "1. Jelaskan menurut pendapat Anda perbedaan antara x++ dan ++x ?\n",
    "2. Berapa hasil dari int z = x ^ y; , silakan dilakukan perhitungan secara manual!"
   ]
  },
  {
   "cell_type": "markdown",
   "metadata": {},
   "source": [
    "### 2.4 Percobaan 4: Flowchart\n",
    "\n",
    "#### Waktu percobaan : 50 menit\n",
    "\n",
    "1. Buat file baru beri nama Segitiga.java\n",
    "2. Amati flowchart program untuk menghitung luas segitiga berikut ini:\n",
    "\n",
    "      ![](images/image-017.jpg)\n",
    "        \n",
    "3. Kode program di bawah ini adalah implementasi dari flowchart di atas, jalankan dan amati apa yang terjadi.\n"
   ]
  },
  {
   "cell_type": "code",
   "execution_count": null,
   "metadata": {},
   "outputs": [],
   "source": [
    "import java.util.Scanner;\n",
    "\n",
    "Scanner sc = new Scanner(System.in);\n",
    "\n",
    "int alas, tinggi;\n",
    "float luas;\n",
    "\n",
    "System.out.print(\"Masukkan alas: \");\n",
    "alas = sc.nextInt();\n",
    "System.out.print(\"Masukkan tinggi: \");\n",
    "tinggi = sc.nextInt();\n",
    "\n",
    "luas = alas * tinggi / 2;\n",
    "\n",
    "System.out.print(\"Luas segitiga: \"+luas);"
   ]
  },
  {
   "cell_type": "markdown",
   "metadata": {},
   "source": [
    "### Pertanyaan\n",
    "\n",
    "1. Jelaskan mengapa harus melakukan deklarasi Scanner di praktikum percobaan 4 diatas?\n",
    "2. Jelaskan apa kegunaan potongan program dibawah ini!\n",
    "\n",
    "    ```\n",
    "    alas = sc.nextInt();\n",
    "    tinggi = sc.nextInt();\n",
    "    ```"
   ]
  },
  {
   "cell_type": "markdown",
   "metadata": {},
   "source": [
    "## 3. Tugas\n",
    "\n",
    "#### Waktu pengerjaan Tugas: 130 menit\n",
    "\n",
    "1. Kerjakan tugas sesuai dengan instruksi berikut ini.\n",
    "\n",
    "    Perhatikan tabel di bawah ini\n",
    "    \n",
    "    | Nama Variabel   | Tipe Data        | Nilai Awal | Keterangan              |\n",
    "    |-----------------|------------------|------------|-------------------------|\n",
    "    | kampus          | Kalimat          | Polinema   |                         |\n",
    "    | tingkat         | Bilangan bulat   | 1          |                         |\n",
    "    | kelas           | Karakter         | Z          | Nilai awal = kelas Anda |\n",
    "    | bilanganBulat   | Bilangan bulat   | 10         |                         |\n",
    "    | bilanganPecahan | Bilangan pecahan | 3.33333    |                         |\n",
    "    | karakter        | Karakter         | C          |                         |\n",
    "    \n",
    "  Dari informasi tabel tersebut, buatlah program untuk menampilan hasil seperti\n",
    "pada gambar di bawah ini!\n",
    "\n",
    "    ![](images/image-035.png)\n",
    "    \n",
    "2. Pak Edi bekerja di perusahaan dengan Gaji pokok sebesar X. Setiap bulannya Pak Budi mendapatkan komisi dari hasil penjualannya ditambah Gaji Pokok. Komisi yang diterima Pak Budi adalah 15% dari besarnya penjualan yang didapatkannya. Buatlah program yang dapat membantu Pak Edi untuk menghitung gaji yang di terima pak Budi!\n",
    "\n",
    "    **Program menggunakan inputan Scanner.**\n",
    "    \n",
    "3. Perhatikan baik-baik diagram flowchart program konversi suhu berikut ini:\n",
    "\n",
    "    ![](images/image-036.jpg)\n",
    "    \n",
    "    Implementasikan flowchart yang telah dirancang ke dalam program dengan menggunakan bahasa pemrograman java!"
   ]
  }
 ],
 "metadata": {
  "kernelspec": {
   "display_name": "Java",
   "language": "java",
   "name": "java"
  },
  "language_info": {
   "codemirror_mode": "java",
   "file_extension": ".jshell",
   "mimetype": "text/x-java-source",
   "name": "Java",
   "pygments_lexer": "java",
   "version": "11.0.12+8-LTS-237"
  }
 },
 "nbformat": 4,
 "nbformat_minor": 1
}
