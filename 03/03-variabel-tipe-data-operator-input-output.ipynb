{
 "cells": [
  {
   "cell_type": "markdown",
   "metadata": {
    "collapsed": true
   },
   "source": [
    "NANDA SHABRINA PUTRI KURNIA / 15 / MI-1E / 2131710064\n",
    "\n",
    "\n",
    "\n",
    "\n",
    "\n",
    "# JOBSHEET 3\n",
    "\n",
    "# Variabel, Tipe Data, Operator dan Input-Output\n",
    "\n",
    "## 1. Tujuan\n",
    "+ Mahasiswa dapat memahami dan mampu menjelaskan tentang Tipe Data ke pemrograman Java\n",
    "+ Mahasiswa dapat memahami dan mampu menjelaskan tentang Variabel pada pemrograman Java\n",
    "+ Mahasiswa dapat menerangkan dan mampu menjelaskan tentang Input-output ke pemrograman Java\n",
    "+ Mahasiswa dapat mengemukakan dan mampu menjelaskan tentang Sequence ke pemrograman Java\n",
    "+ Mahasiswa dapat memahami dan mampu menguraikan tentang Operator ke pemrograman Java"
   ]
  },
  {
   "cell_type": "markdown",
   "metadata": {},
   "source": [
    "## 2. Praktikum\n",
    "### 2.1 Percobaan 1: Penggunaan Variabel\n",
    "#### Waktu percobaan : 40 menit\n",
    "1. Buka teks editor\n",
    "2. Buat file baru, beri nama ContohVariabel.java\n",
    "3. Tuliskan struktur dasar bahasa java yang berisi fungsi main().\n",
    "4. Tuliskan kode di bawah ini pada public static void main(String args[])\n",
    "    \n",
    "   ![](images/image-004.jpg)\n",
    "   \n",
    "5. Jalankan kode program yang telah Anda buat kemudian amati hasilnya."
   ]
  },
  {
   "cell_type": "markdown",
   "metadata": {},
   "source": [
    "### Pertanyaan\n",
    "\n",
    "1. Silakan Anda ubah nama variabel sehingga model penamaan variabel menjadi baik dan benar!\n",
    "2. Jalankan kembali kode yang telah Anda buat kemudian amati hasilnya."
   ]
  },
  {
   "cell_type": "code",
   "execution_count": 1,
   "metadata": {},
   "outputs": [
    {
     "name": "stdout",
     "output_type": "stream",
     "text": [
      "bermain petak umpet\n",
      "Apakai pandai?true\n",
      "Jenis kelamin: L\n",
      "Umurku saat ini: 20\n",
      "Saya beripk 3.24, dengan tinggi badan 1.78\n"
     ]
    }
   ],
   "source": [
    "String salahSatuHobbySayaAdalah = \"bermain petak umpet\";\n",
    "boolean isPandai = true;\n",
    "char jenisKelamin = 'L';\n",
    "byte umurSayaSekarang = 20;\n",
    "double ipk = 3.24, tinggi = 1.78;\n",
    "System.out.println(salahSatuHobbySayaAdalah);\n",
    "System.out.println(\"Apakai pandai?\" + isPandai);\n",
    "System.out.println(\"Jenis kelamin: \" + jenisKelamin);\n",
    "System.out.println(\"Umurku saat ini: \" + umurSayaSekarang);\n",
    "System.out.println(String.format(\"Saya beripk %s, dengan tinggi badan %s\", ipk, tinggi));"
   ]
  },
  {
   "cell_type": "markdown",
   "metadata": {},
   "source": [
    "### 2.2 Percobaan 2: Penggunaan Tipe Data\n",
    "\n",
    "#### Waktu percobaan : 40 menit\n",
    "\n",
    "1. Buka teks editor\n",
    "2. Buat file baru, beri nama ContohTipeData.java\n",
    "3. Tuliskan struktur dasar bahasa java yang berisi fungsi main().\n",
    "4. Tuliskan kode di bawah ini pada public static void main(String args[])\n",
    "\n",
    "    ![](images/image-011.jpg)\n",
    "\n",
    "5. Jalankan kode program yang telah Anda buat kemudian amati hasilnya."
   ]
  },
  {
   "cell_type": "code",
   "execution_count": 8,
   "metadata": {},
   "outputs": [
    {
     "name": "stdout",
     "output_type": "stream",
     "text": [
      "Golongan darah\t\t\t\t: 65\n",
      "Jarak\t\t\t\t\t: -126\n",
      "Jumlah penduduk dalam satu dusun\t: 1025\n",
      "Suhu\t\t\t\t\t: 60.5\n",
      "Berat\t\t\t\t\t: 0.5467812345\n",
      "Saldo\t\t\t\t\t: 150000000\n",
      "Angka desimal\t\t\t\t: 16\n"
     ]
    }
   ],
   "source": [
    "char golonganDarah = 'A';\n",
    "byte jarak = (byte) 130;\n",
    "short jumlahPendudukDalamSatuDusun = 1025;\n",
    "float suhu = 60.50F;\n",
    "double berat = 0.5467812345;\n",
    "long saldo = 150000000;\n",
    "int angkaDesimal = 0x10;\n",
    "\n",
    "System.out.println(\"Golongan darah\\t\\t\\t\\t: \" + (byte)golonganDarah);\n",
    "System.out.println(\"Jarak\\t\\t\\t\\t\\t: \" + jarak);\n",
    "System.out.println(\"Jumlah penduduk dalam satu dusun\\t: \" + jumlahPendudukDalamSatuDusun);\n",
    "System.out.println(\"Suhu\\t\\t\\t\\t\\t: \" + suhu);\n",
    "System.out.println(\"Berat\\t\\t\\t\\t\\t: \" + (float)berat);\n",
    "System.out.println(\"Saldo\\t\\t\\t\\t\\t: \" + saldo);\n",
    "System.out.println(\"Angka desimal\\t\\t\\t\\t: \" + angkaDesimal);"
   ]
  },
  {
   "cell_type": "markdown",
   "metadata": {},
   "source": [
    "### Pertanyaan\n",
    "\n",
    "1. Mengapa ketika menampilkan nilai hasilnya bukan A ?\n",
    "2. Apa maksud sintak byte jarak = (byte) 130 ? kemudian mengapa ketika ditampilkan hasilnya berubah?\n",
    "3. Pada float suhu = 60.50F; , silakan hilangkan F kemudian jalankan kembali. Apa yang terjadi?\n",
    "4. Mengapa ketika menampilkan nilai berat, hasilnya berubah?\n",
    "5. Maksud inisialisasi 0x10 pada variabel angkaDesimal digunakan untuk apa?"
   ]
  },
  {
   "cell_type": "markdown",
   "metadata": {},
   "source": [
    "### 2.3 Percobaan 3: Penggunaan Operator\n",
    "\n",
    "#### Waktu percobaan : 40 menit\n",
    "\n",
    "1. Buka teks editor\n",
    "2. Buat file baru, beri nama ContohOperator.java\n",
    "3. Tuliskan struktur dasar bahasa java yang berisi fungsi main().\n",
    "4. Tuliskan kode di bawah ini pada public static void main(String args[])\n",
    "\n",
    "    ![](images/image-016.jpg)\n",
    "\n",
    "5. Jalankan kode program yang telah Anda buat kemudian amati hasilnya."
   ]
  },
  {
   "cell_type": "code",
   "execution_count": 10,
   "metadata": {},
   "outputs": [
    {
     "name": "stdout",
     "output_type": "stream",
     "text": [
      "x = 10\n",
      "Setelah evaluasi, x = 11\n",
      "x = 11\n",
      "Setelah evaluasi, x = 11\n",
      "falseHasil akhir x^y adalah 7\n",
      "Hasil akhir 1\n"
     ]
    }
   ],
   "source": [
    "int x = 10;\n",
    "System.out.println(\"x = \" + x++);\n",
    "System.out.println(\"Setelah evaluasi, x = \" + x);\n",
    "\n",
    "x = 10;\n",
    "System.out.println(\"x = \" + ++x);\n",
    "System.out.println(\"Setelah evaluasi, x = \" + x);\n",
    "\n",
    "int y = 12;\n",
    "System.out.print(x > y || y == x && y <= x);\n",
    "\n",
    "int z = x ^ y;\n",
    "System.out.println(\"Hasil akhir x^y adalah \" + z);\n",
    "\n",
    "z %= 2;\n",
    "System.out.println(\"Hasil akhir \" + z);\n",
    "\n"
   ]
  },
  {
   "cell_type": "markdown",
   "metadata": {},
   "source": [
    "### Pertanyaan\n",
    "\n",
    "1. Jelaskan menurut pendapat Anda perbedaan antara x++ dan ++x ?\n",
    "2. Berapa hasil dari int z = x ^ y; , silakan dilakukan perhitungan secara manual!"
   ]
  },
  {
   "cell_type": "markdown",
   "metadata": {},
   "source": [
    "### 2.4 Percobaan 4: Flowchart\n",
    "\n",
    "#### Waktu percobaan : 50 menit\n",
    "\n",
    "1. Buat file baru beri nama Segitiga.java\n",
    "2. Amati flowchart program untuk menghitung luas segitiga berikut ini:\n",
    "\n",
    "      ![](images/image-017.jpg)\n",
    "        \n",
    "3. Kode program di bawah ini adalah implementasi dari flowchart di atas, jalankan dan amati apa yang terjadi.\n"
   ]
  },
  {
   "cell_type": "code",
   "execution_count": 3,
   "metadata": {},
   "outputs": [
    {
     "name": "stdout",
     "output_type": "stream",
     "text": [
      "Masukkan alas: 2\n",
      "Masukkan tinggi: 3\n",
      "Luas segitiga: 3.0"
     ]
    }
   ],
   "source": [
    "import java.util.Scanner;\n",
    "\n",
    "Scanner sc = new Scanner(System.in);\n",
    "\n",
    "int alas, tinggi;\n",
    "float luas;\n",
    "\n",
    "System.out.print(\"Masukkan alas: \");\n",
    "alas = sc.nextInt();\n",
    "System.out.print(\"Masukkan tinggi: \");\n",
    "tinggi = sc.nextInt();\n",
    "\n",
    "luas = alas * tinggi / 2;\n",
    "\n",
    "System.out.print(\"Luas segitiga: \"+luas);"
   ]
  },
  {
   "cell_type": "markdown",
   "metadata": {},
   "source": [
    "### Pertanyaan\n",
    "\n",
    "1. Jelaskan mengapa harus melakukan deklarasi Scanner di praktikum percobaan 4 diatas?\n",
    "2. Jelaskan apa kegunaan potongan program dibawah ini!\n",
    "\n",
    "    ```\n",
    "    alas = sc.nextInt();\n",
    "    tinggi = sc.nextInt();\n",
    "    ```"
   ]
  },
  {
   "cell_type": "markdown",
   "metadata": {},
   "source": [
    "## 3. Tugas\n",
    "\n",
    "#### Waktu pengerjaan Tugas: 130 menit\n",
    "\n",
    "1. Kerjakan tugas sesuai dengan instruksi berikut ini.\n",
    "\n",
    "    Perhatikan tabel di bawah ini\n",
    "    \n",
    "    | Nama Variabel   | Tipe Data        | Nilai Awal | Keterangan              |\n",
    "    |-----------------|------------------|------------|-------------------------|\n",
    "    | kampus          | Kalimat          | Polinema   |                         |\n",
    "    | tingkat         | Bilangan bulat   | 1          |                         |\n",
    "    | kelas           | Karakter         | Z          | Nilai awal = kelas Anda |\n",
    "    | bilanganBulat   | Bilangan bulat   | 10         |                         |\n",
    "    | bilanganPecahan | Bilangan pecahan | 3.33333    |                         |\n",
    "    | karakter        | Karakter         | C          |                         |\n",
    "    \n",
    "  Dari informasi tabel tersebut, buatlah program untuk menampilan hasil seperti\n",
    "pada gambar di bawah ini!\n",
    "\n",
    "    ![](images/image-035.png)\n",
    "    \n",
    "2. Pak Edi bekerja di perusahaan dengan Gaji pokok sebesar X. Setiap bulannya Pak Budi mendapatkan komisi dari hasil penjualannya ditambah Gaji Pokok. Komisi yang diterima Pak Budi adalah 15% dari besarnya penjualan yang didapatkannya. Buatlah program yang dapat membantu Pak Edi untuk menghitung gaji yang di terima pak Budi!\n",
    "\n",
    "    **Program menggunakan inputan Scanner.**\n",
    "    \n",
    "3. Perhatikan baik-baik diagram flowchart program konversi suhu berikut ini:\n",
    "\n",
    "    ![](images/image-036.jpg)\n",
    "    \n",
    "    Implementasikan flowchart yang telah dirancang ke dalam program dengan menggunakan bahasa pemrograman java!"
   ]
  },
  {
   "cell_type": "code",
   "execution_count": 23,
   "metadata": {},
   "outputs": [
    {
     "name": "stdout",
     "output_type": "stream",
     "text": [
      "Saya adalah mahasiswa Polinema kelas 1 E\n",
      "Saya sedang belajar menampilkan nilai\n",
      "Bilangan bulat: 10\n",
      "Bilangan pecahan: 3.33333\n",
      "Karakter C\n"
     ]
    }
   ],
   "source": [
    "//nomor satu tugas\n",
    "String kampus = \"Polinema\";\n",
    "int tingkat = 1;\n",
    "char kelas = 'E';\n",
    "byte bilanganBulat = 10;\n",
    "double bilanganPecahan = 3.33333;\n",
    "char karakter = 'C';\n",
    "\n",
    "System.out.println(String.format(\"Saya adalah mahasiswa %s kelas %s %s\", kampus, tingkat, kelas));\n",
    "System.out.println(\"Saya sedang belajar menampilkan nilai\");\n",
    "System.out.println(\"Bilangan bulat: \" + bilanganBulat);\n",
    "System.out.println(\"Bilangan pecahan: \" + (float)bilanganPecahan);\n",
    "System.out.println(\"Karakter \" + karakter);"
   ]
  },
  {
   "cell_type": "code",
   "execution_count": 25,
   "metadata": {},
   "outputs": [
    {
     "name": "stdout",
     "output_type": "stream",
     "text": [
      "Gaji Pokok: 1500000\n",
      "Besar Penjualan: 20\n",
      "Komisi: 3\n",
      "Total Gaji: 1500003\n"
     ]
    }
   ],
   "source": [
    "//nomor dua tugas\n",
    "import java.util.Scanner;\n",
    "Scanner input = new Scanner(System.in);\n",
    "\n",
    "int gajiPokok, komisi, penjualan, totalGaji;\n",
    "\n",
    "System.out.print(\"Gaji Pokok: \");\n",
    "gajiPokok = input.nextInt();\n",
    "System.out.print(\"Besar Penjualan: \");\n",
    "penjualan = input.nextInt();\n",
    "\n",
    "komisi = penjualan * 15 / 100;\n",
    "System.out.println(\"Komisi: \" + komisi);\n",
    "totalGaji = gajiPokok + komisi;\n",
    "System.out.println(\"Total Gaji: \" + totalGaji);"
   ]
  },
  {
   "cell_type": "code",
   "execution_count": 26,
   "metadata": {},
   "outputs": [
    {
     "name": "stdout",
     "output_type": "stream",
     "text": [
      "Suhu: 25\n",
      "Suhu celcius: 25.0\n",
      "Suhu reamur: 0.0\n",
      "Suhu fahrenheit: 57.0\n",
      "Suhu kelvin: 298.0\n"
     ]
    }
   ],
   "source": [
    "import java.util.Scanner;\n",
    "Scanner input = new Scanner(System.in);\n",
    "\n",
    "float suhu, celcius, reamur, fahrenheit, kelvin;\n",
    "\n",
    "System.out.print(\"Suhu: \");\n",
    "suhu = input.nextFloat();\n",
    "\n",
    "celcius = suhu;\n",
    "System.out.println(\"Suhu celcius: \" + celcius);\n",
    "reamur = 4 / 5 * celcius;\n",
    "System.out.println(\"Suhu reamur: \" + reamur);\n",
    "fahrenheit = (9 / 5 * celcius) + 32;\n",
    "System.out.println(\"Suhu fahrenheit: \" + fahrenheit);\n",
    "kelvin = celcius + 273;\n",
    "System.out.println(\"Suhu kelvin: \" + kelvin);"
   ]
  },
  {
   "cell_type": "markdown",
   "metadata": {},
   "source": [
    "# Tugas Teori Flowchart\n",
    "\n",
    "### 1. Pak Budi memiliki lahan berbentuk persegi dengan sisi 100m, di dalam lahan terdapat kolam berbentuk lingkaran. Buatlah kode program berdasarkan flowchart yang telah dibuat di PDF untuk menghitung luas kolam renang dan lahan yang tidak dibangun kolam renang!"
   ]
  },
  {
   "cell_type": "code",
   "execution_count": 27,
   "metadata": {},
   "outputs": [
    {
     "name": "stdout",
     "output_type": "stream",
     "text": [
      "Jari-jari: 14\n",
      "Sisi persegi: 28\n",
      "Luas kolam: 615.44\n",
      "Luas lahan: 784.0\n",
      "Luas lahan tanpa kolam renang: 168.56\n"
     ]
    }
   ],
   "source": [
    "import java.util.Scanner;\n",
    "Scanner input = new Scanner(System.in);\n",
    "\n",
    "int jari2, sisiPersegi;\n",
    "float luasLing, luasPers, phi = 3.14F, luasLahan;\n",
    "\n",
    "System.out.print(\"Jari-jari: \");\n",
    "jari2 = input.nextInt();\n",
    "System.out.print(\"Sisi persegi: \");\n",
    "sisiPersegi = input.nextInt();\n",
    "\n",
    "luasLing = jari2 * jari2 * phi;\n",
    "System.out.println(\"Luas kolam: \"+luasLing);\n",
    "luasPers = sisiPersegi * sisiPersegi;\n",
    "System.out.println(\"Luas lahan: \"+luasPers);\n",
    "luasLahan = luasPers - luasLing;\n",
    "System.out.println(\"Luas lahan tanpa kolam renang: \"+luasLahan);"
   ]
  },
  {
   "cell_type": "markdown",
   "metadata": {},
   "source": [
    "## 2. Gaji bersih karyawan PT. XYZ didapatkan dari jumlah gaji pokok dan tunjangan dikurangi pajak. Gaji pokok karyawan PT. XYZ adalah Rp5.000.000,00-. Tunjangan karyawan dihitung 20% dari gaji pokok, sedangkan pajak adalah 5% dari gaji pokok. Buatlah kode program berdasarkan flowchart pada PDF untuk menghitung gaji bersih karyawan di PT.XYZ! "
   ]
  },
  {
   "cell_type": "code",
   "execution_count": 28,
   "metadata": {},
   "outputs": [
    {
     "name": "stdout",
     "output_type": "stream",
     "text": [
      "gaji pokok: 3000000\n",
      "pajak: 500000\n",
      "tunjangan: 300000\n",
      "gaji bersih: 2800000\n"
     ]
    }
   ],
   "source": [
    "import java.util.Scanner;\n",
    "Scanner input = new Scanner(System.in);\n",
    "\n",
    "int tunjangan, pajak, gajiPokok, gajiBersih;\n",
    "\n",
    "System.out.print(\"gaji pokok: \");\n",
    "gajiPokok = input.nextInt();\n",
    "System.out.print(\"pajak: \");\n",
    "pajak = input.nextInt();\n",
    "System.out.print(\"tunjangan: \");\n",
    "tunjangan = input.nextInt();\n",
    "\n",
    "gajiBersih = gajiPokok + tunjangan - pajak;\n",
    "System.out.println(\"gaji bersih: \"+gajiBersih);"
   ]
  },
  {
   "cell_type": "code",
   "execution_count": null,
   "metadata": {},
   "outputs": [],
   "source": []
  }
 ],
 "metadata": {
  "kernelspec": {
   "display_name": "Java",
   "language": "java",
   "name": "java"
  },
  "language_info": {
   "codemirror_mode": "java",
   "file_extension": ".jshell",
   "mimetype": "text/x-java-source",
   "name": "Java",
   "pygments_lexer": "java",
   "version": "11.0.12+8-LTS-237"
  }
 },
 "nbformat": 4,
 "nbformat_minor": 1
}
