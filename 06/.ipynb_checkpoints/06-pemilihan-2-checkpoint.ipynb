{
 "cells": [
  {
   "cell_type": "markdown",
   "metadata": {
    "collapsed": true
   },
   "source": [
    "- NAMA : RASYID RAZEKA ALAMSYAH\n",
    "- NIM : 2131710077\n",
    "\n",
    "## JOBSHEET 6\n",
    "\n",
    "## PEMILIHAN 2\n",
    "\n",
    "### Tujuan\n",
    "\n",
    "Mahasiswa memahami tentang operator logika; Mahasiswa mampu menyelesaikan permasalahan dengan menggunakan sintaks pemilihan bersarang; Mahasiswa mampu membuat sebuah program Java yang memanfaatkan sintaks pemilihan bersarang\n",
    "\n",
    "\n",
    "### Alat dan Bahan\n",
    "+ PC/laptop\n",
    "+ Browser(chrome, firefox, safari)\n",
    "+ Koneksi internet\n",
    "\n",
    "### Praktikum\n",
    "\n",
    "#### Percobaan 1\n",
    "\n",
    "#### Waktu percobaan : 40 menit\n",
    "\n",
    "1. Tambahkan library Scanner, deklarasi Scanner\n",
    "\n",
    "2. Buatlah variabel nilai yang memiliki tipe data int untuk menampung data yang diinput melalui keyboard\n",
    "\n",
    "    ![](images/03.png)"
   ]
  },
  {
   "cell_type": "code",
   "execution_count": null,
   "metadata": {},
   "outputs": [],
   "source": [
    "// Ketik kode di sini\n",
    "import java.util.Scanner;\n",
    "Scanner input = new Scanner(System.in);\n",
    "int nilai;\n",
    "System.out.print(\"Masukkan nilai ujian (0-100): \");\n",
    "nilai = input.nextInt();"
   ]
  },
  {
   "cell_type": "markdown",
   "metadata": {},
   "source": [
    "3. Buatlah struktur pengecekan kondisi bersarang. Pengecekan pertama digunakan untuk memastikan bahwa nilai yang dimasukkan berada pada rentang 0 – 100. Jika nilai berada pada rentang 0 – 100, maka akan dilakukan pengecekan status kelulusan mahasiswa, yaitu jika nilai di antara 90 – 100 maka nilainya A, jika nilai di antara 80 – 89 maka nilainya B, jika nilai di antara 60 – 79 maka nilainya C, jika nilai di antara 50 – 59 maka nilainya D, dan jika nilai di antara 0 – 49 maka nilainya E. Sedangkan jika nilai berada di luar rentang 0 – 100, maka ditampilkan informasi bahwa nilai yang dimasukkan tidak valid.\n",
    "\n",
    "    ![](images/04.png)"
   ]
  },
  {
   "cell_type": "code",
   "execution_count": 2,
   "metadata": {},
   "outputs": [
    {
     "name": "stdout",
     "output_type": "stream",
     "text": [
      "Nilai A, EXCELENT!\n"
     ]
    }
   ],
   "source": [
    "// Ketik kode di sini\n",
    "if(nilai >= 0 && nilai <= 100){\n",
    "    if(nilai >= 90 && nilai <= 100){\n",
    "        System.out.println(\"Nilai A, EXCELENT!\");\n",
    "    }else if(nilai >= 80 && nilai <= 89){\n",
    "        System.out.println(\"Nilai B, Pertahankan prestasi Anda!\");\n",
    "    }else if(nilai >= 60 && nilai <= 79){\n",
    "        System.out.println(\"Nilai C, Tingkatkan prestasi Anda!\");\n",
    "    }else if(nilai >= 50 && nilai <= 59){\n",
    "        System.out.println(\"Nilai D, Tingkatkan prestasi Anda!\");\n",
    "    }else{\n",
    "        System.out.println(\"Nilai E, Anda tidak lulus!\");\n",
    "    }\n",
    "}else{\n",
    "    System.out.println(\"Nilai yang Anda masukkan tidak valid!\");\n",
    "}"
   ]
  },
  {
   "cell_type": "markdown",
   "metadata": {},
   "source": [
    "> Penjelasan kode program percobaan 1\n",
    "\n",
    "Program menggunakan scanner untuk pengecekan nilai. jika nilai lebih dari 90 kurang dari 100 mendapat Nilai A. Jika nilai lebih dari 80 kurang dari 89 mendapat nilai B. Jika nilai lebih dari 60 kurang dari 79 mendapat nilai C. Jika nilai lebih dari 50 kurang dari 59 mendapat nilai D. jika nilai lebih dari 0 kurang dari 50 mendapat Nilai E. jika kurang dari 0 dan lebih dari 100 maka nilai yang dimasukkan tidak valid."
   ]
  },
  {
   "cell_type": "markdown",
   "metadata": {},
   "source": [
    "##### Pertanyaan\n",
    "\n",
    "1. Modifikasi kode program pada Percobaan 1 sehingga jika nilai yang dimasukkan kurang dari 0 akan ditampilkan output “Nilai yang Anda masukkan kurang dari 0” dan jika nilai yang dimasukkan lebih dari 100 akan ditampilkan output “Nilai yang Anda masukkan lebih dari 100”!\n",
    "\n",
    "2. Jelaskan fungsi sintaks if (nilai >= 0 && nilai <= 100)!\n",
    "\n",
    "3. Ubah operator && menjadi || pada sintaks if (nilai >= 0 && nilai <= 100). Jalankan program dengan memasukkan nilai = 105. Amati apa yang terjadi! Mengapa hasilnya demikian?"
   ]
  },
  {
   "cell_type": "markdown",
   "metadata": {},
   "source": [
    "##### Jawaban\n",
    "1. Jawaban ada dibawah ini"
   ]
  },
  {
   "cell_type": "code",
   "execution_count": 1,
   "metadata": {},
   "outputs": [
    {
     "name": "stdout",
     "output_type": "stream",
     "text": [
      "Masukkan nilai ujian (0-100): 105\n",
      "Nilai yang Anda masukkan lebih dari 100\n"
     ]
    }
   ],
   "source": [
    "import java.util.Scanner;\n",
    "Scanner input = new Scanner(System.in);\n",
    "int nilai;\n",
    "System.out.print(\"Masukkan nilai ujian (0-100): \");\n",
    "nilai = input.nextInt();\n",
    "\n",
    "if(nilai >= 0 && nilai <= 100){\n",
    "    if(nilai >= 90 && nilai <= 100){\n",
    "        System.out.println(\"Nilai A, EXCELENT!\");\n",
    "    }else if(nilai >= 80 && nilai <= 89){\n",
    "        System.out.println(\"Nilai B, Pertahankan prestasi Anda!\");\n",
    "    }else if(nilai >= 60 && nilai <= 79){\n",
    "        System.out.println(\"Nilai C, Tingkatkan prestasi Anda!\");\n",
    "    }else if(nilai >= 50 && nilai <= 59){\n",
    "        System.out.println(\"Nilai D, Tingkatkan prestasi Anda!\");\n",
    "    }else{\n",
    "        System.out.println(\"Nilai E, Anda tidak lulus!\");\n",
    "    }\n",
    "}else if(nilai < 0){\n",
    "    System.out.println(\"Nilai yang Anda masukkan kurang dari 0\");\n",
    "}else if(nilai > 100){\n",
    "    System.out.println(\"Nilai yang Anda masukkan lebih dari 100\");\n",
    "}else{\n",
    "    System.out.println(\"Nilai yang Anda masukkan tidak valid!\");\n",
    "}"
   ]
  },
  {
   "cell_type": "markdown",
   "metadata": {},
   "source": [
    "2. Menggunakan ekspresi logika. Menggunakan nilai > 0 sampai nilai < 100. Jika tidak memenuhi maka hasil nilai tidak valid atau False\n",
    "3. Menggunakan ekspresi logika. jika kita menginputkan lebih dari 100 dan kurang dari 0 maka hasilnya Nilai A, EXCELENT. Karena dua duanya bernilai FALSE. Jawaban ada dibawah ini"
   ]
  },
  {
   "cell_type": "code",
   "execution_count": 11,
   "metadata": {},
   "outputs": [
    {
     "name": "stdout",
     "output_type": "stream",
     "text": [
      "Masukkan nilai ujian (0-100): 70\n",
      "Nilai A, EXCELENT!\n"
     ]
    }
   ],
   "source": [
    "import java.util.Scanner;\n",
    "Scanner input = new Scanner(System.in);\n",
    "int nilai;\n",
    "System.out.print(\"Masukkan nilai ujian (0-100): \");\n",
    "nilai = input.nextInt();\n",
    "\n",
    "if(nilai >= 0 || nilai <= 100){\n",
    "    if(nilai >= 90 || nilai <= 100){\n",
    "        System.out.println(\"Nilai A, EXCELENT!\");\n",
    "    }else if(nilai >= 80 || nilai <= 89){\n",
    "        System.out.println(\"Nilai B, Pertahankan prestasi Anda!\");\n",
    "    }else if(nilai >= 60 || nilai <= 79){\n",
    "        System.out.println(\"Nilai C, Tingkatkan prestasi Anda!\");\n",
    "    }else if(nilai >= 50 || nilai <= 59){\n",
    "        System.out.println(\"Nilai D, Tingkatkan prestasi Anda!\");\n",
    "    }else{\n",
    "        System.out.println(\"Nilai E, Anda tidak lulus!\");\n",
    "    }\n",
    "}else{\n",
    "    System.out.println(\"Nilai yang Anda masukkan tidak valid!\");\n",
    "}"
   ]
  },
  {
   "cell_type": "markdown",
   "metadata": {},
   "source": [
    "#### Percobaan 2\n",
    "\n",
    "#### Waktu percobaan : 40 menit"
   ]
  },
  {
   "cell_type": "markdown",
   "metadata": {},
   "source": [
    "1. Perhatikan flowchart dibawah ini!\n",
    "\n",
    "![](images/02.png)\n",
    "\n",
    "> Flowchart tersebut digunakan untuk menghitung gaji bersih seseorang setelah dipotong pajak sesuai dengan kategorinya (pekerja dan pebisnis) dan besarnya penghasilan. "
   ]
  },
  {
   "cell_type": "markdown",
   "metadata": {},
   "source": [
    "2. Tambahkan library Scanner dan deklarasi Scanner\n",
    "\n",
    "3. Deklarasikan variabel kategori, penghasilan, gajiBersih, dan pajak\n",
    "\n",
    "    ![](images/05.png)"
   ]
  },
  {
   "cell_type": "code",
   "execution_count": 5,
   "metadata": {},
   "outputs": [
    {
     "name": "stdout",
     "output_type": "stream",
     "text": [
      "Masukkan Kategori: pebisnis\n",
      "Masukkan Besarnya Penghasilan: 2000000\n"
     ]
    }
   ],
   "source": [
    "// Ketik kode di sini\n",
    "import java.util.Scanner;\n",
    "Scanner input = new Scanner(System.in);\n",
    "String kategori;\n",
    "int penghasilan, gajiBersih;\n",
    "double pajak = 0;\n",
    "\n",
    "System.out.print(\"Masukkan Kategori: \");\n",
    "kategori = input.nextLine();\n",
    "System.out.print(\"Masukkan Besarnya Penghasilan: \");\n",
    "penghasilan = input.nextInt();"
   ]
  },
  {
   "cell_type": "markdown",
   "metadata": {},
   "source": [
    "4. Buatlah struktur pengecekan kondisi bersarang. Pengecekan pertama digunakan untuk mengecek kategori (pekerja atau pebisnis). Selanjutnya dilakukan pengecekan kedua untuk menentukan besarnya pajak berdasarkan penghasilan yang telah dimasukkan.Kemudian tambahkan kode program untuk menghitung gaji bersih yang diterima setelah dipotong pajak!\n",
    "\n",
    "    ![](images/06.png)"
   ]
  },
  {
   "cell_type": "code",
   "execution_count": 6,
   "metadata": {},
   "outputs": [
    {
     "name": "stdout",
     "output_type": "stream",
     "text": [
      "Gaji bersih yang Anda terima: 1700000\n"
     ]
    }
   ],
   "source": [
    "// Ketik kode di sini\n",
    "if(kategori.equalsIgnoreCase(\"pekerja\")){\n",
    "    if(penghasilan <= 2000000){\n",
    "        pajak = 0.1;\n",
    "    }else if(penghasilan <= 3000000){\n",
    "        pajak = 0.15;\n",
    "    }else{\n",
    "        pajak = 0.2;\n",
    "    }\n",
    "    gajiBersih = (int)(penghasilan-(penghasilan*pajak));\n",
    "    System.out.println(\"Gaji bersih yang Anda terima: \"+gajiBersih);\n",
    "\n",
    "}else if(kategori.equalsIgnoreCase(\"pebisnis\")){\n",
    "    if(penghasilan <= 2500000){\n",
    "        pajak = 0.15;\n",
    "    }else if(penghasilan <= 3500000){\n",
    "        pajak = 0.2;\n",
    "    }else{\n",
    "        pajak = 0.25;\n",
    "    }\n",
    "    gajiBersih = (int)(penghasilan-(penghasilan*pajak));\n",
    "    System.out.println(\"Gaji bersih yang Anda terima: \"+gajiBersih);\n",
    "}else{\n",
    "    System.out.println(\"Kategori yang Anda masukkan salah!\");\n",
    "}"
   ]
  },
  {
   "cell_type": "markdown",
   "metadata": {},
   "source": [
    "5. Jalankan program di atas. Amati apa yang terjadi!"
   ]
  },
  {
   "cell_type": "markdown",
   "metadata": {},
   "source": [
    "> Penjelasan kode program percobaan 2\n",
    "\n",
    "Program menggunakan scanner untuk pengecekan gaji bersih. Pertama memasukkan kategori dan penghasilan. Jika penghasilan kurang dari sama dengan 2 jt, maka mendapat pajak 0,1. Jika penghasilan kurang dari 3 jt 500 rb, maka mendapat pajak 0,2. Selebihnya mendapatkan pajak 0,25. Setelah itu menghitung gaji bersih dengan cara penghasilan - (penghasilan x pajak). Dan output Gaji bersih sudah bisa dilihat. Jika kategori yang dimasukkan selain pebisnis dan pekerja maka Kategori yang Anda masukkan salah!"
   ]
  },
  {
   "cell_type": "markdown",
   "metadata": {},
   "source": [
    "##### Pertanyaan\n",
    "\n",
    "1. Jalankan program dengan memasukkan kategori = pekerja dan penghasilan = 2048485. Amati apa yang terjadi! Mengapa angka di belakang koma tidak ditampilkan?\n",
    "\n",
    "2. Jelaskan fungsi dari (int) pada sintaks:\n",
    "```\n",
    "gajiBersih = (int) (penghasilan - (penghasilan * pajak));\n",
    "```\n",
    "\n",
    "3.\tJalankan program dengan memasukkan kategori = pebisnis dan penghasilan = 2000000. Amati apa yang terjadi! Apa kegunaan dari equalsIgnoreCase?\n",
    "\n",
    "4.\tUbah equalsIgnoreCase menjadi equals, kemudian jalankan program dengan memasukkan kategori = pebisnis dan penghasilan = 2000000. Amati apa yang terjadi! Mengapa hasilnya demikian? Apa kegunaan dari equals?"
   ]
  },
  {
   "cell_type": "markdown",
   "metadata": {},
   "source": [
    "##### Jawaban\n",
    "1. Karena tipe data dari gaji bersih menggunakan tipe data integer\n",
    "2. Berfungsi mengkonversi bilangan maupun string angka menjadi bilangan bulat (integer).\n",
    "3. Outputnya 1700000. Fungsi equalsIgnoreCase : tidak akan melihat huruf besar ataupun kecil, yang terpenting mempunyai nilai yang sama, maka akan tetap menghasilkan true.\n",
    "4. Fungsi equals : membandingkan nilai pada dua buah variable yang mempunyai data yang sama dari segi huruf besar dan kecil, jadi jika ada salah satu huruf dengan ukuran yang tidak sama, maka akan menghasilkan FALSE."
   ]
  },
  {
   "cell_type": "markdown",
   "metadata": {},
   "source": [
    "### Tugas\n",
    "\n",
    "#### Waktu pengerjaan Tugas: 140 menit\n",
    "\n",
    "1. Buatlah program kalkulator sederhana menggunakan bahasa pemrograman Java. User akan menginputkan dua buah bilangan riil dan satu buah operator aritmatika (+, -, *, atau /), kemudian program akan mengoperasikan dua bilangan tersebut dengan operator yang sesuai. Petunjuk: gunakan pernyataan switch-case.\n",
    "Contoh tampilan program:\n",
    "\n",
    "```\n",
    "Masukkan bilangan pertama: 2.5\n",
    "Masukkan operator (+, -, *, /): *\n",
    "Masukkan bilangan kedua: 4\n",
    "2.5 * 4.0 = 10.0\n",
    "\n",
    "```"
   ]
  },
  {
   "cell_type": "code",
   "execution_count": 4,
   "metadata": {},
   "outputs": [
    {
     "name": "stdout",
     "output_type": "stream",
     "text": [
      "Masukkan bilangan pertama: 2,5\n",
      "Masukkan operator (+, -, *, /): *\n",
      "Masukkan bilangan kedua: 4\n",
      "2.5*4.0=10.0\n"
     ]
    }
   ],
   "source": [
    "//ketik kode program dan lampirkan hasilnya disini\n",
    "import java.util.Scanner;\n",
    "Scanner input = new Scanner(System.in);\n",
    "double bilSatu, bilDua, hasil;\n",
    "char operator;\n",
    "\n",
    "System.out.print(\"Masukkan bilangan pertama: \");\n",
    "bilSatu = input.nextDouble();\n",
    "System.out.print(\"Masukkan operator (+, -, *, /): \");\n",
    "operator = input.next().charAt(0);\n",
    "System.out.print(\"Masukkan bilangan kedua: \");\n",
    "bilDua = input.nextDouble();\n",
    "\n",
    "switch(operator){\n",
    "    case '+':\n",
    "    hasil = bilSatu + bilDua;\n",
    "    System.out.println(bilSatu + \"+\" + bilDua + \"=\" + hasil);\n",
    "    break;\n",
    "    case '-':\n",
    "    hasil = bilSatu - bilDua;\n",
    "    System.out.println(bilSatu + \"-\" + bilDua + \"=\" + hasil);\n",
    "    break;\n",
    "    case '*':\n",
    "    hasil = bilSatu * bilDua;\n",
    "    System.out.println(bilSatu + \"*\" + bilDua + \"=\" + hasil);\n",
    "    break;\n",
    "    case '/':\n",
    "    hasil =bilSatu / bilDua;\n",
    "    System.out.println(bilSatu + \"/\" + bilDua + \"=\" + hasil);\n",
    "    break;\n",
    "    default:\n",
    "    System.out.println(\"Operator yang anda masukkan salah\");\n",
    "}"
   ]
  },
  {
   "cell_type": "markdown",
   "metadata": {},
   "source": [
    "2. Dengan menggunakan tiga nilai yang mewakili panjang tiga sisi sebuah segitiga, tentukan apakah segitiga tersebut sama sisi (ketiga sisinya bernilai sama), sama kaki (kedua sisinya bernilai sama), atau sembarang (tidak ada sisi yang bernilai sama)! "
   ]
  },
  {
   "cell_type": "code",
   "execution_count": 4,
   "metadata": {},
   "outputs": [
    {
     "name": "stdout",
     "output_type": "stream",
     "text": [
      "Masukkan sisi pertama: 12\n",
      "Masukkan sisi kedua: 13\n",
      "Masukkan sisi ketiga: 14\n",
      "Segitiga tersebut merupakan segitiga sembarang\n"
     ]
    }
   ],
   "source": [
    "//ketik kode program dan lampirkan hasilnya disini\n",
    "import java.util.Scanner;\n",
    "Scanner input = new Scanner(System.in);\n",
    "int sisi1, sisi2, sisi3;\n",
    "\n",
    "System.out.print(\"Masukkan sisi pertama: \");\n",
    "sisi1 = input.nextInt();\n",
    "System.out.print(\"Masukkan sisi kedua: \");\n",
    "sisi2 = input.nextInt();\n",
    "System.out.print(\"Masukkan sisi ketiga: \");\n",
    "sisi3 = input.nextInt();\n",
    "if(sisi1 == sisi2 && sisi2 == sisi3 && sisi1 == sisi3){\n",
    "    System.out.println(\"Segitiga tersebut merupakan segitiga sama sisi\");\n",
    "}else if(sisi1 == sisi2 || sisi2 == sisi3 || sisi1 == sisi3){\n",
    "    System.out.println(\"Segitiga tersebut merupakan segitiga sama kaki\");\n",
    "}else{\n",
    "    System.out.println(\"Segitiga tersebut merupakan segitiga sembarang\");\n",
    "}"
   ]
  },
  {
   "cell_type": "markdown",
   "metadata": {},
   "source": [
    "3. Warung Padang Gembira meminta Anda membuat sebuah program untuk menerima pesanan dari internet. Program yang Anda buat meminta user untuk memasukkan nama makanan dan harga. Setelah itu, user ditawarkan untuk menggunakan pengiriman ekspres. Jika pengguna menolak, maka jenis pengiriman yang digunakan adalah pengiriman reguler. Biaya pengiriman reguler untuk harga makanan kurang dari Rp 100.000 adalah Rp 20.000, sedangkan untuk harga makanan sama dengan atau lebih dari Rp 100.000 biaya pengirimannya adalah Rp 30.000. Untuk jenis pengiriman ekspres, tambahkan biaya tambahan sebesar Rp 25.000 dari standar biaya pengiriman reguler. Tampilkan struk yang berisi nama makanan yang dibeli + harga, biaya pengiriman, dan total yang harus dibayar!\n",
    "Contoh hasil output program:\n",
    "\n",
    "```\n",
    "Masukkan nama makanan: Tuna salad\n",
    "Masukkan harga makanan: Rp 115000\n",
    "Apakah Anda ingin pengiriman ekspres (0 = tidak, 1 = ya)? 0\n",
    "\n",
    "STRUK PEMBELIAN\n",
    "Tuna salad        Rp 115000\n",
    "Biaya pengiriman  Rp 30000\n",
    "TOTAL             Rp 145000\n",
    "\n",
    "```\n",
    "\n",
    "```\n",
    "Masukkan nama makanan: Beef bulgogi\n",
    "Masukkan harga makanan: Rp 78000\n",
    "Apakah Anda ingin pengiriman ekspres (0 = tidak, 1 = ya)? 1\n",
    "\n",
    "STRUK PEMBELIAN\n",
    "Beef bulgogi      Rp 115000\n",
    "Biaya pengiriman  Rp 45000\n",
    "TOTAL             Rp 123000\n",
    "\n",
    "```\n",
    "\n"
   ]
  },
  {
   "cell_type": "code",
   "execution_count": 24,
   "metadata": {},
   "outputs": [
    {
     "name": "stdout",
     "output_type": "stream",
     "text": [
      "Masukkan nama makanan: Tuna salad\n",
      "Masukkan harga makanan: 115000\n",
      "Apakah anda ingin pengiriman ekspres (0 = tidak, 1 = ya)? 0\n",
      "\t\n",
      "STRUK PEMBELIAN\n",
      "Tuna salad\t Rp 115000\n",
      "Biaya Pengiriman Rp 30000\n",
      "TOTAL\t\t RP 115000\n"
     ]
    }
   ],
   "source": [
    "//ketik kode program dan lampirkan hasilnya disini\n",
    "import java.util.Scanner;\n",
    "Scanner input = new Scanner(System.in);\n",
    "int harga, biayaKirim, total, ekspres;\n",
    "String namaMakanan;\n",
    "\n",
    "System.out.print(\"Masukkan nama makanan: \");\n",
    "namaMakanan = input.nextLine();\n",
    "System.out.print(\"Masukkan harga makanan: \");\n",
    "harga = input.nextInt();\n",
    "System.out.print(\"Apakah anda ingin pengiriman ekspres (0 = tidak, 1 = ya)? \");\n",
    "ekspres = input.nextInt();\n",
    "\n",
    "System.out.println(\"\\t\");\n",
    "System.out.println(\"STRUK PEMBELIAN\");\n",
    "System.out.print(\"\"+ namaMakanan);\n",
    "System.out.println(\"\\t Rp \"+harga);\n",
    "if(ekspres == 0){\n",
    "    if(harga < 100000){\n",
    "        biayaKirim = 20000;\n",
    "    }else if(harga >= 100000){\n",
    "        biayaKirim = 30000;\n",
    "    }\n",
    "    System.out.println(\"Biaya Pengiriman Rp \"+biayaKirim);\n",
    "}else if(ekspres == 1){\n",
    "    if(harga < 100000){\n",
    "        biayaKirim = 45000;\n",
    "    }else if(harga >= 100000){\n",
    "        biayaKirim = 55000;\n",
    "    }\n",
    "    System.out.println(\"Biaya Pengiriman Rp \"+biayaKirim);\n",
    "}\n",
    "total = harga+ekspres;\n",
    "System.out.println(\"TOTAL\\t\\t RP \"+total);"
   ]
  },
  {
   "cell_type": "markdown",
   "metadata": {},
   "source": [
    "4. Perhatikan flowchart berikut ini!\n",
    "\n",
    "![](images/01.png)\n",
    "\n",
    "> Buatlah program sesuai dengan flowchart diatas!"
   ]
  },
  {
   "cell_type": "code",
   "execution_count": 1,
   "metadata": {},
   "outputs": [
    {
     "name": "stdout",
     "output_type": "stream",
     "text": [
      "Masukkan umur anda: 19\n",
      "Apakah sudah bekerja (1 = sudah / 0 = belum)? 1\n",
      "Masukkan pendapatan perbulan: 1000000\n",
      "Masukkan jumlah tanggungan: 7\n",
      "Biaya hidup anda: 142857\n",
      "PENDUDUK MISKIN\n"
     ]
    }
   ],
   "source": [
    "//ketik kode program dan lampirkan hasilnya disini\n",
    "import java.util.Scanner;\n",
    "Scanner input = new Scanner(System.in);\n",
    "int umur, sudahBekerja, pendapatan, tanggungan, biayaHidup, masihSekolah;\n",
    "\n",
    "System.out.print(\"Masukkan umur anda: \");\n",
    "umur = input.nextInt();\n",
    "if(umur >= 18){\n",
    "    System.out.print(\"Apakah sudah bekerja (1 = sudah / 0 = belum)? \");\n",
    "    sudahBekerja = input.nextInt();\n",
    "    if(sudahBekerja == 1){\n",
    "        System.out.print(\"Masukkan pendapatan perbulan: \");\n",
    "        pendapatan = input.nextInt();\n",
    "        System.out.print(\"Masukkan jumlah tanggungan: \");\n",
    "        tanggungan = input.nextInt();\n",
    "        biayaHidup = pendapatan/tanggungan;\n",
    "        System.out.println(\"Biaya hidup anda: \"+biayaHidup);\n",
    "        if(biayaHidup < 300000){\n",
    "            System.out.println(\"PENDUDUK MISKIN\");\n",
    "        }else{\n",
    "            System.out.println(\"BUKAN PENDUDUK MISKIN\");\n",
    "        }\n",
    "    }else{\n",
    "        System.out.println(\"PENDUDUK MISKIN\");\n",
    "    }\n",
    "}else{\n",
    "    System.out.print(\"Apakah Masih Bersekolah (1 = masih / 0 = tidak)? \");\n",
    "    masihSekolah = input.nextInt();\n",
    "    if(masihSekolah == 1){\n",
    "        System.out.println(\"BUKAN PENDUDUK MISKIN\");\n",
    "    }else{\n",
    "        System.out.println(\"PENDUDUK MISKIN\");\n",
    "    }\n",
    "}"
   ]
  }
 ],
 "metadata": {
  "kernelspec": {
   "display_name": "Java",
   "language": "java",
   "name": "java"
  },
  "language_info": {
   "codemirror_mode": "java",
   "file_extension": ".jshell",
   "mimetype": "text/x-java-source",
   "name": "Java",
   "pygments_lexer": "java",
   "version": "11.0.12+8-LTS-237"
  },
  "nteract": {
   "version": "nteract-on-jupyter@2.1.3"
  }
 },
 "nbformat": 4,
 "nbformat_minor": 1
}
