{
 "cells": [
  {
   "cell_type": "markdown",
   "metadata": {
    "collapsed": true
   },
   "source": [
    "### NIM      : 2131710089\n",
    "### NAMA  : RIZQI ZAMZAMI JAMIL\n",
    "### KELAS : MI-1E\n",
    "\n",
    "\n",
    "## JOBSHEET 6\n",
    "\n",
    "## PEMILIHAN 2\n",
    "\n",
    "### Tujuan\n",
    "\n",
    "Mahasiswa memahami tentang operator logika; Mahasiswa mampu menyelesaikan permasalahan dengan menggunakan sintaks pemilihan bersarang; Mahasiswa mampu membuat sebuah program Java yang memanfaatkan sintaks pemilihan bersarang\n",
    "\n",
    "\n",
    "### Alat dan Bahan\n",
    "+ PC/laptop\n",
    "+ Browser(chrome, firefox, safari)\n",
    "+ Koneksi internet\n",
    "\n",
    "### Praktikum\n",
    "\n",
    "#### Percobaan 1\n",
    "\n",
    "#### Waktu percobaan : 40 menit\n",
    "\n",
    "1. Tambahkan library Scanner, deklarasi Scanner\n",
    "\n",
    "2. Buatlah variabel nilai yang memiliki tipe data int untuk menampung data yang diinput melalui keyboard\n",
    "\n",
    "    ![](images/03.png)"
   ]
  },
  {
   "cell_type": "code",
   "execution_count": 1,
   "metadata": {},
   "outputs": [
    {
     "name": "stdout",
     "output_type": "stream",
     "text": [
      "Masukkan nilai ujian (0-100): 95\n"
     ]
    }
   ],
   "source": [
    "// Ketik kode di sini\n",
    "import java.util.Scanner;\n",
    "Scanner input = new Scanner(System.in);\n",
    "int nilai;\n",
    "System.out.print(\"Masukkan nilai ujian (0-100): \");\n",
    "nilai = input.nextInt();"
   ]
  },
  {
   "cell_type": "markdown",
   "metadata": {},
   "source": [
    "3. Buatlah struktur pengecekan kondisi bersarang. Pengecekan pertama digunakan untuk memastikan bahwa nilai yang dimasukkan berada pada rentang 0 – 100. Jika nilai berada pada rentang 0 – 100, maka akan dilakukan pengecekan status kelulusan mahasiswa, yaitu jika nilai di antara 90 – 100 maka nilainya A, jika nilai di antara 80 – 89 maka nilainya B, jika nilai di antara 60 – 79 maka nilainya C, jika nilai di antara 50 – 59 maka nilainya D, dan jika nilai di antara 0 – 49 maka nilainya E. Sedangkan jika nilai berada di luar rentang 0 – 100, maka ditampilkan informasi bahwa nilai yang dimasukkan tidak valid.\n",
    "\n",
    "    ![](images/04.png)"
   ]
  },
  {
   "cell_type": "code",
   "execution_count": 2,
   "metadata": {},
   "outputs": [
    {
     "name": "stdout",
     "output_type": "stream",
     "text": [
      "Nilai A, EXCELENT!\n"
     ]
    }
   ],
   "source": [
    "// Ketik kode di sini\n",
    "if(nilai >= 0 && nilai <= 100){\n",
    "    if(nilai >= 90 && nilai <= 100){\n",
    "        System.out.println(\"Nilai A, EXCELENT!\");\n",
    "    } else if (nilai >= 80 && nilai <= 89){\n",
    "        System.out.println(\"Nilai B, Pertahankan prestasi Anda!\");\n",
    "    } else if (nilai >= 60 && nilai <= 79){\n",
    "        System.out.println(\"Nilai C, Tingkatkan prestasi Anda!\");\n",
    "    } else if (nilai >= 50 && nilai <= 59){\n",
    "        System.out.println(\"Nilai D, Tingkatkan belajar Anda!\");\n",
    "    } else {\n",
    "        System.out.println(\"Nilai E, Anda tidak lulus!\");\n",
    "    }\n",
    "} else {\n",
    "    System.out.println(\"Nilai yang Anda masukkan tidak valid!\");\n",
    "}"
   ]
  },
  {
   "cell_type": "markdown",
   "metadata": {},
   "source": [
    "> Penjelasan kode program percobaan 1\n",
    "\n",
    ">Kode program pada percobaan 1 digunakan untuk menampilkan indeks nilai huruf (A, B, C, D, dan E) dengan memasukkan nilai angka, kemudian program akan mengkonversi nilai angka ke nilai huruf beserta keterangan setiap indeks huruf dengan ketentuan yang telah diprogram"
   ]
  },
  {
   "cell_type": "markdown",
   "metadata": {},
   "source": [
    "##### Pertanyaan\n",
    "\n",
    "1. Modifikasi kode program pada Percobaan 1 sehingga jika nilai yang dimasukkan kurang dari 0 akan ditampilkan output “Nilai yang Anda masukkan kurang dari 0” dan jika nilai yang dimasukkan lebih dari 100 akan ditampilkan output “Nilai yang Anda masukkan lebih dari 100”!\n",
    "\n",
    "2. Jelaskan fungsi sintaks if (nilai >= 0 && nilai <= 100)!\n",
    "\n",
    "3. Ubah operator && menjadi || pada sintaks if (nilai >= 0 && nilai <= 100). Jalankan program dengan memasukkan nilai = 105. Amati apa yang terjadi! Mengapa hasilnya demikian?\n",
    "\n",
    "#### Jawaban\n",
    "1. Modifikasi ada dibawah ini!\n",
    "2. Sintaks tersebut digunakan untuk menginisiasi kondisi nilai lebih dari sama dengan nol dan nilai kurang dari sama dengan 100\n",
    "3. Hasilnya sama seperti menggunakan && karena || (Or) akan bernilai benar jika salah satu nilanya benar, maka program dapat bernilai benar mesikpun hanya salah satu syarat yang terpenuhi. Bukti pengubahan operator ada dibawah modifikasi nomor 1"
   ]
  },
  {
   "cell_type": "code",
   "execution_count": 65,
   "metadata": {},
   "outputs": [
    {
     "name": "stdout",
     "output_type": "stream",
     "text": [
      "Masukkan nilai ujian (0-100): -2\n",
      "Nilai yang Anda masukkan kurang dari 0\n"
     ]
    }
   ],
   "source": [
    "// Jawaban pertanyaan\n",
    "\n",
    "//Nomor 1\n",
    "\n",
    "import java.util.Scanner;\n",
    "Scanner input = new Scanner(System.in);\n",
    "int nilai;\n",
    "System.out.print(\"Masukkan nilai ujian (0-100): \");\n",
    "nilai = input.nextInt();\n",
    "\n",
    "if(nilai >= 0 && nilai <= 100){\n",
    "    if(nilai >= 90 && nilai <= 100){\n",
    "        System.out.println(\"Nilai A, EXCELENT!\");\n",
    "    } else if (nilai >= 80 && nilai <= 89){\n",
    "        System.out.println(\"Nilai B, Pertahankan prestasi Anda!\");\n",
    "    } else if (nilai >= 60 && nilai <= 79){\n",
    "        System.out.println(\"Nilai C, Tingkatkan prestasi Anda!\");\n",
    "    } else if (nilai >= 50 && nilai <= 59){\n",
    "        System.out.println(\"Nilai D, Tingkatkan belajar Anda!\");\n",
    "    }\n",
    "} else {\n",
    "    \n",
    "}\n",
    "if(nilai < 0){\n",
    "    System.out.println(\"Nilai yang Anda masukkan kurang dari 0\");\n",
    "} else if (nilai > 100){\n",
    "    System.out.println(\"Nilai yang Anda masukkan lebih dari 100\");\n",
    "}"
   ]
  },
  {
   "cell_type": "code",
   "execution_count": 64,
   "metadata": {},
   "outputs": [
    {
     "name": "stdout",
     "output_type": "stream",
     "text": [
      "Masukkan nilai ujian (0-100): 90\n",
      "Nilai A, EXCELENT!\n"
     ]
    }
   ],
   "source": [
    "//Nomor 3\n",
    "\n",
    "import java.util.Scanner;\n",
    "Scanner input = new Scanner(System.in);\n",
    "int nilai;\n",
    "System.out.print(\"Masukkan nilai ujian (0-100): \");\n",
    "nilai = input.nextInt();\n",
    "\n",
    "if(nilai >= 0 || nilai <= 100){\n",
    "    if(nilai >= 90 && nilai <= 100){\n",
    "        System.out.println(\"Nilai A, EXCELENT!\");\n",
    "    } else if (nilai >= 80 && nilai <= 89){\n",
    "        System.out.println(\"Nilai B, Pertahankan prestasi Anda!\");\n",
    "    } else if (nilai >= 60 && nilai <= 79){\n",
    "        System.out.println(\"Nilai C, Tingkatkan prestasi Anda!\");\n",
    "    } else if (nilai >= 50 && nilai <= 59){\n",
    "        System.out.println(\"Nilai D, Tingkatkan belajar Anda!\");\n",
    "    }\n",
    "} else {\n",
    "    \n",
    "}\n",
    "if(nilai < 0){\n",
    "    System.out.println(\"Nilai yang Anda masukkan kurang dari 0\");\n",
    "} else if (nilai > 100){\n",
    "    System.out.println(\"Nilai yang Anda masukkan lebih dari 100\");\n",
    "}"
   ]
  },
  {
   "cell_type": "markdown",
   "metadata": {},
   "source": [
    "#### Percobaan 2\n",
    "\n",
    "#### Waktu percobaan : 40 menit"
   ]
  },
  {
   "cell_type": "markdown",
   "metadata": {},
   "source": [
    "1. Perhatikan flowchart dibawah ini!\n",
    "\n",
    "![](images/02.png)\n",
    "\n",
    "> Flowchart tersebut digunakan untuk menghitung gaji bersih seseorang setelah dipotong pajak sesuai dengan kategorinya (pekerja dan pebisnis) dan besarnya penghasilan. "
   ]
  },
  {
   "cell_type": "markdown",
   "metadata": {},
   "source": [
    "2. Tambahkan library Scanner dan deklarasi Scanner\n",
    "\n",
    "3. Deklarasikan variabel kategori, penghasilan, gajiBersih, dan pajak\n",
    "\n",
    "    ![](images/05.png)"
   ]
  },
  {
   "cell_type": "code",
   "execution_count": 20,
   "metadata": {},
   "outputs": [
    {
     "name": "stdout",
     "output_type": "stream",
     "text": [
      "Masukkan kategori: pebisnis\n",
      "Masukkan besarnya penghasilan: 2000000\n"
     ]
    }
   ],
   "source": [
    "// Ketik kode di sini\n",
    "\n",
    "import java.util.Scanner;\n",
    "Scanner input = new Scanner(System.in);\n",
    "String kategori;\n",
    "int penghasilan, gajiBersih;\n",
    "double pajak = 0;\n",
    "\n",
    "System.out.print(\"Masukkan kategori: \");\n",
    "kategori = input.nextLine();\n",
    "System.out.print(\"Masukkan besarnya penghasilan: \");\n",
    "penghasilan = input.nextInt();"
   ]
  },
  {
   "cell_type": "markdown",
   "metadata": {},
   "source": [
    "4. Buatlah struktur pengecekan kondisi bersarang. Pengecekan pertama digunakan untuk mengecek kategori (pekerja atau pebisnis). Selanjutnya dilakukan pengecekan kedua untuk menentukan besarnya pajak berdasarkan penghasilan yang telah dimasukkan.Kemudian tambahkan kode program untuk menghitung gaji bersih yang diterima setelah dipotong pajak!\n",
    "\n",
    "    ![](images/06.png)"
   ]
  },
  {
   "cell_type": "code",
   "execution_count": 21,
   "metadata": {},
   "outputs": [
    {
     "name": "stdout",
     "output_type": "stream",
     "text": [
      "Gaji bersih yang Anda terima: 1700000\n"
     ]
    }
   ],
   "source": [
    "// Ketik kode di sini\n",
    "\n",
    "if(kategori.equalsIgnoreCase (\"pekerja\")){\n",
    "    if (penghasilan <= 2000000){\n",
    "        pajak = 0.1;\n",
    "    } else if (penghasilan <= 3000000){\n",
    "        pajak = 0.15; \n",
    "    } else {\n",
    "        pajak = 0.2;\n",
    "    }\n",
    "    gajiBersih = (int) (penghasilan - (penghasilan * pajak));\n",
    "    System.out.println(\"Gaji bersih yang Anda terima: \"+ gajiBersih);\n",
    "} else if(kategori.equalsIgnoreCase (\"pebisnis\")){\n",
    "    if (penghasilan <= 2500000){\n",
    "        pajak = 0.15;\n",
    "    } else if (penghasilan <= 3500000){\n",
    "        pajak = 0.2; \n",
    "    } else {\n",
    "        pajak = 0.25;\n",
    "    }\n",
    "    gajiBersih = (int) (penghasilan - (penghasilan * pajak));\n",
    "    System.out.println(\"Gaji bersih yang Anda terima: \"+ gajiBersih);\n",
    "} else {\n",
    "    System.out.println(\"Kategori yang Anda masukkan salah!\");\n",
    "}\n",
    "   "
   ]
  },
  {
   "cell_type": "markdown",
   "metadata": {},
   "source": [
    "5. Jalankan program di atas. Amati apa yang terjadi!"
   ]
  },
  {
   "cell_type": "markdown",
   "metadata": {},
   "source": [
    "> Penjelasan kode program percobaan 2\n",
    "\n",
    ">Program pada percobaan 2 bertujuan untuk menentukan gaji bersih dengan memilih kategori pekerja atau pebisnis dan memasukkan penghasilan (gaji kotor), kemudian program akan menentukan besaran pajak yang dikenakan berdasarkan jumlah penghasilan dan program akan mengeluarkan gaji bersih yang telah dikenakan pajak sebelumnya."
   ]
  },
  {
   "cell_type": "markdown",
   "metadata": {},
   "source": [
    "##### Pertanyaan\n",
    "\n",
    "1. Jalankan program dengan memasukkan kategori = pekerja dan penghasilan = 2048485. Amati apa yang terjadi! Mengapa angka di belakang koma tidak ditampilkan?\n",
    "\n",
    "2. Jelaskan fungsi dari (int) pada sintaks:\n",
    "```\n",
    "gajiBersih = (int) (penghasilan - (penghasilan * pajak));\n",
    "```\n",
    "\n",
    "3.\tJalankan program dengan memasukkan kategori = pebisnis dan penghasilan = 2000000. Amati apa yang terjadi! Apa kegunaan dari equalsIgnoreCase?\n",
    "\n",
    "4.\tUbah equalsIgnoreCase menjadi equals, kemudian jalankan program dengan memasukkan kategori = pebisnis dan penghasilan = 2000000. Amati apa yang terjadi! Mengapa hasilnya demikian? Apa kegunaan dari equals?\n",
    "\n",
    "#### Jawab\n",
    "\n",
    "1. Output gaji bersih pekerja adalah 1741212, angka dibelakang koma tidak ditampilkan karena output dari gajiBersih bertipe integer (int)\n",
    "2. Fungsi int pada sintaks tersebut adalah sebagai casting untuk operasi tersebut karena variabel pajak bertipe data double sehingga perlu melakukan casting ke integer\n",
    "3. Output gaji bersih pebisnis adalah 1700000, equalsIgnoreCase digunakan untuk menginputkan vaiabel (kategori) menggunakan huruf yang sama, namun besar kecilnya huruf tidak berpengaruh\n",
    "4. Hasilnya adalah sama seperti menggunakan equalsIgnoreCase karena pada saat menginputkan variabel (kategori) menggunakan huruf yang sama, besar kecilnya huruf sama namun jika ada salah satu atau beberapa huruf dengan ukuran berbeda, maka akan bernilai false. Pengubahan ada dibawah ini"
   ]
  },
  {
   "cell_type": "code",
   "execution_count": 61,
   "metadata": {},
   "outputs": [
    {
     "name": "stdout",
     "output_type": "stream",
     "text": [
      "Masukkan kategori: pebisnis\n",
      "Masukkan besarnya penghasilan: 2000000\n",
      "Gaji bersih yang Anda terima: 1700000\n"
     ]
    }
   ],
   "source": [
    "// Jawaban pertanyaan nomor 4\n",
    "\n",
    "import java.util.Scanner;\n",
    "Scanner input = new Scanner(System.in);\n",
    "String kategori;\n",
    "int penghasilan, gajiBersih;\n",
    "double pajak = 0;\n",
    "\n",
    "System.out.print(\"Masukkan kategori: \");\n",
    "kategori = input.nextLine();\n",
    "System.out.print(\"Masukkan besarnya penghasilan: \");\n",
    "penghasilan = input.nextInt();\n",
    "\n",
    "if(kategori.equals (\"pekerja\")){\n",
    "    if (penghasilan <= 2000000){\n",
    "        pajak = 0.1;\n",
    "    } else if (penghasilan <= 3000000){\n",
    "        pajak = 0.15; \n",
    "    } else {\n",
    "        pajak = 0.2;\n",
    "    }\n",
    "    gajiBersih = (int) (penghasilan - (penghasilan * pajak));\n",
    "    System.out.println(\"Gaji bersih yang Anda terima: \"+ gajiBersih);\n",
    "} else if(kategori.equals (\"pebisnis\")){\n",
    "    if (penghasilan <= 2500000){\n",
    "        pajak = 0.15;\n",
    "    } else if (penghasilan <= 3500000){\n",
    "        pajak = 0.2; \n",
    "    } else {\n",
    "        pajak = 0.25;\n",
    "    }\n",
    "    gajiBersih = (int) (penghasilan - (penghasilan * pajak));\n",
    "    System.out.println(\"Gaji bersih yang Anda terima: \"+ gajiBersih);\n",
    "} else {\n",
    "    System.out.println(\"Kategori yang Anda masukkan salah!\");\n",
    "}"
   ]
  },
  {
   "cell_type": "markdown",
   "metadata": {},
   "source": [
    "### Tugas\n",
    "\n",
    "#### Waktu pengerjaan Tugas: 140 menit\n",
    "\n",
    "1. Buatlah program kalkulator sederhana menggunakan bahasa pemrograman Java. User akan menginputkan dua buah bilangan riil dan satu buah operator aritmatika (+, -, *, atau /), kemudian program akan mengoperasikan dua bilangan tersebut dengan operator yang sesuai. Petunjuk: gunakan pernyataan switch-case.\n",
    "Contoh tampilan program:\n",
    "\n",
    "```\n",
    "Masukkan bilangan pertama: 2.5\n",
    "Masukkan operator (+, -, *, /): *\n",
    "Masukkan bilangan kedua: 4\n",
    "2.5 * 4.0 = 10.0\n",
    "\n",
    "```"
   ]
  },
  {
   "cell_type": "code",
   "execution_count": 62,
   "metadata": {},
   "outputs": [
    {
     "name": "stdout",
     "output_type": "stream",
     "text": [
      "Masukkan bilangan pertama: 9.5\n",
      "Masukkan operator (+, -, *, /): *\n",
      "Masukkan bilangan kedua: 4\n",
      "9.5 * 4.0 = 38.0\n"
     ]
    }
   ],
   "source": [
    "//ketik kode program dan lampirkan hasilnya disini\n",
    "\n",
    "import java.util.Scanner;\n",
    "Scanner input = new Scanner(System.in);\n",
    "double bil1, bil2, hasil;\n",
    "char operator;\n",
    "\n",
    "System.out.print(\"Masukkan bilangan pertama: \");\n",
    "bil1 = input.nextDouble();\n",
    "System.out.print(\"Masukkan operator (+, -, *, /): \");\n",
    "operator = input.next().charAt(0);\n",
    "System.out.print(\"Masukkan bilangan kedua: \");\n",
    "bil2 = input.nextDouble();\n",
    "\n",
    "switch (operator){\n",
    "    case '+':\n",
    "    hasil = bil1 + bil2;\n",
    "    System.out.println(bil1 + \" + \" + bil2 + \" = \" + hasil);\n",
    "    break;\n",
    "    case '-':\n",
    "    hasil = bil1 - bil2;\n",
    "    System.out.println(bil1 + \" - \" + bil2 + \" = \" + hasil);\n",
    "    break;\n",
    "    case '*':\n",
    "    hasil = bil1 * bil2;\n",
    "    System.out.println(bil1 + \" * \" + bil2 + \" = \" + hasil);\n",
    "    break;\n",
    "    case '/':\n",
    "    hasil = bil1 / bil2;\n",
    "    System.out.println(bil1 + \" / \" + bil2 + \" = \" + hasil);\n",
    "    break;\n",
    "    default:\n",
    "    System.out.println(\"Operatpr yang Anda masukkan salah\");\n",
    "}"
   ]
  },
  {
   "cell_type": "markdown",
   "metadata": {},
   "source": [
    "2. Dengan menggunakan tiga nilai yang mewakili panjang tiga sisi sebuah segitiga, tentukan apakah segitiga tersebut sama sisi (ketiga sisinya bernilai sama), sama kaki (kedua sisinya bernilai sama), atau sembarang (tidak ada sisi yang bernilai sama)! "
   ]
  },
  {
   "cell_type": "code",
   "execution_count": 60,
   "metadata": {},
   "outputs": [
    {
     "name": "stdout",
     "output_type": "stream",
     "text": [
      "Masukkan sisi pertama: 3\n",
      "Masukkan sisi kedua: 2\n",
      "Masukkan sisi ketiga: 3\n",
      "=-=-=-=-=-=-=-=-=-=-=-=-=-=-=\n",
      "Merupakan Segitiga Sama Kaki\n"
     ]
    }
   ],
   "source": [
    "//ketik kode program dan lampirkan hasilnya disini\n",
    "\n",
    "import java.util.Scanner;\n",
    "Scanner input = new Scanner(System.in);\n",
    "int ss1, ss2, ss3;\n",
    "\n",
    "System.out.print(\"Masukkan sisi pertama: \");\n",
    "ss1 = input.nextInt();\n",
    "System.out.print(\"Masukkan sisi kedua: \");\n",
    "ss2 = input.nextInt();\n",
    "System.out.print(\"Masukkan sisi ketiga: \");\n",
    "ss3 = input.nextInt();\n",
    "\n",
    "System.out.println(\"=-=-=-=-=-=-=-=-=-=-=-=-=-=-=\");\n",
    "\n",
    "if((ss1 == ss2 && ss2 == ss3)||(ss2 == ss3 && ss3 == ss1)||(ss3 == ss1 && ss1 == ss2)){\n",
    "    System.out.println(\"Merupakan Segitiga Sama Sisi\");\n",
    "} else if ((ss1 != ss2 && ss2 == ss3)||(ss2 != ss3 && ss3 == ss1)||(ss3 != ss1 && ss1 == ss2)){\n",
    "    System.out.println(\"Merupakan Segitiga Sama Kaki\");\n",
    "} else if ((ss1 != ss2 && ss2 != ss3)||(ss2 != ss3 && ss3 != ss1)||(ss3 != ss1 && ss1 != ss2)){\n",
    "    System.out.println(\"Merupakan Segitiga Sembarang\");\n",
    "} else {\n",
    "    \n",
    "}"
   ]
  },
  {
   "cell_type": "markdown",
   "metadata": {},
   "source": [
    "#### 3. Warung Padang Gembira meminta Anda membuat sebuah program untuk menerima pesanan dari internet. Program yang Anda buat meminta user untuk memasukkan nama makanan dan harga. Setelah itu, user ditawarkan untuk menggunakan pengiriman ekspres. Jika pengguna menolak, maka jenis pengiriman yang digunakan adalah pengiriman reguler. Biaya pengiriman reguler untuk harga makanan kurang dari Rp 100.000 adalah Rp 20.000, sedangkan untuk harga makanan sama dengan atau lebih dari Rp 100.000 biaya pengirimannya adalah Rp 30.000. Untuk jenis pengiriman ekspres, tambahkan biaya tambahan sebesar Rp 25.000 dari standar biaya pengiriman reguler. Tampilkan struk yang berisi nama makanan yang dibeli + harga, biaya pengiriman, dan total yang harus dibayar!\n",
    "Contoh hasil output program:\n",
    "\n",
    "```\n",
    "Masukkan nama makanan: Tuna salad\n",
    "Masukkan harga makanan: Rp 115000\n",
    "Apakah Anda ingin pengiriman ekspres (0 = tidak, 1 = ya)? 0\n",
    "\n",
    "STRUK PEMBELIAN\n",
    "Tuna salad        Rp 115000\n",
    "Biaya pengiriman  Rp 30000\n",
    "TOTAL             Rp 145000\n",
    "\n",
    "```\n",
    "\n",
    "```\n",
    "Masukkan nama makanan: Beef bulgogi\n",
    "Masukkan harga makanan: Rp 78000\n",
    "Apakah Anda ingin pengiriman ekspres (0 = tidak, 1 = ya)? 1\n",
    "\n",
    "STRUK PEMBELIAN\n",
    "Beef bulgogi      Rp 115000\n",
    "Biaya pengiriman  Rp 45000\n",
    "TOTAL             Rp 123000\n",
    "\n",
    "```\n",
    "\n"
   ]
  },
  {
   "cell_type": "code",
   "execution_count": 73,
   "metadata": {},
   "outputs": [
    {
     "name": "stdout",
     "output_type": "stream",
     "text": [
      "Masukkan Nama Makanan : Pizza Premium\n",
      "Masukkan Harga Makanan : 245000\n",
      "Apakah Anda Ingin Pengiriman Expres ?(0 = tidak, 1 = ya): 1\n",
      "\n",
      "=-=-= Struk Pembelian =-=-=\n",
      "Pizza Premium\t : Rp. 245000\n",
      "Biaya pengiriman : Rp. 55000\n",
      "TOTAL\t\t : Rp. 300000\n"
     ]
    }
   ],
   "source": [
    "//ketik kode program dan lampirkan hasilnya disini\n",
    "import java.util.Scanner;\n",
    "Scanner sc = new Scanner(System.in);\n",
    "int harga, total, pemilihan, biayaKirim, ekspres = 25000;\n",
    "String nama;\n",
    "\n",
    "System.out.print(\"Masukkan Nama Makanan : \");\n",
    "nama = sc.nextLine();\n",
    "System.out.print(\"Masukkan Harga Makanan : \");\n",
    "harga = sc.nextInt();\n",
    "System.out.print(\"Apakah Anda Ingin Pengiriman Expres ?(0 = tidak, 1 = ya): \");\n",
    "pemilihan = sc.nextInt();\n",
    "\n",
    "System.out.println(\"\");\n",
    "System.out.println(\"=-=-= Struk Pembelian =-=-=\");\n",
    "System.out.println(nama + \"\\t : Rp. \"+harga);\n",
    "\n",
    "if(pemilihan == 0){\n",
    "    if(harga >= 100000){\n",
    "        biayaKirim = 30000;   \n",
    "    } else{\n",
    "        biayaKirim = 20000;\n",
    "    }\n",
    "    System.out.println(\"Biaya pengiriman : Rp. \"+biayaKirim);\n",
    "\n",
    "}else if(pemilihan == 1){\n",
    "    if(harga >= 100000){\n",
    "        biayaKirim = 55000;   \n",
    "    } else{\n",
    "        biayaKirim = 45000;\n",
    "    }\n",
    "    System.out.println(\"Biaya pengiriman : Rp. \"+biayaKirim);\n",
    "}\n",
    "total = harga + biayaKirim;\n",
    "System.out.println(\"TOTAL\\t\\t : Rp. \"+total);\n",
    "\n",
    "\n"
   ]
  },
  {
   "cell_type": "markdown",
   "metadata": {},
   "source": [
    "4. Perhatikan flowchart berikut ini!\n",
    "\n",
    "![](images/01.png)\n",
    "\n",
    "> Buatlah program sesuai dengan flowchart diatas!"
   ]
  },
  {
   "cell_type": "code",
   "execution_count": 90,
   "metadata": {},
   "outputs": [
    {
     "name": "stdout",
     "output_type": "stream",
     "text": [
      "Masukkan Umur : 19\n",
      "Masukkan Status Bekerja (0 = tidak, 1 = ya): 1\n",
      "Masukkan Pendapatan Perbulan : 5000000\n",
      "Masukkan Jumlah Tanggungan : 4\n",
      "=-=-=-=-=-=-=-=-=-=-=-=-=-=\n",
      "Biaya Hidup Sebesar : 1250000\n",
      "Bukan Merupakan Penduduk Miskin"
     ]
    }
   ],
   "source": [
    "//ketik kode program dan lampirkan hasilnya disini\n",
    "import java.util.Scanner;\n",
    "Scanner sc = new Scanner(System.in);\n",
    "int umur, pendapatan, tanggungan, biayaHidup, status;\n",
    "\n",
    "System.out.print(\"Masukkan Umur : \");\n",
    "umur = sc.nextInt();\n",
    "\n",
    "if(umur>18){\n",
    "    System.out.print(\"Masukkan Status Bekerja (0 = tidak, 1 = ya): \");\n",
    "    status = sc.nextInt();\n",
    "        if(status == 1){\n",
    "            System.out.print(\"Masukkan Pendapatan Perbulan : \");\n",
    "            pendapatan = sc.nextInt();\n",
    "            System.out.print(\"Masukkan Jumlah Tanggungan : \");\n",
    "            tanggungan = sc.nextInt();\n",
    "        \n",
    "            System.out.println(\"=-=-=-=-=-=-=-=-=-=-=-=-=-=\");\n",
    "            biayaHidup = pendapatan / tanggungan;\n",
    "            System.out.println(\"Biaya Hidup Sebesar : \"+biayaHidup);\n",
    "            if(biayaHidup <300000){\n",
    "                System.out.print(\"Merupakan Penduduk Miskin\");\n",
    "            }else{\n",
    "                System.out.print(\"Bukan Merupakan Penduduk Miskin\");\n",
    "            }\n",
    "            \n",
    "        }else if(status == 0){\n",
    "            System.out.print(\"Merupakan Penduduk Miskin\");\n",
    "        }\n",
    "}else{\n",
    "    System.out.print(\"Masukkan Status Sekolah (0 = tidak, 1 = ya): \");\n",
    "    status = sc.nextInt();\n",
    "        if(status == 1){\n",
    "            System.out.print(\"Bukan Penduduk Miskin\");\n",
    "\n",
    "        }else if(status == 0){\n",
    "            System.out.print(\"Penduduk Miskin\");\n",
    "        }\n",
    "}"
   ]
  },
  {
   "cell_type": "code",
   "execution_count": null,
   "metadata": {},
   "outputs": [],
   "source": []
  }
 ],
 "metadata": {
  "kernelspec": {
   "display_name": "Java",
   "language": "java",
   "name": "java"
  },
  "language_info": {
   "codemirror_mode": "java",
   "file_extension": ".jshell",
   "mimetype": "text/x-java-source",
   "name": "Java",
   "pygments_lexer": "java",
   "version": "11.0.12+8-LTS-237"
  },
  "nteract": {
   "version": "nteract-on-jupyter@2.1.3"
  }
 },
 "nbformat": 4,
 "nbformat_minor": 1
}
