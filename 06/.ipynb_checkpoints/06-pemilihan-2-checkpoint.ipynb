{
 "cells": [
  {
   "cell_type": "markdown",
   "metadata": {
    "collapsed": true
   },
   "source": [
    "## NIM : 2131710030\n",
    "\n",
    "## NAMA: NAFIATUL FADLILAH\n",
    "\n",
    "\n",
    "\n",
    "## JOBSHEET 6\n",
    "\n",
    "## PEMILIHAN 2\n",
    "\n",
    "### Tujuan\n",
    "\n",
    "Mahasiswa memahami tentang operator logika; Mahasiswa mampu menyelesaikan permasalahan dengan menggunakan sintaks pemilihan bersarang; Mahasiswa mampu membuat sebuah program Java yang memanfaatkan sintaks pemilihan bersarang\n",
    "\n",
    "\n",
    "### Alat dan Bahan\n",
    "+ PC/laptop\n",
    "+ Browser(chrome, firefox, safari)\n",
    "+ Koneksi internet\n",
    "\n",
    "### Praktikum\n",
    "\n",
    "#### Percobaan 1\n",
    "\n",
    "#### Waktu percobaan : 40 menit\n",
    "\n",
    "1. Tambahkan library Scanner, deklarasi Scanner\n",
    "\n",
    "2. Buatlah variabel nilai yang memiliki tipe data int untuk menampung data yang diinput melalui keyboard\n",
    "\n",
    "    ![](images/03.png)"
   ]
  },
  {
   "cell_type": "code",
   "execution_count": 1,
   "metadata": {},
   "outputs": [
    {
     "name": "stdout",
     "output_type": "stream",
     "text": [
      "Masukkan nilai ujian (0-100): 90\n"
     ]
    }
   ],
   "source": [
    "import java.util.Scanner;\n",
    "Scanner input = new Scanner(System.in);\n",
    "int nilai;\n",
    "System.out.print(\"Masukkan nilai ujian (0-100): \");\n",
    "nilai = input.nextInt();"
   ]
  },
  {
   "cell_type": "markdown",
   "metadata": {},
   "source": [
    "3. Buatlah struktur pengecekan kondisi bersarang. Pengecekan pertama digunakan untuk memastikan bahwa nilai yang dimasukkan berada pada rentang 0 – 100. Jika nilai berada pada rentang 0 – 100, maka akan dilakukan pengecekan status kelulusan mahasiswa, yaitu jika nilai di antara 90 – 100 maka nilainya A, jika nilai di antara 80 – 89 maka nilainya B, jika nilai di antara 60 – 79 maka nilainya C, jika nilai di antara 50 – 59 maka nilainya D, dan jika nilai di antara 0 – 49 maka nilainya E. Sedangkan jika nilai berada di luar rentang 0 – 100, maka ditampilkan informasi bahwa nilai yang dimasukkan tidak valid.\n",
    "\n",
    "    ![](images/04.png)"
   ]
  },
  {
   "cell_type": "code",
   "execution_count": 2,
   "metadata": {},
   "outputs": [
    {
     "name": "stdout",
     "output_type": "stream",
     "text": [
      "Masukkan nilai ujian (0-100): 90\n",
      "Nilai A, EXCELLENT!\n"
     ]
    }
   ],
   "source": [
    "import java.util.Scanner;\n",
    "Scanner input = new Scanner(System.in);\n",
    "int nilai;\n",
    "System.out.print(\"Masukkan nilai ujian (0-100): \");\n",
    "nilai = input.nextInt();\n",
    "\n",
    "if(nilai >= 0 && nilai <= 100){\n",
    "    if(nilai >= 90 && nilai <= 100){\n",
    "        System.out.println(\"Nilai A, EXCELLENT!\");\n",
    "    } else if (nilai >= 80 && nilai <= 89){\n",
    "        System.out.println(\"Nilai B, Pertahankan prestasi Anda!\");\n",
    "    } else if (nilai >= 60 && nilai <= 79){\n",
    "        System.out.println(\"Nilai C, Tingkatkan prestasi Anda!\");\n",
    "    } else if (nilai >= 50 && nilai <= 59){\n",
    "        System.out.println(\"Nilai D, Tingkatkan belajar Anda!\");\n",
    "    } else {\n",
    "        System.out.println(\"Nilai E, Anda tidak lulus!\");\n",
    "    }\n",
    "} else {\n",
    "   System.out.println(\"Nilai yang Anda masukkan tidak valid!\"); \n",
    "}"
   ]
  },
  {
   "cell_type": "markdown",
   "metadata": {},
   "source": [
    "> Penjelasan kode program percobaan 1"
   ]
  },
  {
   "cell_type": "markdown",
   "metadata": {},
   "source": [
    "##### Pertanyaan\n",
    "\n",
    "1. Modifikasi kode program pada Percobaan 1 sehingga jika nilai yang dimasukkan kurang dari 0 akan ditampilkan output “Nilai yang Anda masukkan kurang dari 0” dan jika nilai yang dimasukkan lebih dari 100 akan ditampilkan output “Nilai yang Anda masukkan lebih dari 100”!\n",
    "\n",
    "2. Jelaskan fungsi sintaks if (nilai >= 0 && nilai <= 100)!\n",
    "\n",
    "3. Ubah operator && menjadi || pada sintaks if (nilai >= 0 && nilai <= 100). Jalankan program dengan memasukkan nilai = 105. Amati apa yang terjadi! Mengapa hasilnya demikian?\n",
    "\n",
    "##### Jawab\n",
    "2. Fungsi sintaks tersebut yaitu untuk menyeleksi kondisi nilai dimana nilai tersebut bernilai lebih dari sama dengan nol namun kurang dari sama dengan 100. Jadi, nilai yang akan diseleksi dalam kondisi tersebut yaitu 0,1,2,....,100.\n",
    "\n",
    "3. Karena operator yang digunakan adalah OR. Jadi, syarat nilai yang dieksekusi tidak harus nilai yang lebih dari sama dengan 0 dan kurang dari sama dengan 100, namun boleh salah satunya. Maka dari itu, nilai yang akan dieksekusi cukup memenuhi salah satu dari kedua pernyataan kondisi tersebut. Dalam hal ini, meskipun pernyataan kedua bernilai Salah karena inputan bernilai 105 dimana tidak sesuai dengan pernyataan kedua (<=100), namun pernyataan pertama bernilai Benar, maka hasilnya tetap Benar jadi nilai 105 tetap dieksekusi. "
   ]
  },
  {
   "cell_type": "code",
   "execution_count": 3,
   "metadata": {},
   "outputs": [
    {
     "name": "stdout",
     "output_type": "stream",
     "text": [
      "Masukkan nilai ujian (0-100): -20\n",
      "Nilai yang Anda masukkan kurang dari 0\n"
     ]
    }
   ],
   "source": [
    "//Jawaban nomor 1\n",
    "import java.util.Scanner;\n",
    "Scanner input = new Scanner(System.in);\n",
    "int nilai;\n",
    "System.out.print(\"Masukkan nilai ujian (0-100): \");\n",
    "nilai = input.nextInt();\n",
    "\n",
    "if (nilai <= 0 || nilai <= 100){\n",
    "    if (nilai >= 90 && nilai <= 100){\n",
    "        System.out.println(\"Nilai A, EXCELLENT!\");\n",
    "    } else if (nilai >= 80 && nilai <= 89){\n",
    "        System.out.println(\"Nilai B, Pertahankan prestasi Anda!\");\n",
    "    } else if (nilai >= 60 && nilai <= 79){\n",
    "        System.out.println(\"Nilai C, Tingkatkan prestasi Anda!\");\n",
    "    } else if (nilai >= 50 && nilai <= 59){\n",
    "        System.out.println(\"Nilai D, Tingkatkan belajar Anda!\");\n",
    "    } else if (nilai >= 0 && nilai <= 49){\n",
    "        System.out.println(\"Nilai E, Anda tidak lulus!\");\n",
    "    } else {\n",
    "        System.out.println(\"Nilai yang Anda masukkan kurang dari 0\");\n",
    "    }\n",
    "} else {\n",
    "   System.out.println(\"Nilai yang Anda masukkan lebih dari 100\"); \n",
    "}"
   ]
  },
  {
   "cell_type": "code",
   "execution_count": 4,
   "metadata": {},
   "outputs": [
    {
     "name": "stdout",
     "output_type": "stream",
     "text": [
      "Masukkan nilai ujian (0-100): 105\n",
      "Nilai E, Anda tidak lulus!\n"
     ]
    }
   ],
   "source": [
    "//Jawaban nomor 2\n",
    "import java.util.Scanner;\n",
    "Scanner input = new Scanner(System.in);\n",
    "int nilai;\n",
    "System.out.print(\"Masukkan nilai ujian (0-100): \");\n",
    "nilai = input.nextInt();\n",
    "\n",
    "if(nilai >= 0 || nilai <= 100){\n",
    "    if(nilai >= 90 && nilai <= 100){\n",
    "        System.out.println(\"Nilai A, EXCELLENT!\");\n",
    "    } else if (nilai >= 80 && nilai <= 89){\n",
    "        System.out.println(\"Nilai B, Pertahankan prestasi Anda!\");\n",
    "    } else if (nilai >= 60 && nilai <= 79){\n",
    "        System.out.println(\"Nilai C, Tingkatkan prestasi Anda!\");\n",
    "    } else if (nilai >= 50 && nilai <= 59){\n",
    "        System.out.println(\"Nilai D, Tingkatkan belajar Anda!\");\n",
    "    } else {\n",
    "        System.out.println(\"Nilai E, Anda tidak lulus!\");\n",
    "    }\n",
    "} else {\n",
    "   System.out.println(\"Nilai yang Anda masukkan tidak valid!\"); \n",
    "}"
   ]
  },
  {
   "cell_type": "markdown",
   "metadata": {},
   "source": [
    "#### Percobaan 2\n",
    "\n",
    "#### Waktu percobaan : 40 menit"
   ]
  },
  {
   "cell_type": "markdown",
   "metadata": {},
   "source": [
    "1. Perhatikan flowchart dibawah ini!\n",
    "\n",
    "![](images/02.png)\n",
    "\n",
    "> Flowchart tersebut digunakan untuk menghitung gaji bersih seseorang setelah dipotong pajak sesuai dengan kategorinya (pekerja dan pebisnis) dan besarnya penghasilan. "
   ]
  },
  {
   "cell_type": "markdown",
   "metadata": {},
   "source": [
    "2. Tambahkan library Scanner dan deklarasi Scanner\n",
    "\n",
    "3. Deklarasikan variabel kategori, penghasilan, gajiBersih, dan pajak\n",
    "\n",
    "    ![](images/05.png)"
   ]
  },
  {
   "cell_type": "code",
   "execution_count": 5,
   "metadata": {},
   "outputs": [
    {
     "name": "stdout",
     "output_type": "stream",
     "text": [
      "Masukkan kategori: pekerja\n",
      "Masukkan besarnya penghasilan: 2000000\n"
     ]
    }
   ],
   "source": [
    "import java.util.Scanner;\n",
    "Scanner input = new Scanner(System.in);\n",
    "String kategori;\n",
    "int penghasilan, gajiBersih;\n",
    "double pajak = 0;\n",
    "    \n",
    "System.out.print(\"Masukkan kategori: \");\n",
    "kategori = input.nextLine();\n",
    "System.out.print(\"Masukkan besarnya penghasilan: \");\n",
    "penghasilan = input.nextInt();"
   ]
  },
  {
   "cell_type": "markdown",
   "metadata": {},
   "source": [
    "4. Buatlah struktur pengecekan kondisi bersarang. Pengecekan pertama digunakan untuk mengecek kategori (pekerja atau pebisnis). Selanjutnya dilakukan pengecekan kedua untuk menentukan besarnya pajak berdasarkan penghasilan yang telah dimasukkan.Kemudian tambahkan kode program untuk menghitung gaji bersih yang diterima setelah dipotong pajak!\n",
    "\n",
    "    ![](images/06.png)"
   ]
  },
  {
   "cell_type": "code",
   "execution_count": 6,
   "metadata": {},
   "outputs": [
    {
     "name": "stdout",
     "output_type": "stream",
     "text": [
      "Masukkan kategori: pekerja\n",
      "Masukkan besarnya penghasilan: 2000000\n",
      "Gaji bersih yang Anda terima: 1800000\n"
     ]
    }
   ],
   "source": [
    "import java.util.Scanner;\n",
    "Scanner input = new Scanner(System.in);\n",
    "String kategori;\n",
    "int penghasilan, gajiBersih;\n",
    "double pajak = 0;\n",
    "    \n",
    "System.out.print(\"Masukkan kategori: \");\n",
    "kategori = input.nextLine();\n",
    "System.out.print(\"Masukkan besarnya penghasilan: \");\n",
    "penghasilan = input.nextInt();\n",
    "\n",
    "if(kategori.equalsIgnoreCase(\"pekerja\")){\n",
    "    if (penghasilan <= 2000000){\n",
    "        pajak = 0.1;\n",
    "    } else if (penghasilan <= 3000000){\n",
    "        pajak = 0.15;\n",
    "    } else {\n",
    "        pajak = 0.2;\n",
    "    }\n",
    "    gajiBersih = (int) (penghasilan - (penghasilan * pajak));\n",
    "    System.out.println(\"Gaji bersih yang Anda terima: \" + gajiBersih);\n",
    "    \n",
    "} else if (kategori.equalsIgnoreCase (\"pebisnis\")){\n",
    "    if (penghasilan <= 2500000){\n",
    "        pajak = 0.15;\n",
    "    } else if (penghasilan <= 3500000){\n",
    "        pajak = 0.2;\n",
    "    } else {\n",
    "        pajak = 0.25;\n",
    "    } \n",
    "    gajiBersih = (int) (penghasilan - (penghasilan * pajak));\n",
    "    System.out.println(\"Gaji bersih yang Anda terima: \" +gajiBersih);\n",
    "} else {\n",
    "    System.out.println(\"Kategori yang Anda masukkan salah!\");\n",
    "}"
   ]
  },
  {
   "cell_type": "markdown",
   "metadata": {},
   "source": [
    "5. Jalankan program di atas. Amati apa yang terjadi!"
   ]
  },
  {
   "cell_type": "markdown",
   "metadata": {},
   "source": [
    "> Penjelasan kode program percobaan 2"
   ]
  },
  {
   "cell_type": "markdown",
   "metadata": {},
   "source": [
    "##### Pertanyaan\n",
    "\n",
    "1. Jalankan program dengan memasukkan kategori = pekerja dan penghasilan = 2048485. Amati apa yang terjadi! Mengapa angka di belakang koma tidak ditampilkan?\n",
    "\n",
    "2. Jelaskan fungsi dari (int) pada sintaks:\n",
    "```\n",
    "gajiBersih = (int) (penghasilan - (penghasilan * pajak));\n",
    "```\n",
    "\n",
    "3.\tJalankan program dengan memasukkan kategori = pebisnis dan penghasilan = 2000000. Amati apa yang terjadi! Apa kegunaan dari equalsIgnoreCase?\n",
    "\n",
    "4.\tUbah equalsIgnoreCase menjadi equals, kemudian jalankan program dengan memasukkan kategori = pebisnis dan penghasilan = 2000000. Amati apa yang terjadi! Mengapa hasilnya demikian? Apa kegunaan dari equals?\n",
    "\n",
    "##### Jawaban\n",
    "2. Fungsi dari sintaks tersebut yaitu untuk melakukan narrowing casting, agar hasil yang ditampilkan tidak dalam bentuk pecahan. Karena tipe data dari variabel pajak adalah double. Maka, agar hasilnya bilangan bulat maka dilakukan casting manual dari double ke int. \n",
    "3. Program berjalan normal. Fungsi dari sintaks equalsIgnoreCase adalah untuk mengabaikan perbedaan huruf besar dan kecil. Sehingga ketika inputan dibandingkan dengan pernyataan pada kondisi, inputan akan tetap bisa dieksekusi meskipun besar kecilnya huruf berbeda, asal nilainya sama. \n",
    "4. Hasilnya tetap sama, karena nilai inputan sama dengan nilai yang didefinisikan di kondisi. Mulai dari nilainya yaitu sama-sama pebisnis, hingga penulisannya sama-sama menggunakan huruf kecil. Jadi, program bisa tetap dijalankan. Fungsi dari sintaks equals yakni untuk membandingkan inputan dengan pernyataan di kondisi yang sangat sensitif antara perbedaan karakternya. Misalnya antara kedua nilai tersebut berbeda penulisan, yang diinputkan Pebisnis dan pernyataan di kondisi pebisnis. Maka, program tidak bisa dieksekusi.   "
   ]
  },
  {
   "cell_type": "code",
   "execution_count": 7,
   "metadata": {},
   "outputs": [
    {
     "name": "stdout",
     "output_type": "stream",
     "text": [
      "Masukkan kategori: pekerja\n",
      "Masukkan besarnya penghasilan: 2048485\n",
      "Gaji bersih yang Anda terima: 1741212\n"
     ]
    }
   ],
   "source": [
    "//Jawaban nomor 1\n",
    "import java.util.Scanner;\n",
    "Scanner input = new Scanner(System.in);\n",
    "String kategori;\n",
    "int penghasilan, gajiBersih;\n",
    "double pajak = 0;\n",
    "    \n",
    "System.out.print(\"Masukkan kategori: \");\n",
    "kategori = input.nextLine();\n",
    "System.out.print(\"Masukkan besarnya penghasilan: \");\n",
    "penghasilan = input.nextInt();\n",
    "\n",
    "if(kategori.equalsIgnoreCase(\"pekerja\")){\n",
    "    if (penghasilan <= 2000000){\n",
    "        pajak = 0.1;\n",
    "    } else if (penghasilan <= 3000000){\n",
    "        pajak = 0.15;\n",
    "    } else {\n",
    "        pajak = 0.2;\n",
    "    }\n",
    "    gajiBersih = (int) (penghasilan - (penghasilan * pajak));\n",
    "    System.out.println(\"Gaji bersih yang Anda terima: \" + gajiBersih);\n",
    "    \n",
    "} else if (kategori.equalsIgnoreCase (\"pebisnis\")){\n",
    "    if (penghasilan <= 2500000){\n",
    "        pajak = 0.15;\n",
    "    } else if (penghasilan <= 3500000){\n",
    "        pajak = 0.2;\n",
    "    } else {\n",
    "        pajak = 0.25;\n",
    "    } \n",
    "    gajiBersih = (int) (penghasilan - (penghasilan * pajak));\n",
    "    System.out.println(\"Gaji bersih yang Anda terima: \" +gajiBersih);\n",
    "} else {\n",
    "    System.out.println(\"Kategori yang Anda masukkan salah!\");\n",
    "}"
   ]
  },
  {
   "cell_type": "code",
   "execution_count": 8,
   "metadata": {},
   "outputs": [
    {
     "name": "stdout",
     "output_type": "stream",
     "text": [
      "Masukkan kategori: pebisnis\n",
      "Masukkan besarnya penghasilan: 2000000\n",
      "Gaji bersih yang Anda terima: 1700000\n"
     ]
    }
   ],
   "source": [
    "//Jawaban nomor 3\n",
    "import java.util.Scanner;\n",
    "Scanner input = new Scanner(System.in);\n",
    "String kategori;\n",
    "int penghasilan, gajiBersih;\n",
    "double pajak = 0;\n",
    "    \n",
    "System.out.print(\"Masukkan kategori: \");\n",
    "kategori = input.nextLine();\n",
    "System.out.print(\"Masukkan besarnya penghasilan: \");\n",
    "penghasilan = input.nextInt();\n",
    "\n",
    "if(kategori.equalsIgnoreCase(\"pekerja\")){\n",
    "    if (penghasilan <= 2000000){\n",
    "        pajak = 0.1;\n",
    "    } else if (penghasilan <= 3000000){\n",
    "        pajak = 0.15;\n",
    "    } else {\n",
    "        pajak = 0.2;\n",
    "    }\n",
    "    gajiBersih = (int) (penghasilan - (penghasilan * pajak));\n",
    "    System.out.println(\"Gaji bersih yang Anda terima: \" + gajiBersih);\n",
    "    \n",
    "} else if (kategori.equalsIgnoreCase(\"pebisnis\")){\n",
    "    if (penghasilan <= 2500000){\n",
    "        pajak = 0.15;\n",
    "    } else if (penghasilan <= 3500000){\n",
    "        pajak = 0.2;\n",
    "    } else {\n",
    "        pajak = 0.25;\n",
    "    } \n",
    "    gajiBersih = (int) (penghasilan - (penghasilan * pajak));\n",
    "    System.out.println(\"Gaji bersih yang Anda terima: \" +gajiBersih);\n",
    "} else {\n",
    "    System.out.println(\"Kategori yang Anda masukkan salah!\");\n",
    "}"
   ]
  },
  {
   "cell_type": "code",
   "execution_count": 9,
   "metadata": {},
   "outputs": [
    {
     "name": "stdout",
     "output_type": "stream",
     "text": [
      "Masukkan kategori: pebisnis\n",
      "Masukkan besarnya penghasilan: 2000000\n",
      "Gaji bersih yang Anda terima: 1700000\n"
     ]
    }
   ],
   "source": [
    "//jawaban nomor 4\n",
    "import java.util.Scanner;\n",
    "Scanner input = new Scanner(System.in);\n",
    "String kategori;\n",
    "int penghasilan, gajiBersih;\n",
    "double pajak = 0;\n",
    "    \n",
    "System.out.print(\"Masukkan kategori: \");\n",
    "kategori = input.nextLine();\n",
    "System.out.print(\"Masukkan besarnya penghasilan: \");\n",
    "penghasilan = input.nextInt();\n",
    "\n",
    "if(kategori.equalsIgnoreCase(\"pekerja\")){\n",
    "    if (penghasilan <= 2000000){\n",
    "        pajak = 0.1;\n",
    "    } else if (penghasilan <= 3000000){\n",
    "        pajak = 0.15;\n",
    "    } else {\n",
    "        pajak = 0.2;\n",
    "    }\n",
    "    gajiBersih = (int) (penghasilan - (penghasilan * pajak));\n",
    "    System.out.println(\"Gaji bersih yang Anda terima: \" + gajiBersih);\n",
    "    \n",
    "} else if (kategori.equals(\"pebisnis\")){\n",
    "    if (penghasilan <= 2500000){\n",
    "        pajak = 0.15;\n",
    "    } else if (penghasilan <= 3500000){\n",
    "        pajak = 0.2;\n",
    "    } else {\n",
    "        pajak = 0.25;\n",
    "    } \n",
    "    gajiBersih = (int) (penghasilan - (penghasilan * pajak));\n",
    "    System.out.println(\"Gaji bersih yang Anda terima: \" +gajiBersih);\n",
    "} else {\n",
    "    System.out.println(\"Kategori yang Anda masukkan salah!\");\n",
    "}"
   ]
  },
  {
   "cell_type": "markdown",
   "metadata": {},
   "source": [
    "### Tugas\n",
    "\n",
    "#### Waktu pengerjaan Tugas: 140 menit\n",
    "\n",
    "1. Buatlah program kalkulator sederhana menggunakan bahasa pemrograman Java. User akan menginputkan dua buah bilangan riil dan satu buah operator aritmatika (+, -, *, atau /), kemudian program akan mengoperasikan dua bilangan tersebut dengan operator yang sesuai. Petunjuk: gunakan pernyataan switch-case.\n",
    "Contoh tampilan program:\n",
    "\n",
    "```\n",
    "Masukkan bilangan pertama: 2.5\n",
    "Masukkan operator (+, -, *, /): *\n",
    "Masukkan bilangan kedua: 4\n",
    "2.5 * 4.0 = 10.0\n",
    "\n",
    "```"
   ]
  },
  {
   "cell_type": "code",
   "execution_count": 10,
   "metadata": {},
   "outputs": [
    {
     "name": "stdout",
     "output_type": "stream",
     "text": [
      "Masukkan bilangan pertama: 2.5\n",
      "Masukkan operator (+, -, *, /): *\n",
      "Masukkan bilangan kedua: 4\n",
      "2.5 * 4.0 = 10.0\n"
     ]
    }
   ],
   "source": [
    "import java.util.Scanner;\n",
    "Scanner sc = new Scanner(System.in);\n",
    "double angka1, angka2, hasil;\n",
    "char operator;\n",
    "\n",
    "System.out.print(\"Masukkan bilangan pertama: \");\n",
    "angka1 = sc.nextDouble();\n",
    "System.out.print(\"Masukkan operator (+, -, *, /): \");\n",
    "operator = sc.next().charAt(0);\n",
    "System.out.print(\"Masukkan bilangan kedua: \");\n",
    "angka2 = sc.nextDouble();\n",
    "\n",
    "switch(operator){\n",
    "    case '+':\n",
    "    hasil = angka1 + angka2;\n",
    "    System.out.println(angka1 + \" + \" + angka2 + \" = \" + hasil);\n",
    "    break;\n",
    "    case '-':\n",
    "    hasil = angka1 - angka2;\n",
    "    System.out.println(angka1 + \" - \" + angka2 + \" = \" + hasil);\n",
    "    break;\n",
    "    case '*':\n",
    "    hasil = angka1 * angka2;\n",
    "    System.out.println(angka1 + \" * \" + angka2 + \" = \" + hasil);\n",
    "    break;\n",
    "    case '/':\n",
    "    hasil = angka1 / angka2;\n",
    "    System.out.println(angka1 + \" /\" + angka2 + \" =\" + hasil);\n",
    "    break;    \n",
    "    default: \n",
    "    System.out.println(\"Operator yang Anda masukkan salah\");\n",
    "}"
   ]
  },
  {
   "cell_type": "markdown",
   "metadata": {},
   "source": [
    "2. Dengan menggunakan tiga nilai yang mewakili panjang tiga sisi sebuah segitiga, tentukan apakah segitiga tersebut sama sisi (ketiga sisinya bernilai sama), sama kaki (kedua sisinya bernilai sama), atau sembarang (tidak ada sisi yang bernilai sama)! "
   ]
  },
  {
   "cell_type": "code",
   "execution_count": 11,
   "metadata": {},
   "outputs": [
    {
     "name": "stdout",
     "output_type": "stream",
     "text": [
      "Masukkan sisi pertama: 2\n",
      "Masukkan sisi kedua: 2\n",
      "Masukkan sisi ketiga: 2\n",
      "Berdasarkan sisi yang dimasukkan segitiga tersebut tergolong segitiga sama sisi\n"
     ]
    }
   ],
   "source": [
    "import java.util.Scanner;\n",
    "Scanner input = new Scanner(System.in);\n",
    "double sisi1, sisi2, sisi3;\n",
    "\n",
    "System.out.print(\"Masukkan sisi pertama: \");\n",
    "sisi1 = input.nextDouble();\n",
    "System.out.print(\"Masukkan sisi kedua: \");\n",
    "sisi2 = input.nextDouble();\n",
    "System.out.print(\"Masukkan sisi ketiga: \");\n",
    "sisi3 = input.nextDouble();\n",
    "\n",
    "if (sisi1 == sisi2 && sisi2 == sisi3){\n",
    "    System.out.println(\"Berdasarkan sisi yang dimasukkan segitiga tersebut tergolong segitiga sama sisi\");\n",
    "} else if (sisi1 == sisi2 || sisi2 == sisi3 || sisi1 == sisi3){\n",
    "    System.out.println(\"Berdasarkan sisi yang dimasukkan segitiga tersebut tergolong segitiga sama kaki\");\n",
    "} else {\n",
    "    System.out.println(\"Berdasarkan sisi yang dimasukkan segitiga tersebut tergolong segitiga sembarang\");\n",
    "}"
   ]
  },
  {
   "cell_type": "markdown",
   "metadata": {},
   "source": [
    "3. Warung Padang Gembira meminta Anda membuat sebuah program untuk menerima pesanan dari internet. Program yang Anda buat meminta user untuk memasukkan nama makanan dan harga. Setelah itu, user ditawarkan untuk menggunakan pengiriman ekspres. Jika pengguna menolak, maka jenis pengiriman yang digunakan adalah pengiriman reguler. Biaya pengiriman reguler untuk harga makanan kurang dari Rp 100.000 adalah Rp 20.000, sedangkan untuk harga makanan sama dengan atau lebih dari Rp 100.000 biaya pengirimannya adalah Rp 30.000. Untuk jenis pengiriman ekspres, tambahkan biaya tambahan sebesar Rp 25.000 dari standar biaya pengiriman reguler. Tampilkan struk yang berisi nama makanan yang dibeli + harga, biaya pengiriman, dan total yang harus dibayar!\n",
    "Contoh hasil output program:\n",
    "\n",
    "```\n",
    "Masukkan nama makanan: Tuna salad\n",
    "Masukkan harga makanan: Rp 115000\n",
    "Apakah Anda ingin pengiriman ekspres (0 = tidak, 1 = ya)? 0\n",
    "\n",
    "STRUK PEMBELIAN\n",
    "Tuna salad        Rp 115000\n",
    "Biaya pengiriman  Rp 30000\n",
    "TOTAL             Rp 145000\n",
    "\n",
    "```\n",
    "\n",
    "```\n",
    "Masukkan nama makanan: Beef bulgogi\n",
    "Masukkan harga makanan: Rp 78000\n",
    "Apakah Anda ingin pengiriman ekspres (0 = tidak, 1 = ya)? 1\n",
    "\n",
    "STRUK PEMBELIAN\n",
    "Beef bulgogi      Rp 115000\n",
    "Biaya pengiriman  Rp 45000\n",
    "TOTAL             Rp 123000\n",
    "\n",
    "```\n",
    "\n"
   ]
  },
  {
   "cell_type": "code",
   "execution_count": 41,
   "metadata": {},
   "outputs": [
    {
     "name": "stdout",
     "output_type": "stream",
     "text": [
      "Masukkan nama makanan: Bulgogi\n",
      "Masukkan harga makanan: 90000\n",
      "Apakah Anda ingin pengiriman ekspres (0 = tidak, 1= ya)?: 0\n",
      "\n",
      "\n",
      "STRUK PEMBELIAN\n",
      "Bulgogi\t\t Rp 90000\n",
      "Biaya pengiriman  Rp 20000\n",
      "Total\t\tRp 110000\n",
      "\n",
      "Masukkan nama makanan: Tteokpokki\n",
      "Masukkan harga makanan: 120000\n",
      "Apakah Anda ingin pengiriman ekspres (0 = tidak, 1= ya)?: 1\n",
      "\n",
      "\n",
      "STRUK PEMBELIAN\n",
      "Tteokpokki\t Rp 120000\n",
      "Biaya pengiriman  Rp 55000\n",
      "Total\t\tRp 175000"
     ]
    }
   ],
   "source": [
    "import java.util.Scanner;\n",
    "Scanner input = new Scanner(System.in);\n",
    "String makanan, makanan2;\n",
    "int harga, ongkir, pengiriman, harga2, ongkir2, pengiriman2;\n",
    "double total, total2;\n",
    "\n",
    "System.out.print(\"Masukkan nama makanan: \");\n",
    "makanan = input.nextLine();\n",
    "System.out.print(\"Masukkan harga makanan: \");\n",
    "harga = input.nextInt();\n",
    "System.out.print(\"Apakah Anda ingin pengiriman ekspres (0 = tidak, 1= ya)?: \");\n",
    "pengiriman = input.nextInt();\n",
    "\n",
    "if (pengiriman == 1){\n",
    "    if (harga < 100000){\n",
    "        ongkir = 45000;\n",
    "        total = harga + ongkir;\n",
    "    } else {\n",
    "        ongkir = 55000;\n",
    "        total = harga + ongkir;\n",
    "    }\n",
    "} else {\n",
    "    if (harga < 100000){\n",
    "        ongkir = 20000;\n",
    "        total = harga + ongkir;\n",
    "    } else {\n",
    "        ongkir = 30000;\n",
    "        total = harga + ongkir;\n",
    "    }\n",
    "}\n",
    "\n",
    "System.out.print(\"\\n\\nSTRUK PEMBELIAN\");\n",
    "System.out.print(\"\\n\" + makanan + \"\\t\\t\" + \" Rp \" + harga);\n",
    "System.out.print(\"\\nBiaya pengiriman \" + \" Rp \" + ongkir);\n",
    "System.out.print(\"\\nTotal\\t\\t\" + \"Rp \" + (int) total);\n",
    "\n",
    "Scanner input = new Scanner(System.in);\n",
    "\n",
    "System.out.print(\"\\n\\nMasukkan nama makanan: \");\n",
    "makanan2 = input.nextLine();\n",
    "System.out.print(\"Masukkan harga makanan: \");\n",
    "harga2 = input.nextInt();\n",
    "System.out.print(\"Apakah Anda ingin pengiriman ekspres (0 = tidak, 1= ya)?: \");\n",
    "pengiriman2 = input.nextInt();\n",
    "\n",
    "if (pengiriman2 == 1){\n",
    "    if (harga2 < 100000){\n",
    "        ongkir2 = 45000;\n",
    "        total2 = harga2 + ongkir2;\n",
    "    } else {\n",
    "        ongkir2 = 55000;\n",
    "        total2 = harga2 + ongkir2;\n",
    "    }\n",
    "} else {\n",
    "    if (harga2 < 100000){\n",
    "        ongkir2 = 20000;\n",
    "        total2 = harga2 + ongkir2;\n",
    "    } else {\n",
    "        ongkir2 = 30000;\n",
    "        total2 = harga2 + ongkir2;\n",
    "    }\n",
    "}\n",
    "\n",
    "System.out.print(\"\\n\\nSTRUK PEMBELIAN\");\n",
    "System.out.print(\"\\n\" + makanan2 + \"\\t\" + \" Rp \" + harga2);\n",
    "System.out.print(\"\\nBiaya pengiriman \" + \" Rp \" + ongkir2);\n",
    "System.out.print(\"\\nTotal\\t\\t\" + \"Rp \" + (int) total2);"
   ]
  },
  {
   "cell_type": "markdown",
   "metadata": {},
   "source": [
    "4. Perhatikan flowchart berikut ini!\n",
    "\n",
    "![](images/01.png)\n",
    "\n",
    "> Buatlah program sesuai dengan flowchart diatas!"
   ]
  },
  {
   "cell_type": "code",
   "execution_count": 3,
   "metadata": {},
   "outputs": [
    {
     "name": "stdout",
     "output_type": "stream",
     "text": [
      "Masukkan umur Anda: 26\n",
      "Masukkan status bekerja anda (y / t): y\n",
      "Masukkan Pendapatan per bulan Anda: 300000\n",
      "Masukkan jumlah tanggungan Anda: 4\n",
      "Penduduk Miskin\n"
     ]
    }
   ],
   "source": [
    "import java.util.Scanner;\n",
    "Scanner sc = new Scanner(System.in);\n",
    "char status;\n",
    "int umur, pendapatan, tanggungan;\n",
    "double biayaHidup;\n",
    "\n",
    "System.out.print(\"Masukkan umur Anda: \");\n",
    "umur = input.nextInt();\n",
    "\n",
    "if(umur >= 18){\n",
    "    System.out.print(\"Masukkan status bekerja anda (y / t): \");\n",
    "    status = sc.next().charAt(0);{\n",
    "        if (status == 'y'){\n",
    "            System.out.print(\"Masukkan Pendapatan per bulan Anda: \");\n",
    "            pendapatan = input.nextInt();\n",
    "            System.out.print(\"Masukkan jumlah tanggungan Anda: \");\n",
    "            tanggungan = input.nextInt();\n",
    "            biayaHidup = pendapatan / tanggungan;{\n",
    "                if (biayaHidup <= 300000){\n",
    "                    System.out.println(\"Penduduk Miskin\");\n",
    "                } else {\n",
    "                    System.out.println(\"Bukan Penduduk Miskin\");\n",
    "                }\n",
    "            }\n",
    "        } else {\n",
    "            System.out.println(\"Penduduk Miskin\");\n",
    "        }\n",
    "    }\n",
    "} else {\n",
    "    System.out.print(\"Masukkan status sekolah anda (y / t): \");\n",
    "    status = sc.next().charAt(0);\n",
    "        if (status == 'y'){\n",
    "            System.out.println(\"Bukan Penduduk Miskin\");\n",
    "        } else {\n",
    "       System.out.println(\"Penduduk Miskin\"); \n",
    "    }\n",
    "\n",
    "}"
   ]
  }
 ],
 "metadata": {
  "kernelspec": {
   "display_name": "Java",
   "language": "java",
   "name": "java"
  },
  "language_info": {
   "codemirror_mode": "java",
   "file_extension": ".jshell",
   "mimetype": "text/x-java-source",
   "name": "Java",
   "pygments_lexer": "java",
   "version": "11.0.12+8-LTS-237"
  },
  "nteract": {
   "version": "nteract-on-jupyter@2.1.3"
  }
 },
 "nbformat": 4,
 "nbformat_minor": 1
}
