{
 "cells": [
  {
   "cell_type": "markdown",
   "metadata": {
    "collapsed": true
   },
   "source": [
    "## Nama: Nanda Shabrina Putri Kurnia\n",
    "## NIM: 2131710064\n",
    "## Absen: 14 / MI-1E\n",
    "\n",
    "\n",
    "### JOBSHEET 6\n",
    "\n",
    "### PEMILIHAN 2\n",
    "\n",
    "### Tujuan\n",
    "\n",
    "Mahasiswa memahami tentang operator logika; Mahasiswa mampu menyelesaikan permasalahan dengan menggunakan sintaks pemilihan bersarang; Mahasiswa mampu membuat sebuah program Java yang memanfaatkan sintaks pemilihan bersarang\n",
    "\n",
    "\n",
    "### Alat dan Bahan\n",
    "+ PC/laptop\n",
    "+ Browser(chrome, firefox, safari)\n",
    "+ Koneksi internet\n",
    "\n",
    "### Praktikum\n",
    "\n",
    "#### Percobaan 1\n",
    "\n",
    "#### Waktu percobaan : 40 menit\n",
    "\n",
    "1. Tambahkan library Scanner, deklarasi Scanner\n",
    "\n",
    "2. Buatlah variabel nilai yang memiliki tipe data int untuk menampung data yang diinput melalui keyboard\n",
    "\n",
    "    ![](images/03.png)"
   ]
  },
  {
   "cell_type": "code",
   "execution_count": 1,
   "metadata": {},
   "outputs": [
    {
     "name": "stdout",
     "output_type": "stream",
     "text": [
      "Masukkan nilai ujian (0-100): 95\n"
     ]
    }
   ],
   "source": [
    "// Ketik kode di sini\n",
    "import java.util.Scanner;\n",
    "Scanner input = new Scanner(System.in);\n",
    "int nilai;\n",
    "System.out.print(\"Masukkan nilai ujian (0-100): \");\n",
    "nilai = input.nextInt();"
   ]
  },
  {
   "cell_type": "markdown",
   "metadata": {},
   "source": [
    "3. Buatlah struktur pengecekan kondisi bersarang. Pengecekan pertama digunakan untuk memastikan bahwa nilai yang dimasukkan berada pada rentang 0 – 100. Jika nilai berada pada rentang 0 – 100, maka akan dilakukan pengecekan status kelulusan mahasiswa, yaitu jika nilai di antara 90 – 100 maka nilainya A, jika nilai di antara 80 – 89 maka nilainya B, jika nilai di antara 60 – 79 maka nilainya C, jika nilai di antara 50 – 59 maka nilainya D, dan jika nilai di antara 0 – 49 maka nilainya E. Sedangkan jika nilai berada di luar rentang 0 – 100, maka ditampilkan informasi bahwa nilai yang dimasukkan tidak valid.\n",
    "\n",
    "    ![](images/04.png)"
   ]
  },
  {
   "cell_type": "code",
   "execution_count": 2,
   "metadata": {},
   "outputs": [
    {
     "name": "stdout",
     "output_type": "stream",
     "text": [
      "Nilai A, EXCELLENT!\n"
     ]
    }
   ],
   "source": [
    "// Ketik kode di sini\n",
    "if(nilai >= 0 && nilai <= 100){ //mulai if terluar\n",
    "    if (nilai >= 90 && nilai <= 100){ //mulai nested if\n",
    "        System.out.println(\"Nilai A, EXCELLENT!\");\n",
    "    } else if (nilai >= 80 && nilai <= 89){\n",
    "        System.out.println(\"Nilai B, Pertahankan prestasi Anda!\");\n",
    "    } else if (nilai >= 60 && nilai <=79){\n",
    "        System.out.println(\"Nilai C, Tingkatkan prestasi Anda!\");\n",
    "    } else if (nilai >= 50 && nilai <= 59){\n",
    "        System.out.println(\"Nilai D, Tingkatkan belajar Anda!\");\n",
    "    } else {\n",
    "        System.out.println(\"Nilai E, Anda tidak lulus!\"); //akhir nested if\n",
    "    }\n",
    "} else {\n",
    "    System.out.println(\"Nilai yang Anda masukkan tidak valid!\"); //akhir if terluar\n",
    "}\n"
   ]
  },
  {
   "cell_type": "markdown",
   "metadata": {},
   "source": [
    "Penjelasan kode program percobaan 1\n",
    "\n",
    "Kode program tersebut menggunakan nested if atau pemilihan bersarang, dengan if terluar adalah //mulai if terluar sampai dengan //akhir if terluar dan if bersarang nya adalah //mulai nested if sampai dengan //akhir nested if. Nested if tersebut berfungsi untuk memilih output yang diinginkan melalui berbagai pilihan, seperti nilai A sampai dengan E. \n",
    "Pada kode tersebut digunakan pula operator logika AND (&&) yang mengevaluasi keseluruhan nilai, baik nilai sebelah kiri simbol (&&) maupun sebelah kanan simbol (&&), dievaluasi dari sebelah kiri - jika nilai sebelah kiri simbol bernilai TRUE, maka nilai sebelah kanan simbol akan dievaluasi kebenarannya, sedangkan jika nilai sebelah kiri simbol bernilai FALSE, maka nilai sebelah kanan simbol tidak akan dievaluasi dan dianggap FALSE."
   ]
  },
  {
   "cell_type": "markdown",
   "metadata": {},
   "source": [
    "##### Pertanyaan\n",
    "\n",
    "1. Modifikasi kode program pada Percobaan 1 sehingga jika nilai yang dimasukkan kurang dari 0 akan ditampilkan output “Nilai yang Anda masukkan kurang dari 0” dan jika nilai yang dimasukkan lebih dari 100 akan ditampilkan output “Nilai yang Anda masukkan lebih dari 100”!\n",
    "\n",
    "2. Jelaskan fungsi sintaks if (nilai >= 0 && nilai <= 100)!\n",
    "\n",
    "3. Ubah operator && menjadi || pada sintaks if (nilai >= 0 && nilai <= 100). Jalankan program dengan memasukkan nilai = 105. Amati apa yang terjadi! Mengapa hasilnya demikian?\n",
    "\n",
    "\n",
    "##### Jawaban\n",
    "1. Jawaban pertanyaan nomor satu berupa program kode seperti yang ada pada kernel di bawah ini.\n",
    "2. Fungsi sintaks tersebut adalah untuk mendefinisikan, memberi batasan, dan meng-initialization kan pemilihan nilai dari beberapa nested if yang ada di dalamnya, di mana nilai (misal x) lebih dari sama dengan 0 dan nilai (misal x) kurang dari sama dengan 100 ; 0 <= x <= 100.\n",
    "3. Jawaban pertanyaan nomor tiga berupa program kode seperti yang ada pada kernel di bawah ini.\n",
    "Berdasarkan modifikasi kode program tersebut, diketahui bahwa jika menginputkan nilai 105, maka outputnya adalah \"Nilai E, Anda tidak lulus!\". Hal tersebut dikarenakan operator logika OR yang menggantikan AND di kode tersebut hanya akan mengevaluasi nilai yang ada di sebelah kiri (>=0), sehingga output yang muncul adalah \"Nilai E, Anda tidak lulus!\" yang mana ada pada opsi terakhir else."
   ]
  },
  {
   "cell_type": "code",
   "execution_count": 3,
   "metadata": {
    "scrolled": true
   },
   "outputs": [
    {
     "name": "stdout",
     "output_type": "stream",
     "text": [
      "Masukkan nilai ujian: 105\n",
      "Nilai yang Anda masukkan lebih dari 100\n"
     ]
    }
   ],
   "source": [
    "// Jawaban pertanyaan nomor satu\n",
    "import java.util.Scanner;\n",
    "Scanner input = new Scanner(System.in);\n",
    "int nilai;\n",
    "System.out.print(\"Masukkan nilai ujian: \");\n",
    "nilai = input.nextInt();\n",
    "\n",
    "    if (nilai > 100){\n",
    "        System.out.println(\"Nilai yang Anda masukkan lebih dari 100\");\n",
    "    } else if (nilai >= 90 && nilai <= 100){\n",
    "        System.out.println(\"Nilai A, EXCELLENT!\");\n",
    "    } else if (nilai >= 80 && nilai <= 89){\n",
    "        System.out.println(\"Nilai B, Pertahankan prestasi Anda!\");\n",
    "    } else if (nilai >= 60 && nilai <=79){\n",
    "        System.out.println(\"Nilai C, Tingkatkan prestasi Anda!\");\n",
    "    } else if (nilai >= 50 && nilai <= 59){\n",
    "        System.out.println(\"Nilai D, Tingkatkan belajar Anda!\");\n",
    "    } else if (nilai >= 0 && nilai <= 49){\n",
    "        System.out.println(\"Nilai E, Anda tidak lulus!\");\n",
    "    } else if (nilai < 0){\n",
    "        System.out.println(\"Nilai yang Anda masukkan kurang dari 0\");\n",
    "}"
   ]
  },
  {
   "cell_type": "code",
   "execution_count": 4,
   "metadata": {},
   "outputs": [
    {
     "name": "stdout",
     "output_type": "stream",
     "text": [
      "Masukkan nilai ujian: 105\n",
      "Nilai E, Anda tidak lulus!\n"
     ]
    }
   ],
   "source": [
    "//jawaban pertanyaan nomor tiga\n",
    "import java.util.Scanner;\n",
    "Scanner input = new Scanner(System.in);\n",
    "int nilai;\n",
    "System.out.print(\"Masukkan nilai ujian: \");\n",
    "nilai = input.nextInt();\n",
    "\n",
    "if(nilai >= 0 || nilai <= 100){\n",
    "    if (nilai >= 90 && nilai <= 100){\n",
    "        System.out.println(\"Nilai A, EXCELLENT!\");\n",
    "    } else if (nilai >= 80 && nilai <= 89){\n",
    "        System.out.println(\"Nilai B, Pertahankan prestasi Anda!\");\n",
    "    } else if (nilai >= 60 && nilai <=79){\n",
    "        System.out.println(\"Nilai C, Tingkatkan prestasi Anda!\");\n",
    "    } else if (nilai >= 50 && nilai <= 59){\n",
    "        System.out.println(\"Nilai D, Tingkatkan belajar Anda!\");\n",
    "    } else {\n",
    "        System.out.println(\"Nilai E, Anda tidak lulus!\");\n",
    "    }\n",
    "} else {\n",
    "    System.out.println(\"Nilai yang Anda masukkan tidak valid!\");\n",
    "}"
   ]
  },
  {
   "cell_type": "markdown",
   "metadata": {},
   "source": [
    "#### Percobaan 2\n",
    "\n",
    "#### Waktu percobaan : 40 menit"
   ]
  },
  {
   "cell_type": "markdown",
   "metadata": {},
   "source": [
    "1. Perhatikan flowchart dibawah ini!\n",
    "\n",
    "![](images/02.png)\n",
    "\n",
    "> Flowchart tersebut digunakan untuk menghitung gaji bersih seseorang setelah dipotong pajak sesuai dengan kategorinya (pekerja dan pebisnis) dan besarnya penghasilan. "
   ]
  },
  {
   "cell_type": "markdown",
   "metadata": {},
   "source": [
    "2. Tambahkan library Scanner dan deklarasi Scanner\n",
    "\n",
    "3. Deklarasikan variabel kategori, penghasilan, gajiBersih, dan pajak\n",
    "\n",
    "    ![](images/05.png)"
   ]
  },
  {
   "cell_type": "code",
   "execution_count": 5,
   "metadata": {},
   "outputs": [
    {
     "name": "stdout",
     "output_type": "stream",
     "text": [
      "Masukkan kategori: pebisnis\n",
      "Masukkan besarnya penghasilan: 2000000\n"
     ]
    }
   ],
   "source": [
    "// Ketik kode di sini\n",
    "import java.util.Scanner;\n",
    "Scanner input = new Scanner(System.in);\n",
    "String kategori;\n",
    "int penghasilan, gajiBersih;\n",
    "double pajak = 0;\n",
    "\n",
    "System.out.print(\"Masukkan kategori: \");\n",
    "kategori = input.nextLine();\n",
    "System.out.print(\"Masukkan besarnya penghasilan: \");\n",
    "penghasilan = input.nextInt();"
   ]
  },
  {
   "cell_type": "markdown",
   "metadata": {},
   "source": [
    "4. Buatlah struktur pengecekan kondisi bersarang. Pengecekan pertama digunakan untuk mengecek kategori (pekerja atau pebisnis). Selanjutnya dilakukan pengecekan kedua untuk menentukan besarnya pajak berdasarkan penghasilan yang telah dimasukkan.Kemudian tambahkan kode program untuk menghitung gaji bersih yang diterima setelah dipotong pajak!\n",
    "\n",
    "    ![](images/06.png)"
   ]
  },
  {
   "cell_type": "code",
   "execution_count": 6,
   "metadata": {},
   "outputs": [
    {
     "name": "stdout",
     "output_type": "stream",
     "text": [
      "Gaji bersih yang Anda terima: 1700000\n"
     ]
    }
   ],
   "source": [
    "// Ketik kode di sini\n",
    "if (kategori.equals (\"pekerja\")){ //mulai if pertama\n",
    "    if (penghasilan <= 2000000){ //mulai if kedua untuk pekerja\n",
    "        pajak = 0.1;\n",
    "    } else if (penghasilan <= 3000000){\n",
    "        pajak = 0.15;\n",
    "    } else {\n",
    "        pajak = 0.2; //akhir if kedua untuk pekerja\n",
    "    }\n",
    "    gajiBersih = (int) (penghasilan - (penghasilan * pajak));\n",
    "    System.out.println(\"Gaji bersih yang Anda terima: \" + gajiBersih);\n",
    "    \n",
    "} else if (kategori.equals (\"pebisnis\")){ //else if pertama\n",
    "    if (penghasilan <= 2500000){ //mulai if ketiga untuk pebisnis\n",
    "        pajak = 0.15;\n",
    "    } else if (penghasilan <= 3500000){\n",
    "        pajak = 0.2;\n",
    "    } else {\n",
    "        pajak = 0.25; //akhir if ketiga untuk pebisnis\n",
    "    }\n",
    "    gajiBersih = (int) (penghasilan - (penghasilan * pajak));\n",
    "    System.out.println(\"Gaji bersih yang Anda terima: \" + gajiBersih);\n",
    "} else {\n",
    "    System.out.println(\"Kategori yang Anda masukkan salah!\"); //nilai default if pertama\n",
    "}"
   ]
  },
  {
   "cell_type": "markdown",
   "metadata": {},
   "source": [
    "5. Jalankan program di atas. Amati apa yang terjadi!"
   ]
  },
  {
   "cell_type": "markdown",
   "metadata": {},
   "source": [
    "> Penjelasan kode program percobaan 2\n",
    "\n",
    "Kode program pada percobaan nomor 2 menggunakan nested if, terdiri atas 3 tingkat, dengan tingkat pertama, kedua, dan ketiga seperti yang diterangkan melalui komentar. Kode program tersebut digunakan untuk menghitung gaji bersih dari seorang pekerja, di mana jenis pekerjaan tersebut dikategorikan menjadi 2, yakni pekerja dan pebisnis. Setelah memilih jenis pekerjaan, kemudian di dalamnya berisikan pilihan dan output yang diinginkan melalui nilai gaji yang telah diinputkan sebelumnya. Kemudian, di dalamnya juga berisikan kode rumus untuk menghitung total gaji bersih yang diterima setelah dipotong pajak yang sesuai. "
   ]
  },
  {
   "cell_type": "markdown",
   "metadata": {},
   "source": [
    "##### Pertanyaan\n",
    "\n",
    "1. Jalankan program dengan memasukkan kategori = pekerja dan penghasilan = 2048485. Amati apa yang terjadi! Mengapa angka di belakang koma tidak ditampilkan?\n",
    "\n",
    "2. Jelaskan fungsi dari (int) pada sintaks:\n",
    "```\n",
    "gajiBersih = (int) (penghasilan - (penghasilan * pajak));\n",
    "```\n",
    "\n",
    "3.\tJalankan program dengan memasukkan kategori = pebisnis dan penghasilan = 2000000. Amati apa yang terjadi! Apa kegunaan dari equalsIgnoreCase?\n",
    "\n",
    "4.\tUbah equalsIgnoreCase menjadi equals, kemudian jalankan program dengan memasukkan kategori = pebisnis dan penghasilan = 2000000. Amati apa yang terjadi! Mengapa hasilnya demikian? Apa kegunaan dari equals?\n",
    "\n"
   ]
  },
  {
   "cell_type": "markdown",
   "metadata": {},
   "source": [
    "Jawaban Pertanyaan\n",
    "1. Setelah memasukkan kategori dan penghasilan yang diinstruksikan, ketika dijalankan didapati bahwa hasil gaji bersih yang diterima adalah sesuai pada output di atas. Pada output tersebut, seharusnya terdapat angka di belakang koma namun tidak ditampilkan sebab penghasilan dideklarasikan dengan tipe data integer, di mana jika ingin mendapatkan output angka desimal perlu menggunakan tipe data double.\n",
    "2. Sintaks int pada ekspresi logika tersebut berfungsi untuk mendeklarasikan dan meng-initialization kan nilai yang diinput  supaya output yang dihasilkan bertipe data integer.\n",
    "3. Perintah equalsIsIgnoreCase berfungsi untuk membandingkan nilai, tanpa melihat ukuran atau kapitalisasi dari segi hurufnya, yang terpenting nilai yang diinputkan user, sama dengan nilai yang sebenarnya. Sehingga output yang dihasilkan akan tetap sama. Misalkan pada nama variabel dituliskan pebisnis namun ketika menginputkan menulis PEBISNIS, hal ini akan menghasilkan output yang sama karena telah menggunakan perintah equalsIsIgnoreCase.\n",
    "4. Ketika mengganti equalsIsIgnoreCase dengan equals, akan terlihat perbedaan ketika menginputkan \"Pebisnis\" sedangkan pada kode dideklarasikan sebagai \"pebisnis\". Hal ini menunjukkan bahwa equals juga berfungsi untuk membandingkan nilai, namun memperhatikan ukuran dan kapitalisasi huruf yang diinputkan. Sehingga hasil atau output yang dihasilkan tidak akan sama, dengan kata lain jika menginputkan nilai yang berbeda dengan yang dideklarasikan, outputnya berbeda."
   ]
  },
  {
   "cell_type": "markdown",
   "metadata": {},
   "source": [
    "### Tugas\n",
    "\n",
    "#### Waktu pengerjaan Tugas: 140 menit\n",
    "\n",
    "1. Buatlah program kalkulator sederhana menggunakan bahasa pemrograman Java. User akan menginputkan dua buah bilangan riil dan satu buah operator aritmatika (+, -, *, atau /), kemudian program akan mengoperasikan dua bilangan tersebut dengan operator yang sesuai. Petunjuk: gunakan pernyataan switch-case.\n",
    "Contoh tampilan program:\n",
    "\n",
    "```\n",
    "Masukkan bilangan pertama: 2.5\n",
    "Masukkan operator (+, -, *, /): *\n",
    "Masukkan bilangan kedua: 4\n",
    "2.5 * 4.0 = 10.0\n",
    "\n",
    "```"
   ]
  },
  {
   "cell_type": "code",
   "execution_count": 7,
   "metadata": {},
   "outputs": [
    {
     "name": "stdout",
     "output_type": "stream",
     "text": [
      "Masukkan angka pertama: 2.5\n",
      "Masukkan operator (+, -, *, /): *\n",
      "Masukkan angka kedua: 4\n",
      "2.5*4.0=10.0\n"
     ]
    }
   ],
   "source": [
    "//ketik kode program dan lampirkan hasilnya disini\n",
    "import java.util.Scanner;\n",
    "Scanner sc = new Scanner(System.in);\n",
    "double angka1, angka2, hasil;\n",
    "char operator;\n",
    "\n",
    "System.out.print(\"Masukkan angka pertama: \");\n",
    "angka1 = sc.nextDouble();\n",
    "System.out.print(\"Masukkan operator (+, -, *, /): \");\n",
    "operator = sc.next().charAt(0);\n",
    "System.out.print(\"Masukkan angka kedua: \");\n",
    "angka2 = sc.nextDouble();\n",
    "\n",
    "switch (operator){\n",
    "    case '+':\n",
    "    hasil = angka1 + angka2;\n",
    "    System.out.println(angka1 + \"+\" + angka2 + \"=\"  + hasil);\n",
    "    break;\n",
    "    case '-':\n",
    "    hasil = angka1 - angka2;\n",
    "    System.out.println(angka1 + \"-\" + angka2 + \"=\"  + hasil);\n",
    "    break;\n",
    "    case '*':\n",
    "    hasil = angka1 * angka2;\n",
    "    System.out.println(angka1 + \"*\" + angka2 + \"=\"  + hasil);\n",
    "    break;\n",
    "    case '/':\n",
    "    hasil = angka1 / angka2;\n",
    "    System.out.println(angka1 + \"/\" + angka2 + \"=\"  + hasil);\n",
    "    break;\n",
    "        \n",
    "    default:\n",
    "    System.out.println(\"Angka yang anda masukkan salah\");\n",
    "}"
   ]
  },
  {
   "cell_type": "markdown",
   "metadata": {},
   "source": [
    "2. Dengan menggunakan tiga nilai yang mewakili panjang tiga sisi sebuah segitiga, tentukan apakah segitiga tersebut sama sisi (ketiga sisinya bernilai sama), sama kaki (kedua sisinya bernilai sama), atau sembarang (tidak ada sisi yang bernilai sama)! "
   ]
  },
  {
   "cell_type": "code",
   "execution_count": 8,
   "metadata": {},
   "outputs": [
    {
     "name": "stdout",
     "output_type": "stream",
     "text": [
      "Masukkan sisi pertama: 12\n",
      "Masukkan sisi kedua: 13\n",
      "Masukkan sisi ketiga: 14\n",
      "Jenis segitiga tersebut adalah segitiga sembarang\n"
     ]
    }
   ],
   "source": [
    "//ketik kode program dan lampirkan hasilnya disini\n",
    "import java.util.Scanner;\n",
    "Scanner sc = new Scanner(System.in);\n",
    "int sisi1, sisi2, sisi3;\n",
    "\n",
    "System.out.print(\"Masukkan sisi pertama: \");\n",
    "sisi1 = sc.nextInt();\n",
    "System.out.print(\"Masukkan sisi kedua: \");\n",
    "sisi2 = sc.nextInt();\n",
    "System.out.print(\"Masukkan sisi ketiga: \");\n",
    "sisi3 = sc.nextInt();\n",
    "\n",
    "if (sisi1 == sisi2 && sisi1 == sisi3 && sisi2 == sisi3){\n",
    "    System.out.println(\"Jenis segitiga tersebut adalah segitiga sama sisi\");\n",
    "}\n",
    "else if (sisi1 == sisi2 || sisi2 == sisi3 || sisi1 == sisi3){\n",
    "    System.out.println(\"Jenis segitiga tersebut adalah segitiga sama kaki\");\n",
    "}\n",
    "else {\n",
    "    System.out.println(\"Jenis segitiga tersebut adalah segitiga sembarang\");\n",
    "}\n"
   ]
  },
  {
   "cell_type": "markdown",
   "metadata": {},
   "source": [
    "3. Warung Padang Gembira meminta Anda membuat sebuah program untuk menerima pesanan dari internet. Program yang Anda buat meminta user untuk memasukkan nama makanan dan harga. Setelah itu, user ditawarkan untuk menggunakan pengiriman ekspres. Jika pengguna menolak, maka jenis pengiriman yang digunakan adalah pengiriman reguler. Biaya pengiriman reguler untuk harga makanan kurang dari Rp 100.000 adalah Rp 20.000, sedangkan untuk harga makanan sama dengan atau lebih dari Rp 100.000 biaya pengirimannya adalah Rp 30.000. Untuk jenis pengiriman ekspres, tambahkan biaya tambahan sebesar Rp 25.000 dari standar biaya pengiriman reguler. Tampilkan struk yang berisi nama makanan yang dibeli + harga, biaya pengiriman, dan total yang harus dibayar!\n",
    "Contoh hasil output program:\n",
    "\n",
    "```\n",
    "Masukkan nama makanan: Tuna salad\n",
    "Masukkan harga makanan: Rp 115000\n",
    "Apakah Anda ingin pengiriman ekspres (0 = tidak, 1 = ya)? 0\n",
    "\n",
    "STRUK PEMBELIAN\n",
    "Tuna salad        Rp 115000\n",
    "Biaya pengiriman  Rp 30000\n",
    "TOTAL             Rp 145000\n",
    "\n",
    "```\n",
    "\n",
    "```\n",
    "Masukkan nama makanan: Beef bulgogi\n",
    "Masukkan harga makanan: Rp 78000\n",
    "Apakah Anda ingin pengiriman ekspres (0 = tidak, 1 = ya)? 1\n",
    "\n",
    "STRUK PEMBELIAN\n",
    "Beef bulgogi      Rp 115000\n",
    "Biaya pengiriman  Rp 45000\n",
    "TOTAL             Rp 123000\n",
    "\n",
    "```\n",
    "\n"
   ]
  },
  {
   "cell_type": "code",
   "execution_count": 9,
   "metadata": {
    "scrolled": true
   },
   "outputs": [
    {
     "name": "stdout",
     "output_type": "stream",
     "text": [
      "Masukkan nama makanan: tuna salad\n",
      "Masukkan harga makanan: 115000\n",
      "Apakah Anda ingin pengiriman ekspres (0 = tidak, 1 = ya)?0\n",
      "\n",
      "STRUK PEMBELIAN\n",
      "tuna salad                   Rp 115000\n",
      "Biaya Pengiriman     Rp30000\n",
      "Total                Rp145000\n"
     ]
    }
   ],
   "source": [
    "//ketik kode program dan lampirkan hasilnya disini\n",
    "import java.util.Scanner;\n",
    "Scanner sc = new Scanner(System.in);\n",
    "String namaMakanan;\n",
    "int hargaMakanan, biayaPengiriman, total, inginEkspres, biayaEkspres = 25000;\n",
    "\n",
    "System.out.print(\"Masukkan nama makanan: \");\n",
    "namaMakanan = sc.nextLine();\n",
    "System.out.print(\"Masukkan harga makanan: \");\n",
    "hargaMakanan = sc.nextInt();\n",
    "System.out.print(\"Apakah Anda ingin pengiriman ekspres (0 = tidak, 1 = ya)?\");\n",
    "inginEkspres = sc.nextInt();\n",
    "if (inginEkspres == 0){ \n",
    "    if (hargaMakanan >= 100000){ \n",
    "        biayaPengiriman = 30000;\n",
    "    } else {\n",
    "        biayaPengiriman = 20000; \n",
    "    }\n",
    "} else if (inginEkspres == 1){ \n",
    "    if (hargaMakanan >= 100000){ \n",
    "        biayaPengiriman = 30000 + biayaEkspres;\n",
    "    } else {\n",
    "        biayaPengiriman = 20000 + biayaEkspres; \n",
    "    }\n",
    "} else {\n",
    "    System.out.print(\"Data yang dimasukkan salah\");\n",
    "}\n",
    "\n",
    "\n",
    "total = hargaMakanan + biayaPengiriman;\n",
    "System.out.println(\"\\nSTRUK PEMBELIAN\");\n",
    "System.out.println(String.format(\"%s                   Rp %s\", namaMakanan, hargaMakanan));\n",
    "System.out.println(\"Biaya Pengiriman     Rp\" + biayaPengiriman);\n",
    "System.out.println(\"Total                Rp\" + total);"
   ]
  },
  {
   "cell_type": "markdown",
   "metadata": {},
   "source": [
    "4. Perhatikan flowchart berikut ini!\n",
    "\n",
    "![](images/01.png)\n",
    "\n",
    "> Buatlah program sesuai dengan flowchart diatas!"
   ]
  },
  {
   "cell_type": "markdown",
   "metadata": {},
   "source": [
    "# //ketik kode program dan lampirkan hasilnya disini"
   ]
  },
  {
   "cell_type": "code",
   "execution_count": 14,
   "metadata": {},
   "outputs": [
    {
     "name": "stdout",
     "output_type": "stream",
     "text": [
      "Masukkan umur: 19\n",
      "Masukkan status bekerja (0 = tidak, 1 = ya): 1\n",
      "Masukkan pendapatan perbulan: 700000\n",
      "Masukkkan jumlah tanggungan: 20000\n",
      "Penduduk miskin"
     ]
    }
   ],
   "source": [
    "import java.util.Scanner;\n",
    "Scanner sc = new Scanner(System.in);\n",
    "int umur, biayaHidup, pendapatanBulan, jumlahTanggungan, statusB, statusS;\n",
    "\n",
    "System.out.print(\"Masukkan umur: \");\n",
    "umur = sc.nextInt();\n",
    "if (umur >= 18){\n",
    "    System.out.print(\"Masukkan status bekerja (0 = tidak, 1 = ya): \");\n",
    "    statusB = sc.nextInt();\n",
    "    if (statusB == 1){\n",
    "    System.out.print(\"Masukkan pendapatan perbulan: \");\n",
    "    pendapatanBulan = sc.nextInt();\n",
    "    System.out.print(\"Masukkkan jumlah tanggungan: \");\n",
    "    jumlahTanggungan = sc.nextInt();\n",
    "    biayaHidup = pendapatanBulan / jumlahTanggungan;\n",
    "        if (biayaHidup >= 300000){;\n",
    "        System.out.print(\"Bukan penduduk miskin\");\n",
    "        }else{\n",
    "        System.out.print(\"Penduduk miskin\");\n",
    "        }\n",
    "    }else if (statusB == 0){\n",
    "    System.out.print(\"Penduduk miskin\");\n",
    "    }else{\n",
    "    System.out.print(\"Data yang dimasukkan salah\");\n",
    "    }\n",
    "}else{\n",
    "    System.out.print(\"Masukkan status sekolah (0 = tidak, 1 = ya): \");\n",
    "    statusS = sc.nextInt();\n",
    "    if (statusS == 1){\n",
    "    System.out.println(\"Bukan penduduk miskin\");\n",
    "    }else if (statusS == 0){\n",
    "    System.out.println(\"Penduduk miskin\");\n",
    "    }else{\n",
    "    System.out.print(\"Data yang dimasukkan salah\");\n",
    "    }\n",
    "}"
   ]
  },
  {
   "cell_type": "code",
   "execution_count": null,
   "metadata": {},
   "outputs": [],
   "source": []
  },
  {
   "cell_type": "code",
   "execution_count": null,
   "metadata": {},
   "outputs": [],
   "source": []
  }
 ],
 "metadata": {
  "kernelspec": {
   "display_name": "Java",
   "language": "java",
   "name": "java"
  },
  "language_info": {
   "codemirror_mode": "java",
   "file_extension": ".jshell",
   "mimetype": "text/x-java-source",
   "name": "Java",
   "pygments_lexer": "java",
   "version": "11.0.12+8-LTS-237"
  },
  "nteract": {
   "version": "nteract-on-jupyter@2.1.3"
  }
 },
 "nbformat": 4,
 "nbformat_minor": 1
}
