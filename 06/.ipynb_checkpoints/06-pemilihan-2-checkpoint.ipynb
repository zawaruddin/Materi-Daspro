{
 "cells": [
  {
   "cell_type": "markdown",
   "metadata": {
    "collapsed": true
   },
   "source": [
    "## JOBSHEET 6\n",
    "\n",
    "## PEMILIHAN 2\n",
    "\n",
    "### Tujuan\n",
    "\n",
    "Mahasiswa memahami tentang operator logika; Mahasiswa mampu menyelesaikan permasalahan dengan menggunakan sintaks pemilihan bersarang; Mahasiswa mampu membuat sebuah program Java yang memanfaatkan sintaks pemilihan bersarang\n",
    "\n",
    "\n",
    "### Alat dan Bahan\n",
    "+ PC/laptop\n",
    "+ Browser(chrome, firefox, safari)\n",
    "+ Koneksi internet\n",
    "\n",
    "### Praktikum\n",
    "\n",
    "#### Percobaan 1\n",
    "\n",
    "#### Waktu percobaan : 40 menit\n",
    "\n",
    "1. Tambahkan library Scanner, deklarasi Scanner\n",
    "\n",
    "2. Buatlah variabel nilai yang memiliki tipe data int untuk menampung data yang diinput melalui keyboard\n",
    "\n",
    "    ![](images/03.png)"
   ]
  },
  {
   "cell_type": "code",
   "execution_count": 3,
   "metadata": {},
   "outputs": [
    {
     "name": "stdout",
     "output_type": "stream",
     "text": [
      "Masukkan nilai ujian (0-100): 82\n"
     ]
    }
   ],
   "source": [
    "// Ketik kode di sini\n",
    "import java.util.Scanner;\n",
    "Scanner input = new Scanner(System.in);\n",
    "int nilai;\n",
    "System.out.print(\"Masukkan nilai ujian (0-100): \");\n",
    "nilai = input.nextInt();"
   ]
  },
  {
   "cell_type": "markdown",
   "metadata": {},
   "source": [
    "3. Buatlah struktur pengecekan kondisi bersarang. Pengecekan pertama digunakan untuk memastikan bahwa nilai yang dimasukkan berada pada rentang 0 – 100. Jika nilai berada pada rentang 0 – 100, maka akan dilakukan pengecekan status kelulusan mahasiswa, yaitu jika nilai di antara 90 – 100 maka nilainya A, jika nilai di antara 80 – 89 maka nilainya B, jika nilai di antara 60 – 79 maka nilainya C, jika nilai di antara 50 – 59 maka nilainya D, dan jika nilai di antara 0 – 49 maka nilainya E. Sedangkan jika nilai berada di luar rentang 0 – 100, maka ditampilkan informasi bahwa nilai yang dimasukkan tidak valid.\n",
    "\n",
    "    ![](images/04.png)"
   ]
  },
  {
   "cell_type": "code",
   "execution_count": 4,
   "metadata": {},
   "outputs": [
    {
     "name": "stdout",
     "output_type": "stream",
     "text": [
      "Nilai B, Pertahankan prestasi Anda!\n"
     ]
    }
   ],
   "source": [
    "// Ketik kode di sini\n",
    "if(nilai >= 0 && nilai <= 100){\n",
    "    if(nilai >= 90 && nilai <= 100){\n",
    "        System.out.println(\"Nilai A, EXCELLENT!\");\n",
    "    }else if (nilai >= 80 && nilai <= 89){\n",
    "        System.out.println(\"Nilai B, Pertahankan prestasi Anda!\");\n",
    "    }else if (nilai >= 60 && nilai <= 79){\n",
    "        System.out.println(\"Nilai C, Tingkatkan prestasi Anda!\");\n",
    "    }else if (nilai >= 50 && nilai <= 59){\n",
    "        System.out.println(\"Nilai D, Tingkatkan belajar Anda\");\n",
    "    }else {\n",
    "        System.out.println(\"Nilai E, Anda tidak lulus!\");\n",
    "    }\n",
    "}else {\n",
    "    System.out.println(\"Nilai yang Anda masukkan tidak valid!\");\n",
    "}"
   ]
  },
  {
   "cell_type": "markdown",
   "metadata": {},
   "source": [
    "> Penjelasan kode program percobaan 1"
   ]
  },
  {
   "cell_type": "code",
   "execution_count": null,
   "metadata": {},
   "outputs": [],
   "source": []
  },
  {
   "cell_type": "markdown",
   "metadata": {},
   "source": [
    "##### Pertanyaan\n",
    "\n",
    "1. Modifikasi kode program pada Percobaan 1 sehingga jika nilai yang dimasukkan kurang dari 0 akan ditampilkan output “Nilai yang Anda masukkan kurang dari 0” dan jika nilai yang dimasukkan lebih dari 100 akan ditampilkan output “Nilai yang Anda masukkan lebih dari 100”!\n",
    "\n",
    "2. Jelaskan fungsi sintaks if (nilai >= 0 && nilai <= 100)!\n",
    "\n",
    "3. Ubah operator && menjadi || pada sintaks if (nilai >= 0 && nilai <= 100). Jalankan program dengan memasukkan nilai = 105. Amati apa yang terjadi! Mengapa hasilnya demikian?"
   ]
  },
  {
   "cell_type": "code",
   "execution_count": null,
   "metadata": {},
   "outputs": [],
   "source": [
    "// Jawaban pertanyaan"
   ]
  },
  {
   "cell_type": "code",
   "execution_count": 36,
   "metadata": {},
   "outputs": [
    {
     "name": "stdout",
     "output_type": "stream",
     "text": [
      "Masukkan nilai ujian anda: 20\n"
     ]
    },
    {
     "ename": "IncompleteSourceException",
     "evalue": "if(nilai <= 0 && nilai <= 100){\nif(nilai <= 0){\nSystem.out.println(\"Nilai yang anda masukkan kurang dari 0! \");\n}else  if (nilai <= 100){\nSystem.out.println(\"Nilai yang Anda masukkan lebih dari 100! \");\n}else {\nSystem.out.println(\"Nilai yang Anda masukkan tidak valid! \")\n}",
     "output_type": "error",
     "traceback": [
      "\u001b[1m\u001b[31mIncomplete input:\u001b[0m",
      "\u001b[1m\u001b[30m|   \u001b[1m\u001b[30mif(nilai <= 0 && nilai <= 100){\u001b[0m",
      "\u001b[1m\u001b[30m|   \u001b[1m\u001b[30mif(nilai <= 0){\u001b[0m",
      "\u001b[1m\u001b[30m|   \u001b[1m\u001b[30mSystem.out.println(\"Nilai yang anda masukkan kurang dari 0! \");\u001b[0m",
      "\u001b[1m\u001b[30m|   \u001b[1m\u001b[30m}else  if (nilai <= 100){\u001b[0m",
      "\u001b[1m\u001b[30m|   \u001b[1m\u001b[30mSystem.out.println(\"Nilai yang Anda masukkan lebih dari 100! \");\u001b[0m",
      "\u001b[1m\u001b[30m|   \u001b[1m\u001b[30m}else {\u001b[0m",
      "\u001b[1m\u001b[30m|   \u001b[1m\u001b[30mSystem.out.println(\"Nilai yang Anda masukkan tidak valid! \")\u001b[0m",
      "\u001b[1m\u001b[30m|   \u001b[1m\u001b[30m}\u001b[0m"
     ]
    }
   ],
   "source": [
    "import java.util.Scanner;\n",
    "Scanner input = new Scanner (System.in);\n",
    "int nilai;\n",
    "System.out.print (\"Masukkan nilai ujian anda: \");\n",
    "nilai = input.nextInt();\n",
    "if(nilai <= 0 && nilai <= 100){\n",
    "if(nilai <= 0){\n",
    "System.out.println(\"Nilai yang anda masukkan kurang dari 0! \");\n",
    "}else  if (nilai <= 100){\n",
    "System.out.println(\"Nilai yang Anda masukkan lebih dari 100! \");\n",
    "}else {\n",
    "System.out.println(\"Nilai yang Anda masukkan tidak valid! \")\n",
    "}"
   ]
  },
  {
   "cell_type": "markdown",
   "metadata": {},
   "source": [
    "#### Percobaan 2\n",
    "\n",
    "#### Waktu percobaan : 40 menit"
   ]
  },
  {
   "cell_type": "markdown",
   "metadata": {},
   "source": [
    "1. Perhatikan flowchart dibawah ini!\n",
    "\n",
    "![](images/02.png)\n",
    "\n",
    "> Flowchart tersebut digunakan untuk menghitung gaji bersih seseorang setelah dipotong pajak sesuai dengan kategorinya (pekerja dan pebisnis) dan besarnya penghasilan. "
   ]
  },
  {
   "cell_type": "markdown",
   "metadata": {},
   "source": [
    "2. Tambahkan library Scanner dan deklarasi Scanner\n",
    "\n",
    "3. Deklarasikan variabel kategori, penghasilan, gajiBersih, dan pajak\n",
    "\n",
    "    ![](images/05.png)"
   ]
  },
  {
   "cell_type": "code",
   "execution_count": 30,
   "metadata": {},
   "outputs": [
    {
     "name": "stdout",
     "output_type": "stream",
     "text": [
      "Masukkan kategori: pekerja\n",
      "Masukkan besarnya penghasilan: 2000000\n"
     ]
    }
   ],
   "source": [
    "// Ketik kode di sini\n",
    "import java.util.Scanner;\n",
    "Scanner input = new Scanner(System.in);\n",
    "String kategori;\n",
    "int penghasilan, gajiBersih;\n",
    "double pajak = 0;\n",
    "\n",
    "System.out.print(\"Masukkan kategori: \");\n",
    "kategori = input.nextLine();\n",
    "System.out.print(\"Masukkan besarnya penghasilan: \");\n",
    "penghasilan = input.nextInt();"
   ]
  },
  {
   "cell_type": "markdown",
   "metadata": {},
   "source": [
    "4. Buatlah struktur pengecekan kondisi bersarang. Pengecekan pertama digunakan untuk mengecek kategori (pekerja atau pebisnis). Selanjutnya dilakukan pengecekan kedua untuk menentukan besarnya pajak berdasarkan penghasilan yang telah dimasukkan.Kemudian tambahkan kode program untuk menghitung gaji bersih yang diterima setelah dipotong pajak!\n",
    "\n",
    "    ![](images/06.png)"
   ]
  },
  {
   "cell_type": "code",
   "execution_count": 32,
   "metadata": {},
   "outputs": [
    {
     "name": "stdout",
     "output_type": "stream",
     "text": [
      "Gaji bersih yang Anda terima: 1800000\n"
     ]
    }
   ],
   "source": [
    "// Ketik kode di sini\n",
    "if(kategori.equalsIgnoreCase (\"pekerja\")){\n",
    "    if (penghasilan <= 2000000){\n",
    "        pajak = 0.1;\n",
    "    } else if (penghasilan <= 3000000){\n",
    "        pajak = 0.15;\n",
    "    } else {\n",
    "        pajak = 0.2;\n",
    "    }\n",
    "    gajiBersih = (int) (penghasilan - (penghasilan * pajak));\n",
    "    System.out.println(\"Gaji bersih yang Anda terima: \" + gajiBersih);\n",
    "\n",
    "} else if (kategori.equalsIgnoreCase (\"pebisnis\")){\n",
    "    if (penghasilan <= 2500000){\n",
    "        pajak = 0.15;\n",
    "    } else if (penghasilan <= 3500000){\n",
    "        pajak = 0.2;\n",
    "    } else {\n",
    "        pajak = 0.25;\n",
    "    }\n",
    "    gajiBersih = (int) (penghasilan - (penghasilan * pajak));\n",
    "    System.out.println(\"Gaji bersih yang Anda terima: \" + gajiBersih);\n",
    "} else {\n",
    "    System.out.println(\"Kategori yang Anda masukkan salah!\");\n",
    "}"
   ]
  },
  {
   "cell_type": "markdown",
   "metadata": {},
   "source": [
    "5. Jalankan program di atas. Amati apa yang terjadi!"
   ]
  },
  {
   "cell_type": "markdown",
   "metadata": {},
   "source": [
    "> Penjelasan kode program percobaan 2"
   ]
  },
  {
   "cell_type": "markdown",
   "metadata": {},
   "source": [
    "##### Pertanyaan\n",
    "\n",
    "1. Jalankan program dengan memasukkan kategori = pekerja dan penghasilan = 2048485. Amati apa yang terjadi! Mengapa angka di belakang koma tidak ditampilkan?\n",
    "\n",
    "2. Jelaskan fungsi dari (int) pada sintaks:\n",
    "```\n",
    "gajiBersih = (int) (penghasilan - (penghasilan * pajak));\n",
    "```\n",
    "\n",
    "3.\tJalankan program dengan memasukkan kategori = pebisnis dan penghasilan = 2000000. Amati apa yang terjadi! Apa kegunaan dari equalsIgnoreCase?\n",
    "\n",
    "4.\tUbah equalsIgnoreCase menjadi equals, kemudian jalankan program dengan memasukkan kategori = pebisnis dan penghasilan = 2000000. Amati apa yang terjadi! Mengapa hasilnya demikian? Apa kegunaan dari equals?"
   ]
  },
  {
   "cell_type": "code",
   "execution_count": null,
   "metadata": {},
   "outputs": [],
   "source": [
    "// Jawaban pertanyaan"
   ]
  },
  {
   "cell_type": "markdown",
   "metadata": {},
   "source": [
    "### Tugas\n",
    "\n",
    "#### Waktu pengerjaan Tugas: 140 menit\n",
    "\n",
    "1. Buatlah program kalkulator sederhana menggunakan bahasa pemrograman Java. User akan menginputkan dua buah bilangan riil dan satu buah operator aritmatika (+, -, *, atau /), kemudian program akan mengoperasikan dua bilangan tersebut dengan operator yang sesuai. Petunjuk: gunakan pernyataan switch-case.\n",
    "Contoh tampilan program:\n",
    "\n",
    "```\n",
    "Masukkan bilangan pertama: 2.5\n",
    "Masukkan operator (+, -, *, /): *\n",
    "Masukkan bilangan kedua: 4\n",
    "2.5 * 4.0 = 10.0\n",
    "\n",
    "```"
   ]
  },
  {
   "cell_type": "code",
   "execution_count": null,
   "metadata": {},
   "outputs": [],
   "source": [
    "//ketik kode program dan lampirkan hasilnya disini"
   ]
  },
  {
   "cell_type": "markdown",
   "metadata": {},
   "source": [
    "2. Dengan menggunakan tiga nilai yang mewakili panjang tiga sisi sebuah segitiga, tentukan apakah segitiga tersebut sama sisi (ketiga sisinya bernilai sama), sama kaki (kedua sisinya bernilai sama), atau sembarang (tidak ada sisi yang bernilai sama)! "
   ]
  },
  {
   "cell_type": "code",
   "execution_count": null,
   "metadata": {},
   "outputs": [],
   "source": [
    "//ketik kode program dan lampirkan hasilnya disini"
   ]
  },
  {
   "cell_type": "markdown",
   "metadata": {},
   "source": [
    "3. Warung Padang Gembira meminta Anda membuat sebuah program untuk menerima pesanan dari internet. Program yang Anda buat meminta user untuk memasukkan nama makanan dan harga. Setelah itu, user ditawarkan untuk menggunakan pengiriman ekspres. Jika pengguna menolak, maka jenis pengiriman yang digunakan adalah pengiriman reguler. Biaya pengiriman reguler untuk harga makanan kurang dari Rp 100.000 adalah Rp 20.000, sedangkan untuk harga makanan sama dengan atau lebih dari Rp 100.000 biaya pengirimannya adalah Rp 30.000. Untuk jenis pengiriman ekspres, tambahkan biaya tambahan sebesar Rp 25.000 dari standar biaya pengiriman reguler. Tampilkan struk yang berisi nama makanan yang dibeli + harga, biaya pengiriman, dan total yang harus dibayar!\n",
    "Contoh hasil output program:\n",
    "\n",
    "```\n",
    "Masukkan nama makanan: Tuna salad\n",
    "Masukkan harga makanan: Rp 115000\n",
    "Apakah Anda ingin pengiriman ekspres (0 = tidak, 1 = ya)? 0\n",
    "\n",
    "STRUK PEMBELIAN\n",
    "Tuna salad        Rp 115000\n",
    "Biaya pengiriman  Rp 30000\n",
    "TOTAL             Rp 145000\n",
    "\n",
    "```\n",
    "\n",
    "```\n",
    "Masukkan nama makanan: Beef bulgogi\n",
    "Masukkan harga makanan: Rp 78000\n",
    "Apakah Anda ingin pengiriman ekspres (0 = tidak, 1 = ya)? 1\n",
    "\n",
    "STRUK PEMBELIAN\n",
    "Beef bulgogi      Rp 115000\n",
    "Biaya pengiriman  Rp 45000\n",
    "TOTAL             Rp 123000\n",
    "\n",
    "```\n",
    "\n"
   ]
  },
  {
   "cell_type": "code",
   "execution_count": null,
   "metadata": {},
   "outputs": [],
   "source": [
    "//ketik kode program dan lampirkan hasilnya disini"
   ]
  },
  {
   "cell_type": "markdown",
   "metadata": {},
   "source": [
    "4. Perhatikan flowchart berikut ini!\n",
    "\n",
    "![](images/01.png)\n",
    "\n",
    "> Buatlah program sesuai dengan flowchart diatas!"
   ]
  },
  {
   "cell_type": "code",
   "execution_count": null,
   "metadata": {},
   "outputs": [],
   "source": [
    "//ketik kode program dan lampirkan hasilnya disini"
   ]
  }
 ],
 "metadata": {
  "kernelspec": {
   "display_name": "Java",
   "language": "java",
   "name": "java"
  },
  "language_info": {
   "codemirror_mode": "java",
   "file_extension": ".jshell",
   "mimetype": "text/x-java-source",
   "name": "Java",
   "pygments_lexer": "java",
   "version": "11.0.12+8-LTS-237"
  },
  "nteract": {
   "version": "nteract-on-jupyter@2.1.3"
  }
 },
 "nbformat": 4,
 "nbformat_minor": 1
}
