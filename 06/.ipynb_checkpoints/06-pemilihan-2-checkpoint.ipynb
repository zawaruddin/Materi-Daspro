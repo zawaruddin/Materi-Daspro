{
 "cells": [
  {
   "cell_type": "markdown",
   "metadata": {
    "collapsed": true
   },
   "source": [
    "### NIM    : 213171010\n",
    "### Nama : Indah Retno Iriani\n",
    "\n",
    "\n",
    "## JOBSHEET 6\n",
    "\n",
    "## PEMILIHAN 2\n",
    "\n",
    "### Tujuan\n",
    "\n",
    "Mahasiswa memahami tentang operator logika; Mahasiswa mampu menyelesaikan permasalahan dengan menggunakan sintaks pemilihan bersarang; Mahasiswa mampu membuat sebuah program Java yang memanfaatkan sintaks pemilihan bersarang\n",
    "\n",
    "\n",
    "### Alat dan Bahan\n",
    "+ PC/laptop\n",
    "+ Browser(chrome, firefox, safari)\n",
    "+ Koneksi internet\n",
    "\n",
    "### Praktikum\n",
    "\n",
    "#### Percobaan 1\n",
    "\n",
    "#### Waktu percobaan : 40 menit\n",
    "\n",
    "1. Tambahkan library Scanner, deklarasi Scanner\n",
    "\n",
    "2. Buatlah variabel nilai yang memiliki tipe data int untuk menampung data yang diinput melalui keyboard\n",
    "\n",
    "    ![](images/03.png)"
   ]
  },
  {
   "cell_type": "code",
   "execution_count": 13,
   "metadata": {},
   "outputs": [
    {
     "name": "stdout",
     "output_type": "stream",
     "text": [
      "Masukkan nilai ujian (0-100): 105\n"
     ]
    }
   ],
   "source": [
    "import java.util.Scanner;\n",
    "Scanner input = new Scanner(System.in);\n",
    "int nilai;\n",
    "System.out.print(\"Masukkan nilai ujian (0-100): \");\n",
    "nilai = input.nextInt();"
   ]
  },
  {
   "cell_type": "markdown",
   "metadata": {},
   "source": [
    "3. Buatlah struktur pengecekan kondisi bersarang. Pengecekan pertama digunakan untuk memastikan bahwa nilai yang dimasukkan berada pada rentang 0 – 100. Jika nilai berada pada rentang 0 – 100, maka akan dilakukan pengecekan status kelulusan mahasiswa, yaitu jika nilai di antara 90 – 100 maka nilainya A, jika nilai di antara 80 – 89 maka nilainya B, jika nilai di antara 60 – 79 maka nilainya C, jika nilai di antara 50 – 59 maka nilainya D, dan jika nilai di antara 0 – 49 maka nilainya E. Sedangkan jika nilai berada di luar rentang 0 – 100, maka ditampilkan informasi bahwa nilai yang dimasukkan tidak valid.\n",
    "\n",
    "    ![](images/04.png)"
   ]
  },
  {
   "cell_type": "code",
   "execution_count": 14,
   "metadata": {},
   "outputs": [
    {
     "name": "stdout",
     "output_type": "stream",
     "text": [
      "Nilai yang Anda masukkan lebih dari 100!\n"
     ]
    }
   ],
   "source": [
    "if(nilai >= 0 || nilai <= 100){\n",
    "    if(nilai >= 90 && nilai <= 100){\n",
    "        System.out.println(\"Nilai A, EXCELLENT!\");\n",
    "    } else if (nilai >= 80 && nilai <= 89){    \n",
    "        System.out.println(\"Nilai B, Pertahankan prestasi Anda!\");\n",
    "    } else if (nilai >= 60 && nilai <= 79){\n",
    "        System.out.println(\"Nilai C, Tingkatkan prestasi Anda!\");\n",
    "    } else if (nilai >= 50 && nilai <= 59){\n",
    "        System.out.println(\"Nilai D, Tingkatkan belajar Anda!\");\n",
    "    } else if (nilai >= 1 && nilai <=49){\n",
    "        System.out.println(\"Nilai E, Anda tidak lulus!\");\n",
    "    } else if (nilai > 100){\n",
    "        System.out.println(\"Nilai yang Anda masukkan lebih dari 100!\");\n",
    "    } else {\n",
    "        System.out.println(\"Nilai yang Anda masukkan kurang dari 0!\");\n",
    "\n",
    "    }\n",
    "} else {\n",
    "    System.out.println(\"Nilai yang Anda masukkan tidak valid!\");\n",
    "}"
   ]
  },
  {
   "cell_type": "markdown",
   "metadata": {},
   "source": [
    "> Penjelasan kode program percobaan 1 \n",
    "pada program diatas jika kondisi pertama tidak terpenuhi atau bernilai false, maka kode program akan lanjut ke kondisi IF di bawahnya. Jika ternyata tidak juga terpenuhi, akan lanjut lagi ke kondisi IF di bawahnya lagi, dst hingga blok ELSE terakhir atau terdapat kondisi IF yang menghasilkan nilai true."
   ]
  },
  {
   "cell_type": "markdown",
   "metadata": {},
   "source": [
    "##### Pertanyaan\n",
    "\n",
    "1. Modifikasi kode program pada Percobaan 1 sehingga jika nilai yang dimasukkan kurang dari 0 akan ditampilkan output “Nilai yang Anda masukkan kurang dari 0” dan jika nilai yang dimasukkan lebih dari 100 akan ditampilkan output “Nilai yang Anda masukkan lebih dari 100”!\n",
    "\n",
    "2. Jelaskan fungsi sintaks if (nilai >= 0 && nilai <= 100)!\n",
    "\n",
    "3. Ubah operator && menjadi || pada sintaks if (nilai >= 0 && nilai <= 100). Jalankan program dengan memasukkan nilai = 105. Amati apa yang terjadi! Mengapa hasilnya demikian?"
   ]
  },
  {
   "cell_type": "markdown",
   "metadata": {},
   "source": [
    "Jawaban :\n",
    "\n",
    "1. Modifikasi\n",
    "2. fungsi sintaks if(nilai <=0 && nilai <=100) adalah jika salah satu nilai false maka seluruh nilai akan dianggap salah. Jadi jika input angka kurang dari 0 ataupun lebih dari 100 maka akan bernilai salah\n",
    "3. Jika operator && (logika AND) diubah menjadi || (logika OR) jika dimasukkan nilai = 105 maka akan menampilkan output \"Nilai yang Anda masukkan lebih dari 100\", karena jika menggunakan operator && akan menghasilkan true jika kedua kondisi true, namun jika menggunakan operator || akan mengasilkan true walaupun jika hanya salah satu kondisi bernilai true."
   ]
  },
  {
   "cell_type": "markdown",
   "metadata": {},
   "source": [
    "#### Percobaan 2\n",
    "\n",
    "#### Waktu percobaan : 40 menit"
   ]
  },
  {
   "cell_type": "markdown",
   "metadata": {},
   "source": [
    "1. Perhatikan flowchart dibawah ini!\n",
    "\n",
    "![](images/02.png)\n",
    "\n",
    "> Flowchart tersebut digunakan untuk menghitung gaji bersih seseorang setelah dipotong pajak sesuai dengan kategorinya (pekerja dan pebisnis) dan besarnya penghasilan. "
   ]
  },
  {
   "cell_type": "markdown",
   "metadata": {},
   "source": [
    "2. Tambahkan library Scanner dan deklarasi Scanner\n",
    "\n",
    "3. Deklarasikan variabel kategori, penghasilan, gajiBersih, dan pajak\n",
    "\n",
    "    ![](images/05.png)"
   ]
  },
  {
   "cell_type": "code",
   "execution_count": 4,
   "metadata": {},
   "outputs": [
    {
     "name": "stdout",
     "output_type": "stream",
     "text": [
      "Masukkan kategori: Pebisnis\n",
      "Masukkan besarnya penghasilan: 2000000\n"
     ]
    }
   ],
   "source": [
    "import java.util.Scanner;\n",
    "Scanner input = new Scanner(System.in);\n",
    "String kategori;\n",
    "int penghasilan, gajiBersih;\n",
    "double pajak = 0;\n",
    "\n",
    "System.out.print(\"Masukkan kategori: \");\n",
    "kategori = input.nextLine();\n",
    "System.out.print(\"Masukkan besarnya penghasilan: \");\n",
    "penghasilan = input.nextInt();"
   ]
  },
  {
   "cell_type": "markdown",
   "metadata": {},
   "source": [
    "## 4. Buatlah struktur pengecekan kondisi bersarang. Pengecekan pertama digunakan untuk mengecek kategori (pekerja atau pebisnis). Selanjutnya dilakukan pengecekan kedua untuk menentukan besarnya pajak berdasarkan penghasilan yang telah dimasukkan.Kemudian tambahkan kode program untuk menghitung gaji bersih yang diterima setelah dipotong pajak!\n",
    "\n",
    "    ![6](images/06.png)"
   ]
  },
  {
   "cell_type": "code",
   "execution_count": 50,
   "metadata": {},
   "outputs": [
    {
     "name": "stdout",
     "output_type": "stream",
     "text": [
      "Kategori yang Anda masukkan salah!\n"
     ]
    }
   ],
   "source": [
    "if(kategori.equals (\"pekerja\")){\n",
    "    if (penghasilan <= 20000000){\n",
    "        pajak = 0.1;\n",
    "    } else if (penghasilan <= 30000000){\n",
    "        pajak = 0.15;\n",
    "    } else {\n",
    "        pajak = 0.2;\n",
    "    }\n",
    "    gajiBersih = (int) (penghasilan - (penghasilan * pajak));\n",
    "    System.out.println(\"Gaji bersih yang Anda terima: \" + gajiBersih);\n",
    "    \n",
    "} else if (kategori.equals (\"pebisnis\")){\n",
    "    if (penghasilan <= 2500000){\n",
    "        pajak = 0.15;\n",
    "    } else if (penghasilan <= 3500000){\n",
    "        pajak = 0.2;\n",
    "    } else {\n",
    "        pajak = 0.25;\n",
    "    }\n",
    "    gajiBersih = (int)(penghasilan - (penghasilan * pajak));\n",
    "    System.out.println(\"Gaji bersih yang Anda terima: \" + gajiBersih);\n",
    "} else {\n",
    "    System.out.println(\"Kategori yang Anda masukkan salah!\");\n",
    "}"
   ]
  },
  {
   "cell_type": "markdown",
   "metadata": {},
   "source": [
    "5. Jalankan program di atas. Amati apa yang terjadi!"
   ]
  },
  {
   "attachments": {},
   "cell_type": "markdown",
   "metadata": {},
   "source": [
    "> Penjelasan kode program percobaan 2\n",
    "jika kondisi pertama (pekerja) tidak terpenuhi  atau bernilai false, maka kode program akan lanjut ke kondisi kedua yaitu (pebisnis). Apabila tidak ada kondisi yang memenuhi atau bernilai true baik pekerja maupun pebisnis, maka program akan langsung mengeksekusi pernyataan x yakni \"Kategori yang Anda masukkan salah\". Jika kondisi pertama (pekerja) terpenuhi maka akan lanjut mengeksekusi kodisi if dibawahnya, Jika kondisi if dibawahnya tidak memenuhi maka akan lanjut mengeksekusi else if, jika kondisi else if dibawahnya tidak memenuhi maka akan mengeksekusi else dan sebalikanya pada kondisi (pebisnis)."
   ]
  },
  {
   "cell_type": "markdown",
   "metadata": {},
   "source": [
    "##### Pertanyaan\n",
    "\n",
    "1. Jalankan program dengan memasukkan kategori = pekerja dan penghasilan = 2048485. Amati apa yang terjadi! Mengapa angka di belakang koma tidak ditampilkan?\n",
    "\n",
    "2. Jelaskan fungsi dari (int) pada sintaks:\n",
    "```\n",
    "gajiBersih = (int) (penghasilan - (penghasilan * pajak));\n",
    "```\n",
    "\n",
    "3.\tJalankan program dengan memasukkan kategori = pebisnis dan penghasilan = 2000000. Amati apa yang terjadi! Apa kegunaan dari equalsIgnoreCase?\n",
    "\n",
    "4.\tUbah equalsIgnoreCase menjadi equals, kemudian jalankan program dengan memasukkan kategori = pebisnis dan penghasilan = 2000000. Amati apa yang terjadi! Mengapa hasilnya demikian? Apa kegunaan dari equals?"
   ]
  },
  {
   "cell_type": "markdown",
   "metadata": {},
   "source": [
    "Jawaban :\n",
    "\n",
    "1. Karena tipe data yang digunakan adalah integer, dimana tipe data integer adalah tipe data yang hanya mengandung \n",
    "   bilangan bulat dan tidak mengandung angka pecahan ataupun nilai desimal.\n",
    "2. fungsi int pada sintaks tersebut adalah untuk menunjukkan bahwa data yang dimasukkan/diinput berupa data integer.\n",
    "3. kegunaan dari equalsIgnoreCase adalah membandingkan dua variabel yang bertipe data string tanpa memperdulikan \n",
    "   perbedaan antara huruf besar dengan huruf kecil. Jadi, misalnya pekerja ditulis PEKERJA maka hasilnya true.\n",
    "4. Apabila equalsIgnoreCase diubah ke equals maka akan menghasilkan false karena jika menggunakan equals maka \n",
    "   dua variabel yang bertipe data string dibandingkan harus sama persis, jika huruf kecil semua maka data yang diinput    harus huruf kecil semua. Maka, fungsi equals dan equalsIgnoreCase adalah sama, yang membedakan adalah dari segi      penggunaan huruf besar dan huruf kecil.\n",
    "\n"
   ]
  },
  {
   "cell_type": "markdown",
   "metadata": {},
   "source": [
    "### Tugas\n",
    "\n",
    "#### Waktu pengerjaan Tugas: 140 menit\n",
    "\n",
    "1. Buatlah program kalkulator sederhana menggunakan bahasa pemrograman Java. User akan menginputkan dua buah bilangan riil dan satu buah operator aritmatika (+, -, *, atau /), kemudian program akan mengoperasikan dua bilangan tersebut dengan operator yang sesuai. Petunjuk: gunakan pernyataan switch-case.\n",
    "Contoh tampilan program:\n",
    "\n",
    "```\n",
    "Masukkan bilangan pertama: 2.5\n",
    "Masukkan operator (+, -, *, /): *\n",
    "Masukkan bilangan kedua: 4\n",
    "2.5 * 4.0 = 10.0\n",
    "\n",
    "```"
   ]
  },
  {
   "cell_type": "code",
   "execution_count": 1,
   "metadata": {},
   "outputs": [
    {
     "name": "stdout",
     "output_type": "stream",
     "text": [
      "Masukkan bilangan pertama: 30\n",
      "Masukkan operator (+, -, *, /)= *\n",
      "Masukkan bilangan kedua: 6\n",
      "Hasil: 180.0"
     ]
    }
   ],
   "source": [
    "import java.util.Scanner;\n",
    "Scanner input = new Scanner(System.in);\n",
    "double bilangan1, bilangan2, plus, min, kali, bagi;\n",
    "char operator;\n",
    "\n",
    "System.out.print(\"Masukkan bilangan pertama: \");\n",
    "bilangan1 = input.nextDouble();\n",
    "System.out.print(\"Masukkan operator (+, -, *, /)= \");\n",
    "operator = input.next().charAt(0);\n",
    "System.out.print(\"Masukkan bilangan kedua: \");\n",
    "bilangan2 = input.nextDouble();\n",
    "\n",
    "switch(operator){\n",
    "    case '+':\n",
    "    plus = bilangan1 + bilangan2;\n",
    "    System.out.print(\"Hasil: \" + plus);\n",
    "    break;\n",
    "    case '-':\n",
    "    min = bilangan1 - bilangan2;\n",
    "    System.out.print(\"Hasil: \" + min);\n",
    "    break;\n",
    "    case '*':\n",
    "    kali = bilangan1 * bilangan2;\n",
    "    System.out.print(\"Hasil: \" + kali);\n",
    "    break;\n",
    "    case '/':\n",
    "    bagi = bilangan1 / bilangan2;\n",
    "    System.out.print(\"Hasil: \" + bagi);\n",
    "    break;\n",
    "    \n",
    "    default:\n",
    "    System.out.print(\"Operator yang Anda masukkan salah\");\n",
    "    }\n",
    "\n",
    "\n"
   ]
  },
  {
   "cell_type": "markdown",
   "metadata": {},
   "source": [
    "2. Dengan menggunakan tiga nilai yang mewakili panjang tiga sisi sebuah segitiga, tentukan apakah segitiga tersebut sama sisi (ketiga sisinya bernilai sama), sama kaki (kedua sisinya bernilai sama), atau sembarang (tidak ada sisi yang bernilai sama)! "
   ]
  },
  {
   "cell_type": "code",
   "execution_count": 12,
   "metadata": {},
   "outputs": [
    {
     "name": "stdout",
     "output_type": "stream",
     "text": [
      "Masukkan panjang sisi 1: \n",
      "2\n",
      "Masukkan panjang sisi 2: 2\n",
      "Masukkan panjang sisi 3: 2\n",
      "Maka hasilnya : segitiga sama sisi"
     ]
    }
   ],
   "source": [
    "import java.util.Scanner;\n",
    "Scanner input = new Scanner(System.in);\n",
    "int sisi1, sisi2, sisi3;\n",
    "\n",
    "System.out.print(\"Masukkan panjang sisi 1: \");\n",
    "sisi1 = input.nextInt();\n",
    "System.out.print(\"Masukkan panjang sisi 2: \");\n",
    "sisi2 = input.nextInt();\n",
    "System.out.print(\"Masukkan panjang sisi 3: \");\n",
    "sisi3 = input.nextInt();\n",
    "\n",
    "if(sisi1 == sisi2 && sisi2!=1 && sisi1!=sisi3 || sisi2==sisi3 && sisi2!=sisi1 && sisi1!=sisi3 || sisi1==sisi3 && sisi2!=sisi1 && sisi2!=sisi3){ \n",
    "    System.out.print(\"Maka hasilnya : segitiga sama kaki\"); \n",
    "}else if(sisi1 == sisi2 || sisi1==sisi3 || sisi2 == sisi3){\n",
    "    System.out.print(\"Maka hasilnya : segitiga sama sisi\");\n",
    "}else \n",
    "    System.out.print(\"Maka hasilnya : segitiga sembarang\");"
   ]
  },
  {
   "cell_type": "markdown",
   "metadata": {},
   "source": [
    "3. Warung Padang Gembira meminta Anda membuat sebuah program untuk menerima pesanan dari internet. Program yang Anda buat meminta user untuk memasukkan nama makanan dan harga. Setelah itu, user ditawarkan untuk menggunakan pengiriman ekspres. Jika pengguna menolak, maka jenis pengiriman yang digunakan adalah pengiriman reguler. Biaya pengiriman reguler untuk harga makanan kurang dari Rp 100.000 adalah Rp 20.000, sedangkan untuk harga makanan sama dengan atau lebih dari Rp 100.000 biaya pengirimannya adalah Rp 30.000. Untuk jenis pengiriman ekspres, tambahkan biaya tambahan sebesar Rp 25.000 dari standar biaya pengiriman reguler. Tampilkan struk yang berisi nama makanan yang dibeli + harga, biaya pengiriman, dan total yang harus dibayar!\n",
    "Contoh hasil output program:\n",
    "\n",
    "```\n",
    "Masukkan nama makanan: Tuna salad\n",
    "Masukkan harga makanan: Rp 115000\n",
    "Apakah Anda ingin pengiriman ekspres (0 = tidak, 1 = ya)? 0\n",
    "\n",
    "STRUK PEMBELIAN\n",
    "Tuna salad        Rp 115000\n",
    "Biaya pengiriman  Rp 30000\n",
    "TOTAL             Rp 145000\n",
    "\n",
    "```\n",
    "\n",
    "```\n",
    "Masukkan nama makanan: Beef bulgogi\n",
    "Masukkan harga makanan: Rp 78000\n",
    "Apakah Anda ingin pengiriman ekspres (0 = tidak, 1 = ya)? 1\n",
    "\n",
    "STRUK PEMBELIAN\n",
    "Beef bulgogi      Rp 115000\n",
    "Biaya pengiriman  Rp 45000\n",
    "TOTAL             Rp 123000\n",
    "\n",
    "```\n",
    "\n"
   ]
  },
  {
   "cell_type": "code",
   "execution_count": 2,
   "metadata": {},
   "outputs": [
    {
     "name": "stdout",
     "output_type": "stream",
     "text": [
      "Masukkan nama makanan : Tuna Salad\n",
      "Masukkan harga makanan: Rp. 115000\n",
      "Apakah Anda ingin pengiriman ekspres (0 = tidak, 1 = ya)? 0\n",
      "\n",
      "STRUK PEMBELIAN \n",
      "\n",
      "Tuna Salad           Rp.115000\n",
      "Biaya pengiriman     Rp.30000\n",
      "Total                Rp.145000\n",
      "\n",
      "Masukkan nama makanan : Beef Bulgogi\n",
      "Masukkan harga makanan: Rp. 78000\n",
      "Apakah Anda ingin pengiriman ekspres (0 = tidak, 1 = ya)? 1\n",
      "\n",
      "STRUK PEMBELIAN \n",
      "\n",
      "Beef Bulgogi         Rp.78000\n",
      "Biaya pengiriman     Rp.45000\n",
      "Total                Rp.123000\n",
      "\n"
     ]
    }
   ],
   "source": [
    "import java.util.Scanner;\n",
    "Scanner input = new Scanner(System.in);\n",
    "String nama;\n",
    "int harga, ongkir, biaya, pengiriman;\n",
    "System.out.print(\"Masukkan nama makanan : \");\n",
    "nama = input.nextLine();\n",
    "System.out.print(\"Masukkan harga makanan: Rp. \");\n",
    "harga = input.nextInt();\n",
    "System.out.print(\"Apakah Anda ingin pengiriman ekspres (0 = tidak, 1 = ya)? \");\n",
    "pengiriman = input.nextInt();\n",
    "System.out.println(\"\");\n",
    "\n",
    "if (pengiriman == 0) {\n",
    "    if (harga < 100000){\n",
    "        ongkir = 20000;\n",
    "    } else {\n",
    "        ongkir = 30000;\n",
    "    }\n",
    "} else {\n",
    "    if (harga < 100000){\n",
    "        ongkir = 35000;\n",
    "    } else {\n",
    "        ongkir = 55000;\n",
    "    }\n",
    "}\n",
    "    System.out.println(\"STRUK PEMBELIAN \\n\");\n",
    "    System.out.println(nama + \"           Rp.\" + harga);\n",
    "    System.out.println(\"Biaya pengiriman     Rp.\" + ongkir);\n",
    "    biaya = ongkir + harga;\n",
    "    System.out.println(\"Total                Rp.\" + biaya);\n",
    "    System.out.println(\"\");\n",
    "\n",
    "import java.util.Scanner;\n",
    "Scanner input = new Scanner(System.in);\n",
    "String nama;\n",
    "int harga, ongkir, biaya, pengiriman;\n",
    "System.out.print(\"Masukkan nama makanan : \");\n",
    "nama = input.nextLine();\n",
    "System.out.print(\"Masukkan harga makanan: Rp. \");\n",
    "harga = input.nextInt();\n",
    "System.out.print(\"Apakah Anda ingin pengiriman ekspres (0 = tidak, 1 = ya)? \");\n",
    "pengiriman = input.nextInt();\n",
    "System.out.println(\"\");\n",
    "\n",
    "if (pengiriman == 0) {\n",
    "    if (harga < 100000){\n",
    "        ongkir = 20000;\n",
    "    } else {\n",
    "        ongkir = 30000;\n",
    "    }\n",
    "} else {\n",
    "    if (harga < 100000){\n",
    "        ongkir = 45000;\n",
    "    } else {\n",
    "        ongkir = 55000;\n",
    "    }\n",
    "}\n",
    "    System.out.println(\"STRUK PEMBELIAN \\n\");\n",
    "    System.out.println(nama + \"         Rp.\" + harga);\n",
    "    System.out.println(\"Biaya pengiriman     Rp.\" + ongkir);\n",
    "    biaya = ongkir + harga;\n",
    "    System.out.println(\"Total                Rp.\" + biaya);\n",
    "    System.out.println(\"\");\n",
    "\n"
   ]
  },
  {
   "cell_type": "markdown",
   "metadata": {},
   "source": [
    "# 4. Perhatikan flowchart berikut ini!\n",
    "\n",
    "![](images/01.png)\n",
    "\n",
    "> Buatlah program sesuai dengan flowchart diatas!"
   ]
  },
  {
   "cell_type": "code",
   "execution_count": 9,
   "metadata": {},
   "outputs": [
    {
     "name": "stdout",
     "output_type": "stream",
     "text": [
      "Masukkan umur: 20\n",
      "Masukkan status bekerja (1 = ya atau 0 = tidak): 1\n",
      "Masukkan pendapatan perbulan: 100000\n",
      "Masukkan jumlah tanggungan  : 5\n",
      "Penduduk miskin\n"
     ]
    }
   ],
   "source": [
    "import java.util.Scanner;\n",
    "Scanner input = new Scanner(System.in);\n",
    "int umur, tanggungan, sekolah, bekerja, pendapatan, biayaHidup;\n",
    "\n",
    "System.out.print(\"Masukkan umur: \");\n",
    "umur = input.nextInt();\n",
    "\n",
    "\n",
    "if (umur >= 18){\n",
    "    System.out.print(\"Masukkan status bekerja (1 = ya atau 0 = tidak): \");\n",
    "    bekerja = input.nextInt();\n",
    "    if (bekerja == 1){\n",
    "        System.out.print(\"Masukkan pendapatan perbulan: \");\n",
    "        pendapatan = input.nextInt();\n",
    "        System.out.print(\"Masukkan jumlah tanggungan  : \");\n",
    "        tanggungan = input.nextInt();\n",
    "\n",
    "        biayaHidup = pendapatan / tanggungan;\n",
    "        if (biayaHidup <= 300000){\n",
    "            System.out.println(\"Penduduk miskin\");\n",
    "        } else {\n",
    "            System.out.println(\"Bukan penduduk miskin\"); \n",
    "        }\n",
    "        \n",
    "    } else {\n",
    "           System.out.println(\"Penduduk miskin\");\n",
    "    }\n",
    "       \n",
    "} else {\n",
    "    System.out.print(\"Masukkan status sekolah (1 = ya atau 0 = tidak): \");\n",
    "    sekolah = input.nextInt();\n",
    "    if (sekolah == 1){\n",
    "    System.out.println(\"Bukan penduduk miskin\");\n",
    "    } else {\n",
    "    System.out.println(\"Penduduk miskin\");\n",
    "    }\n",
    "}\n"
   ]
  }
 ],
 "metadata": {
  "kernelspec": {
   "display_name": "Java",
   "language": "java",
   "name": "java"
  },
  "language_info": {
   "codemirror_mode": "java",
   "file_extension": ".jshell",
   "mimetype": "text/x-java-source",
   "name": "Java",
   "pygments_lexer": "java",
   "version": "11.0.12+8-LTS-237"
  },
  "nteract": {
   "version": "nteract-on-jupyter@2.1.3"
  }
 },
 "nbformat": 4,
 "nbformat_minor": 1
}
