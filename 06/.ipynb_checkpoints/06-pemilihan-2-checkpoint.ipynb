{
 "cells": [
  {
   "cell_type": "markdown",
   "metadata": {
    "collapsed": true
   },
   "source": [
    "## JOBSHEET 6\n",
    "\n",
    "## PEMILIHAN 2\n",
    "\n",
    "### Tujuan\n",
    "\n",
    "Mahasiswa memahami tentang operator logika; Mahasiswa mampu menyelesaikan permasalahan dengan menggunakan sintaks pemilihan bersarang; Mahasiswa mampu membuat sebuah program Java yang memanfaatkan sintaks pemilihan bersarang\n",
    "\n",
    "\n",
    "### Alat dan Bahan\n",
    "+ PC/laptop\n",
    "+ Browser(chrome, firefox, safari)\n",
    "+ Koneksi internet\n",
    "\n",
    "### Praktikum\n",
    "\n",
    "#### Percobaan 1\n",
    "\n",
    "#### Waktu percobaan : 40 menit\n",
    "\n",
    "1. Tambahkan library Scanner, deklarasi Scanner\n",
    "\n",
    "2. Buatlah variabel nilai yang memiliki tipe data int untuk menampung data yang diinput melalui keyboard\n",
    "\n",
    "    ![](images/03.png)"
   ]
  },
  {
   "cell_type": "code",
   "execution_count": 1,
   "metadata": {},
   "outputs": [
    {
     "name": "stdout",
     "output_type": "stream",
     "text": [
      "Masukkan nilai ujian (0-100): 85\n"
     ]
    }
   ],
   "source": [
    "// pertanyaan 1-2\n",
    "import java.util.Scanner;\n",
    "Scanner input = new Scanner(System.in);\n",
    "int nilai;\n",
    "System.out.print(\"Masukkan nilai ujian (0-100): \");\n",
    "nilai = input.nextInt();"
   ]
  },
  {
   "cell_type": "markdown",
   "metadata": {},
   "source": [
    "3. Buatlah struktur pengecekan kondisi bersarang. Pengecekan pertama digunakan untuk memastikan bahwa nilai yang dimasukkan berada pada rentang 0 – 100. Jika nilai berada pada rentang 0 – 100, maka akan dilakukan pengecekan status kelulusan mahasiswa, yaitu jika nilai di antara 90 – 100 maka nilainya A, jika nilai di antara 80 – 89 maka nilainya B, jika nilai di antara 60 – 79 maka nilainya C, jika nilai di antara 50 – 59 maka nilainya D, dan jika nilai di antara 0 – 49 maka nilainya E. Sedangkan jika nilai berada di luar rentang 0 – 100, maka ditampilkan informasi bahwa nilai yang dimasukkan tidak valid.\n",
    "\n",
    "    ![](images/04.png)"
   ]
  },
  {
   "cell_type": "code",
   "execution_count": 4,
   "metadata": {},
   "outputs": [
    {
     "name": "stdout",
     "output_type": "stream",
     "text": [
      "Masukkan nilai: 85\n",
      "Nilai B, Pertahankan Prestasi Anda!\n"
     ]
    }
   ],
   "source": [
    "// pertanyaan 3\n",
    "import java.util.Scanner;\n",
    "Scanner sc = new Scanner(System.in);\n",
    "\n",
    "int nilai;\n",
    "System.out.print(\"Masukkan nilai: \");\n",
    "nilai= sc.nextInt();\n",
    "\n",
    "if(nilai >= 0 && nilai <= 100){\n",
    "    if(nilai >= 90 && nilai <=100){\n",
    "        System.out.println(\"Nilai A, EXCELLENT!\");\n",
    "    }else if(nilai >= 80 && nilai <=89){\n",
    "        System.out.println(\"Nilai B, Pertahankan Prestasi Anda!\");\n",
    "    }else if(nilai >=60 && nilai <= 79){\n",
    "        System.out.println(\"Nilai C, Tingkatkan Nilai Anda!\");\n",
    "    }else if(nilai >= 50 && nilai <=59){\n",
    "        System.out.println(\"Nilai D, Tingkatkan Belajar Anda!\");\n",
    "    }else {\n",
    "        System.out.println(\"Nilai E, Anda Tidak Lulus\");\n",
    "    }\n",
    "}else{\n",
    "    System.out.println(\"Nilai yang anda masukkan tidak valid\");\n",
    "}"
   ]
  },
  {
   "cell_type": "markdown",
   "metadata": {},
   "source": [
    "> Penjelasan kode program percobaan 1"
   ]
  },
  {
   "cell_type": "markdown",
   "metadata": {},
   "source": [
    "##### Pertanyaan\n",
    "\n",
    "1. Modifikasi kode program pada Percobaan 1 sehingga jika nilai yang dimasukkan kurang dari 0 akan ditampilkan output “Nilai yang Anda masukkan kurang dari 0” dan jika nilai yang dimasukkan lebih dari 100 akan ditampilkan output “Nilai yang Anda masukkan lebih dari 100”!\n",
    "\n",
    "2. Jelaskan fungsi sintaks if (nilai >= 0 && nilai <= 100)!\n",
    "\n",
    "3. Ubah operator && menjadi || pada sintaks if (nilai >= 0 && nilai <= 100). Jalankan program dengan memasukkan nilai = 105. Amati apa yang terjadi! Mengapa hasilnya demikian?"
   ]
  },
  {
   "cell_type": "code",
   "execution_count": 8,
   "metadata": {},
   "outputs": [
    {
     "name": "stdout",
     "output_type": "stream",
     "text": [
      "Masukkan nilai: -7\n",
      "Nilai yang anda masukkan kurang dari 0\n"
     ]
    }
   ],
   "source": [
    "// 1.1\n",
    "import java.util.Scanner;\n",
    "Scanner sc = new Scanner(System.in);\n",
    "int nilai;\n",
    "System.out.print(\"Masukkan nilai: \");\n",
    "nilai= sc.nextInt();\n",
    "if(nilai <= 0 && nilai <= 100){\n",
    "    if(nilai <= 0){\n",
    "        System.out.println(\"Nilai yang anda masukkan kurang dari 0\");\n",
    "    }else if (nilai >= 100) {\n",
    "        System.out.println(\"Nilai yang anda masukkan lebih dari 100\");\n",
    "    }else {\n",
    "        System.out.println(\"Nilai yang anda masukkan salah\");\n",
    "    }\n",
    "}else{\n",
    "    System.out.println(\"Nilai yang anda masukkan tidak valid\");\n",
    "}"
   ]
  },
  {
   "cell_type": "code",
   "execution_count": 9,
   "metadata": {},
   "outputs": [
    {
     "name": "stdout",
     "output_type": "stream",
     "text": [
      "Masukkan nilai: 107\n",
      "Nilai yang anda masukkan lebih dari 100\n"
     ]
    }
   ],
   "source": [
    "// 1.2\n",
    "import java.util.Scanner;\n",
    "Scanner sc = new Scanner(System.in);\n",
    "int nilai;\n",
    "System.out.print(\"Masukkan nilai: \");\n",
    "nilai= sc.nextInt();\n",
    "if(nilai >= 0 && nilai >= 100){\n",
    "    if(nilai <= 0){\n",
    "        System.out.println(\"Nilai yang anda masukkan kurang dari 0\");\n",
    "    }else if (nilai >= 100) {\n",
    "        System.out.println(\"Nilai yang anda masukkan lebih dari 100\");\n",
    "    }else {\n",
    "        System.out.println(\"Nilai yang anda masukkan salah\");\n",
    "    }\n",
    "}else{\n",
    "    System.out.println(\"Nilai yang anda masukkan tidak valid\");\n",
    "}"
   ]
  },
  {
   "cell_type": "code",
   "execution_count": null,
   "metadata": {},
   "outputs": [],
   "source": [
    "// 2\n",
    "untuk menghasilkan output dari nilai antara 0-100"
   ]
  },
  {
   "cell_type": "code",
   "execution_count": 10,
   "metadata": {},
   "outputs": [
    {
     "name": "stdout",
     "output_type": "stream",
     "text": [
      "Masukkan nilai: 105\n",
      "Nilai yang anda masukkan lebih dari 100\n"
     ]
    }
   ],
   "source": [
    "// 3\n",
    "import java.util.Scanner;\n",
    "Scanner sc = new Scanner(System.in);\n",
    "int nilai;\n",
    "System.out.print(\"Masukkan nilai: \");\n",
    "nilai= sc.nextInt();\n",
    "if(nilai >= 0 || nilai >= 100){\n",
    "    if(nilai <= 0){\n",
    "        System.out.println(\"Nilai yang anda masukkan kurang dari 0\");\n",
    "    }else if (nilai >= 100) {\n",
    "        System.out.println(\"Nilai yang anda masukkan lebih dari 100\");\n",
    "    }else {\n",
    "        System.out.println(\"Nilai yang anda masukkan salah\");\n",
    "    }\n",
    "}else{\n",
    "    System.out.println(\"Nilai yang anda masukkan tidak valid\");\n",
    "}"
   ]
  },
  {
   "cell_type": "code",
   "execution_count": null,
   "metadata": {},
   "outputs": [],
   "source": [
    "program akan tetap berjalan dengan inputan nilai diatas 100"
   ]
  },
  {
   "cell_type": "markdown",
   "metadata": {},
   "source": [
    "#### Percobaan 2\n",
    "\n",
    "#### Waktu percobaan : 40 menit"
   ]
  },
  {
   "cell_type": "markdown",
   "metadata": {},
   "source": [
    "1. Perhatikan flowchart dibawah ini!\n",
    "\n",
    "![](images/02.png)\n",
    "\n",
    "> Flowchart tersebut digunakan untuk menghitung gaji bersih seseorang setelah dipotong pajak sesuai dengan kategorinya (pekerja dan pebisnis) dan besarnya penghasilan. "
   ]
  },
  {
   "cell_type": "markdown",
   "metadata": {},
   "source": [
    "2. Tambahkan library Scanner dan deklarasi Scanner\n",
    "\n",
    "3. Deklarasikan variabel kategori, penghasilan, gajiBersih, dan pajak\n",
    "\n",
    "    ![](images/05.png)"
   ]
  },
  {
   "cell_type": "code",
   "execution_count": 11,
   "metadata": {},
   "outputs": [
    {
     "name": "stdout",
     "output_type": "stream",
     "text": [
      "Masukkan kategori: pekerja\n",
      "Masukkan besarnya penghasilan: 1500000\n"
     ]
    }
   ],
   "source": [
    "// percobaan 2 (2-3)\n",
    "import java.util.Scanner;\n",
    "Scanner input = new Scanner(System.in);\n",
    "String kategori;\n",
    "int gajiBersih, penghasilan;\n",
    "double pajak = 0;\n",
    "\n",
    "System.out.print(\"Masukkan kategori: \");\n",
    "kategori = input.nextLine();\n",
    "System.out.print(\"Masukkan besarnya penghasilan: \");\n",
    "penghasilan = input.nextInt();"
   ]
  },
  {
   "cell_type": "markdown",
   "metadata": {},
   "source": [
    "4. Buatlah struktur pengecekan kondisi bersarang. Pengecekan pertama digunakan untuk mengecek kategori (pekerja atau pebisnis). Selanjutnya dilakukan pengecekan kedua untuk menentukan besarnya pajak berdasarkan penghasilan yang telah dimasukkan.Kemudian tambahkan kode program untuk menghitung gaji bersih yang diterima setelah dipotong pajak!\n",
    "\n",
    "    ![](images/06.png)"
   ]
  },
  {
   "cell_type": "code",
   "execution_count": 17,
   "metadata": {},
   "outputs": [
    {
     "name": "stdout",
     "output_type": "stream",
     "text": [
      "Masukkan penghasilan: 2500000\n",
      "Gaji bersih yang anda terima: 2125000\n"
     ]
    }
   ],
   "source": [
    "//percobaan 2 (4)\n",
    "import java.util.Scanner;\n",
    "Scanner sc = new Scanner(System.in);\n",
    "int penghasilan, gajiBersih;\n",
    "double pajak;\n",
    "System.out.print(\"Masukkan penghasilan: \");\n",
    "penghasilan = sc.nextInt();\n",
    "if(kategori.equalsIgnoreCase (\"pekerja\")){\n",
    "    if(penghasilan <= 2000000){\n",
    "        pajak = 0.1;\n",
    "    }else if(penghasilan <= 3000000){\n",
    "        pajak = 0.15;\n",
    "    }else {\n",
    "        pajak = 0.2;\n",
    "    }\n",
    "    gajiBersih = (int) (penghasilan - (penghasilan * pajak));\n",
    "    System.out.println(\"Gaji bersih yang anda terima: \" + gajiBersih);\n",
    "    \n",
    "}else if (kategori.equalsIgnoreCase (\"pebisnis\")){\n",
    "    if (penghasilan <= 2500000){\n",
    "        pajak = 0.15;\n",
    "    }else if(penghasilan <= 3500000){\n",
    "        pajak = 0.2;\n",
    "    }else{\n",
    "        pajak = 0.25;\n",
    "    }\n",
    "    gajiBersih = (int) (penghasilan - (penghasilan * pajak));\n",
    "    System.out.println(\"Gaji bersih yang anda terima: \" +gajiBersih);\n",
    "}else{\n",
    "    System.out.println(\"Kategori yang anda masukkan salah!\");\n",
    "}"
   ]
  },
  {
   "cell_type": "markdown",
   "metadata": {},
   "source": [
    "5. Jalankan program di atas. Amati apa yang terjadi!"
   ]
  },
  {
   "cell_type": "markdown",
   "metadata": {},
   "source": [
    "> Penjelasan kode program percobaan 2"
   ]
  },
  {
   "cell_type": "markdown",
   "metadata": {},
   "source": [
    "##### Pertanyaan\n",
    "\n",
    "1. Jalankan program dengan memasukkan kategori = pekerja dan penghasilan = 2048485. Amati apa yang terjadi! Mengapa angka di belakang koma tidak ditampilkan?\n",
    "\n",
    "2. Jelaskan fungsi dari (int) pada sintaks:\n",
    "```\n",
    "gajiBersih = (int) (penghasilan - (penghasilan * pajak));\n",
    "```\n",
    "\n",
    "3.\tJalankan program dengan memasukkan kategori = pebisnis dan penghasilan = 2000000. Amati apa yang terjadi! Apa kegunaan dari equalsIgnoreCase?\n",
    "\n",
    "4.\tUbah equalsIgnoreCase menjadi equals, kemudian jalankan program dengan memasukkan kategori = pebisnis dan penghasilan = 2000000. Amati apa yang terjadi! Mengapa hasilnya demikian? Apa kegunaan dari equals?"
   ]
  },
  {
   "cell_type": "code",
   "execution_count": 18,
   "metadata": {},
   "outputs": [
    {
     "name": "stdout",
     "output_type": "stream",
     "text": [
      "Masukkan penghasilan: 2048485\n",
      "Gaji bersih yang anda terima: 1741212\n"
     ]
    }
   ],
   "source": [
    "// 1\n",
    "import java.util.Scanner;\n",
    "Scanner sc = new Scanner(System.in);\n",
    "int penghasilan, gajiBersih;\n",
    "double pajak;\n",
    "System.out.print(\"Masukkan penghasilan: \");\n",
    "penghasilan = sc.nextInt();\n",
    "if(kategori.equalsIgnoreCase (\"pekerja\")){\n",
    "    if(penghasilan <= 2000000){\n",
    "        pajak = 0.1;\n",
    "    }else if(penghasilan <= 3000000){\n",
    "        pajak = 0.15;\n",
    "    }else {\n",
    "        pajak = 0.2;\n",
    "    }\n",
    "    gajiBersih = (int) (penghasilan - (penghasilan * pajak));\n",
    "    System.out.println(\"Gaji bersih yang anda terima: \" + gajiBersih);\n",
    "    \n",
    "}else if (kategori.equalsIgnoreCase (\"pebisnis\")){\n",
    "    if (penghasilan <= 2500000){\n",
    "        pajak = 0.15;\n",
    "    }else if(penghasilan <= 3500000){\n",
    "        pajak = 0.2;\n",
    "    }else{\n",
    "        pajak = 0.25;\n",
    "    }\n",
    "    gajiBersih = (int) (penghasilan - (penghasilan * pajak));\n",
    "    System.out.println(\"Gaji bersih yang anda terima: \" +gajiBersih);\n",
    "}else{\n",
    "    System.out.println(\"Kategori yang anda masukkan salah!\");\n",
    "}"
   ]
  },
  {
   "cell_type": "code",
   "execution_count": null,
   "metadata": {},
   "outputs": [],
   "source": [
    "// 2\n",
    "untuk dapat memproses data dari variable double dan int dalam sekali proses"
   ]
  },
  {
   "cell_type": "code",
   "execution_count": 20,
   "metadata": {},
   "outputs": [
    {
     "name": "stdout",
     "output_type": "stream",
     "text": [
      "Masukkan penghasilan: 2000000\n",
      "Gaji bersih yang anda terima: 1800000\n"
     ]
    }
   ],
   "source": [
    "// 3\n",
    "import java.util.Scanner;\n",
    "Scanner sc = new Scanner(System.in);\n",
    "int penghasilan, gajiBersih;\n",
    "double pajak;\n",
    "System.out.print(\"Masukkan penghasilan: \");\n",
    "penghasilan = sc.nextInt();\n",
    "if(kategori.equalsIgnoreCase (\"pekerja\")){\n",
    "    if(penghasilan <= 2000000){\n",
    "        pajak = 0.1;\n",
    "    }else if(penghasilan <= 3000000){\n",
    "        pajak = 0.15;\n",
    "    }else {\n",
    "        pajak = 0.2;\n",
    "    }\n",
    "    gajiBersih = (int) (penghasilan - (penghasilan * pajak));\n",
    "    System.out.println(\"Gaji bersih yang anda terima: \" + gajiBersih);\n",
    "    \n",
    "}else if (kategori.equalsIgnoreCase (\"pebisnis\")){\n",
    "    if (penghasilan <= 2000000){\n",
    "        pajak = 0.15;\n",
    "    }else if(penghasilan <= 3500000){\n",
    "        pajak = 0.2;\n",
    "    }else{\n",
    "        pajak = 0.25;\n",
    "    }\n",
    "    gajiBersih = (int) (penghasilan - (penghasilan * pajak));\n",
    "    System.out.println(\"Gaji bersih yang anda terima: \" +gajiBersih);\n",
    "}else{\n",
    "    System.out.println(\"Kategori yang anda masukkan salah!\");\n",
    "}"
   ]
  },
  {
   "cell_type": "markdown",
   "metadata": {},
   "source": [
    "### Tugas\n",
    "\n",
    "#### Waktu pengerjaan Tugas: 140 menit\n",
    "\n",
    "1. Buatlah program kalkulator sederhana menggunakan bahasa pemrograman Java. User akan menginputkan dua buah bilangan riil dan satu buah operator aritmatika (+, -, *, atau /), kemudian program akan mengoperasikan dua bilangan tersebut dengan operator yang sesuai. Petunjuk: gunakan pernyataan switch-case.\n",
    "Contoh tampilan program:\n",
    "\n",
    "```\n",
    "Masukkan bilangan pertama: 2.5\n",
    "Masukkan operator (+, -, *, /): *\n",
    "Masukkan bilangan kedua: 4\n",
    "2.5 * 4.0 = 10.0\n",
    "\n",
    "```"
   ]
  },
  {
   "cell_type": "code",
   "execution_count": 16,
   "metadata": {},
   "outputs": [
    {
     "name": "stdout",
     "output_type": "stream",
     "text": [
      "Masukkan angka pertama: 2.5\n",
      "Masukkan operator (+ - * /): *\n",
      "Masukkan angka kedua: 4\n",
      "2.5*4.0=10.0\n"
     ]
    }
   ],
   "source": [
    "//tugas 1\n",
    "import java.util.Scanner;\n",
    "Scanner sc = new Scanner(System.in);\n",
    "char operator;\n",
    "double angka1, angka2;\n",
    "System.out.print(\"Masukkan angka pertama: \");\n",
    "angka1 = sc.nextDouble();\n",
    "System.out.print(\"Masukkan operator (+ - * /): \");\n",
    "operator = sc.next().charAt(0);\n",
    "System.out.print(\"Masukkan angka kedua: \");\n",
    "angka2 = sc.nextDouble();\n",
    "switch (operator){\n",
    "    case '+':\n",
    "    hasil = angka1 + angka2;\n",
    "    System.out.println(angka1 + \"+\" + angka2 + \"=\" + hasil);\n",
    "    break;\n",
    "    case '-':\n",
    "    hasil = angka1 - angka2;\n",
    "    System.out.println(angka1 + \"-\" + angka2 + \"=\" + hasil);\n",
    "    break;\n",
    "    case '*':\n",
    "    hasil = angka1 * angka2;\n",
    "    System.out.println(angka1 + \"*\" + angka2 + \"=\" + hasil);\n",
    "    break;\n",
    "    case '/':\n",
    "    hasil = angka1 / angka2;\n",
    "    System.out.println(angka1 + \"/\" + angka2 + \"=\" + hasil);\n",
    "    break;  \n",
    "    default :\n",
    "    System.out.println(\"Operator yang anda masukkan salah\");\n",
    "}\n"
   ]
  },
  {
   "cell_type": "markdown",
   "metadata": {},
   "source": [
    "2. Dengan menggunakan tiga nilai yang mewakili panjang tiga sisi sebuah segitiga, tentukan apakah segitiga tersebut sama sisi (ketiga sisinya bernilai sama), sama kaki (kedua sisinya bernilai sama), atau sembarang (tidak ada sisi yang bernilai sama)! "
   ]
  },
  {
   "cell_type": "code",
   "execution_count": null,
   "metadata": {},
   "outputs": [],
   "source": [
    "//2\n"
   ]
  },
  {
   "cell_type": "markdown",
   "metadata": {},
   "source": [
    "3. Warung Padang Gembira meminta Anda membuat sebuah program untuk menerima pesanan dari internet. Program yang Anda buat meminta user untuk memasukkan nama makanan dan harga. Setelah itu, user ditawarkan untuk menggunakan pengiriman ekspres. Jika pengguna menolak, maka jenis pengiriman yang digunakan adalah pengiriman reguler. Biaya pengiriman reguler untuk harga makanan kurang dari Rp 100.000 adalah Rp 20.000, sedangkan untuk harga makanan sama dengan atau lebih dari Rp 100.000 biaya pengirimannya adalah Rp 30.000. Untuk jenis pengiriman ekspres, tambahkan biaya tambahan sebesar Rp 25.000 dari standar biaya pengiriman reguler. Tampilkan struk yang berisi nama makanan yang dibeli + harga, biaya pengiriman, dan total yang harus dibayar!\n",
    "Contoh hasil output program:\n",
    "\n",
    "```\n",
    "Masukkan nama makanan: Tuna salad\n",
    "Masukkan harga makanan: Rp 115000\n",
    "Apakah Anda ingin pengiriman ekspres (0 = tidak, 1 = ya)? 0\n",
    "\n",
    "STRUK PEMBELIAN\n",
    "Tuna salad        Rp 115000\n",
    "Biaya pengiriman  Rp 30000\n",
    "TOTAL             Rp 145000\n",
    "\n",
    "```\n",
    "\n",
    "```\n",
    "Masukkan nama makanan: Beef bulgogi\n",
    "Masukkan harga makanan: Rp 78000\n",
    "Apakah Anda ingin pengiriman ekspres (0 = tidak, 1 = ya)? 1\n",
    "\n",
    "STRUK PEMBELIAN\n",
    "Beef bulgogi      Rp 115000\n",
    "Biaya pengiriman  Rp 45000\n",
    "TOTAL             Rp 123000\n",
    "\n",
    "```\n",
    "\n"
   ]
  },
  {
   "cell_type": "code",
   "execution_count": 3,
   "metadata": {},
   "outputs": [
    {
     "name": "stdout",
     "output_type": "stream",
     "text": [
      "Masukkan nama makanan:Tuna salad \n",
      "Masukkan harga makanan: 115000\n",
      "Apakah anda ingin pengiriman ekspres (0 = tidak, 1 = ya)0\n",
      "STRUK PEMBELIAN\n",
      "tuna salad      :115000\n",
      "Biaya pengiriman:30000\n",
      "TOTAL           : 145000\n"
     ]
    }
   ],
   "source": [
    "import java.util.Scanner;\n",
    "Scanner sc = new Scanner(System.in);\n",
    "int beli, ya, tidak, pengiriman, harga, ekspresYa, ekspresTidak, totalKirim, total;\n",
    "System.out.println(\"Masukkan nama makanan:Tuna salad \");\n",
    "System.out.print(\"Masukkan harga makanan: \");\n",
    "harga = sc.nextInt();\n",
    "ya = 1;\n",
    "tidak = 0;\n",
    "System.out.println(\"Apakah anda ingin pengiriman ekspres (0 = tidak, 1 = ya)\" +tidak);\n",
    "System.out.println(\"STRUK PEMBELIAN\");\n",
    "System.out.println(\"tuna salad      :\" +harga);\n",
    "pengiriman;\n",
    "if(pengiriman <= 100000){\n",
    "    pengiriman = 30000;\n",
    "}else if(pengiriman >= 100000){\n",
    "    pengiriman = 20000;\n",
    "}else{\n",
    "    pengiriman = 0;\n",
    "}\n",
    "ekspresYa = 25000;\n",
    "ekspresTidak = 0;\n",
    "totalKirim = pengiriman + ekspresTidak;\n",
    "System.out.println(\"Biaya pengiriman:\" +totalKirim);\n",
    "total = harga + totalKirim;\n",
    "System.out.println(\"TOTAL           : \" +total );"
   ]
  },
  {
   "cell_type": "code",
   "execution_count": 6,
   "metadata": {},
   "outputs": [
    {
     "name": "stdout",
     "output_type": "stream",
     "text": [
      "Masukkan nama makanan:Beef bulgogi\n",
      "Masukkan harga makanan: 78000\n",
      "Apakah anda ingin pengiriman ekspres (0 = tidak, 1 = ya)1\n",
      "STRUK PEMBELIAN\n",
      "Beef bulgogi     :78000\n",
      "Biaya pengiriman:45000\n",
      "TOTAL           : 123000\n"
     ]
    }
   ],
   "source": [
    "import java.util.Scanner;\n",
    "Scanner sc = new Scanner(System.in);\n",
    "int beli, ya, tidak, pengiriman, harga, ekspresYa, ekspresTidak, totalKirim, total;\n",
    "System.out.println(\"Masukkan nama makanan:Beef bulgogi\");\n",
    "System.out.print(\"Masukkan harga makanan: \");\n",
    "harga = sc.nextInt();\n",
    "ya = 1;\n",
    "tidak = 0;\n",
    "System.out.println(\"Apakah anda ingin pengiriman ekspres (0 = tidak, 1 = ya)\" +ya);\n",
    "System.out.println(\"STRUK PEMBELIAN\");\n",
    "System.out.println(\"Beef bulgogi     :\" +harga);\n",
    "pengiriman;\n",
    "if(pengiriman <= 100000){\n",
    "    pengiriman = 20000;\n",
    "}else if(pengiriman >= 100000){\n",
    "    pengiriman = 30000;\n",
    "}else{\n",
    "    pengiriman = 0;\n",
    "}\n",
    "ekspresYa = 25000;\n",
    "ekspresTidak = 0;\n",
    "totalKirim = pengiriman + ekspresYa;\n",
    "System.out.println(\"Biaya pengiriman:\" +totalKirim);\n",
    "total = harga + totalKirim;\n",
    "System.out.println(\"TOTAL           : \" +total );"
   ]
  },
  {
   "cell_type": "markdown",
   "metadata": {},
   "source": [
    "4. Perhatikan flowchart berikut ini!\n",
    "\n",
    "![](images/01.png)\n",
    "\n",
    "> Buatlah program sesuai dengan flowchart diatas!"
   ]
  },
  {
   "cell_type": "code",
   "execution_count": null,
   "metadata": {},
   "outputs": [],
   "source": [
    "//ketik kode program dan lampirkan hasilnya disini"
   ]
  }
 ],
 "metadata": {
  "kernelspec": {
   "display_name": "Java",
   "language": "java",
   "name": "java"
  },
  "language_info": {
   "codemirror_mode": "java",
   "file_extension": ".jshell",
   "mimetype": "text/x-java-source",
   "name": "Java",
   "pygments_lexer": "java",
   "version": "11.0.12+8-LTS-237"
  },
  "nteract": {
   "version": "nteract-on-jupyter@2.1.3"
  }
 },
 "nbformat": 4,
 "nbformat_minor": 1
}
