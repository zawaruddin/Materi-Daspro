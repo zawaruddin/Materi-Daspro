{
 "cells": [
  {
   "cell_type": "markdown",
   "metadata": {},
   "source": [
    "# JOBSHEET 14. Fungsi 2\n",
    "Nama : Ega Fadhilla Febryana\n",
    "NIM :2131710072"
   ]
  },
  {
   "cell_type": "markdown",
   "metadata": {},
   "source": [
    "## Tujuan\n",
    "* Mahasiswa memahami konsep fungsi rekursif\n",
    "* Mahasiswa mampu mengimplementasikan fungsi rekursif dalam kode program\n",
    "\n"
   ]
  },
  {
   "cell_type": "markdown",
   "metadata": {},
   "source": [
    "## Alat dan Bahan\n",
    "* PC/Laptop\n",
    "* Browser\n",
    "* Koneksi internet\n",
    "* Anaconda3 + Java kernel (opsional)"
   ]
  },
  {
   "cell_type": "markdown",
   "metadata": {},
   "source": [
    "## Praktikum"
   ]
  },
  {
   "cell_type": "markdown",
   "metadata": {},
   "source": [
    "### Percobaan 1\n",
    "Pada percobaan ini akan dilakukan pembuatan program untuk menghitung nilai faktorial dari suatu bilangan dengan menggunakan fungsi rekursif. Selain itu, akan dibuat juga fungsi untuk menghitung nilai faktorial dengan menggunakan algoritma iteratif sebagai pembandingnya\n",
    "\n",
    "1. Buat fungsi static dengan nama **faktorialRekursif()**, dengan tipe data kembalian fungsi int dan memiliki 1 parameter dengan tipe data int berupa bilangan yang akan dihitung nilai faktorialnya\n",
    "\n",
    "    ![Gambar 1](images/code14-1.png)"
   ]
  },
  {
   "cell_type": "code",
   "execution_count": 5,
   "metadata": {},
   "outputs": [],
   "source": [
    "// Tuliskan kode program Percobaan 1 Langkah 1\n",
    "static int faktorialR(int n){\n",
    "    if(n == 0){\n",
    "        return(1);\n",
    "    }else{\n",
    "        return(n * faktorialR(n-1));\n",
    "    }\n",
    "}\n",
    "      "
   ]
  },
  {
   "cell_type": "markdown",
   "metadata": {},
   "source": [
    "2. Buat lagi fungsi static dengan nama **faktorialIteratif()**, dengan tipe data kembalian fungsi int dan memiliki 1 parameter dengan tipe data int berupa bilangan yang akan dihitung nilai faktorialnya.\n",
    "\n",
    "    ![Gambar 2](images/code14-2.png)"
   ]
  },
  {
   "cell_type": "code",
   "execution_count": 6,
   "metadata": {},
   "outputs": [],
   "source": [
    "// Tuliskan kode program Percobaan 1 Langkah 2\n",
    "static int faktorialI(int n){\n",
    "    int faktor = 1;\n",
    "    for(int i=n; i>=1; i--){\n",
    "        faktor = faktor * i;\n",
    "    }\n",
    "    return faktor;\n",
    "}\n"
   ]
  },
  {
   "cell_type": "markdown",
   "metadata": {},
   "source": [
    "# 3. Lakukan pemanggilan terhadap kedua fungsi yang telah dibuat sebelumnya, dan tampilkan hasil yang didapatkan.\n",
    "\n",
    "![Gambar 3](images/code14-3.png)\n"
   ]
  },
  {
   "cell_type": "code",
   "execution_count": 13,
   "metadata": {},
   "outputs": [
    {
     "name": "stdout",
     "output_type": "stream",
     "text": [
      "120\n",
      "0\n"
     ]
    }
   ],
   "source": [
    "// Tuliskan kode program Percobaan 1 Langkah 1, 2, 3\n",
    "static int faktorialRekursif(int n){\n",
    "    if (n == 0){\n",
    "        return (1);\n",
    "    } else {\n",
    "        return (n * faktorialRekursif(n - 1));\n",
    "    }\n",
    "}\n",
    "static int faktorialIteratif(int n){\n",
    "    int faktor = 1;\n",
    "    for (int i = n; i >= 1; i++){\n",
    "        faktor = faktor * i;\n",
    "    }\n",
    "    return faktor;\n",
    "}\n",
    "System.out.println(faktorialRekursif(5));\n",
    "System.out.println(faktorialIteratif(5));\n",
    "\n"
   ]
  },
  {
   "cell_type": "markdown",
   "metadata": {},
   "source": [
    "4. Jika ditelusuri, pada saat pemanggilan fungsi faktorialRekursif(5),maka proses yang terjadi dapat diilustrasikan sebagai berikut:\n",
    "\n",
    "    ![Gambar 4](images/code14-4.png)"
   ]
  },
  {
   "cell_type": "markdown",
   "metadata": {},
   "source": [
    "#### Pertanyaan\n",
    "1. Apa yang dimaksud dengan fungsi rekursif?\n",
    "\n",
    "Jawab : Fungsi rekursif adalah fungsi yang memanggil dirinya sendiri. Hal ini bisa terjadi karena di dalam suatu fungsi rekursif, terdapat statement atau baris program yang memanggil fungsi itu sendiri. Ketika suatu fungsi rekursif dipanggil atau dijalankan dan kemudian proses eksekusi sudah sampai pada statement pemanggilan fungsi itu sendiri, maka fungsi tersebut akan dipanggil atau dijalankan kembali. Dan lagi, ketika proses eksekusi sudah sampai pada statement pemanggilan fungsi itu sendiri, maka fungsi tersebut akan dipanggil atau dijalankan kembali,begitu seterusnya hingga didapatkan suatu kondisi akhir dimana proses pemanggilan fungsi tersebut tidak dilakukan lagi. Jika kondisi akhir tersebut tidak ditemukan atau tidak ada, maka fungsi tersebut akan dipanggil terus menerus (infinite loop) dan ini tidak diperbolehkan.\n",
    "\n",
    "2. Bagaimana contoh kasus penggunaan fungsi rekursif ? \n",
    "\n",
    "Jawab : Contohnya seperti kita menampilkan angka 1 sampai angka 10 dengan menggunakan perulangan Rekursif\n",
    "\n",
    "3. Pada Percobaan1, apakah hasil yang diberikan fungsi faktorialRekursif() dan fungsi faktorialIteratif() sama? Jelaskan perbedaan alur jalannya program pada penggunaan fungsi rekursif dan fungsi iteratif!\n",
    "\n",
    "Jawab : Sama, karena sama-sama memanggil fungsi itu sendiri. Pada penggunaan fungsi rekursif,\n",
    "program tersebut akan terus melakukan pengulangan sampai base case terpenuhi. Sedangkan\n",
    "fungsi iteratif, program akan berhenti melakukan pengulangan apabila kondisi pengulangannya\n",
    "bernilai False.\n",
    "\n"
   ]
  },
  {
   "cell_type": "markdown",
   "metadata": {},
   "source": [
    "### Percobaan 2\n",
    "Pada percobaan ini akan dilakukan pembuatan program untuk menghitung pangkat sebuah bilangan dengan menggunakan fungsi rekursif."
   ]
  },
  {
   "cell_type": "markdown",
   "metadata": {},
   "source": [
    "1. Buat fungsi static dengan nama **hitungPangkat()**, dengan tipe data kembalian fungsi int dan memiliki 2 parameter dengan tipe data int berupa bilangan yang akan dihitung pangkatnya dan bilangan pangkatnya\n",
    "\n",
    "    ![Gambar 5](images/code14-5.png)"
   ]
  },
  {
   "cell_type": "markdown",
   "metadata": {},
   "source": [
    "2.\tDeklarasikan Scanner dengan nama sc\n",
    "3.\tBuatlah dua buah variabel bertipe int dengan nama bilangan dan pangkat\n",
    "4.\tTambahkan kode berikut ini untuk menerima input dari keyboard\n",
    "\n",
    "    ![Gambar 6](images/code14-6.png)\n",
    "\n",
    "5. Lakukan pemanggilan fungsi hitungPangkat yang telah dibuat sebelumnya dengan mengirimkan dua nilai parameter.\n",
    "\n",
    "    ![Gambar 7](images/code14-7.png)"
   ]
  },
  {
   "cell_type": "code",
   "execution_count": 11,
   "metadata": {},
   "outputs": [
    {
     "name": "stdout",
     "output_type": "stream",
     "text": [
      "Bilangan yang dihitung: 6\n",
      "Pangkat: 2\n",
      "36\n"
     ]
    }
   ],
   "source": [
    "// Tuliskan kode program Percobaan 2 Langkah 1 - 5\n",
    "static int hitungPangkat(int x, int y){\n",
    "    if (y == 0){\n",
    "        return (1);\n",
    "    } else {\n",
    "        return (x * hitungPangkat(x, y - 1));\n",
    "    }\n",
    "}\n",
    "\n",
    "Scanner sc = new Scanner (System.in);\n",
    "int bilangan, pangkat;\n",
    "\n",
    "System.out.print(\"Bilangan yang dihitung: \");\n",
    "bilangan = sc.nextInt();\n",
    "System.out.print(\"Pangkat: \");\n",
    "pangkat = sc.nextInt();\n",
    "\n",
    "System.out.println(hitungPangkat(bilangan, pangkat));"
   ]
  },
  {
   "cell_type": "markdown",
   "metadata": {},
   "source": [
    "#### Pertanyaan\n",
    "1. Pada Percobaan2, terdapat pemanggilan fungsi rekursif hitungPangkat(bilangan, pangkat) pada fungsi main, kemudian dilakukan pemanggilan fungsi hitungPangkat() secara berulangkali. Jelaskan sampai kapan proses pemanggilan fungsi tersebut akan dijalankan!\n",
    "\n",
    "Jawab : Fungsi tersebut akan terus dijalankan sampai base casenya terpenuhi "
   ]
  },
  {
   "cell_type": "markdown",
   "metadata": {},
   "source": [
    "### Percobaan 3\n",
    "Pada percobaan ini akan dilakukan pembuatan program untuk menghitung jumlah uang nasabah yang disimpan di Bank setelah mendapatkan bunga selama beberapa tahun dengan menggunakan fungsi rekursif. \n",
    "\n",
    "1. Buat fungsi static dengan nama **hitungBunga()**, dengan tipe data kembalian fungsi double dan memiliki 2 parameter dengan tipe  data int berupa saldo nasabah dan lamanya menabung. Pada kasus ini dianggap bunga yang ditentukan oleh bank adalah 11% per tahun. Karena perhitungan bunga adalah bunga * saldo, sehingga untuk menghitung besarnya uang setelah ditambah bunga adalah saldo + bunga * saldo. Dalam hal ini, besarnya bunga adalah 0.11 * saldo, dan saldo dianggap 1 * saldo, sehingga 1 * saldo + 0.11 * saldo dapat diringkas menjadi 1.11 * saldo untuk perhitungan saldo setelah ditambah bunga (dalam setahun).\n",
    "\n",
    "    ![Gambar 8](images/code14-8.png)"
   ]
  },
  {
   "cell_type": "markdown",
   "metadata": {},
   "source": [
    "2.\tDeklarasikan Scanner dengan nama sc\n",
    "3.\tBuatlah sebuah variabel bertipa double dengan nama saldoAwal dan sebuah variabel bertipe int bernama tahun\n",
    "4.\tTambahkan kode berikut ini untuk menerima input dari keyboard\n",
    "\n",
    " ![Gambar 9](images/code14-9.png)"
   ]
  },
  {
   "cell_type": "markdown",
   "metadata": {},
   "source": [
    "5. Lakukan pemanggilan fungsi hitungBunga yang telah dibuat sebelumnya dengan mengirimkan dua nilai parameter.\n",
    "\n",
    "    ![Gambar 10](images/code14-10.png)"
   ]
  },
  {
   "cell_type": "code",
   "execution_count": 12,
   "metadata": {},
   "outputs": [
    {
     "name": "stdout",
     "output_type": "stream",
     "text": [
      "Jumlah saldo awal: 500000\n",
      "Lamanya menabung (tahun): 3\n",
      "Jumlah uang setelah 3 tahun: 683815.5000000001\n"
     ]
    }
   ],
   "source": [
    "// Tuliskan kode program Percobaan 3 Langkah 1 - 5\n",
    "static double hitungBunga(double saldo, int tahun){\n",
    "    if (tahun == 0){\n",
    "        return (saldo);\n",
    "    } else {\n",
    "        return (1.11 * hitungBunga(saldo, tahun - 1));\n",
    "    }\n",
    "}\n",
    "Scanner sc = new Scanner (System.in);\n",
    "double saldoAwal;\n",
    "int tahun;\n",
    "\n",
    "System.out.print(\"Jumlah saldo awal: \");\n",
    "saldoAwal = sc.nextInt();\n",
    "System.out.print(\"Lamanya menabung (tahun): \");\n",
    "tahun = sc.nextInt();\n",
    "\n",
    "System.out.print(\"Jumlah uang setelah \" + tahun + \" tahun: \");\n",
    "System.out.println(hitungBunga(saldoAwal, tahun));\n",
    "\n"
   ]
  },
  {
   "cell_type": "markdown",
   "metadata": {},
   "source": [
    "#### Pertanyaan\n",
    "1. Pada Percobaan3, sebutkan blok kode program manakah yang merupakan “base case” dan “recursion call”!\n",
    "Jawab : \n",
    "- base case\n",
    "if(tahun == 0){\n",
    "        return(saldo);\n",
    "    }\n",
    "- recursion call\n",
    "else{\n",
    "        return(1.11 * hitungBunga(saldo,tahun - 1));\n",
    "    }\n"
   ]
  },
  {
   "cell_type": "markdown",
   "metadata": {},
   "source": [
    "## Tugas"
   ]
  },
  {
   "cell_type": "markdown",
   "metadata": {},
   "source": [
    "1. Buatlah program untuk menampilkan bilangan n sampai 0 dengan menggunakan fungsi rekursif dan fungsi iteratif. (**DeretDescendingRekursif**)."
   ]
  },
  {
   "cell_type": "code",
   "execution_count": 1,
   "metadata": {},
   "outputs": [
    {
     "name": "stdout",
     "output_type": "stream",
     "text": [
      "Masukkan Nilai n : 10\n",
      " 10 9 8 7 6 5 4 3 2 1 0 (Deret Descending Rekursif) \n",
      " 10 9 8 7 6 5 4 3 2 1 0 (Deret Descending Iteratif) \n"
     ]
    }
   ],
   "source": [
    "// Tuliskan jawaban tugas nomor 1\n",
    "static int fungsiRekursif(int a){\n",
    "    if(a == 0){System.out.print(\" \" + a);\n",
    "        return (0);\n",
    "    }else{\n",
    "        System.out.print(\" \" + a);\n",
    "        return (a - fungsiRekursif(a - 1));\n",
    "    }\n",
    "}\n",
    "static void fungsiIteratif(int a){\n",
    "    int i;\n",
    "    for (i = a; i >= 0; i--){\n",
    "        System.out.print(\" \" + i);\n",
    "    }\n",
    "}\n",
    "Scanner sc = new Scanner(System.in);\n",
    "System.out.print(\"Masukkan Nilai n : \");\n",
    "int number = sc.nextInt();\n",
    "\n",
    "fungsiRekursif(number);\n",
    "System.out.println(\" (Deret Descending Rekursif) \");\n",
    "\n",
    "fungsiIteratif(number);\n",
    "System.out.println(\" (Deret Descending Iteratif) \");"
   ]
  },
  {
   "cell_type": "markdown",
   "metadata": {},
   "source": [
    "2. Buatlah program yang di dalamnya terdapat fungsi rekursif untuk menghitung bilangan faktorial. Misalniya f = 8, maka akan dihasilkan 1+2+3+4+5+6+7+8 = 36 (**PenjumlahanRekursif**)."
   ]
  },
  {
   "cell_type": "code",
   "execution_count": 7,
   "metadata": {},
   "outputs": [
    {
     "name": "stdout",
     "output_type": "stream",
     "text": [
      "Masukkan bilangan: 8\n",
      "8 + 7 + 6 + 5 + 4 + 3 + 2 + 1 + = 36\n"
     ]
    }
   ],
   "source": [
    "// Tuliskan jawaban tugas nomor 2\n",
    "static int penjumlahanRekursif(int f){\n",
    "    if(f == 0){\n",
    "        return (0);\n",
    "    }else {\n",
    "        System.out.print(f + \" + \");\n",
    "        return(f + penjumlahanRekursif(f-1));\n",
    "    }\n",
    "}\n",
    "\n",
    "Scanner input1 = new Scanner(System.in);\n",
    "System.out.print(\"Masukkan bilangan: \");\n",
    "int nilai = input1.nextInt();\n",
    "\n",
    "int hasil = penjumlahanRekursif(nilai);\n",
    "\n",
    "System.out.println(\"= \" + hasil);"
   ]
  },
  {
   "cell_type": "markdown",
   "metadata": {},
   "source": [
    "3.\tBuat program yang di dalamnya terdapat fungsi rekursif untuk mengecek apakah suatu bilangan n merupakan bilangan prima atau bukan. n dikatakan bukan bilangan prima jika ia habis dibagi dengan bilangan kurang dari n. (**CekPrimaRekursif**)."
   ]
  },
  {
   "cell_type": "code",
   "execution_count": 6,
   "metadata": {
    "scrolled": true
   },
   "outputs": [
    {
     "name": "stdout",
     "output_type": "stream",
     "text": [
      "Masukkan nilai: 10\n",
      "10 Bukan Bilangan Prima\n"
     ]
    }
   ],
   "source": [
    "// Tuliskan jawaban tugas nomor 3\n",
    "static int rekursif(int a, int b){\n",
    "    if(b == 1){\n",
    "     return (1);\n",
    "    }else if(a % b == 0){\n",
    "     return (1 + rekursif(a, --b));\n",
    "    }else {\n",
    "     return (0 + rekursif(a, --b));\n",
    "    }\n",
    "}\n",
    "\n",
    "static boolean cek(int c){\n",
    "    if(c>1){\n",
    "     return(rekursif(c, c)==2);\n",
    "    }else{\n",
    "     return false;\n",
    "    }\n",
    "}\n",
    "\n",
    "int nilai;\n",
    "Scanner input = new Scanner(System.in);\n",
    "System.out.print(\"Masukkan nilai: \");\n",
    "nilai = input.nextInt();\n",
    "\n",
    "if(cek(nilai) == true){\n",
    "    System.out.println(nilai + \" Adalah Bilangan Prima\");\n",
    "}else{\n",
    "    System.out.println(nilai + \" Bukan Bilangan Prima\");\n",
    "}"
   ]
  },
  {
   "cell_type": "markdown",
   "metadata": {},
   "source": [
    "4.\tSepasang marmut yang baru lahir (jantan dan betina) ditempatkan pada suatu pembiakan.  Setelah dua bulan pasangan marmut tersebut melahirkan sepasang marmut kembar (jantan dan betina). Setiap pasangan marmut yang lahir juga akan melahirkan sepasang marmut juga setiap 2 bulan.  Berapa pasangan marmut yang ada pada akhir bulan ke-12? Buatlah programnya menggunakan fungsi rekursif! (**Fibonacci**).\n",
    "Berikut ini adalah ilustrasinya dalam bentuk tabel.\n",
    "\n",
    " ![Gambar 11](images/code14-11.PNG)"
   ]
  },
  {
   "cell_type": "code",
   "execution_count": 5,
   "metadata": {},
   "outputs": [
    {
     "name": "stdout",
     "output_type": "stream",
     "text": [
      "Masukkan bulan: 12\n",
      "total pasangan marmut pada akhir bulan ke-12 adalah 144 Pasangan.\n"
     ]
    }
   ],
   "source": [
    "// Tuliskan jawaban tugas nomor 4\n",
    "static int Fibonaci(int n){\n",
    "    if(n == 0 || n == 1){\n",
    "        return (n);\n",
    "    }else{\n",
    "        return (Fibonaci(n-1) + Fibonaci(n-2));\n",
    "    }\n",
    "}\n",
    "\n",
    "Scanner input = new Scanner(System.in);\n",
    "System.out.print(\"Masukkan bulan: \");\n",
    "int nilai = input.nextInt();\n",
    "\n",
    "System.out.println(\"total pasangan marmut pada akhir bulan ke-\"+ nilai +\" adalah \" +Fibonaci(nilai) + \" Pasangan.\");"
   ]
  },
  {
   "cell_type": "code",
   "execution_count": null,
   "metadata": {},
   "outputs": [],
   "source": []
  }
 ],
 "metadata": {
  "kernelspec": {
   "display_name": "Java",
   "language": "java",
   "name": "java"
  },
  "language_info": {
   "codemirror_mode": "java",
   "file_extension": ".jshell",
   "mimetype": "text/x-java-source",
   "name": "Java",
   "pygments_lexer": "java",
   "version": "11.0.10+8-LTS-162"
  }
 },
 "nbformat": 4,
 "nbformat_minor": 4
}
