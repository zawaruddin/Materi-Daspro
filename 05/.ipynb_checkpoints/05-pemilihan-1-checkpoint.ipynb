{
 "cells": [
  {
   "cell_type": "markdown",
   "metadata": {
    "collapsed": true
   },
   "source": [
    "NANDA SHABRINA PUTRI KURNIA /MI-1E/ 2131710064\n",
    "\n",
    "## JOBSHEET 5\n",
    "\n",
    "## PEMILIHAN 1\n",
    "\n",
    "### Tujuan\n",
    "\n",
    "Mahasiswa mampu menyelesaikan permasalahan/studi kasus menggunakan sintaks pemilihan 1 dan mengimplemantasikannya dalam bahasa pemrogaman java.\n",
    "\n",
    "### Alat dan Bahan\n",
    "+ PC/laptop\n",
    "+ Browser(chrome, firefox, safari)\n",
    "+ Koneksi internet\n",
    "\n",
    "### Praktikum\n",
    "\n",
    "#### Percobaan 1 : Penggunaan if\n",
    "\n",
    "#### Waktu percobaan : 40 menit\n",
    "\n",
    "1. Perhatikan flowchart dibawah ini!\n",
    "\n",
    "    <p align=\"left\">\n",
    "    <img width=\"351\" height=\"460\" src=\"images/01.png\">\n",
    "    </p>\n",
    "    \n",
    "\n",
    "> Flowchart diatas digunakan untuk menentukan bilangan ganjil/genap, selanjutnya kita akan membuat programnya berdasarkan\n",
    "> flowchart di atas!\n",
    "\n",
    "2. Tambahkan library Scanner, deklarasi Scanner, dan buat variabel bil untuk menampung data yang diinput melalui keyboard\n",
    "\n",
    "    ![](images/03.png)"
   ]
  },
  {
   "cell_type": "code",
   "execution_count": 1,
   "metadata": {
    "pycharm": {
     "name": "#%%\n"
    }
   },
   "outputs": [
    {
     "name": "stdout",
     "output_type": "stream",
     "text": [
      "Masukkan sebuah bilangan: 10\n"
     ]
    }
   ],
   "source": [
    "// Ketik kode program di atas di bawah sini\n",
    "import java.util.Scanner;\n",
    "Scanner input = new Scanner(System.in);\n",
    "\n",
    "int bil;\n",
    "\n",
    "System.out.print(\"Masukkan sebuah bilangan: \");\n",
    "bil = input.nextInt();"
   ]
  },
  {
   "cell_type": "markdown",
   "metadata": {},
   "source": [
    "3. Buatlah struktur kondisi untuk mengecek apakah bilangan tersebut merupakan bilangan genap atau ganjil\n",
    "\n",
    "    ![](images/04.png)"
   ]
  },
  {
   "cell_type": "code",
   "execution_count": 2,
   "metadata": {},
   "outputs": [
    {
     "name": "stdout",
     "output_type": "stream",
     "text": [
      "Bilangan genap\n"
     ]
    }
   ],
   "source": [
    "// Ketik kode program di atas di bawah sini\n",
    "if(bil %2 == 0){\n",
    "    System.out.println(\"Bilangan genap\");\n",
    "}else{\n",
    "    System.out.println(\"Bilangan ganjil\");\n",
    "}"
   ]
  },
  {
   "cell_type": "markdown",
   "metadata": {},
   "source": [
    "> Tuliskan penjelasan kode-kode di atas\n",
    "\n"
   ]
  },
  {
   "cell_type": "markdown",
   "metadata": {},
   "source": [
    "##### Pertanyaan\n",
    "1. Modifikasi program diatas dibagian struktur pemilihannya sehingga menjadi sebagai berikut:\n",
    "\n",
    "    ![](images/05.png)"
   ]
  },
  {
   "cell_type": "code",
   "execution_count": 3,
   "metadata": {},
   "outputs": [
    {
     "name": "stdout",
     "output_type": "stream",
     "text": [
      "Bilangan genap\n"
     ]
    }
   ],
   "source": [
    "// Ketik kode program di atas di bawah sini\n",
    "String output = (bil %2 == 0) ? \"Bilangan genap\":\"Bilangan ganjil\";\n",
    "System.out.println(output);"
   ]
  },
  {
   "cell_type": "markdown",
   "metadata": {},
   "source": [
    "2. Jalankan dan amatilah hasilnya!\n",
    "3. Jelaskan mengapa output program yang dimodifikasi sama dengan output program sebelum dimodifikasi!"
   ]
  },
  {
   "cell_type": "markdown",
   "metadata": {},
   "source": [
    "> Jawab pertanyaan di bawah ini"
   ]
  },
  {
   "cell_type": "markdown",
   "metadata": {},
   "source": [
    "#### Percobaan 2 : Penggunaan if else\n",
    "\n",
    "#### Waktu percobaan : 40 menit\n",
    "\n",
    "+ Buatlah sebuah variabel nilai untuk menyimpan inputan dari keyboard\n",
    "\n",
    "    ![](images/06.png)"
   ]
  },
  {
   "cell_type": "code",
   "execution_count": 4,
   "metadata": {},
   "outputs": [
    {
     "name": "stdout",
     "output_type": "stream",
     "text": [
      "Masukkan sebuah bilangan: 10\n"
     ]
    }
   ],
   "source": [
    "// Ketik kode program di atas di bawah sini\n",
    "int nilai;\n",
    "System.out.print(\"Masukkan sebuah bilangan: \");\n",
    "nilai = input.nextInt();"
   ]
  },
  {
   "cell_type": "markdown",
   "metadata": {},
   "source": [
    "+ Tambahkan sebuah kondisi untuk mengecek input pada variabel nilai\n",
    "\n",
    "    ![](images/07.png)"
   ]
  },
  {
   "cell_type": "code",
   "execution_count": 5,
   "metadata": {},
   "outputs": [
    {
     "name": "stdout",
     "output_type": "stream",
     "text": [
      "Hasil akhir nilai adalah 0\n"
     ]
    }
   ],
   "source": [
    "// Ketik kode program di atas di bawah sini\n",
    "if(nilai >= 100){\n",
    "    nilai += 10;\n",
    "}else{\n",
    "    nilai -= 10;\n",
    "}\n",
    "System.out.println(\"Hasil akhir nilai adalah \"+nilai);"
   ]
  },
  {
   "cell_type": "markdown",
   "metadata": {},
   "source": [
    "+ Jalankan program. Amati apa yang terjadi!"
   ]
  },
  {
   "cell_type": "markdown",
   "metadata": {},
   "source": [
    "> Tuliskan penjelasan kode di atas\n",
    "\n"
   ]
  },
  {
   "cell_type": "markdown",
   "metadata": {},
   "source": [
    "##### Pertanyaan\n",
    "1. Jelaskan fungsi kode program berikut:\n",
    "    \n",
    "    ```\n",
    "    nilai+=10;\n",
    "    nilai-=10;\n",
    "    ```\n",
    "\n",
    "2. Modifikasilah program diatas dimana inputannya yang awalnya hanya satu kemudian diganti 2 inputan (misal : nilai1 dan nilai2), lakukan perhitungan rata-rata kedua nilai tersebut jika nilainya lebih dari sama dengan 100 maka dikurangi 5, sedangkan jika nilai rata-rata tersebut kurang dari 100 maka akan langsung dicetak!"
   ]
  },
  {
   "cell_type": "markdown",
   "metadata": {},
   "source": [
    "> Tuliskan jawaban di sini\n",
    "\n"
   ]
  },
  {
   "cell_type": "code",
   "execution_count": 7,
   "metadata": {},
   "outputs": [
    {
     "name": "stdout",
     "output_type": "stream",
     "text": [
      "Masukkan bilangan 1: 20\n",
      "Masukkan bilangan 2: 30\n",
      "25"
     ]
    }
   ],
   "source": [
    "int nilai1, nilai2, rataRata;\n",
    "System.out.print(\"Masukkan bilangan 1: \");\n",
    "nilai1 = input.nextInt();\n",
    "System.out.print(\"Masukkan bilangan 2: \");\n",
    "nilai2 = input.nextInt();\n",
    "\n",
    "rataRata = (nilai1 + nilai2) / 2;\n",
    "if(rataRata >= 100){\n",
    "    rataRata -= 5;\n",
    "}else{\n",
    "    System.out.print(rataRata);\n",
    "}"
   ]
  },
  {
   "cell_type": "markdown",
   "metadata": {},
   "source": [
    "#### Percobaan 3 : Penggunaan if else-if else\n",
    "\n",
    "#### Waktu percobaan : 40 menit\n",
    "\n",
    "+ Tambahakan library `Scanner`\n",
    "+ Buatlah deklarasi `Scanner`\n",
    "+ Buat variabel umur bertipe `int`\n",
    "\n",
    "    ![](images/08.png)"
   ]
  },
  {
   "cell_type": "code",
   "execution_count": 8,
   "metadata": {},
   "outputs": [
    {
     "name": "stdout",
     "output_type": "stream",
     "text": [
      "Masukkan umur Anda: 18\n"
     ]
    }
   ],
   "source": [
    "// Ketik kode program di atas di bawah sini\n",
    "import java.util.Scanner;\n",
    "Scanner input = new Scanner(System.in);\n",
    "\n",
    "int umur;\n",
    "System.out.print(\"Masukkan umur Anda: \");\n",
    "umur = input.nextInt();"
   ]
  },
  {
   "cell_type": "markdown",
   "metadata": {},
   "source": [
    "+ Kode untuk melakukan pengecekan variabel `umur`\n",
    "\n",
    "    ![](images/09.png)"
   ]
  },
  {
   "cell_type": "code",
   "execution_count": 9,
   "metadata": {},
   "outputs": [
    {
     "name": "stdout",
     "output_type": "stream",
     "text": [
      "Dewasa\n"
     ]
    }
   ],
   "source": [
    "// Ketik kode program di atas di bawah sini\n",
    "if(umur > 60){\n",
    "    System.out.println(\"Lansia\");\n",
    "}else if(umur > 45){\n",
    "    System.out.println(\"Tua\");\n",
    "}else if(umur > 17){\n",
    "    System.out.println(\"Dewasa\");\n",
    "}else if(umur > 5){\n",
    "    System.out.println(\"Anak-anak\");\n",
    "}else{\n",
    "    System.out.println(\"Balita\");\n",
    "}"
   ]
  },
  {
   "cell_type": "markdown",
   "metadata": {},
   "source": [
    "+ Jalankan program dan amati apa yang terjadi!"
   ]
  },
  {
   "cell_type": "markdown",
   "metadata": {},
   "source": [
    "##### Percobaan 4 : Penggunaan switch-case\n",
    "\n",
    "#### Waktu percobaan : 40 menit\n",
    "\n",
    "1. Deklarasikan Scanner\n",
    "1. Buatlah variabel-variabel berikut\n",
    "\n",
    "    ![](images/10.png)"
   ]
  },
  {
   "cell_type": "code",
   "execution_count": 1,
   "metadata": {},
   "outputs": [],
   "source": [
    "// Ketik kode program di atas di bawah sini\n",
    "Scanner sc = new Scanner(System.in);\n",
    "double angka1, angka2, hasil;\n",
    "char operator;"
   ]
  },
  {
   "cell_type": "markdown",
   "metadata": {},
   "source": [
    "3. Kode program untuk meminta inputan dari keyboard\n",
    "\n",
    "    ![](images/11.png)"
   ]
  },
  {
   "cell_type": "code",
   "execution_count": 3,
   "metadata": {},
   "outputs": [
    {
     "name": "stdout",
     "output_type": "stream",
     "text": [
      "Masukkan angka pertama: 10\n",
      "Masukkan angka kedua: 20\n",
      "Masukkan operator (+ - * /): *\n"
     ]
    }
   ],
   "source": [
    "// Ketik kode program di atas di bawah sini\n",
    "System.out.print(\"Masukkan angka pertama: \");\n",
    "angka1 = sc.nextDouble();\n",
    "System.out.print(\"Masukkan angka kedua: \");\n",
    "angka2 = sc.nextDouble();\n",
    "System.out.print(\"Masukkan operator (+ - * /): \");\n",
    "operator = sc.next().charAt(0);"
   ]
  },
  {
   "cell_type": "markdown",
   "metadata": {},
   "source": [
    "> Tuliskan penjelasan kode-kode di atas\n",
    "\n"
   ]
  },
  {
   "cell_type": "markdown",
   "metadata": {},
   "source": [
    "4. Kode di bawah ini untuk melakukan pengecekan operator yang digunakan sebelum dilakukan operasi aritmatika\n",
    "\n",
    "    ![](images/12.png)"
   ]
  },
  {
   "cell_type": "code",
   "execution_count": 8,
   "metadata": {},
   "outputs": [
    {
     "name": "stdout",
     "output_type": "stream",
     "text": [
      "10.0*20.0=200.0\n"
     ]
    }
   ],
   "source": [
    "// Ketik kode program di atas di bawah sini\n",
    "switch(operator){\n",
    "    case '+':\n",
    "    hasil = angka1 + angka2;\n",
    "    System.out.println(angka1 + \"+\" + angka2 + \"=\" + hasil);\n",
    "    break;\n",
    "    case '-':\n",
    "    hasil = angka1 - angka2;\n",
    "    System.out.println(angka1 + \"-\" + angka2 + \"=\" + hasil);\n",
    "    break;\n",
    "    case '*':\n",
    "    hasil = angka1 * angka2;\n",
    "    System.out.println(angka1 + \"*\" + angka2 + \"=\" + hasil);\n",
    "    break;\n",
    "    case '/':\n",
    "    hasil = angka1 / angka2;\n",
    "    System.out.println(angka1 + \"/\" + angka2 + \"=\" + hasil);\n",
    "    break;\n",
    "    default:\n",
    "    System.out.println(\"operator yang anda masukkan salah\");\n",
    "}"
   ]
  },
  {
   "cell_type": "markdown",
   "metadata": {},
   "source": [
    "5. Jalankan program. Amati apa yang terjadi!"
   ]
  },
  {
   "cell_type": "markdown",
   "metadata": {},
   "source": [
    "> Tuliskan penjelasan kode di atas\n",
    "\n"
   ]
  },
  {
   "cell_type": "markdown",
   "metadata": {},
   "source": [
    "##### Pertanyaan\n",
    "1. Jelaskan fungsi dari break dan default pada percobaan 4 diatas!\n",
    "2. Jelaskan fungsi perintah kode program dibawah ini pada percobaan 4!\n",
    "\n",
    "    ```\n",
    "    operator = sc.next().chartAt(0);\n",
    "    ```"
   ]
  },
  {
   "cell_type": "markdown",
   "metadata": {},
   "source": [
    "> Tuliskan jawaban di atas\n",
    "\n"
   ]
  },
  {
   "cell_type": "markdown",
   "metadata": {},
   "source": [
    "### Tugas\n",
    "\n",
    "#### Waktu pengerjaan Tugas: 140 menit\n",
    "\n",
    "1. Buatlah program untuk menginputkan dua buah bilangan bulat, kemudian mencetak salah satu bilangan yang nilainya terbesar.\n"
   ]
  },
  {
   "cell_type": "code",
   "execution_count": 11,
   "metadata": {},
   "outputs": [
    {
     "name": "stdout",
     "output_type": "stream",
     "text": [
      "Masukkan angka 1: 10\n",
      "Masukkan angka 2: 16\n",
      "Angka yang memiliki nilai terbesar adalah 16\n"
     ]
    }
   ],
   "source": [
    "//ketik kode program dan lampirkan hasilnya di sini\n",
    "import java.util.Scanner;\n",
    "Scanner input = new Scanner(System.in);\n",
    "\n",
    "int angka1, angka2;\n",
    "\n",
    "System.out.print(\"Masukkan angka 1: \");\n",
    "angka1 = input.nextInt();\n",
    "System.out.print(\"Masukkan angka 2: \");\n",
    "angka2 = input.nextInt();\n",
    "\n",
    "if(angka1 > angka2){\n",
    "    System.out.println(\"Angka yang memiliki nilai terbesar adalah \"+angka1);\n",
    "}else{\n",
    "    System.out.println(\"Angka yang memiliki nilai terbesar adalah \" +angka2);\n",
    "}"
   ]
  },
  {
   "cell_type": "markdown",
   "metadata": {},
   "source": [
    "2. Perhatikan flowchart berikut ini:\n",
    "\n",
    "![](images/02.png)\n",
    "\n",
    "> Buatlah program sesuai dengan flowchart diatas!"
   ]
  },
  {
   "cell_type": "code",
   "execution_count": 12,
   "metadata": {},
   "outputs": [
    {
     "name": "stdout",
     "output_type": "stream",
     "text": [
      "Masukkan umur: 15\n",
      "Tidak boleh berkendara"
     ]
    }
   ],
   "source": [
    "//ketik kode program dan lampirkan hasilnya di sini\n",
    "import java.util.Scanner;\n",
    "Scanner input = new Scanner(System.in);\n",
    "\n",
    "int umur;\n",
    "\n",
    "System.out.print(\"Masukkan umur: \");\n",
    "umur = input.nextInt();\n",
    "\n",
    "if(umur >= 17){\n",
    "    System.out.print(\"Boleh berkendara\");\n",
    "}else{\n",
    "    System.out.print(\"Tidak boleh berkendara\");\n",
    "}"
   ]
  },
  {
   "cell_type": "markdown",
   "metadata": {},
   "source": [
    "3. Pada akhir semester seorang dosen menghitung nilai akhir dari mahasiswa yang terdiri dari nilai uas, uts, kuis, dan tugas. Nilai akhir didapatkan dari 40% nilai uas, 30% nilai uts, 10% nilai kuis, dan 20% nilai tugas. Jika nilai akhir dari mahasiswa dibawah 65 maka mahasiswa tersebut akan mendapatkan remidi. Buatlah program untuk membantu mengetahui mahasiswa yang mendapatkan remidi berdasarkan nilai akhir yang didapatkannya!"
   ]
  },
  {
   "cell_type": "code",
   "execution_count": 13,
   "metadata": {},
   "outputs": [
    {
     "name": "stdout",
     "output_type": "stream",
     "text": [
      "Nilai tugas: 87\n",
      "Nilai kuis: 80\n",
      "Nilai UTS: 90\n",
      "Nilai UAS: 92\n",
      "Nilai akhir: 88\n",
      "Mahasiswa dinyatakan lulus"
     ]
    }
   ],
   "source": [
    "//ketik kode program dan lampirkan hasilnya di sini\n",
    "import java.util.Scanner;\n",
    "Scanner input = new Scanner(System.in);\n",
    "\n",
    "int tugas, kuis, uts, uas, nilaiAkhir;\n",
    "\n",
    "System.out.print(\"Nilai tugas: \");\n",
    "tugas = input.nextInt();\n",
    "System.out.print(\"Nilai kuis: \");\n",
    "kuis = input.nextInt();\n",
    "System.out.print(\"Nilai UTS: \");\n",
    "uts = input.nextInt();\n",
    "System.out.print(\"Nilai UAS: \");\n",
    "uas = input.nextInt();\n",
    "\n",
    "nilaiAkhir = (tugas * 20 /100) + (kuis * 10 / 100) + (uts * 30 / 100) + (uas * 40 / 100);\n",
    "System.out.println(\"Nilai akhir: \"+nilaiAkhir);\n",
    "\n",
    "if(nilaiAkhir < 65){\n",
    "    System.out.print(\"Mahasiswa melakukan remidi\");\n",
    "}else{\n",
    "    System.out.print(\"Mahasiswa dinyatakan lulus\");\n",
    "}"
   ]
  },
  {
   "cell_type": "markdown",
   "metadata": {},
   "source": [
    "4. Sebuah toko memberikan diskon kepada pelanggannya dengan ketentuan sebagai berikut:\n",
    "\n",
    "| Total Belanja     | Potongan |\n",
    "|-------------------|----------|\n",
    "| >Rp. 200.000,00   | 2%       |\n",
    "| >Rp. 500.000,00   | 5%       |\n",
    "| >Rp. 1.000.000,00 | 10%      |\n",
    "\n",
    "> Total belanja diperoleh dari pembelian tiga barang yaitu barang A, barang B, dan barang C. Ketika menginputkan harga barang juga menginputkan jumlah barang yang dibeli.\n",
    "\n",
    "Contoh outputnya\n",
    "```\n",
    "Masukkan harga barang A   :100000\n",
    "Masukkan jumlah barang A  :10\n",
    "Masukkan harga barang B   :250000\n",
    "Masukkan jumlah barang B  :5\n",
    "Masukkan harga barang C   :150000\n",
    "Masukkan jumlah barang C  :1\n",
    "---------------------------------------------\n",
    "                Struk total\n",
    "---------------------------------------------\n",
    "Nama Barang \t| \tHarga \t| \tJumlah \t| \tTotal\n",
    "Barang A            100000         10        1000000   \n",
    "Barang B            250000         5         1250000   \n",
    "Barang C            150000         1         150000    \n",
    "Total       :2400000\n",
    "Diskon      :240000.0\n",
    "Total Bayar :2160000.0\n",
    "```"
   ]
  },
  {
   "cell_type": "code",
   "execution_count": 21,
   "metadata": {},
   "outputs": [
    {
     "name": "stdout",
     "output_type": "stream",
     "text": [
      "Masukkan harga barang A: 10000\n",
      "Masukkan jumlah barang A: 5\n",
      "Masukkan harga barang B: 20000\n",
      "Masukkan jumlah barang B: 7\n",
      "Masukkan harga barang C: 25000\n",
      "Masukkan jumlah barang C: 8\n",
      "----------------------------------------------------------\n",
      "\t\t\tSTRUK TOTAL\t\t\t\n",
      "----------------------------------------------------------\n",
      "  Nama Barang  |     Harga    |     Jumlah    |     Total \n",
      "Barang A\t10000\t5\t50000\n",
      "Barang B\t20000\t7\t140000\n",
      "Barang C\t25000\t8\t200000\n",
      "Total       : 390000\n",
      "Diskon      : 7800\n",
      "Total Bayar : 382200\n"
     ]
    }
   ],
   "source": [
    "//ketik kode program dan lampirkan hasilnya di sini\n",
    "import java.util.Scanner;\n",
    "Scanner input = new Scanner(System.in);\n",
    "int hargaA, jumlahA, totalA, hargaB, jumlahB, totalB, hargaC, jumlahC, totalC, diskon, total, totalBayar;\n",
    "\n",
    "System.out.print(\"Masukkan harga barang A: \");\n",
    "hargaA = input.nextInt();\n",
    "System.out.print(\"Masukkan jumlah barang A: \");\n",
    "jumlahA = input.nextInt();\n",
    "System.out.print(\"Masukkan harga barang B: \");\n",
    "hargaB = input.nextInt();\n",
    "System.out.print(\"Masukkan jumlah barang B: \");\n",
    "jumlahB = input.nextInt();\n",
    "System.out.print(\"Masukkan harga barang C: \");\n",
    "hargaC = input.nextInt();\n",
    "System.out.print(\"Masukkan jumlah barang C: \");\n",
    "jumlahC = input.nextInt();\n",
    "totalA = hargaA * jumlahA;\n",
    "totalB = hargaB * jumlahB;\n",
    "totalC = hargaC * jumlahC;\n",
    "System.out.println(\"----------------------------------------------------------\");\n",
    "System.out.println(\"\\t\\t\\tSTRUK TOTAL\\t\\t\\t\");\n",
    "System.out.println(\"----------------------------------------------------------\");\n",
    "System.out.println(\"  Nama Barang  |     Harga    |     Jumlah    |     Total \");\n",
    "System.out.println(String.format(\"Barang A\\t%s\\t%s\\t%s\", hargaA, jumlahA, totalA));\n",
    "System.out.println(String.format(\"Barang B\\t%s\\t%s\\t%s\", hargaB, jumlahB, totalB));\n",
    "System.out.println(String.format(\"Barang C\\t%s\\t%s\\t%s\", hargaC, jumlahC, totalC));\n",
    "total = totalA + totalB + totalC;\n",
    "System.out.println(\"Total       : \"+ total);\n",
    "if(total > 1000000){\n",
    "    diskon = total * 10 / 100;\n",
    "    System.out.print(\"Diskon      : \"+ diskon);\n",
    "} \n",
    "else if (total > 500000){\n",
    "    diskon = total * 5 /100;\n",
    "    System.out.print(\"Diskon      : \"+ diskon);\n",
    "} \n",
    "else if (total > 200000) {\n",
    "    diskon = total * 2 / 100;\n",
    "    System.out.print(\"Diskon      : \"+ diskon);\n",
    "}\n",
    "totalBayar = total - diskon;\n",
    "System.out.println(\"\\nTotal Bayar : \"+ totalBayar);"
   ]
  },
  {
   "cell_type": "code",
   "execution_count": null,
   "metadata": {},
   "outputs": [],
   "source": []
  }
 ],
 "metadata": {
  "kernelspec": {
   "display_name": "Java",
   "language": "java",
   "name": "java"
  },
  "language_info": {
   "codemirror_mode": "java",
   "file_extension": ".jshell",
   "mimetype": "text/x-java-source",
   "name": "Java",
   "pygments_lexer": "java",
   "version": "11.0.12+8-LTS-237"
  },
  "nteract": {
   "version": "nteract-on-jupyter@2.1.3"
  }
 },
 "nbformat": 4,
 "nbformat_minor": 1
}
