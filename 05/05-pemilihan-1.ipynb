{
 "cells": [
  {
   "cell_type": "markdown",
   "metadata": {
    "collapsed": true
   },
   "source": [
    "## JOBSHEET 5\n",
    "\n",
    "## PEMILIHAN 1\n",
    "\n",
    "### Tujuan\n",
    "\n",
    "Mahasiswa mampu menyelesaikan permasalahan/studi kasus menggunakan sintaks pemilihan 1 dan mengimplemantasikannya dalam bahasa pemrogaman java.\n",
    "\n",
    "### Alat dan Bahan\n",
    "+ PC/laptop\n",
    "+ Browser(chrome, firefox, safari)\n",
    "+ Koneksi internet\n",
    "\n",
    "### Praktikum\n",
    "\n",
    "#### Percobaan 1 : Penggunaan if\n",
    "\n",
    "#### Waktu percobaan : 40 menit\n",
    "\n",
    "1. Perhatikan flowchart dibawah ini!\n",
    "\n",
    "    <p align=\"left\">\n",
    "    <img width=\"351\" height=\"460\" src=\"images/01.png\">\n",
    "    </p>\n",
    "    \n",
    "\n",
    "> Flowchart diatas digunakan untuk menentukan bilangan ganjil/genap, selanjutnya kita akan membuat programnya berdasarkan\n",
    "> flowchart di atas!\n",
    "\n",
    "2. Tambahkan library Scanner, deklarasi Scanner, dan buat variabel bil untuk menampung data yang diinput melalui keyboard\n",
    "\n",
    "    ![](images/03.png)"
   ]
  },
  {
   "cell_type": "code",
   "execution_count": 2,
   "metadata": {
    "pycharm": {
     "name": "#%%\n"
    }
   },
   "outputs": [
    {
     "name": "stdout",
     "output_type": "stream",
     "text": [
      "Masukkan sebuah bilanagan: 12\n"
     ]
    }
   ],
   "source": [
    "// Ketik kode program di atas di bawah sini\n",
    "import java.util.Scanner;\n",
    "Scanner input = new Scanner(System.in);\n",
    "int bil;\n",
    "System.out.print(\"Masukkan sebuah bilanagan: \");\n",
    "bil = input.nextInt();"
   ]
  },
  {
   "cell_type": "markdown",
   "metadata": {},
   "source": [
    "3. Buatlah struktur kondisi untuk mengecek apakah bilangan tersebut merupakan bilangan genap atau ganjil\n",
    "\n",
    "    ![](images/04.png)"
   ]
  },
  {
   "cell_type": "code",
   "execution_count": 4,
   "metadata": {},
   "outputs": [
    {
     "name": "stdout",
     "output_type": "stream",
     "text": [
      "Bilanagn Genap\n"
     ]
    }
   ],
   "source": [
    "// Ketik kode program di atas di bawah sini\n",
    "if(bil%2==0){\n",
    "    System.out.println(\"Bilanagn Genap\");\n",
    "} else {\n",
    "    System.out.println(\"Bilanagn Ganjil\");\n",
    "}"
   ]
  },
  {
   "cell_type": "markdown",
   "metadata": {},
   "source": [
    "> Tuliskan penjelasan kode-kode di atas\n",
    "\n"
   ]
  },
  {
   "cell_type": "markdown",
   "metadata": {},
   "source": [
    "##### Pertanyaan\n",
    "1. Modifikasi program diatas dibagian struktur pemilihannya sehingga menjadi sebagai berikut:\n",
    "\n",
    "    ![](images/05.png)"
   ]
  },
  {
   "cell_type": "code",
   "execution_count": 6,
   "metadata": {},
   "outputs": [
    {
     "name": "stdout",
     "output_type": "stream",
     "text": [
      "Bilangan Genap\n"
     ]
    }
   ],
   "source": [
    "// Ketik kode program di atas di bawah sini\n",
    "String output = (bil % 2== 0)?\"Bilangan Genap\":\"Bilangan Ganjil\";\n",
    "System.out.println(output);"
   ]
  },
  {
   "cell_type": "markdown",
   "metadata": {},
   "source": [
    "2. Jalankan dan amatilah hasilnya!\n",
    "3. Jelaskan mengapa output program yang dimodifikasi sama dengan output program sebelum dimodifikasi!"
   ]
  },
  {
   "cell_type": "markdown",
   "metadata": {},
   "source": [
    "> Jawab pertanyaan di bawah ini"
   ]
  },
  {
   "cell_type": "markdown",
   "metadata": {},
   "source": [
    "#### Percobaan 2 : Penggunaan if else\n",
    "\n",
    "#### Waktu percobaan : 40 menit\n",
    "\n",
    "+ Buatlah sebuah variabel nilai untuk menyimpan inputan dari keyboard\n",
    "\n",
    "    ![](images/06.png)"
   ]
  },
  {
   "cell_type": "code",
   "execution_count": 13,
   "metadata": {},
   "outputs": [
    {
     "name": "stdout",
     "output_type": "stream",
     "text": [
      "Masukkan sebuah bilangan : 12\n"
     ]
    }
   ],
   "source": [
    "// Ketik kode program di atas di bawah sini\n",
    " int nilai;\n",
    "System.out.print(\"Masukkan sebuah bilangan : \");\n",
    "nilai = input.nextInt();"
   ]
  },
  {
   "cell_type": "markdown",
   "metadata": {},
   "source": [
    "+ Tambahkan sebuah kondisi untuk mengecek input pada variabel nilai\n",
    "\n",
    "    ![](images/07.png)"
   ]
  },
  {
   "cell_type": "code",
   "execution_count": 14,
   "metadata": {},
   "outputs": [
    {
     "name": "stdout",
     "output_type": "stream",
     "text": [
      "Hasil Akhir nilai adalah 2\n"
     ]
    }
   ],
   "source": [
    "// Ketik kode program di atas di bawah sini\n",
    "if(nilai >= 100){\n",
    "    nilai += 10;\n",
    "} else {\n",
    "    nilai -= 10;\n",
    "}\n",
    "System.out.println(\"Hasil Akhir nilai adalah \" +nilai);"
   ]
  },
  {
   "cell_type": "markdown",
   "metadata": {},
   "source": [
    "+ Jalankan program. Amati apa yang terjadi!"
   ]
  },
  {
   "cell_type": "markdown",
   "metadata": {},
   "source": [
    "> Tuliskan penjelasan kode di atas\n",
    "\n"
   ]
  },
  {
   "cell_type": "markdown",
   "metadata": {},
   "source": [
    "##### Pertanyaan\n",
    "1. Jelaskan fungsi kode program berikut:\n",
    "    \n",
    "    ```\n",
    "    nilai+=10;\n",
    "    nilai-=10;\n",
    "    ```\n",
    "\n",
    "2. Modifikasilah program diatas dimana inputannya yang awalnya hanya satu kemudian diganti 2 inputan (misal : nilai1 dan nilai2), lakukan perhitungan rata-rata kedua nilai tersebut jika nilainya lebih dari sama dengan 100 maka dikurangi 5, sedangkan jika nilai rata-rata tersebut kurang dari 100 maka akan langsung dicetak!"
   ]
  },
  {
   "cell_type": "markdown",
   "metadata": {},
   "source": [
    "> Tuliskan jawaban di sini\n",
    "\n"
   ]
  },
  {
   "cell_type": "markdown",
   "metadata": {},
   "source": [
    "#### Percobaan 3 : Penggunaan if else-if else\n",
    "\n",
    "#### Waktu percobaan : 40 menit\n",
    "\n",
    "+ Tambahakan library `Scanner`\n",
    "+ Buatlah deklarasi `Scanner`\n",
    "+ Buat variabel umur bertipe `int`\n",
    "\n",
    "    ![](images/08.png)"
   ]
  },
  {
   "cell_type": "code",
   "execution_count": 16,
   "metadata": {},
   "outputs": [
    {
     "name": "stdout",
     "output_type": "stream",
     "text": [
      "Masukkan Umur\n",
      "80\n"
     ]
    }
   ],
   "source": [
    "// Ketik kode program di atas di bawah sini\n",
    "int umur;\n",
    "System.out.println(\"Masukkan Umur\");\n",
    "umur = input.nextInt();"
   ]
  },
  {
   "cell_type": "markdown",
   "metadata": {},
   "source": [
    "+ Kode untuk melakukan pengecekan variabel `umur`\n",
    "\n",
    "    ![](images/09.png)"
   ]
  },
  {
   "cell_type": "code",
   "execution_count": 17,
   "metadata": {},
   "outputs": [
    {
     "name": "stdout",
     "output_type": "stream",
     "text": [
      "lansia\n"
     ]
    }
   ],
   "source": [
    "// Ketik kode program di atas di bawah sini\n",
    "if(umur > 60)\n",
    "    System.out.println(\"lansia\");\n",
    "else if (umur > 45 )\n",
    "    System.out.println(\"Tua\");\n",
    "else if (umur>17)\n",
    "    System.out.println(\"Dewasa\");\n",
    "else if (umur > 5)\n",
    "    System.out.println(\"anak\");\n",
    "else \n",
    "    System.out.println(\"balita\");"
   ]
  },
  {
   "cell_type": "markdown",
   "metadata": {},
   "source": [
    "+ Jalankan program dan amati apa yang terjadi!"
   ]
  },
  {
   "cell_type": "markdown",
   "metadata": {},
   "source": [
    "##### Percobaan 4 : Penggunaan switch-case\n",
    "\n",
    "#### Waktu percobaan : 40 menit\n",
    "\n",
    "1. Deklarasikan Scanner\n",
    "1. Buatlah variabel-variabel berikut\n",
    "\n",
    "    ![](images/10.png)"
   ]
  },
  {
   "cell_type": "code",
   "execution_count": 2,
   "metadata": {},
   "outputs": [],
   "source": [
    "// Ketik kode program di atas di bawah sini\n"
   ]
  },
  {
   "cell_type": "markdown",
   "metadata": {},
   "source": [
    "3. Kode program untuk meminta inputan dari keyboard\n",
    "\n",
    "    ![](images/11.png)"
   ]
  },
  {
   "cell_type": "code",
   "execution_count": null,
   "metadata": {},
   "outputs": [],
   "source": [
    "// Ketik kode program di atas di bawah sini\n"
   ]
  },
  {
   "cell_type": "markdown",
   "metadata": {},
   "source": [
    "> Tuliskan penjelasan kode-kode di atas\n",
    "\n"
   ]
  },
  {
   "cell_type": "markdown",
   "metadata": {},
   "source": [
    "4. Kode di bawah ini untuk melakukan pengecekan operator yang digunakan sebelum dilakukan operasi aritmatika\n",
    "\n",
    "    ![](images/12.png)"
   ]
  },
  {
   "cell_type": "code",
   "execution_count": null,
   "metadata": {},
   "outputs": [],
   "source": [
    "// Ketik kode program di atas di bawah sini\n"
   ]
  },
  {
   "cell_type": "markdown",
   "metadata": {},
   "source": [
    "5. Jalankan program. Amati apa yang terjadi!"
   ]
  },
  {
   "cell_type": "markdown",
   "metadata": {},
   "source": [
    "> Tuliskan penjelasan kode di atas\n",
    "\n"
   ]
  },
  {
   "cell_type": "markdown",
   "metadata": {},
   "source": [
    "##### Pertanyaan\n",
    "1. Jelaskan fungsi dari break dan default pada percobaan 4 diatas!\n",
    "2. Jelaskan fungsi perintah kode program dibawah ini pada percobaan 4!\n",
    "\n",
    "    ```\n",
    "    operator = sc.next().chartAt(0);\n",
    "    ```"
   ]
  },
  {
   "cell_type": "markdown",
   "metadata": {},
   "source": [
    "> Tuliskan jawaban di atas\n",
    "\n"
   ]
  },
  {
   "cell_type": "markdown",
   "metadata": {},
   "source": [
    "### Tugas\n",
    "\n",
    "#### Waktu pengerjaan Tugas: 140 menit\n",
    "\n",
    "1. Buatlah program untuk menginputkan dua buah bilangan bulat, kemudian mencetak salah satu bilangan yang nilainya terbesar.\n"
   ]
  },
  {
   "cell_type": "code",
   "execution_count": 19,
   "metadata": {},
   "outputs": [
    {
     "name": "stdout",
     "output_type": "stream",
     "text": [
      "Masukkkan Bilangan pertama12\n",
      "Masukkan Bilangan kedua\n",
      "14\n",
      "14\n"
     ]
    }
   ],
   "source": [
    "//ketik kode program dan lampirkan hasilnya di sini\n",
    "import java.util.Scanner;\n",
    "Scanner input = new Scanner(System.in);\n",
    "int bil1, bil2;\n",
    "System.out.print(\"Masukkkan Bilangan pertama\");\n",
    "bil1 = input.nextInt();\n",
    "System.out.println(\"Masukkan Bilangan kedua\");\n",
    "bil2 = input.nextInt();\n",
    "if (bil1 > bil2)\n",
    "    System.out.println(bil1);\n",
    "else \n",
    "    System.out.println(bil2);"
   ]
  },
  {
   "cell_type": "markdown",
   "metadata": {},
   "source": [
    "2. Perhatikan flowchart berikut ini:\n",
    "\n",
    "![](images/02.png)\n",
    "\n",
    "> Buatlah program sesuai dengan flowchart diatas!"
   ]
  },
  {
   "cell_type": "code",
   "execution_count": 21,
   "metadata": {},
   "outputs": [
    {
     "name": "stdout",
     "output_type": "stream",
     "text": [
      "Masukkan Umur13\n",
      "Dilarang berkendara"
     ]
    }
   ],
   "source": [
    "//ketik kode program dan lampirkan hasilnya di sini\n",
    "import java.util.Scanner;\n",
    "Scanner input = new Scanner(System.in);\n",
    "int umur;\n",
    "System.out.print(\"Masukkan Umur\");\n",
    "umur = input.nextInt();\n",
    "if (umur>=17){\n",
    "System.out.print(\"Boleh berkendara\");\n",
    "}else{\n",
    "System.out.print(\"Dilarang berkendara\");\n",
    "}"
   ]
  },
  {
   "cell_type": "markdown",
   "metadata": {},
   "source": [
    "3. Pada akhir semester seorang dosen menghitung nilai akhir dari mahasiswa yang terdiri dari nilai uas, uts, kuis, dan tugas. Nilai akhir didapatkan dari 40% nilai uas, 30% nilai uts, 10% nilai kuis, dan 20% nilai tugas. Jika nilai akhir dari mahasiswa dibawah 65 maka mahasiswa tersebut akan mendapatkan remidi. Buatlah program untuk membantu mengetahui mahasiswa yang mendapatkan remidi berdasarkan nilai akhir yang didapatkannya!"
   ]
  },
  {
   "cell_type": "code",
   "execution_count": 26,
   "metadata": {},
   "outputs": [
    {
     "name": "stdout",
     "output_type": "stream",
     "text": [
      "Nilai UAS 90\n",
      "Nilai UTS 90\n",
      "Nilai KUIS 85\n",
      "Nilai Tugas 95\n",
      "90.0\n",
      ":)"
     ]
    }
   ],
   "source": [
    "//ketik kode program dan lampirkan hasilnya di sini\n",
    "import java.util.Scanner;\n",
    "Scanner input = new Scanner(System.in);\n",
    "int uas, uts, kuis, tugas;\n",
    "float rata2;\n",
    "System.out.print(\"Nilai UAS \");\n",
    "uas = input.nextInt();\n",
    "System.out.print(\"Nilai UTS \");\n",
    "uts = input.nextInt();\n",
    "System.out.print(\"Nilai KUIS \");\n",
    "kuis = input.nextInt();\n",
    "System.out.print(\"Nilai Tugas \");\n",
    "tugas = input.nextInt();\n",
    "rata2 = (uas*40/100) + (uts*30/100) + (kuis*10/100) + (tugas*20/100);\n",
    "System.out.println(rata2);\n",
    "if (rata2 <= 65){\n",
    "    System.out.print(\"REMIDI\");\n",
    "\n",
    "}else {\n",
    "    System.out.print(\":)\");\n",
    "}\n"
   ]
  },
  {
   "cell_type": "markdown",
   "metadata": {},
   "source": [
    "4. Sebuah toko memberikan diskon kepada pelanggannya dengan ketentuan sebagai berikut:\n",
    "\n",
    "| Total Belanja     | Potongan |\n",
    "|-------------------|----------|\n",
    "| >Rp. 200.000,00   | 2%       |\n",
    "| >Rp. 500.000,00   | 5%       |\n",
    "| >Rp. 1.000.000,00 | 10%      |\n",
    "\n",
    "> Total belanja diperoleh dari pembelian tiga barang yaitu barang A, barang B, dan barang C. Ketika menginputkan harga barang juga menginputkan jumlah barang yang dibeli.\n",
    "\n",
    "Contoh outputnya\n",
    "```\n",
    "Masukkan harga barang A   :100000\n",
    "Masukkan jumlah barang A  :10\n",
    "Masukkan harga barang B   :250000\n",
    "Masukkan jumlah barang B  :5\n",
    "Masukkan harga barang C   :150000\n",
    "Masukkan jumlah barang C  :1\n",
    "---------------------------------------------\n",
    "                Struk total\n",
    "---------------------------------------------\n",
    "Nama Barang \t| \tHarga \t| \tJumlah \t| \tTotal\n",
    "Barang A            100000         10        1000000   \n",
    "Barang B            250000         5         1250000   \n",
    "Barang C            150000         1         150000    \n",
    "Total       :2400000\n",
    "Diskon      :240000.0\n",
    "Total Bayar :2160000.0\n",
    "```"
   ]
  },
  {
   "cell_type": "code",
   "execution_count": 45,
   "metadata": {},
   "outputs": [
    {
     "name": "stdout",
     "output_type": "stream",
     "text": [
      "Masukkan Harga Barang A100000\n",
      "Masukkan Jumlah Barang A2\n",
      "Masukkan Harga Barang B500000\n",
      "Masukkan Jumlah Barang B2\n",
      "Masukkan Harga Barang C1000000\n",
      "Masukkan Jumlah Barang C1\n",
      "-----------------------------\n",
      "           Struk Total         \n",
      "-----------------------------\n",
      "NAMA BARANG      |     HARGA     |     JUMLAH     |     TOTAL\n",
      "Barang A\t\t100000\t\t2\t\t200000\n",
      "Barang B\t\t500000\t\t2\t\t1000000\n",
      "Barang C\t\t1000000\t\t1\t\t1000000\n",
      "TOTAL :2200000\n",
      "Diskon : 44000.0\n",
      "Total Bayar :2156000.0\n"
     ]
    }
   ],
   "source": [
    "//ketik kode program dan lampirkan hasilnya di sini\n",
    "import java.util.Scanner;\n",
    "Scanner input = new Scanner(System.in);\n",
    "int hbA,hbB,hbC,jbA,jbB,jbC,total, totalHarga;\n",
    "double diskon, totalBayar;\n",
    "System.out.print(\"Masukkan Harga Barang A\");\n",
    "hbA = input.nextInt();\n",
    "System.out.print(\"Masukkan Jumlah Barang A\");\n",
    "jbA = input.nextInt();\n",
    "System.out.print(\"Masukkan Harga Barang B\");\n",
    "hbB = input.nextInt();\n",
    "System.out.print(\"Masukkan Jumlah Barang B\");\n",
    "jbB = input.nextInt();\n",
    "System.out.print(\"Masukkan Harga Barang C\");\n",
    "hbC = input.nextInt();\n",
    "System.out.print(\"Masukkan Jumlah Barang C\");\n",
    "jbC = input.nextInt();\n",
    "System.out.println(\"-----------------------------\");\n",
    "System.out.println(\"           Struk Total         \");\n",
    "System.out.println(\"-----------------------------\");\n",
    "System.out.println(\"NAMA BARANG      |     HARGA     |     JUMLAH     |     TOTAL\");\n",
    "System.out.println(\"Barang A\"+\"\\t\\t\"+hbA+\"\\t\\t\" +jbA +\"\\t\\t\" +(hbA*jbA) );\n",
    "System.out.println(\"Barang B\"+\"\\t\\t\"+hbB+\"\\t\\t\" +jbB +\"\\t\\t\" +(hbB*jbB) );\n",
    "System.out.println(\"Barang C\"+\"\\t\\t\"+hbC+\"\\t\\t\" +jbC +\"\\t\\t\" +(hbC*jbC) );\n",
    "System.out.println(\"TOTAL :\" +(hbA*jbA + hbB*jbB + hbC*jbC));\n",
    "totalHarga = (hbA*jbA) + (hbB*jbB) + (hbC*jbC);\n",
    "if (totalHarga > 200000){\n",
    "    diskon = 0.02*totalHarga;\n",
    "}else if (totalHarga > 500000){\n",
    "    diskon = 0.05*totalHarga;\n",
    "}else if(totalHarga > 1000000) {\n",
    "    diskon = 0.10*totalHarga;\n",
    "}\n",
    "System.out.println(\"Diskon : \"+diskon);\n",
    "System.out.println(\"Total Bayar :\" +(totalHarga-diskon));\n"
   ]
  },
  {
   "cell_type": "code",
   "execution_count": null,
   "metadata": {},
   "outputs": [],
   "source": []
  },
  {
   "cell_type": "code",
   "execution_count": null,
   "metadata": {},
   "outputs": [],
   "source": []
  }
 ],
 "metadata": {
  "kernelspec": {
   "display_name": "Java",
   "language": "java",
   "name": "java"
  },
  "language_info": {
   "codemirror_mode": "java",
   "file_extension": ".jshell",
   "mimetype": "text/x-java-source",
   "name": "Java",
   "pygments_lexer": "java",
   "version": "11.0.12+8-LTS-237"
  },
  "nteract": {
   "version": "nteract-on-jupyter@2.1.3"
  }
 },
 "nbformat": 4,
 "nbformat_minor": 1
}
