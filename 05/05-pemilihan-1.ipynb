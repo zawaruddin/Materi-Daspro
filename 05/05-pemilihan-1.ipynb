{
 "cells": [
  {
   "cell_type": "markdown",
   "metadata": {
    "collapsed": true
   },
   "source": [
    "## JOBSHEET 5\n",
    "\n",
    "## PEMILIHAN 1\n",
    "\n",
    "### Tujuan\n",
    "\n",
    "Mahasiswa mampu menyelesaikan permasalahan/studi kasus menggunakan sintaks pemilihan 1 dan mengimplemantasikannya dalam bahasa pemrogaman java.\n",
    "\n",
    "### Alat dan Bahan\n",
    "+ PC/laptop\n",
    "+ Browser(chrome, firefox, safari)\n",
    "+ Koneksi internet\n",
    "\n",
    "### Praktikum\n",
    "\n",
    "#### Percobaan 1 : Penggunaan if\n",
    "\n",
    "#### Waktu percobaan : 40 menit\n",
    "\n",
    "1. Perhatikan flowchart dibawah ini!\n",
    "\n",
    "    <p align=\"left\">\n",
    "    <img width=\"351\" height=\"460\" src=\"images/01.png\">\n",
    "    </p>\n",
    "    \n",
    "\n",
    "> Flowchart diatas digunakan untuk menentukan bilangan ganjil/genap, selanjutnya kita akan membuat programnya berdasarkan\n",
    "> flowchart di atas!\n",
    "\n",
    "2. Tambahkan library Scanner, deklarasi Scanner, dan buat variabel bil untuk menampung data yang diinput melalui keyboard\n",
    "\n",
    "    ![](images/03.png)"
   ]
  },
  {
   "cell_type": "code",
   "execution_count": 1,
   "metadata": {
    "pycharm": {
     "name": "#%%\n"
    }
   },
   "outputs": [
    {
     "name": "stdout",
     "output_type": "stream",
     "text": [
      "Masukkan sebuah bilangan: 7\n"
     ]
    }
   ],
   "source": [
    "// Ketik kode program di atas di bawah sini\n",
    "import java.util.Scanner;\n",
    "Scanner input = new Scanner(System.in);\n",
    "int bil;\n",
    "\n",
    "System.out.print(\"Masukkan sebuah bilangan: \");\n",
    "bil = input.nextInt();"
   ]
  },
  {
   "cell_type": "markdown",
   "metadata": {},
   "source": [
    "3. Buatlah struktur kondisi untuk mengecek apakah bilangan tersebut merupakan bilangan genap atau ganjil\n",
    "\n",
    "    ![](images/04.png)"
   ]
  },
  {
   "cell_type": "code",
   "execution_count": 2,
   "metadata": {},
   "outputs": [
    {
     "name": "stdout",
     "output_type": "stream",
     "text": [
      "Masukkan sebuah bilangan: 7\n",
      "Bilangan Ganjil\n"
     ]
    }
   ],
   "source": [
    "// Ketik kode program di atas di bawah sini\n",
    "import java.util.Scanner;\n",
    "Scanner input = new Scanner(System.in);\n",
    "int bil;\n",
    "\n",
    "System.out.print(\"Masukkan sebuah bilangan: \");\n",
    "bil = input.nextInt();\n",
    "\n",
    "if(bil %2 == 0){\n",
    "    System.out.println(\"Bilangan Genap\");\n",
    "} else {\n",
    "    System.out.println(\"Bilangan Ganjil\");\n",
    "}"
   ]
  },
  {
   "cell_type": "markdown",
   "metadata": {},
   "source": [
    "> Tuliskan penjelasan kode-kode di atas\n",
    "\n"
   ]
  },
  {
   "cell_type": "markdown",
   "metadata": {},
   "source": [
    "##### Pertanyaan\n",
    "1. Modifikasi program diatas dibagian struktur pemilihannya sehingga menjadi sebagai berikut:\n",
    "\n",
    "    ![](images/05.png)"
   ]
  },
  {
   "cell_type": "code",
   "execution_count": 3,
   "metadata": {},
   "outputs": [
    {
     "name": "stdout",
     "output_type": "stream",
     "text": [
      "Masukkan sebuah bilangan: 7\n",
      "Bilangan Ganjil\n"
     ]
    }
   ],
   "source": [
    "// Ketik kode program di atas di bawah sini\n",
    "import java.util.Scanner;\n",
    "Scanner input = new Scanner(System.in);\n",
    "int bil;\n",
    "\n",
    "System.out.print(\"Masukkan sebuah bilangan: \");\n",
    "bil = input.nextInt();\n",
    "\n",
    "String output = (bil %2 == 0) ? \"Bilangan Genap\" : \"Bilangan Ganjil\";\n",
    "System.out.println(output);"
   ]
  },
  {
   "cell_type": "markdown",
   "metadata": {},
   "source": [
    "2. Jalankan dan amatilah hasilnya!\n",
    "3. Jelaskan mengapa output program yang dimodifikasi sama dengan output program sebelum dimodifikasi!"
   ]
  },
  {
   "cell_type": "markdown",
   "metadata": {},
   "source": [
    "> Jawab pertanyaan di bawah ini"
   ]
  },
  {
   "cell_type": "markdown",
   "metadata": {},
   "source": [
    "#### Percobaan 2 : Penggunaan if else\n",
    "\n",
    "#### Waktu percobaan : 40 menit\n",
    "\n",
    "+ Buatlah sebuah variabel nilai untuk menyimpan inputan dari keyboard\n",
    "\n",
    "    ![](images/06.png)"
   ]
  },
  {
   "cell_type": "code",
   "execution_count": 4,
   "metadata": {},
   "outputs": [
    {
     "name": "stdout",
     "output_type": "stream",
     "text": [
      "Masukkan sebuah bilangan: 11\n"
     ]
    }
   ],
   "source": [
    "// Ketik kode program di atas di bawah sini\n",
    "import java.util.Scanner;\n",
    "\n",
    "Scanner input = new Scanner(System.in);\n",
    "int nilai;\n",
    "\n",
    "System.out.print(\"Masukkan sebuah bilangan: \");\n",
    "nilai = input.nextInt();"
   ]
  },
  {
   "cell_type": "markdown",
   "metadata": {},
   "source": [
    "+ Tambahkan sebuah kondisi untuk mengecek input pada variabel nilai\n",
    "\n",
    "    ![](images/07.png)"
   ]
  },
  {
   "cell_type": "code",
   "execution_count": 8,
   "metadata": {},
   "outputs": [
    {
     "name": "stdout",
     "output_type": "stream",
     "text": [
      "Masukkan sebuah bilangan: 11\n",
      "Hasil akhir nilai adalah 1\n"
     ]
    }
   ],
   "source": [
    "// Ketik kode program di atas di bawah sini\n",
    "import java.util.Scanner;\n",
    "\n",
    "Scanner input = new Scanner(System.in);\n",
    "int nilai;\n",
    "\n",
    "System.out.print(\"Masukkan sebuah bilangan: \");\n",
    "nilai = input.nextInt();\n",
    "\n",
    "if(nilai >= 100){\n",
    "    nilai += 10;\n",
    "}else{\n",
    "    nilai -= 10;\n",
    "}\n",
    "System.out.println(\"Hasil akhir nilai adalah \" + nilai);"
   ]
  },
  {
   "cell_type": "markdown",
   "metadata": {},
   "source": [
    "+ Jalankan program. Amati apa yang terjadi!"
   ]
  },
  {
   "cell_type": "markdown",
   "metadata": {},
   "source": [
    "> Tuliskan penjelasan kode di atas\n",
    "\n"
   ]
  },
  {
   "cell_type": "markdown",
   "metadata": {},
   "source": [
    "##### Pertanyaan\n",
    "1. Jelaskan fungsi kode program berikut:\n",
    "    \n",
    "    ```\n",
    "    nilai+=10;\n",
    "    nilai-=10;\n",
    "    ```\n",
    "\n",
    "2. Modifikasilah program diatas dimana inputannya yang awalnya hanya satu kemudian diganti 2 inputan (misal : nilai1 dan nilai2), lakukan perhitungan rata-rata kedua nilai tersebut jika nilainya lebih dari sama dengan 100 maka dikurangi 5, sedangkan jika nilai rata-rata tersebut kurang dari 100 maka akan langsung dicetak!"
   ]
  },
  {
   "cell_type": "markdown",
   "metadata": {},
   "source": [
    "> Tuliskan jawaban di sini\n",
    "\n"
   ]
  },
  {
   "cell_type": "markdown",
   "metadata": {},
   "source": [
    "#### Percobaan 3 : Penggunaan if else-if else\n",
    "\n",
    "#### Waktu percobaan : 40 menit\n",
    "\n",
    "+ Tambahakan library `Scanner`\n",
    "+ Buatlah deklarasi `Scanner`\n",
    "+ Buat variabel umur bertipe `int`\n",
    "\n",
    "    ![](images/08.png)"
   ]
  },
  {
   "cell_type": "code",
   "execution_count": 9,
   "metadata": {},
   "outputs": [
    {
     "name": "stdout",
     "output_type": "stream",
     "text": [
      "Masukkan umur Anda: 18\n"
     ]
    }
   ],
   "source": [
    "// Ketik kode program di atas di bawah sini\n",
    "import java.util.Scanner;\n",
    "\n",
    "Scanner input = new Scanner(System.in);\n",
    "int umur;\n",
    "\n",
    "System.out.print(\"Masukkan umur Anda: \");\n",
    "umur = input.nextInt();"
   ]
  },
  {
   "cell_type": "markdown",
   "metadata": {},
   "source": [
    "+ Kode untuk melakukan pengecekan variabel `umur`\n",
    "\n",
    "    ![](images/09.png)"
   ]
  },
  {
   "cell_type": "code",
   "execution_count": 16,
   "metadata": {},
   "outputs": [
    {
     "name": "stdout",
     "output_type": "stream",
     "text": [
      "Masukkan umur Anda: 18\n",
      "Dewasa\n"
     ]
    }
   ],
   "source": [
    "// Ketik kode program di atas di bawah sini\n",
    "import java.util.Scanner;\n",
    "\n",
    "Scanner input = new Scanner(System.in);\n",
    "int umur;\n",
    "\n",
    "System.out.print(\"Masukkan umur Anda: \");\n",
    "umur = input.nextInt();\n",
    "\n",
    "if(umur > 60 ){\n",
    "    System.out.println(\"Lansia\");\n",
    "}else if(umur > 45){\n",
    "    System.out.println(\"Tua\");\n",
    "}else if(umur > 17 ){\n",
    "    System.out.println(\"Dewasa\");\n",
    "}else if(umur > 5){\n",
    "    System.out.print(\"Anak-anak\");\n",
    "}else{\n",
    "    System.out.println(\"Balita\");\n",
    "}"
   ]
  },
  {
   "cell_type": "markdown",
   "metadata": {},
   "source": [
    "+ Jalankan program dan amati apa yang terjadi!"
   ]
  },
  {
   "cell_type": "markdown",
   "metadata": {},
   "source": [
    "##### Percobaan 4 : Penggunaan switch-case\n",
    "\n",
    "#### Waktu percobaan : 40 menit\n",
    "\n",
    "1. Deklarasikan Scanner\n",
    "1. Buatlah variabel-variabel berikut\n",
    "\n",
    "    ![](images/10.png)"
   ]
  },
  {
   "cell_type": "code",
   "execution_count": 17,
   "metadata": {},
   "outputs": [],
   "source": [
    "// Ketik kode program di atas di bawah sini\n",
    "import java.util.Scanner;\n",
    "\n",
    "Scanner sc = new Scanner(System.in);\n",
    "double angka1, angka2, hasil;\n",
    "char operator;"
   ]
  },
  {
   "cell_type": "markdown",
   "metadata": {},
   "source": [
    "3. Kode program untuk meminta inputan dari keyboard\n",
    "\n",
    "    ![](images/11.png)"
   ]
  },
  {
   "cell_type": "code",
   "execution_count": 18,
   "metadata": {},
   "outputs": [
    {
     "name": "stdout",
     "output_type": "stream",
     "text": [
      "Masukkan angka pertama: 2\n",
      "Masukkan angka kedua: 3\n",
      "Masukkan operator (+ - * /): +\n"
     ]
    }
   ],
   "source": [
    "// Ketik kode program di atas di bawah sini\n",
    "import java.util.Scanner;\n",
    "\n",
    "Scanner sc = new Scanner(System.in);\n",
    "double angka1, angka2, hasil;\n",
    "char operator;\n",
    "\n",
    "System.out.print(\"Masukkan angka pertama: \");\n",
    "angka1 = sc.nextDouble();\n",
    "System.out.print(\"Masukkan angka kedua: \");\n",
    "angka2 = sc.nextDouble();\n",
    "System.out.print(\"Masukkan operator (+ - * /): \");\n",
    "operator = sc.next().charAt(0);"
   ]
  },
  {
   "cell_type": "markdown",
   "metadata": {},
   "source": [
    "> Tuliskan penjelasan kode-kode di atas\n",
    "\n"
   ]
  },
  {
   "cell_type": "markdown",
   "metadata": {},
   "source": [
    "4. Kode di bawah ini untuk melakukan pengecekan operator yang digunakan sebelum dilakukan operasi aritmatika\n",
    "\n",
    "    ![](images/12.png)"
   ]
  },
  {
   "cell_type": "code",
   "execution_count": 26,
   "metadata": {},
   "outputs": [
    {
     "name": "stdout",
     "output_type": "stream",
     "text": [
      "Masukkan angka pertama: 5\n",
      "Masukkan angka kedua: 2\n",
      "Masukkan operator (+ - * /): -\n",
      "5.0 - 2.0 = 3.0\n"
     ]
    }
   ],
   "source": [
    "// Ketik kode program di atas di bawah sini\n",
    "import java.util.Scanner;\n",
    "\n",
    "Scanner sc = new Scanner(System.in);\n",
    "double angka1, angka2, hasil;\n",
    "char operator;\n",
    "\n",
    "System.out.print(\"Masukkan angka pertama: \");\n",
    "angka1 = sc.nextDouble();\n",
    "System.out.print(\"Masukkan angka kedua: \");\n",
    "angka2 = sc.nextDouble();\n",
    "System.out.print(\"Masukkan operator (+ - * /): \");\n",
    "operator = sc.next().charAt(0);\n",
    "\n",
    "switch(operator){\n",
    "    case '+':\n",
    "    hasil = angka1 + angka2;\n",
    "    System.out.println(angka1 + \" + \" + angka2 + \" = \" + hasil);\n",
    "    break;\n",
    "    case '-':\n",
    "    hasil = angka1 - angka2;\n",
    "    System.out.println(angka1 + \" - \" + angka2 + \" = \" + hasil);\n",
    "    break;\n",
    "    case '*':\n",
    "    hasil = angka1 * angka2;\n",
    "    System.out.println(angka1 + \" * \" + angka2 + \" = \" + hasil);\n",
    "    break;\n",
    "    case '/':\n",
    "    hasil = angka1 / angka2;\n",
    "    System.out.println(angka1 + \" / \" + angka2 + \" = \" + hasil);\n",
    "    break;\n",
    "    default:\n",
    "    System.out.println(\"Operator yang Anda masukkan salah!\");\n",
    "}"
   ]
  },
  {
   "cell_type": "markdown",
   "metadata": {},
   "source": [
    "5. Jalankan program. Amati apa yang terjadi!"
   ]
  },
  {
   "cell_type": "markdown",
   "metadata": {},
   "source": [
    "> Tuliskan penjelasan kode di atas\n",
    "\n"
   ]
  },
  {
   "cell_type": "markdown",
   "metadata": {},
   "source": [
    "##### Pertanyaan\n",
    "1. Jelaskan fungsi dari break dan default pada percobaan 4 diatas!\n",
    "2. Jelaskan fungsi perintah kode program dibawah ini pada percobaan 4!\n",
    "\n",
    "    ```\n",
    "    operator = sc.next().chartAt(0);\n",
    "    ```"
   ]
  },
  {
   "cell_type": "markdown",
   "metadata": {},
   "source": [
    "> Tuliskan jawaban di atas\n",
    "\n"
   ]
  },
  {
   "cell_type": "markdown",
   "metadata": {},
   "source": [
    "### Tugas\n",
    "\n",
    "#### Waktu pengerjaan Tugas: 140 menit\n",
    "\n",
    "1. Buatlah program untuk menginputkan dua buah bilangan bulat, kemudian mencetak salah satu bilangan yang nilainya terbesar.\n"
   ]
  },
  {
   "cell_type": "code",
   "execution_count": 29,
   "metadata": {},
   "outputs": [
    {
     "name": "stdout",
     "output_type": "stream",
     "text": [
      "Masukkan bilangan pertama: 10\n",
      "Masukkan bilangan kedua: 2\n",
      "Nilai yang paling besar = 10\n"
     ]
    }
   ],
   "source": [
    "//ketik kode program dan lampirkan hasilnya di sini\n",
    "import java.util.Scanner;\n",
    "\n",
    "Scanner input = new Scanner(System.in);\n",
    "int bil1, bil2;\n",
    "\n",
    "System.out.print(\"Masukkan bilangan pertama: \");\n",
    "bil1 = input.nextInt();\n",
    "System.out.print(\"Masukkan bilangan kedua: \");\n",
    "bil2 = input.nextInt();\n",
    "\n",
    "if(bil1 > bil2){\n",
    "    System.out.println(\"Nilai yang paling besar = \" + bil1);\n",
    "}else{\n",
    "    System.out.println(\"Nilai yang paling besar = \" + bil2);\n",
    "}"
   ]
  },
  {
   "cell_type": "markdown",
   "metadata": {},
   "source": [
    "2. Perhatikan flowchart berikut ini:\n",
    "\n",
    "![](images/02.png)\n",
    "\n",
    "> Buatlah program sesuai dengan flowchart diatas!"
   ]
  },
  {
   "cell_type": "code",
   "execution_count": 32,
   "metadata": {},
   "outputs": [
    {
     "name": "stdout",
     "output_type": "stream",
     "text": [
      "Masukkkan umur Anda: 7\n",
      "Anda belum boleh berkendara"
     ]
    }
   ],
   "source": [
    "//ketik kode program dan lampirkan hasilnya di sini\n",
    "import java.util.Scanner;\n",
    "\n",
    "Scanner input = new Scanner(System.in);\n",
    "int umur;\n",
    "\n",
    "System.out.print(\"Masukkkan umur Anda: \");\n",
    "umur = input.nextInt();\n",
    "\n",
    "if(umur >= 17){\n",
    "    System.out.print(\"Anda boleh berkendara\");\n",
    "}else{\n",
    "    System.out.print(\"Anda belum boleh berkendara\");\n",
    "}"
   ]
  },
  {
   "cell_type": "markdown",
   "metadata": {},
   "source": [
    "3. Pada akhir semester seorang dosen menghitung nilai akhir dari mahasiswa yang terdiri dari nilai uas, uts, kuis, dan tugas. Nilai akhir didapatkan dari 40% nilai uas, 30% nilai uts, 10% nilai kuis, dan 20% nilai tugas. Jika nilai akhir dari mahasiswa dibawah 65 maka mahasiswa tersebut akan mendapatkan remidi. Buatlah program untuk membantu mengetahui mahasiswa yang mendapatkan remidi berdasarkan nilai akhir yang didapatkannya!"
   ]
  },
  {
   "cell_type": "code",
   "execution_count": 36,
   "metadata": {},
   "outputs": [
    {
     "name": "stdout",
     "output_type": "stream",
     "text": [
      "Masukkan nilai UAS: 100\n",
      "Masukkan nilai UTS: 90\n",
      "Masukkan nilai Kuis: 80\n",
      "Masukkan nilai Tugas: 80\n",
      "\n",
      "Nilai akhir mahasiswa adalah: 91\n",
      "Mahasiswa tersebut tidak perlu REMIDI\n"
     ]
    }
   ],
   "source": [
    "//ketik kode program dan lampirkan hasilnya di sini\n",
    "import java.util.Scanner;\n",
    "\n",
    "Scanner input = new Scanner(System.in);\n",
    "int uts, uas, kuis, tugas;\n",
    "float nilaiAkhir;\n",
    "\n",
    "System.out.print(\"Masukkan nilai UAS: \");\n",
    "uas = input.nextInt();\n",
    "System.out.print(\"Masukkan nilai UTS: \");\n",
    "uts = input.nextInt();\n",
    "System.out.print(\"Masukkan nilai Kuis: \");\n",
    "kuis = input.nextInt();\n",
    "System.out.print(\"Masukkan nilai Tugas: \");\n",
    "tugas = input.nextInt();\n",
    "\n",
    "nilaiAkhir= (uas * 40 / 100) + (uts * 30 / 100) + (kuis * 10 / 100) + (tugas * 20 / 100);\n",
    "System.out.println(\"\\nNilai akhir mahasiswa adalah: \" + (int) nilaiAkhir);\n",
    "\n",
    "if (nilaiAkhir < 65){\n",
    "    System.out.println(\"Mahasiswa tersebut harus REMIDI\");\n",
    "}else{\n",
    "    System.out.println(\"Mahasiswa tersebut tidak perlu REMIDI\");\n",
    "}"
   ]
  },
  {
   "cell_type": "markdown",
   "metadata": {},
   "source": [
    "4. Sebuah toko memberikan diskon kepada pelanggannya dengan ketentuan sebagai berikut:\n",
    "\n",
    "| Total Belanja     | Potongan |\n",
    "|-------------------|----------|\n",
    "| >Rp. 200.000,00   | 2%       |\n",
    "| >Rp. 500.000,00   | 5%       |\n",
    "| >Rp. 1.000.000,00 | 10%      |\n",
    "\n",
    "> Total belanja diperoleh dari pembelian tiga barang yaitu barang A, barang B, dan barang C. Ketika menginputkan harga barang juga menginputkan jumlah barang yang dibeli.\n",
    "\n",
    "Contoh outputnya\n",
    "```\n",
    "Masukkan harga barang A   :100000\n",
    "Masukkan jumlah barang A  :10\n",
    "Masukkan harga barang B   :250000\n",
    "Masukkan jumlah barang B  :5\n",
    "Masukkan harga barang C   :150000\n",
    "Masukkan jumlah barang C  :1\n",
    "---------------------------------------------\n",
    "                Struk total\n",
    "---------------------------------------------\n",
    "Nama Barang \t| \tHarga \t| \tJumlah \t| \tTotal\n",
    "Barang A            100000         10        1000000   \n",
    "Barang B            250000         5         1250000   \n",
    "Barang C            150000         1         150000    \n",
    "Total       :2400000\n",
    "Diskon      :240000.0\n",
    "Total Bayar :2160000.0\n",
    "```"
   ]
  },
  {
   "cell_type": "code",
   "execution_count": 1,
   "metadata": {},
   "outputs": [
    {
     "name": "stdout",
     "output_type": "stream",
     "text": [
      "Masukkan harga barang A: 100000\n",
      "Masukkan jumlah barang A: 5\n",
      "Masukkan harga barang B: 100000\n",
      "Masukkan jumlah barang B: 5\n",
      "Masukkan harga barang C: 100000\n",
      "Masukkan jumlah barang C: 2\n",
      "----------------------------------------\n",
      "\tSRUK TOTAL\t\n",
      "-----------------------------------------\n",
      "Nama Barang\t|Harga\t | Jumlah\t | Total\n",
      "Barang A\t100000\t5\t500000.0\n",
      "Barang B\t100000\t5\t500000.0\n",
      "Barang C\t100000\t2\t200000.0\n",
      "Total: 1200000.0\n",
      "Diskon: 120000.0\n",
      "Total Bayar: 1080000.0\n"
     ]
    }
   ],
   "source": [
    "//ketik kode program dan lampirkan hasilnya di sini\n",
    "import java.util.Scanner;\n",
    "\n",
    "Scanner input = new Scanner(System.in);\n",
    "int hargaA, hargaB, hargaC, jumlahA, jumlahB, jumlahC;\n",
    "float totalA, totalB, totalC, totalAll, diskon, totalBayar;\n",
    "\n",
    "System.out.print(\"Masukkan harga barang A: \");\n",
    "hargaA = input.nextInt();\n",
    "System.out.print(\"Masukkan jumlah barang A: \");\n",
    "jumlahA = input.nextInt();\n",
    "totalA = hargaA * jumlahA;\n",
    "System.out.print(\"Masukkan harga barang B: \");\n",
    "hargaB = input.nextInt();\n",
    "System.out.print(\"Masukkan jumlah barang B: \");\n",
    "jumlahB =  input.nextInt();\n",
    "totalB = hargaB * jumlahB;\n",
    "System.out.print(\"Masukkan harga barang C: \");\n",
    "hargaC = input.nextInt();\n",
    "System.out.print(\"Masukkan jumlah barang C: \");\n",
    "jumlahC = input.nextInt();\n",
    "totalC = hargaC * jumlahC;\n",
    "\n",
    "System.out.print(\"----------------------------------------\");\n",
    "System.out.println(\"\\n\\tSRUK TOTAL\\t\");\n",
    "System.out.println(\"-----------------------------------------\");\n",
    "\n",
    "System.out.println(\"Nama Barang\\t\" + \"|\" + \"Harga\\t\" + \" | \" + \"Jumlah\\t\" + \" | \" + \"Total\");\n",
    "System.out.println(\"Barang A\\t\" + hargaA + \"\\t\" + jumlahA + \"\\t\" + totalA);\n",
    "System.out.println(\"Barang B\\t\" + hargaB + \"\\t\" + jumlahB + \"\\t\" + totalB);\n",
    "System.out.println(\"Barang C\\t\" + hargaC + \"\\t\" + jumlahC + \"\\t\" + totalC);\n",
    "\n",
    "totalAll = totalA + totalB + totalC;\n",
    "System.out.println(\"Total: \" + totalAll);\n",
    "\n",
    "if(totalAll > 1000000){\n",
    "    diskon = totalAll * 10 / 100;\n",
    "}else if(totalAll > 500000){\n",
    "    diskon = totalAll * 5 / 100;\n",
    "}else if(totalAll > 200000){\n",
    "    diskon = totalAll * 2 / 100;\n",
    "}else{\n",
    "    diskon = totalAll * 0 / 100;\n",
    "}\n",
    "\n",
    "System.out.println(\"Diskon: \" + diskon);\n",
    "\n",
    "totalBayar = totalAll - diskon;\n",
    "System.out.println(\"Total Bayar: \" + totalBayar);"
   ]
  }
 ],
 "metadata": {
  "kernelspec": {
   "display_name": "Java",
   "language": "java",
   "name": "java"
  },
  "language_info": {
   "codemirror_mode": "java",
   "file_extension": ".jshell",
   "mimetype": "text/x-java-source",
   "name": "Java",
   "pygments_lexer": "java",
   "version": "11.0.12+8-LTS-237"
  },
  "nteract": {
   "version": "nteract-on-jupyter@2.1.3"
  }
 },
 "nbformat": 4,
 "nbformat_minor": 1
}
