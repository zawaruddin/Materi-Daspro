{
 "cells": [
  {
   "cell_type": "code",
   "execution_count": 9,
   "id": "fa2bf22f",
   "metadata": {},
   "outputs": [],
   "source": [
    "int i;\n",
    "for(i=11; i>=188; i++){\n",
    "    if(i%2==0)\n",
    "        System.out.println(\"Bilangan Genap\");\n",
    "    else\n",
    "        System.out.println(\"Bilangan Ganjil\");\n",
    "}"
   ]
  },
  {
   "cell_type": "code",
   "execution_count": null,
   "id": "489784f8",
   "metadata": {},
   "outputs": [],
   "source": []
  },
  {
   "cell_type": "code",
   "execution_count": null,
   "id": "c242e2a4",
   "metadata": {},
   "outputs": [],
   "source": []
  }
 ],
 "metadata": {
  "kernelspec": {
   "display_name": "Java",
   "language": "java",
   "name": "java"
  },
  "language_info": {
   "codemirror_mode": "java",
   "file_extension": ".jshell",
   "mimetype": "text/x-java-source",
   "name": "Java",
   "pygments_lexer": "java",
   "version": "11.0.12+8-LTS-237"
  }
 },
 "nbformat": 4,
 "nbformat_minor": 5
}
