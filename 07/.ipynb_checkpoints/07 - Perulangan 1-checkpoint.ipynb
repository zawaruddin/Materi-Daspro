{
 "cells": [
  {
   "cell_type": "markdown",
   "metadata": {},
   "source": [
    "## JOBSHEET 7\n",
    "\n",
    "## PERULANGAN 1\n",
    "\n",
    "### Tujuan\n",
    "\n",
    "Mahasiswa mampu menyelesaikan permasalahan/studi kasus menggunakan sintaks perulangan 1 dan mengimplemantasikannya dalam bahasa pemrogaman java.\n",
    "\n",
    "### Alat dan Bahan\n",
    "+ PC/laptop\n",
    "+ Browser(chrome, firefox, safari)\n",
    "+ Koneksi internet\n",
    "\n",
    "### Praktikum\n",
    "\n",
    "#### Percobaan 1 : Penggunaan for, while dan do-while\n",
    "\n",
    "#### Waktu percobaan : 40 menit\n",
    "\n",
    "1. Perhatikan flowchart perulangan for dibawah ini!\n",
    "\n",
    "    <p align=\"left\">\n",
    "    <img width=\"197\" height=\"259\" src=\"images/flowchartFaktorial.png\">\n",
    "    </p>\n",
    "    \n",
    "\n",
    "> Flowchart diatas digunakan untuk menghitung nilai faktorial, selanjutnya kita akan membuat programnya berdasarkan\n",
    "> flowchart di atas!\n",
    "\n",
    "2. Tambahkan library Scanner, deklarasi Scanner, dan buat variabel angka untuk menampung data yang diinput melalui keyboard\n",
    "\n"
   ]
  },
  {
   "cell_type": "code",
   "execution_count": 3,
   "metadata": {
    "pycharm": {
     "name": "#%%\n"
    }
   },
   "outputs": [],
   "source": [
    "// Ketik kode program di bawah sini\n",
    "import java.util.Scanner;\n",
    "Scanner input = new Scanner(System.in);"
   ]
  },
  {
   "cell_type": "markdown",
   "metadata": {},
   "source": [
    "3. Buatlah deklarasi dan inisialisasi variabel faktorial sesuai dengan flowchart diatas"
   ]
  },
  {
   "cell_type": "code",
   "execution_count": 4,
   "metadata": {},
   "outputs": [],
   "source": [
    "// Ketik kode program di bawah sini\n",
    "int angka;\n",
    "int faktorial = 1"
   ]
  },
  {
   "cell_type": "markdown",
   "metadata": {},
   "source": [
    "4. Tambahkan struktur perulangan untuk menghitung hasil faktorial sebuah nilai yang diinputkan menggunakan for\n",
    "    \n",
    "    <p align=\"left\">\n",
    "    <img width=\"696\" height=\"124\" src=\"images/for.jpg\" align=\"left\">\n",
    "    </p>"
   ]
  },
  {
   "cell_type": "code",
   "execution_count": 5,
   "metadata": {},
   "outputs": [
    {
     "name": "stdout",
     "output_type": "stream",
     "text": [
      "====PROGAM MENGHITUNG NILAI FAKTORIAL DENGAN FOR====\n",
      "Masukkan Bilangan : 6\n",
      "Nilai faktorial bilanagn tersebut adalah : 720"
     ]
    }
   ],
   "source": [
    "// Ketik kode program di atas di bawah sini\n",
    "System.out.println(\"====PROGAM MENGHITUNG NILAI FAKTORIAL DENGAN FOR====\");\n",
    "System.out.print(\"Masukkan Bilangan : \");\n",
    "angka= input.nextInt();\n",
    "for(int i=1; i<=angka; i++)\n",
    "    faktorial*=i;\n",
    "System.out.print(\"Nilai faktorial bilanagn tersebut adalah : \"+ faktorial);"
   ]
  },
  {
   "cell_type": "markdown",
   "metadata": {},
   "source": [
    "5. Ubah nilai variabel faktorial seperti semula. Kemudian gunakan struktur perulangan while untuk menghitung hasil faktorial sebuah nilai yang diinputkan\n",
    "    \n",
    "    <p align=\"left\">\n",
    "    <img width=\"696\" height=\"124\" src=\"images/while.jpg\" align=\"left\">\n",
    "    </p>"
   ]
  },
  {
   "cell_type": "code",
   "execution_count": 6,
   "metadata": {
    "scrolled": true
   },
   "outputs": [
    {
     "name": "stdout",
     "output_type": "stream",
     "text": [
      "====PROGAM MENGHITUNG NILAI FAKTORIAL DENGAN WHILE\n",
      "Masukkan Bilangan : 6\n",
      "Nilai faktorial bilangan tersebut adalah : 720"
     ]
    }
   ],
   "source": [
    "// Ketik kode program di atas di bawah sini\n",
    "faktorial=1;\n",
    "System.out.println(\"====PROGAM MENGHITUNG NILAI FAKTORIAL DENGAN WHILE\");\n",
    "System.out.print(\"Masukkan Bilangan : \");\n",
    "angka=input.nextInt();\n",
    "int i=1;\n",
    "while (i<=angka){\n",
    "    faktorial*=i;\n",
    "    i++;\n",
    "}\n",
    "System.out.print(\"Nilai faktorial bilangan tersebut adalah : \"+ faktorial);"
   ]
  },
  {
   "cell_type": "markdown",
   "metadata": {},
   "source": [
    "6. Kembalikan lagi nilai variabel faktorial seperti semula. Gunakan struktur perulangan do-while untuk menghitung hasil faktorial sebuah nilai yang diinputkan\n",
    "    \n",
    "    <p align=\"left\">\n",
    "    <img width=\"696\" height=\"124\" src=\"images/dowhile.jpg\" align=\"left\">\n",
    "    </p>"
   ]
  },
  {
   "cell_type": "code",
   "execution_count": 7,
   "metadata": {},
   "outputs": [
    {
     "name": "stdout",
     "output_type": "stream",
     "text": [
      "====PROGAM MENGHITUNG NILAI FAKTORIAL DENGAN DO-WHILE====\n",
      "Masukkan Bilangan : 6\n",
      "Nilai faktorial bilanagan tersebut adalah : 720\n"
     ]
    }
   ],
   "source": [
    "// Ketik kode program di atas di bawah sini\n",
    "faktorial=1;\n",
    "System.out.println(\"====PROGAM MENGHITUNG NILAI FAKTORIAL DENGAN DO-WHILE====\");\n",
    "System.out.print(\"Masukkan Bilangan : \");\n",
    "angka=input.nextInt();\n",
    "int i=1;\n",
    "do{\n",
    "    faktorial*=i;\n",
    "    i++;\n",
    "}\n",
    "while(i<=angka);\n",
    "System.out.println(\"Nilai faktorial bilanagan tersebut adalah : \"+ faktorial);"
   ]
  },
  {
   "cell_type": "markdown",
   "metadata": {},
   "source": [
    "##### Pertanyaan\n",
    "1. Pada program diatas, apakah kegunaan baris berikut?\n",
    "<p align=\"left\">\n",
    "    <img src=\"images/hitungFaktorial.jpg\" align=\"left\">\n",
    "    </p>"
   ]
  },
  {
   "cell_type": "markdown",
   "metadata": {},
   "source": [
    "// Ketik jawaban disini\n",
    "\n",
    "untuk meberikan perintah bahwa variabel faktorial dioperasikan perkalian dengan perulangan bilangan yang diinputkan\n"
   ]
  },
  {
   "cell_type": "markdown",
   "metadata": {},
   "source": [
    "2. Modifikasi program diatas dibagian struktur pemilihannya sehingga hasilnya menjadi seperti di bawah ini:\n",
    "<p align=\"left\">\n",
    "    <img src=\"images/modifP1.jpg\" align=\"left\">\n",
    "    </p>"
   ]
  },
  {
   "cell_type": "code",
   "execution_count": 8,
   "metadata": {},
   "outputs": [
    {
     "name": "stdout",
     "output_type": "stream",
     "text": [
      "====PROGAM MENGHITUNG NILAI FAKTORIAL====\n",
      "Masukkan Bilangan : 5\n",
      "5Faktorial: 1x2x3x4x5=120\n"
     ]
    }
   ],
   "source": [
    "// Ketik kode program di atas di bawah sini\n",
    "import java.util.Scanner;\n",
    "Scanner input = new Scanner(System.in);\n",
    "faktorial = 1;\n",
    "System.out.println(\"====PROGAM MENGHITUNG NILAI FAKTORIAL====\");\n",
    "System.out.print(\"Masukkan Bilangan : \");\n",
    "angka= input.nextInt();\n",
    "int i = 1;\n",
    "System.out.print(angka+\"Faktorial: \");\n",
    "for (i=1; i<=angka; i++){\n",
    "    faktorial*=i;\n",
    "        if(i==angka){\n",
    "            System.out.print(i);\n",
    "        }else{\n",
    "            System.out.print(i+\"x\");\n",
    "        }\n",
    "    }\n",
    "System.out.println(\"=\"+faktorial);"
   ]
  },
  {
   "cell_type": "markdown",
   "metadata": {},
   "source": [
    "# Percobaan 2 : Keluar dari perulangan menggunakan break\n",
    "\n",
    "#### Waktu percobaan : 40 menit"
   ]
  },
  {
   "cell_type": "markdown",
   "metadata": {},
   "source": [
    "1. Buatlah perulangan dengan menggunakan for yang memanfaatkan keyword break\n",
    "<p align=\"left\">\n",
    "    <img width=\"696\" height=\"124\" src=\"images/for2.jpg\" align=\"left\">\n",
    "    </p>"
   ]
  },
  {
   "cell_type": "code",
   "execution_count": 9,
   "metadata": {},
   "outputs": [
    {
     "name": "stdout",
     "output_type": "stream",
     "text": [
      "===PROGAM FOR LOOP DENGAN BREAK\n",
      "Masukkan Bilangan : \n",
      "5\n",
      "Masukkan Bilangan : \n",
      "5\n",
      "Masukkan Bilangan : \n",
      "5\n",
      "Masukkan Bilangan : \n",
      "60\n",
      "Jumlah angka-angka yang telah dimasukkan : 75\n"
     ]
    }
   ],
   "source": [
    "// Ketik kode program di atas di bawah sini\n",
    "Scanner input = new Scanner(System.in);\n",
    "int angka,total;\n",
    "System.out.println(\"===PROGAM FOR LOOP DENGAN BREAK\");\n",
    "for(total=0;true;){\n",
    "    System.out.println(\"Masukkan Bilangan : \");\n",
    "    angka=input.nextInt();\n",
    "    total+=angka;\n",
    "    if(total>50) break;\n",
    "}\n",
    "System.out.println(\"Jumlah angka-angka yang telah dimasukkan : \"+ total);"
   ]
  },
  {
   "cell_type": "markdown",
   "metadata": {},
   "source": [
    "2. Buat perulangan yang sama dengan struktur perulangan while\n",
    "<p align=\"left\">\n",
    "    <img width=\"696\" height=\"124\" src=\"images/while2.jpg\" align=\"left\">\n",
    "    </p>"
   ]
  },
  {
   "cell_type": "code",
   "execution_count": 10,
   "metadata": {},
   "outputs": [
    {
     "name": "stdout",
     "output_type": "stream",
     "text": [
      "===PROGAM FOR LOOP DENGAN BREAK\n",
      "Masukkan Bilangan : \n",
      "5\n",
      "Masukkan Bilangan : \n",
      "5\n",
      "Masukkan Bilangan : \n",
      "5\n",
      "Masukkan Bilangan : \n",
      "60\n",
      "Jumlah angka-angka yang telah dimasukkan : 75\n"
     ]
    }
   ],
   "source": [
    "// Ketik kode program di atas di bawah sini\n",
    "int angka,total;\n",
    "System.out.println(\"===PROGAM FOR LOOP DENGAN BREAK\");\n",
    "total=0;\n",
    "while(true){\n",
    "    System.out.println(\"Masukkan Bilangan : \");\n",
    "    angka=input.nextInt();\n",
    "    total+=angka;\n",
    "    if(total>50) break;\n",
    "}\n",
    "System.out.println(\"Jumlah angka-angka yang telah dimasukkan : \"+ total);"
   ]
  },
  {
   "cell_type": "markdown",
   "metadata": {},
   "source": [
    "3. Tuliskan perulangan diatas dalam struktur do-while\n",
    "    <p align=\"left\">\n",
    "    <img width=\"696\" height=\"124\" src=\"images/dowhile2.jpg\" align=\"left\">\n",
    "    </p>"
   ]
  },
  {
   "cell_type": "code",
   "execution_count": 11,
   "metadata": {},
   "outputs": [
    {
     "name": "stdout",
     "output_type": "stream",
     "text": [
      "===PROGAM D0-WHILE LOOP DENGAN BREAK===\n",
      "Masukkan Bilangan : \n",
      "5\n",
      "Masukkan Bilangan : \n",
      "5\n",
      "Masukkan Bilangan : \n",
      "5\n",
      "Masukkan Bilangan : \n",
      "60\n",
      "Jumlah angka-angka yang telah dimasukkan : 75\n"
     ]
    }
   ],
   "source": [
    "// Ketik kode program di atas di bawah sini\n",
    "int angka,total;\n",
    "System.out.println(\"===PROGAM D0-WHILE LOOP DENGAN BREAK===\");\n",
    "total=0;\n",
    "do\n",
    "{\n",
    "    System.out.println(\"Masukkan Bilangan : \");\n",
    "    angka=input.nextInt();\n",
    "    total+=angka;\n",
    "    if(total>50) break;\n",
    "}\n",
    "while(true);\n",
    "System.out.println(\"Jumlah angka-angka yang telah dimasukkan : \"+ total);"
   ]
  },
  {
   "cell_type": "markdown",
   "metadata": {},
   "source": [
    "##### Pertanyaan\n",
    "1. Jelaskan fungsi kode program yang telah dibuat pada percobaan diatas!"
   ]
  },
  {
   "cell_type": "markdown",
   "metadata": {},
   "source": [
    "// Ketik jawaban disini\n",
    "\n",
    "Kode progam break berfungsi untuk keluar dari perulangan"
   ]
  },
  {
   "cell_type": "markdown",
   "metadata": {},
   "source": [
    "2. Jelaskan fungsi kode berikut!\n",
    "    <p align=\"left\">\n",
    "    <img src=\"images/forPertanyaan2.jpg\" align=\"left\">\n",
    "    </p>\n"
   ]
  },
  {
   "cell_type": "markdown",
   "metadata": {},
   "source": [
    "// Ketik jawaban disini\n",
    "\n",
    "for merupakan format kode progam perulangan dimana variabel total berfungsi menyimpan total pengulangan, true menandakan boolean yang akan dieksekusi apabila nilai yang dimaksudkan benar"
   ]
  },
  {
   "cell_type": "markdown",
   "metadata": {},
   "source": [
    "#### Percobaan 3 : Keluar dari step perulangan menggunakan continue\n",
    "\n",
    "#### Waktu percobaan : 40 menit\n",
    "\n",
    "1. Buat program looping menggunakan struktur perulangan for seperti di bawah ini: \n",
    "<p align=\"left\">\n",
    "    <img src=\"images/forContinue.jpg\" align=\"left\">\n",
    "    </p>\n"
   ]
  },
  {
   "cell_type": "code",
   "execution_count": 12,
   "metadata": {},
   "outputs": [
    {
     "name": "stdout",
     "output_type": "stream",
     "text": [
      "===PROGAM FOR LOOP DENGAN CONTINUE===\n",
      "Masukkan Bilangan : \n",
      "5\n",
      "Masukkan Bilangan : \n",
      "5\n",
      "Masukkan Bilangan : \n",
      "5\n",
      "Masukkan Bilangan : \n",
      "60\n",
      "Masukkan Bilangan : \n",
      "10\n",
      "Jumlah angka-angka yang kurang dari 50: 25\n",
      "Rata-rata angka yang kurang dari 50: 6.25\n"
     ]
    }
   ],
   "source": [
    "// Ketik kode program di atas di bawah sini\n",
    "Scanner input=new Scanner(System.in);\n",
    "int angka, total, count;\n",
    "double avg;\n",
    "count=0;\n",
    "System.out.println(\"===PROGAM FOR LOOP DENGAN CONTINUE===\");\n",
    "for(int i=0;i<5;i++){\n",
    "    System.out.println(\"Masukkan Bilangan : \");\n",
    "    angka=input.nextInt();\n",
    "    if(angka>50) continue;\n",
    "    total+=angka;\n",
    "    count++;\n",
    "}\n",
    "System.out.println(\"Jumlah angka-angka yang kurang dari 50: \"+total);\n",
    "avg=(double)total/count;\n",
    "System.out.println(\"Rata-rata angka yang kurang dari 50: \"+avg);"
   ]
  },
  {
   "cell_type": "markdown",
   "metadata": {},
   "source": [
    "5. Jalankan program. Amati apa yang terjadi!"
   ]
  },
  {
   "cell_type": "markdown",
   "metadata": {},
   "source": [
    "##### Pertanyaan\n",
    "1. Jelaskan Perbedaan dari percobaan 2 dan percobaan 3"
   ]
  },
  {
   "cell_type": "markdown",
   "metadata": {},
   "source": [
    "// Ketik jawaban disini\n",
    "\n",
    "Pada percobaan 2 menggunakan break dimana apabila menggunakan kode progam tersebut menghentikan paksa dari perulangan dan apabila ada kondisi selanjutnya maka tidak akan dieksekusi sedangkan pada percobaan 3 menggunakan continue dimana pada kode progam tersebut akan dilewati namun tetap bisa melanjutkan perulangan apabila ada kondisi selanjutnya yang memenuhi syarat"
   ]
  },
  {
   "cell_type": "markdown",
   "metadata": {},
   "source": [
    "2. Jelaskan apa fungsi perintah kode program dibawah ini?\n",
    "<p align=\"left\">\n",
    "    <img width=\"352\" height=\"79\" src=\"images/continuePertanyaan.jpg\" align=\"left\">\n",
    "    </p>"
   ]
  },
  {
   "cell_type": "markdown",
   "metadata": {},
   "source": [
    "// Ketik jawaban disini\n",
    "\n",
    "if merupakan kondisi pemilihan dimana apabila nilai variabel memenuhi lebih dari 50 maka tidak akan dieksekusi atau dilewati atau progam akan lanjut ke kode progam selanjutnya\n",
    "variabel total akan dioperasikan dengan penjumlahan pada angka-angka yang dimasukkan \n",
    "count ++ berguna untuk menghitung jumlah angka yang dimasukkan\n"
   ]
  },
  {
   "cell_type": "markdown",
   "metadata": {},
   "source": [
    "### Tugas\n",
    "\n",
    "#### Waktu pengerjaan Tugas: 140 menit\n",
    "\n",
    "1. Buatlah program yang meminta masukan user sebuah bilangan bulat N (N > 0). Program kemudian menampilkan penjumlahan N bilangan genap positif pertama (bilangan genap ≥ 0).\n",
    "Contoh: \n",
    "    •\tJika user memasukkan N = 10, program akan menghitung banyaknya jumlah bilangan positive di dalam range bilangan 1-10   kemudian menampilkan penjumlahan bilangan positive bilangan bilangan diantara 1-10 yaitu : \n",
    "        0 + 2 + 4 + 6 + 10 = 30. \n",
    "        Setelah itu program akan menampilkan rata-rata dari bilangan positive yang telah dijumlahkan tadi.\n",
    "    •\tContoh output program dan flowchart\n",
    "<br/><img width=\"303\" height=\"529\" src=\"images/hasilTugasFc.jpg\" align=\"left\"><br/>\n",
    "  \n",
    "\n",
    "<br/><img width=\"303\" height=\"529\" src=\"images/fcTugasJS7.png\" align=\"left\">\n"
   ]
  },
  {
   "cell_type": "code",
   "execution_count": 14,
   "metadata": {},
   "outputs": [
    {
     "name": "stdout",
     "output_type": "stream",
     "text": [
      "Masukkan bilangan genap : 10\n",
      "Banyaknya bilangan genap dari 1 sampai 10 adalah 5\n",
      "angka genap dalam range tersebut adalah 2, 4, 6, 8, 10\n",
      "hasil penjumlahan bilangan genap dari 1 sampai 10 adalah 30\n",
      "Rata-rata bilangan genap dari 1 sampai 10 adalah 6.0\n"
     ]
    }
   ],
   "source": [
    "// Ketik kode program disini\n",
    "Scanner input=new Scanner(System.in);\n",
    "int bil, jmlBilGenap;\n",
    "double avg;\n",
    "int totalGenap=0;\n",
    "\n",
    "System.out.print(\"Masukkan bilangan genap : \");\n",
    "bil=input.nextInt();\n",
    "jmlBilGenap=bil/2;\n",
    "System.out.print(\"Banyaknya bilangan genap dari 1 sampai \" +bil +\" adalah \"+jmlBilGenap);\n",
    "System.out.print(\"\\nangka genap dalam range tersebut adalah \");\n",
    "for (i=1;i<=bil;i++){\n",
    "    if(i%2!=0){\n",
    "       continue;\n",
    "    }else{\n",
    "        if(i ==bil){\n",
    "            System.out.print(i);\n",
    "        }else {\n",
    "         if (bil%2==0){\n",
    "            System.out.print(i +\", \");\n",
    "        }else {\n",
    "            System.out.print(i);\n",
    "        }\n",
    "    }\n",
    "    totalGenap +=i;\n",
    " }\n",
    "}\n",
    "    avg=totalGenap/jmlBilGenap;\n",
    "    System.out.println(\"\\nhasil penjumlahan bilangan genap dari 1 sampai \"+bil +\" adalah \" +totalGenap);\n",
    "    System.out.println(\"Rata-rata bilangan genap dari 1 sampai \"+bil +\" adalah \" +avg);\n",
    "\n",
    "  "
   ]
  },
  {
   "cell_type": "markdown",
   "metadata": {},
   "source": [
    "2. Buatlah program untuk menampilkan angka 1 hingga angka masukan pengguna secara berurutan dan melompati angka kelipatan 5. Seperti tampilan di bawah ini\n",
    "<p align=\"left\">\n",
    "<img width=\"184\" height=\"328\" src=\"images/tugas1.jpg\" align=\"left\">\n",
    "</p>"
   ]
  },
  {
   "cell_type": "code",
   "execution_count": 12,
   "metadata": {},
   "outputs": [
    {
     "name": "stdout",
     "output_type": "stream",
     "text": [
      "Masukkan Angka : 19\n",
      "1\n",
      "2\n",
      "3\n",
      "4\n",
      "6\n",
      "7\n",
      "8\n",
      "9\n",
      "11\n",
      "12\n",
      "13\n",
      "14\n",
      "16\n",
      "17\n",
      "18\n",
      "19\n"
     ]
    }
   ],
   "source": [
    "// Ketik kode program disini\n",
    "Scanner input=new Scanner(System.in);\n",
    "int bil;\n",
    "System.out.print(\"Masukkan Angka : \");\n",
    "bil=input.nextInt();\n",
    "for (i=1;i<=bil;i++){\n",
    "    if(i%5==0)continue;\n",
    "    System.out.println(i);\n",
    "}"
   ]
  },
  {
   "cell_type": "markdown",
   "metadata": {},
   "source": [
    "3. Buatlah sebuah program yang menampilkan deret bilangan fibonacci sebagai berikut. Dimana bilangan yang terletak di sebelah kanan adalah hasil penjumlahan dari 2 bilangan sebelumnya\n",
    " <p align=\"left\">\n",
    "    <img width=\"451\" height=\"226\" src=\"images/fibo.png\" align=\"left\">\n",
    "    </p>\n"
   ]
  },
  {
   "cell_type": "code",
   "execution_count": 16,
   "metadata": {},
   "outputs": [
    {
     "name": "stdout",
     "output_type": "stream",
     "text": [
      "Masukkan deret bilangan: 10\n",
      "Sum Of: 0+1=1\n",
      "Sum Of: 1+1=2\n",
      "Sum Of: 1+2=3\n",
      "Sum Of: 2+3=5\n",
      "Sum Of: 3+5=8\n",
      "Sum Of: 5+8=13\n",
      "Sum Of: 8+13=21\n",
      "Sum Of: 13+21=34\n",
      "Sum Of: 21+34=55\n",
      "Sum Of: 34+55=89\n",
      "Sum Of: 55+89=144\n"
     ]
    }
   ],
   "source": [
    "import java.util.Scanner;\n",
    "Scanner input = new Scanner(System.in);\n",
    "int bil,a,b,c;\n",
    "System.out.print(\"Masukkan deret bilangan: \");\n",
    "bil = input.nextInt();\n",
    " a=0;\n",
    " b=1;\n",
    " c=1;\n",
    "for(i=0;i<=bil;i++){\n",
    "    c=a+b;\n",
    "    System.out.println(\"Sum Of: \"+a + \"+\" +b + \"=\" +c);\n",
    "    a=b;\n",
    "    b=c;\n",
    "    \n",
    "}"
   ]
  },
  {
   "cell_type": "code",
   "execution_count": null,
   "metadata": {},
   "outputs": [],
   "source": []
  },
  {
   "cell_type": "code",
   "execution_count": null,
   "metadata": {},
   "outputs": [],
   "source": []
  }
 ],
 "metadata": {
  "kernelspec": {
   "display_name": "Java",
   "language": "java",
   "name": "java"
  },
  "language_info": {
   "codemirror_mode": "java",
   "file_extension": ".jshell",
   "mimetype": "text/x-java-source",
   "name": "Java",
   "pygments_lexer": "java",
   "version": "11.0.12+8-LTS-237"
  },
  "nteract": {
   "version": "nteract-on-jupyter@2.1.3"
  }
 },
 "nbformat": 4,
 "nbformat_minor": 1
}
