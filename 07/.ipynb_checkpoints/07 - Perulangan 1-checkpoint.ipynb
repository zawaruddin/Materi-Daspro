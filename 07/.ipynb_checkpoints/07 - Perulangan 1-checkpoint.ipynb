{
 "cells": [
  {
   "cell_type": "markdown",
   "metadata": {},
   "source": [
    "## JOBSHEET 7\n",
    "\n",
    "## PERULANGAN 1\n",
    "\n",
    "### Tujuan\n",
    "\n",
    "Mahasiswa mampu menyelesaikan permasalahan/studi kasus menggunakan sintaks perulangan 1 dan mengimplemantasikannya dalam bahasa pemrogaman java.\n",
    "\n",
    "### Alat dan Bahan\n",
    "+ PC/laptop\n",
    "+ Browser(chrome, firefox, safari)\n",
    "+ Koneksi internet\n",
    "\n",
    "### Praktikum\n",
    "\n",
    "#### Percobaan 1 : Penggunaan for, while dan do-while\n",
    "\n",
    "#### Waktu percobaan : 40 menit\n",
    "\n",
    "1. Perhatikan flowchart perulangan for dibawah ini!\n",
    "\n",
    "    <p align=\"left\">\n",
    "    <img width=\"197\" height=\"259\" src=\"images/flowchartFaktorial.png\">\n",
    "    </p>\n",
    "    \n",
    "\n",
    "> Flowchart diatas digunakan untuk menghitung nilai faktorial, selanjutnya kita akan membuat programnya berdasarkan\n",
    "> flowchart di atas!\n",
    "\n",
    "2. Tambahkan library Scanner, deklarasi Scanner, dan buat variabel angka untuk menampung data yang diinput melalui keyboard\n",
    "\n"
   ]
  },
  {
   "cell_type": "code",
   "execution_count": 1,
   "metadata": {
    "pycharm": {
     "name": "#%%\n"
    }
   },
   "outputs": [],
   "source": [
    "// Ketik kode program di bawah sini\n",
    "import java.util.Scanner;\n",
    "Scanner input = new Scanner(System.in);"
   ]
  },
  {
   "cell_type": "markdown",
   "metadata": {},
   "source": [
    "3. Buatlah deklarasi dan inisialisasi variabel faktorial sesuai dengan flowchart diatas"
   ]
  },
  {
   "cell_type": "code",
   "execution_count": 2,
   "metadata": {},
   "outputs": [],
   "source": [
    "// Ketik kode program di bawah sini\n",
    "int angka, faktorial=1;"
   ]
  },
  {
   "cell_type": "markdown",
   "metadata": {},
   "source": [
    "4. Tambahkan struktur perulangan untuk menghitung hasil faktorial sebuah nilai yang diinputkan menggunakan for\n",
    "    \n",
    "    <p align=\"left\">\n",
    "    <img width=\"696\" height=\"124\" src=\"images/for.jpg\" align=\"left\">\n",
    "    </p>"
   ]
  },
  {
   "cell_type": "code",
   "execution_count": 3,
   "metadata": {},
   "outputs": [
    {
     "name": "stdout",
     "output_type": "stream",
     "text": [
      "=====PROGRAM MENGHITUNG NILAI FAKTORIAL DENGAN FOR=====\n",
      "Masukkan Bilangan : 5\n",
      "Nilai faktorial bilangan tersebut adalah : 120"
     ]
    }
   ],
   "source": [
    "// Ketik kode program di atas di bawah sini\n",
    "System.out.println(\"=====PROGRAM MENGHITUNG NILAI FAKTORIAL DENGAN FOR=====\");\n",
    "System.out.print(\"Masukkan Bilangan : \");\n",
    "angka = input.nextInt();\n",
    "for(int i=1; i<=angka; i++)\n",
    "    faktorial*=i;\n",
    "System.out.print(\"Nilai faktorial bilangan tersebut adalah : \"+ faktorial)"
   ]
  },
  {
   "cell_type": "markdown",
   "metadata": {},
   "source": [
    "5. Ubah nilai variabel faktorial seperti semula. Kemudian gunakan struktur perulangan while untuk menghitung hasil faktorial sebuah nilai yang diinputkan\n",
    "    \n",
    "    <p align=\"left\">\n",
    "    <img width=\"696\" height=\"124\" src=\"images/while.jpg\" align=\"left\">\n",
    "    </p>"
   ]
  },
  {
   "cell_type": "code",
   "execution_count": 4,
   "metadata": {
    "scrolled": true
   },
   "outputs": [
    {
     "name": "stdout",
     "output_type": "stream",
     "text": [
      "=====PROGRAM MENGHITUNG NILAI FAKTORIAL DENGAN WHILE=====\n",
      "Masukkan Bilangan : 5\n",
      "Nilai faktorial bilangan tersebut adalah : 120"
     ]
    }
   ],
   "source": [
    "// Ketik kode program di atas di bawah sini\n",
    "faktorial=1;\n",
    "System.out.println(\"=====PROGRAM MENGHITUNG NILAI FAKTORIAL DENGAN WHILE=====\");\n",
    "System.out.print(\"Masukkan Bilangan : \");\n",
    "angka = input.nextInt();\n",
    "int i=1;\n",
    "while(i<=angka){\n",
    "    faktorial*=i;\n",
    "    i++;\n",
    "}\n",
    "System.out.print(\"Nilai faktorial bilangan tersebut adalah : \"+ faktorial);"
   ]
  },
  {
   "cell_type": "markdown",
   "metadata": {},
   "source": [
    "6. Kembalikan lagi nilai variabel faktorial seperti semula. Gunakan struktur perulangan do-while untuk menghitung hasil faktorial sebuah nilai yang diinputkan\n",
    "    \n",
    "    <p align=\"left\">\n",
    "    <img width=\"696\" height=\"124\" src=\"images/dowhile.jpg\" align=\"left\">\n",
    "    </p>"
   ]
  },
  {
   "cell_type": "code",
   "execution_count": 5,
   "metadata": {},
   "outputs": [
    {
     "name": "stdout",
     "output_type": "stream",
     "text": [
      "=====PROGRAM MENGHITUNG NILAI FAKTORIAL DENGAN DO-WHILE=====\n",
      "Masukkan bilangan : 5\n",
      "Nilai faktorial bilangan tersebut adalah : 1"
     ]
    }
   ],
   "source": [
    "// Ketik kode program di atas di bawah sini\n",
    "faktorial=1;\n",
    "System.out.println(\"=====PROGRAM MENGHITUNG NILAI FAKTORIAL DENGAN DO-WHILE=====\");\n",
    "System.out.print(\"Masukkan bilangan : \");\n",
    "angka = input.nextInt();\n",
    "int i=1;\n",
    "do{\n",
    "    faktorial*=1;\n",
    "    i++;\n",
    "}\n",
    "while(i<=angka);\n",
    "System.out.print(\"Nilai faktorial bilangan tersebut adalah : \"+ faktorial);"
   ]
  },
  {
   "cell_type": "markdown",
   "metadata": {},
   "source": [
    "##### Pertanyaan\n",
    "1. Pada program diatas, apakah kegunaan baris berikut?\n",
    "<p align=\"left\">\n",
    "    <img src=\"images/hitungFaktorial.jpg\" align=\"left\">\n",
    "    </p>"
   ]
  },
  {
   "cell_type": "markdown",
   "metadata": {},
   "source": [
    "merupakan code yang mempersingkat code faktorial = faktorial * i."
   ]
  },
  {
   "cell_type": "markdown",
   "metadata": {},
   "source": [
    "2. Modifikasi program diatas dibagian struktur pemilihannya sehingga hasilnya menjadi seperti di bawah ini:\n",
    "<p align=\"left\">\n",
    "    <img src=\"images/modifP1.jpg\" align=\"left\">\n",
    "    </p>"
   ]
  },
  {
   "cell_type": "code",
   "execution_count": 6,
   "metadata": {},
   "outputs": [
    {
     "name": "stdout",
     "output_type": "stream",
     "text": [
      "=====PROGRAM MENGHITUNG NILAI FAKTORIAL DENGAN FOR=====\n",
      "Masukan Bilangan : 9\n",
      "9Faktorial = 1x2x3x4x5x6x7x8x9 = 362880\n"
     ]
    }
   ],
   "source": [
    "faktorial = 1;\n",
    "System.out.println(\"=====PROGRAM MENGHITUNG NILAI FAKTORIAL DENGAN FOR=====\");\n",
    "System.out.print(\"Masukan Bilangan : \");\n",
    "angka = input.nextInt();\n",
    "int i =1 ;\n",
    "System.out.print(angka + \"Faktorial = \" );\n",
    "for(i = 1;i <= angka  ; i++){\n",
    "    faktorial *= i;\n",
    "    //System.out.print(angka + \"Faktorial = 1x\" );\n",
    "    if(i == angka){\n",
    "        System.out.print(i);\n",
    "    }else{\n",
    "        System.out.print(i + \"x\");\n",
    "    }\n",
    "}\n",
    "System.out.println(\" = \" + faktorial);"
   ]
  },
  {
   "cell_type": "markdown",
   "metadata": {},
   "source": [
    "#### Percobaan 2 : Keluar dari perulangan menggunakan break\n",
    "\n",
    "#### Waktu percobaan : 40 menit"
   ]
  },
  {
   "cell_type": "markdown",
   "metadata": {},
   "source": [
    "1. Buatlah perulangan dengan menggunakan for yang memanfaatkan keyword break\n",
    "<p align=\"left\">\n",
    "    <img width=\"696\" height=\"124\" src=\"images/for2.jpg\" align=\"left\">\n",
    "    </p>"
   ]
  },
  {
   "cell_type": "code",
   "execution_count": 7,
   "metadata": {},
   "outputs": [
    {
     "name": "stdout",
     "output_type": "stream",
     "text": [
      "===PROGRAM FOR LOOP DENGAN BREAK===\n",
      "Masukkan Bilangan : 5\n",
      "Masukkan Bilangan : 90\n",
      "Jumlah angka-angka yang telah dimasukkan : 95\n"
     ]
    }
   ],
   "source": [
    "// Ketik kode program di atas di bawah sini\n",
    "Scanner input = new Scanner(System.in);\n",
    "int angka, total;\n",
    "System.out.println(\"===PROGRAM FOR LOOP DENGAN BREAK===\");\n",
    "for(total=0; true;){\n",
    "    System.out.print(\"Masukkan Bilangan : \");\n",
    "    angka = input.nextInt();\n",
    "    total += angka;\n",
    "    if(total>50) break;\n",
    "}\n",
    "System.out.println(\"Jumlah angka-angka yang telah dimasukkan : \" +total);"
   ]
  },
  {
   "cell_type": "markdown",
   "metadata": {},
   "source": [
    "##### 2. Buat perulangan yang sama dengan struktur perulangan while\n",
    "<p align=\"left\">\n",
    "    <img width=\"696\" height=\"124\" src=\"images/while2.jpg\" align=\"left\">\n",
    "    </p>"
   ]
  },
  {
   "cell_type": "code",
   "execution_count": 8,
   "metadata": {},
   "outputs": [
    {
     "name": "stdout",
     "output_type": "stream",
     "text": [
      "===PROGRAM WHILE LOOP DENGAN BREAK===\n",
      "Masukkan Bilangan : 90\n",
      "Jumlah angka-angka yang telah dimasukkan : 90\n"
     ]
    }
   ],
   "source": [
    "// Ketik kode program di atas di bawah sini\n",
    "int angka, total;\n",
    "System.out.println(\"===PROGRAM WHILE LOOP DENGAN BREAK===\");\n",
    "total = 0;\n",
    "while(true){\n",
    "    System.out.print(\"Masukkan Bilangan : \");\n",
    "    angka = input.nextInt();\n",
    "    total += angka;\n",
    "    if(total>50) break;\n",
    "}\n",
    "System.out.println(\"Jumlah angka-angka yang telah dimasukkan : \" +total);"
   ]
  },
  {
   "cell_type": "markdown",
   "metadata": {},
   "source": [
    "3. Tuliskan perulangan diatas dalam struktur do-while\n",
    "    <p align=\"left\">\n",
    "    <img width=\"696\" height=\"124\" src=\"images/dowhile2.jpg\" align=\"left\">\n",
    "    </p>"
   ]
  },
  {
   "cell_type": "code",
   "execution_count": 9,
   "metadata": {},
   "outputs": [
    {
     "name": "stdout",
     "output_type": "stream",
     "text": [
      "===PROGRAM DO-WHILE LOOP DENGAN BREAK===\n",
      "Masukkan Bilangan : 90\n",
      "Jumlah angka-angka yang telah dimasukkan : 90\n"
     ]
    }
   ],
   "source": [
    "// Ketik kode program di atas di bawah sini\n",
    "int angka, total;\n",
    "System.out.println(\"===PROGRAM DO-WHILE LOOP DENGAN BREAK===\");\n",
    "total = 0;\n",
    "do\n",
    "{\n",
    "    System.out.print(\"Masukkan Bilangan : \");\n",
    "    angka = input.nextInt();\n",
    "    total += angka;\n",
    "    if(total>50) break;\n",
    "}\n",
    "while(true);\n",
    "System.out.println(\"Jumlah angka-angka yang telah dimasukkan : \" +total);"
   ]
  },
  {
   "cell_type": "markdown",
   "metadata": {},
   "source": [
    "##### Pertanyaan\n",
    "1. Jelaskan fungsi kode program yang telah dibuat pada percobaan diatas!"
   ]
  },
  {
   "cell_type": "markdown",
   "metadata": {},
   "source": [
    "Perintah break jika digunakan didalam perulangan berfungsi untuk menghentikan paksa proses pengulangan yang sedang berlangsung. Break digunakan setelah if untuk menyeleksi kapan perulangan harus dihentikan paksa."
   ]
  },
  {
   "cell_type": "markdown",
   "metadata": {},
   "source": [
    "2. Jelaskan fungsi kode berikut!\n",
    "    <p align=\"left\">\n",
    "    <img src=\"images/forPertanyaan2.jpg\" align=\"left\">\n",
    "    </p>\n"
   ]
  },
  {
   "cell_type": "markdown",
   "metadata": {},
   "source": [
    "untuk menyimpan hitungan pengulangan yang bernilai 0, dan lakukan pengulangan selama nilai running bernilai true."
   ]
  },
  {
   "cell_type": "markdown",
   "metadata": {},
   "source": [
    "#### Percobaan 3 : Keluar dari step perulangan menggunakan continue\n",
    "\n",
    "#### Waktu percobaan : 40 menit\n",
    "\n",
    "1. Buat program looping menggunakan struktur perulangan for seperti di bawah ini: \n",
    "<p align=\"left\">\n",
    "    <img src=\"images/forContinue.jpg\" align=\"left\">\n",
    "    </p>\n"
   ]
  },
  {
   "cell_type": "code",
   "execution_count": 10,
   "metadata": {},
   "outputs": [
    {
     "name": "stdout",
     "output_type": "stream",
     "text": [
      "===PROGRAM FOR LOOP DENGAN CONTINUE===\n",
      "Masukkan bilangan : 90\n",
      "Masukkan bilangan : 99\n",
      "Masukkan bilangan : 89\n",
      "Masukkan bilangan : 78\n",
      "Masukkan bilangan : 90\n",
      "Jumlah angka-angka yang kurang dari 50 : 0\n",
      "Rata-rata angka yang kurang dari 50 : NaN\n"
     ]
    }
   ],
   "source": [
    "// Ketik kode program di atas di bawah sini\n",
    "Scanner input = new Scanner(System.in);\n",
    "int angka, total, count;\n",
    "double avg;\n",
    "count = 0;\n",
    "System.out.println(\"===PROGRAM FOR LOOP DENGAN CONTINUE===\");\n",
    "for(int i=0; i<5; i++){\n",
    "    System.out.print(\"Masukkan bilangan : \");\n",
    "    angka = input.nextInt();\n",
    "    if(angka>=50) continue;\n",
    "    total += angka;\n",
    "    count++;\n",
    "}\n",
    "System.out.println(\"Jumlah angka-angka yang kurang dari 50 : \"+total);\n",
    "avg = (double)total/count;\n",
    "System.out.println(\"Rata-rata angka yang kurang dari 50 : \"+avg);"
   ]
  },
  {
   "cell_type": "markdown",
   "metadata": {},
   "source": [
    "5. Jalankan program. Amati apa yang terjadi!"
   ]
  },
  {
   "cell_type": "markdown",
   "metadata": {},
   "source": [
    "##### Pertanyaan\n",
    "1. Jelaskan Perbedaan dari percobaan 2 dan percobaan 3"
   ]
  },
  {
   "cell_type": "markdown",
   "metadata": {},
   "source": [
    "pada percobaan 2 perintah break digunakan untuk menghentikan paksa proses pengulangan. sedangkan pada percobaan 3 perintah continue hanya akan menghentikan perulangan yang saat ini terjadi dan kemudian melanjutkan perulangan literasi berikutnya atau untuk melewati 1 perulangan."
   ]
  },
  {
   "cell_type": "markdown",
   "metadata": {},
   "source": [
    "2. Jelaskan apa fungsi perintah kode program dibawah ini?\n",
    "<p align=\"left\">\n",
    "    <img width=\"352\" height=\"79\" src=\"images/continuePertanyaan.jpg\" align=\"left\">\n",
    "    </p>"
   ]
  },
  {
   "cell_type": "markdown",
   "metadata": {},
   "source": [
    "jika bilangan lebih dari 50 maka dilakukan perintah continue. selanjutnya total menjumlah semua angka."
   ]
  },
  {
   "cell_type": "markdown",
   "metadata": {},
   "source": [
    "### Tugas\n",
    "\n",
    "#### Waktu pengerjaan Tugas: 140 menit\n",
    "\n",
    "1. Buatlah program yang meminta masukan user sebuah bilangan bulat N (N > 0). Program kemudian menampilkan penjumlahan N bilangan genap positif pertama (bilangan genap ≥ 0).\n",
    "Contoh: \n",
    "    •\tJika user memasukkan N = 10, program akan menghitung banyaknya jumlah bilangan positive di dalam range bilangan 1-10   kemudian menampilkan penjumlahan bilangan positive bilangan bilangan diantara 1-10 yaitu : \n",
    "        0 + 2 + 4 + 6 + 10 = 30. \n",
    "        Setelah itu program akan menampilkan rata-rata dari bilangan positive yang telah dijumlahkan tadi.\n",
    "    •\tContoh output program dan flowchart\n",
    "<br/><img width=\"303\" height=\"529\" src=\"images/hasilTugasFc.jpg\" align=\"left\"><br/>\n",
    "  \n",
    "\n",
    "<br/><img width=\"303\" height=\"529\" src=\"images/fcTugasJS7.png\" align=\"left\">\n"
   ]
  },
  {
   "cell_type": "code",
   "execution_count": 17,
   "metadata": {},
   "outputs": [
    {
     "name": "stdout",
     "output_type": "stream",
     "text": [
      "Masukkan Angka = 10\n",
      "Banyaknya bilangan genap dari 1 sampai 10 adalah 5\n",
      "Angka genap dalam range terebut adalah 2,4,6,8,10\n",
      "Hasil penjumlahan bilangan genap dari 1 sampai 10 adalah 30\n",
      "Rata-rata bilangan genap dari 1 sampai 10 adalah 6.0\n"
     ]
    }
   ],
   "source": [
    "// Ketik kode program disini\n",
    "import java.util.Scanner;\n",
    "Scanner input = new Scanner(System.in);\n",
    "int bil, jmlBilGenap, totalGenap=0;\n",
    "double avg;\n",
    "System.out.print(\"Masukkan Angka = \");\n",
    "bil = input.nextInt();\n",
    "jmlBilGenap = bil/2;\n",
    "System.out.println(\"Banyaknya bilangan genap dari 1 sampai \" + bil + \" adalah \" +jmlBilGenap);\n",
    "System.out.print(\"Angka genap dalam range terebut adalah \");\n",
    "for(int i=1; i<=bil; i++){\n",
    "    if(i%2!=0){\n",
    "        continue;\n",
    "    }else if(i==bil){\n",
    "        System.out.println(i);\n",
    "    }else if(bil%2==0){\n",
    "        System.out.print(i + \",\");\n",
    "    }else{\n",
    "        System.out.println(i);\n",
    "    }totalGenap+=i;\n",
    "}\n",
    "avg = totalGenap/jmlBilGenap;\n",
    "System.out.println(\"Hasil penjumlahan bilangan genap dari 1 sampai \" + bil + \" adalah \" +totalGenap);\n",
    "System.out.println(\"Rata-rata bilangan genap dari 1 sampai \" + bil + \" adalah \" +avg);"
   ]
  },
  {
   "cell_type": "markdown",
   "metadata": {},
   "source": [
    "2. Buatlah program untuk menampilkan angka 1 hingga angka masukan pengguna secara berurutan dan melompati angka kelipatan 5. Seperti tampilan di bawah ini\n",
    "<p align=\"left\">\n",
    "<img width=\"184\" height=\"328\" src=\"images/tugas1.jpg\" align=\"left\">\n",
    "</p>"
   ]
  },
  {
   "cell_type": "code",
   "execution_count": 20,
   "metadata": {},
   "outputs": [
    {
     "name": "stdout",
     "output_type": "stream",
     "text": [
      "Masukkan angka = 19\n",
      "1\n",
      "2\n",
      "3\n",
      "4\n",
      "6\n",
      "7\n",
      "8\n",
      "9\n",
      "11\n",
      "12\n",
      "13\n",
      "14\n",
      "16\n",
      "17\n",
      "18\n",
      "19\n"
     ]
    }
   ],
   "source": [
    "// Ketik kode program disini\n",
    "import java.util.Scanner;\n",
    "Scanner sc = new Scanner(System.in);\n",
    "int bil;\n",
    "System.out.print(\"Masukkan angka = \");\n",
    "bil = sc.nextInt();\n",
    "for(int i=1; i<=bil; i++){\n",
    "    if(i%5==0)continue;\n",
    "    System.out.println(i);\n",
    "}"
   ]
  },
  {
   "cell_type": "markdown",
   "metadata": {},
   "source": [
    "3. Buatlah sebuah program yang menampilkan deret bilangan fibonacci sebagai berikut. Dimana bilangan yang terletak di sebelah kanan adalah hasil penjumlahan dari 2 bilangan sebelumnya\n",
    " <p align=\"left\">\n",
    "    <img width=\"451\" height=\"226\" src=\"images/fibo.png\" align=\"left\">\n",
    "    </p>\n"
   ]
  },
  {
   "cell_type": "code",
   "execution_count": 32,
   "metadata": {},
   "outputs": [
    {
     "name": "stdout",
     "output_type": "stream",
     "text": [
      "=====FIBONACCI SERIES=====\n",
      "Nilai FIBONACCI ke - 12\n",
      "Bilangan fibonacci ke 0 adalah 1\n",
      "Bilangan fibonacci ke 1 adalah 1\n",
      "Bilangan fibonacci ke 2 adalah 2\n",
      "Bilangan fibonacci ke 3 adalah 3\n",
      "Bilangan fibonacci ke 4 adalah 5\n",
      "Bilangan fibonacci ke 5 adalah 8\n",
      "Bilangan fibonacci ke 6 adalah 13\n",
      "Bilangan fibonacci ke 7 adalah 21\n",
      "Bilangan fibonacci ke 8 adalah 34\n",
      "Bilangan fibonacci ke 9 adalah 55\n",
      "Bilangan fibonacci ke 10 adalah 89\n",
      "Bilangan fibonacci ke 11 adalah 144\n",
      "Bilangan fibonacci ke 12 adalah 233\n"
     ]
    }
   ],
   "source": [
    "// Ketik kode program disini\n",
    "import java.util.Scanner;\n",
    "Scanner sc = new Scanner(System.in);\n",
    "int bilKe, a, b, c;\n",
    "System.out.println(\"=====FIBONACCI SERIES=====\");\n",
    "System.out.print(\"Nilai FIBONACCI ke - \");\n",
    "bilKe = sc.nextInt();\n",
    "c = 0;\n",
    "b = 1;\n",
    "a = 1;\n",
    "for(int i=0; i<=bilKe; i++){\n",
    "    a = b + c;\n",
    "    c = b;\n",
    "    b = a;\n",
    "    System.out.println(\"Bilangan fibonacci ke \" + i + \" adalah \" + c);\n",
    "}"
   ]
  },
  {
   "cell_type": "code",
   "execution_count": null,
   "metadata": {},
   "outputs": [],
   "source": []
  }
 ],
 "metadata": {
  "kernelspec": {
   "display_name": "Java",
   "language": "java",
   "name": "java"
  },
  "language_info": {
   "codemirror_mode": "java",
   "file_extension": ".jshell",
   "mimetype": "text/x-java-source",
   "name": "Java",
   "pygments_lexer": "java",
   "version": "11.0.12+8-LTS-237"
  },
  "nteract": {
   "version": "nteract-on-jupyter@2.1.3"
  }
 },
 "nbformat": 4,
 "nbformat_minor": 1
}
