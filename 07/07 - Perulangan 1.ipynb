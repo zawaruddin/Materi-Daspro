{
 "cells": [
  {
   "cell_type": "markdown",
   "metadata": {},
   "source": [
    "## JOBSHEET 7\n",
    "\n",
    "## PERULANGAN 1\n",
    "\n",
    "### Tujuan\n",
    "\n",
    "Mahasiswa mampu menyelesaikan permasalahan/studi kasus menggunakan sintaks perulangan 1 dan mengimplemantasikannya dalam bahasa pemrogaman java.\n",
    "\n",
    "### Alat dan Bahan\n",
    "+ PC/laptop\n",
    "+ Browser(chrome, firefox, safari)\n",
    "+ Koneksi internet\n",
    "\n",
    "### Praktikum\n",
    "\n",
    "#### Percobaan 1 : Penggunaan for, while dan do-while\n",
    "\n",
    "#### Waktu percobaan : 40 menit\n",
    "\n",
    "1. Perhatikan flowchart perulangan for dibawah ini!\n",
    "\n",
    "    <p align=\"left\">\n",
    "    <img width=\"197\" height=\"259\" src=\"images/flowchartFaktorial.png\">\n",
    "    </p>\n",
    "    \n",
    "\n",
    "> Flowchart diatas digunakan untuk menghitung nilai faktorial, selanjutnya kita akan membuat programnya berdasarkan\n",
    "> flowchart di atas!\n",
    "\n",
    "2. Tambahkan library Scanner, deklarasi Scanner, dan buat variabel angka untuk menampung data yang diinput melalui keyboard\n",
    "\n"
   ]
  },
  {
   "cell_type": "code",
   "execution_count": 1,
   "metadata": {
    "pycharm": {
     "name": "#%%\n"
    }
   },
   "outputs": [],
   "source": [
    "import java.util.Scanner;\n",
    "Scanner input = new Scanner(System.in);\n"
   ]
  },
  {
   "cell_type": "markdown",
   "metadata": {},
   "source": [
    "3. Buatlah deklarasi dan inisialisasi variabel faktorial sesuai dengan flowchart diatas"
   ]
  },
  {
   "cell_type": "code",
   "execution_count": 2,
   "metadata": {},
   "outputs": [],
   "source": [
    "int angka, faktorial=1;\n"
   ]
  },
  {
   "cell_type": "markdown",
   "metadata": {},
   "source": [
    "4. Tambahkan struktur perulangan untuk menghitung hasil faktorial sebuah nilai yang diinputkan menggunakan for\n",
    "    \n",
    "    <p align=\"left\">\n",
    "    <img width=\"696\" height=\"124\" src=\"images/for.jpg\" align=\"left\">\n",
    "    </p>"
   ]
  },
  {
   "cell_type": "code",
   "execution_count": 3,
   "metadata": {},
   "outputs": [
    {
     "name": "stdout",
     "output_type": "stream",
     "text": [
      "=====PROGRAM MENGHITUNG NILAI FAKTORIAL DENGAN FOR=====\n",
      "Masukkan Bilangan  : 5\n",
      "Nilai faktorial bilangan tersebut adalah  : 120"
     ]
    }
   ],
   "source": [
    "System.out.println(\"=====PROGRAM MENGHITUNG NILAI FAKTORIAL DENGAN FOR=====\");\n",
    "System.out.print(\"Masukkan Bilangan  : \");\n",
    "angka = input.nextInt();\n",
    "for(int i=1; i<=angka; i++)\n",
    "    faktorial *= i;\n",
    "System.out.print(\"Nilai faktorial bilangan tersebut adalah  : \" + faktorial);\n"
   ]
  },
  {
   "cell_type": "markdown",
   "metadata": {},
   "source": [
    "5. Ubah nilai variabel faktorial seperti semula. Kemudian gunakan struktur perulangan while untuk menghitung hasil faktorial sebuah nilai yang diinputkan\n",
    "    \n",
    "    <p align=\"left\">\n",
    "    <img width=\"696\" height=\"124\" src=\"images/while.jpg\" align=\"left\">\n",
    "    </p>"
   ]
  },
  {
   "cell_type": "code",
   "execution_count": 4,
   "metadata": {
    "scrolled": true
   },
   "outputs": [
    {
     "name": "stdout",
     "output_type": "stream",
     "text": [
      "=====PROGRAM MENGHITUNG NILAI FAKTORIAL DENGAN WHILE=====\n",
      "Masukkan Bilangan  ; 5\n",
      "Nilai faktorial bilangan tersebut adalah  : 120"
     ]
    }
   ],
   "source": [
    "faktorial = 1;\n",
    "System.out.println(\"=====PROGRAM MENGHITUNG NILAI FAKTORIAL DENGAN WHILE=====\");\n",
    "System.out.print(\"Masukkan Bilangan  : \");\n",
    "angka = input.nextInt();\n",
    "int i=1;\n",
    "while(i<=angka){\n",
    "    faktorial*=i;\n",
    "    i++;\n",
    "}\n",
    "System.out.print(\"Nilai faktorial bilangan tersebut adalah  : \" + faktorial);"
   ]
  },
  {
   "cell_type": "markdown",
   "metadata": {},
   "source": [
    "6. Kembalikan lagi nilai variabel faktorial seperti semula. Gunakan struktur perulangan do-while untuk menghitung hasil faktorial sebuah nilai yang diinputkan\n",
    "    \n",
    "    <p align=\"left\">\n",
    "    <img width=\"696\" height=\"124\" src=\"images/dowhile.jpg\" align=\"left\">\n",
    "    </p>"
   ]
  },
  {
   "cell_type": "code",
   "execution_count": 6,
   "metadata": {},
   "outputs": [
    {
     "name": "stdout",
     "output_type": "stream",
     "text": [
      "=====PROGRAM MENGHITUNG NILAI FAKTORIAL DENGAN DO-WHILE=====\n",
      "Masukkan Bilangan  : 5\n",
      "Nilai faktorial bilangan tersebut adalan  : 120"
     ]
    }
   ],
   "source": [
    "faktorial = 1;\n",
    "System.out.println(\"=====PROGRAM MENGHITUNG NILAI FAKTORIAL DENGAN DO-WHILE=====\");\n",
    "System.out.print(\"Masukkan Bilangan  : \");\n",
    "angka = input.nextInt();\n",
    "int i = 1;\n",
    "do{\n",
    "    faktorial *= i;\n",
    "    i++;\n",
    "}\n",
    "while(i<=angka);\n",
    "System.out.print(\"Nilai faktorial bilangan tersebut adalan  : \" + faktorial);"
   ]
  },
  {
   "cell_type": "markdown",
   "metadata": {},
   "source": [
    "##### Pertanyaan\n",
    "1. Pada program diatas, apakah kegunaan baris berikut?\n",
    "<p align=\"left\">\n",
    "    <img src=\"images/hitungFaktorial.jpg\" align=\"left\">\n",
    "    </p>"
   ]
  },
  {
   "cell_type": "markdown",
   "metadata": {},
   "source": [
    "###### Jawab :\n",
    "*= merupakan operator assignment adalah operator untuk memasukkan suatu nilai ke dalam variabel. Jadi kegunaan dari faktorial *= i; yaitu memberikan perintah kalikan isi variabel faktorial dengan i dan tampilkan hasilya"
   ]
  },
  {
   "cell_type": "markdown",
   "metadata": {},
   "source": [
    "2. Modifikasi program diatas dibagian struktur pemilihannya sehingga hasilnya menjadi seperti di bawah ini:\n",
    "<p align=\"left\">\n",
    "    <img src=\"images/modifP1.jpg\" align=\"left\">\n",
    "    </p>"
   ]
  },
  {
   "cell_type": "code",
   "execution_count": 7,
   "metadata": {},
   "outputs": [
    {
     "name": "stdout",
     "output_type": "stream",
     "text": [
      "=====PROGRAM MENGHITUNG NILAI FAKTORIAL DENGAN FOR=====\n",
      "Masukan Bilangan : 5\n",
      "5 Faktorial = 1x2x3x4x5 = 120\n"
     ]
    }
   ],
   "source": [
    "import java.util.Scanner;\n",
    "Scanner input = new Scanner(System.in);\n",
    "int angka, faktorial=1;\n",
    "faktorial = 1;\n",
    "System.out.println(\"=====PROGRAM MENGHITUNG NILAI FAKTORIAL DENGAN FOR=====\");\n",
    "System.out.print(\"Masukan Bilangan : \");\n",
    "angka = input.nextInt();\n",
    "int i =1 ;\n",
    "System.out.print(angka + \" Faktorial = \" );\n",
    "for(i = 1;i <= angka  ; i++){\n",
    "    faktorial *= i;\n",
    "    if(i == angka){\n",
    "        System.out.print(i);\n",
    "    }else{\n",
    "        System.out.print(i + \"x\");\n",
    "    }\n",
    "}\n",
    "System.out.println(\" = \" + faktorial);"
   ]
  },
  {
   "cell_type": "markdown",
   "metadata": {},
   "source": [
    "#### Percobaan 2 : Keluar dari perulangan menggunakan break\n",
    "\n",
    "#### Waktu percobaan : 40 menit"
   ]
  },
  {
   "cell_type": "markdown",
   "metadata": {},
   "source": [
    "1. Buatlah perulangan dengan menggunakan for yang memanfaatkan keyword break\n",
    "<p align=\"left\">\n",
    "    <img width=\"696\" height=\"124\" src=\"images/for2.jpg\" align=\"left\">\n",
    "    </p>"
   ]
  },
  {
   "cell_type": "code",
   "execution_count": 1,
   "metadata": {},
   "outputs": [
    {
     "name": "stdout",
     "output_type": "stream",
     "text": [
      "===PROGRAM FOR LOOP DENGAN BREAK===\n",
      "Masukkan Bilangan  : 12\n",
      "Masukkan Bilangan  : 11\n",
      "Masukkan Bilangan  : 4\n",
      "Masukkan Bilangan  : 31\n",
      "Jumlah angka-angka yang telah dimasukkan : 58"
     ]
    }
   ],
   "source": [
    "// Ketik kode program di atas di bawah sini\n",
    "Scanner input = new Scanner(System.in);\n",
    "int angka, total;\n",
    "System.out.println(\"===PROGRAM FOR LOOP DENGAN BREAK===\");\n",
    "for(total=0;true;){\n",
    "    System.out.print(\"Masukkan Bilangan  : \");\n",
    "    angka = input.nextInt();\n",
    "    total += angka;\n",
    "    if(total>50) break;\n",
    "}\n",
    "System.out.print(\"Jumlah angka-angka yang telah dimasukkan : \" + total);"
   ]
  },
  {
   "cell_type": "markdown",
   "metadata": {},
   "source": [
    "##### 2. Buat perulangan yang sama dengan struktur perulangan while\n",
    "<p align=\"left\">\n",
    "    <img width=\"696\" height=\"124\" src=\"images/while2.jpg\" align=\"left\">\n",
    "    </p>"
   ]
  },
  {
   "cell_type": "code",
   "execution_count": 2,
   "metadata": {},
   "outputs": [
    {
     "name": "stdout",
     "output_type": "stream",
     "text": [
      "===PROGRAM WHILE LOOP DENGAN BREAK===\n",
      "Masukkan Bilangan : 12\n",
      "Masukkan Bilangan : 11\n",
      "Masukkan Bilangan : 17\n",
      "Masukkan Bilangan : 21\n",
      "Jumlah angka-angka yang telah dimasukkan : 61\n"
     ]
    }
   ],
   "source": [
    "// Ketik kode program di atas di bawah sini\n",
    "int angka, total;\n",
    "System.out.println(\"===PROGRAM WHILE LOOP DENGAN BREAK===\");\n",
    "total = 0;\n",
    "while(true){\n",
    "    System.out.print(\"Masukkan Bilangan : \");\n",
    "    angka = input.nextInt();\n",
    "    total += angka;\n",
    "    if (total>50) break;\n",
    "}\n",
    "System.out.println(\"Jumlah angka-angka yang telah dimasukkan : \" + total);"
   ]
  },
  {
   "cell_type": "markdown",
   "metadata": {},
   "source": [
    "3. Tuliskan perulangan diatas dalam struktur do-while\n",
    "    <p align=\"left\">\n",
    "    <img width=\"696\" height=\"124\" src=\"images/dowhile2.jpg\" align=\"left\">\n",
    "    </p>"
   ]
  },
  {
   "cell_type": "code",
   "execution_count": 3,
   "metadata": {},
   "outputs": [
    {
     "name": "stdout",
     "output_type": "stream",
     "text": [
      "===PROGRAM DO-WHILE LOOP DENGAN BREAK===\n",
      "Masukkan Bilangan : 12\n",
      "Masukkan Bilangan : 11\n",
      "Masukkan Bilangan : 9\n",
      "Masukkan Bilangan : 3\n",
      "Masukkan Bilangan : 16\n",
      "Jumlah angka-angka yang telah dimasukkan : 51\n"
     ]
    }
   ],
   "source": [
    "// Ketik kode program di atas di bawah sini\n",
    "int angka, total;\n",
    "System.out.println(\"===PROGRAM DO-WHILE LOOP DENGAN BREAK===\");\n",
    "total = 0;\n",
    "do\n",
    "{\n",
    "    System.out.print(\"Masukkan Bilangan : \");\n",
    "    angka = input.nextInt();\n",
    "    total += angka;\n",
    "    if(total>50) break;\n",
    "}\n",
    "while(true);\n",
    "System.out.println(\"Jumlah angka-angka yang telah dimasukkan : \" + total);"
   ]
  },
  {
   "cell_type": "markdown",
   "metadata": {},
   "source": [
    "##### Pertanyaan\n",
    "1. Jelaskan fungsi kode program yang telah dibuat pada percobaan diatas!"
   ]
  },
  {
   "cell_type": "markdown",
   "metadata": {},
   "source": [
    "#### Jawab :\n",
    "fungsi kode program di atas memerintahkan untuk menginputkan angka dan menampilkan output dari ppenjumlahan angka yang diinputkan. inputan angka bertipe data integer. Perintah for berarti memerintahkan untuk menginput angka dan menjumlahkanbilangan yang sudah diinputkan, if jumlah sudah mencapai 50 maka sistem akan berhenti karena terdapat perintah break. Begitu juga dengan perintah while yang berarti apabila angka yang diinputkan bernilai true atau syarat terpenuhi terlebih dahulu maka sistem akan terus melakukan perulangan hingga perintah break yaitu sistem berhenti apabila jumlah mencapi 50. Fungsi kode program do-while pada prinsipnya sama dengan perintah while, perintah \n",
    "do while akan mengulangi statmen miliknya selama syarat perulangan terpenuhi, hanya saja perintah do-while akan \n",
    "menjalankan minimal 1 statemen dulu sebelum memeriksa syaratnya.\n",
    "\n"
   ]
  },
  {
   "cell_type": "markdown",
   "metadata": {},
   "source": [
    "2. Jelaskan fungsi kode berikut!\n",
    "    <p align=\"left\">\n",
    "    <img src=\"images/forPertanyaan2.jpg\" align=\"left\">\n",
    "    </p>\n"
   ]
  },
  {
   "cell_type": "markdown",
   "metadata": {},
   "source": [
    "#### Jawab :\n",
    "\n",
    "fungsi kode tersebut adalah untuk melakukan perulangan dengan nilai variabel total bernilai 0 dan memenuhi kondisi true "
   ]
  },
  {
   "cell_type": "markdown",
   "metadata": {},
   "source": [
    "#### Percobaan 3 : Keluar dari step perulangan menggunakan continue\n",
    "\n",
    "#### Waktu percobaan : 40 menit\n",
    "\n",
    "1. Buat program looping menggunakan struktur perulangan for seperti di bawah ini: \n",
    "<p align=\"left\">\n",
    "    <img src=\"images/forContinue.jpg\" align=\"left\">\n",
    "    </p>\n"
   ]
  },
  {
   "cell_type": "code",
   "execution_count": 13,
   "metadata": {},
   "outputs": [
    {
     "name": "stdout",
     "output_type": "stream",
     "text": [
      "===PROGRAM FOR LOOP DENGAN CONTINUE===\n",
      "Masukkan Bilangan : 55\n",
      "Masukkan Bilangan : 20\n",
      "Masukkan Bilangan : 20\n",
      "Masukkan Bilangan : 10\n",
      "Masukkan Bilangan : 10\n",
      "Jumlah angka-angka yang kurang dari 50 : 60\n",
      "Rata-rata angka yang kurang dari 50    : 15.0\n"
     ]
    }
   ],
   "source": [
    "// Ketik kode program di atas di bawah sini\n",
    "Scanner input = new Scanner(System.in);\n",
    "int angka, total, count;\n",
    "double avg;\n",
    "count = 0;\n",
    "System.out.println(\"===PROGRAM FOR LOOP DENGAN CONTINUE===\");\n",
    "for(int i=0 ; i<5 ; i++){\n",
    "    System.out.print(\"Masukkan Bilangan : \");\n",
    "    angka = input.nextInt();\n",
    "    if(angka>=50) continue;\n",
    "    total += angka;\n",
    "    count++;\n",
    "}\n",
    "System.out.println(\"Jumlah angka-angka yang kurang dari 50 : \" + total);\n",
    "avg = (double)total/count;\n",
    "System.out.println(\"Rata-rata angka yang kurang dari 50    : \" + avg);"
   ]
  },
  {
   "cell_type": "code",
   "execution_count": null,
   "metadata": {},
   "outputs": [],
   "source": [
    "5. Jalankan program. Amati apa yang terjadi!"
   ]
  },
  {
   "cell_type": "markdown",
   "metadata": {},
   "source": [
    "##### Pertanyaan\n",
    "1. Jelaskan Perbedaan dari percobaan 2 dan percobaan 3"
   ]
  },
  {
   "cell_type": "markdown",
   "metadata": {},
   "source": [
    "#### Jawab :\n",
    "\n",
    "Perbedannya pada percobaan 2 menggunakan break yang apabila tidak sesuai syarat akan langsung keluar dari loop sedangkan penggunaan continue berarti melewati satu loop dan akan dilanjutkan lagi selagi syarat terpenuhi"
   ]
  },
  {
   "cell_type": "markdown",
   "metadata": {},
   "source": [
    "2. Jelaskan apa fungsi perintah kode program dibawah ini?\n",
    "<p align=\"left\">\n",
    "    <img width=\"352\" height=\"79\" src=\"images/continuePertanyaan.jpg\" align=\"left\">\n",
    "    </p>"
   ]
  },
  {
   "cell_type": "markdown",
   "metadata": {},
   "source": [
    "#### Jawab :\n",
    "\n",
    "fungsi nya jika angka yang diinputkan lebih dari sama dengan 50 maka akan dilompati atau keluar dari loop sementara, \n",
    "dan akan dilanjutkan loop berikutnya. Total yang ditampilkan sudah ditambahkan dengan angka yang diinput dan count\n",
    "merupakan perhitungan jumlah data dalam daftar"
   ]
  },
  {
   "cell_type": "markdown",
   "metadata": {},
   "source": [
    "### Tugas\n",
    "\n",
    "#### Waktu pengerjaan Tugas: 140 menit\n",
    "\n",
    "1. Buatlah program yang meminta masukan user sebuah bilangan bulat N (N > 0). Program kemudian menampilkan penjumlahan N bilangan genap positif pertama (bilangan genap ≥ 0).\n",
    "Contoh: \n",
    "    •\tJika user memasukkan N = 10, program akan menghitung banyaknya jumlah bilangan positive di dalam range bilangan 1-10   kemudian menampilkan penjumlahan bilangan positive bilangan bilangan diantara 1-10 yaitu : \n",
    "        0 + 2 + 4 + 6 + 10 = 30. \n",
    "        Setelah itu program akan menampilkan rata-rata dari bilangan positive yang telah dijumlahkan tadi.\n",
    "    •\tContoh output program dan flowchart\n",
    "<br/><img width=\"303\" height=\"529\" src=\"images/hasilTugasFc.jpg\" align=\"left\"><br/>\n",
    "  \n",
    "\n",
    "<br/><img width=\"303\" height=\"529\" src=\"images/fcTugasJS7.png\" align=\"left\">\n"
   ]
  },
  {
   "cell_type": "code",
   "execution_count": 19,
   "metadata": {},
   "outputs": [
    {
     "name": "stdout",
     "output_type": "stream",
     "text": [
      "Masukkan angka : 10\n",
      "Banyaknya bilangan genap 1 sampai dengan 10 adalah 5\n",
      "Angka genap dalam range tersebut adalah 2,4,6,8,10\n",
      "Hasil penjumlahan bilangan genap dari 1 sampai 10 adalah 30\n",
      "Rata-rata bilangan genap dari 1 sampai 10 adalah 6.0\n"
     ]
    }
   ],
   "source": [
    "// Ketik kode program disini\n",
    "import java.util.Scanner;\n",
    "Scanner input = new Scanner(System.in);\n",
    "int i, bil, jumBilGenap;\n",
    "int totalGenap = 0;\n",
    "double avg;\n",
    "\n",
    "System.out.print(\"Masukkan angka : \");\n",
    "bil = input.nextInt();\n",
    "jumBilGenap = bil/2;\n",
    "System.out.println(\"Banyaknya bilangan genap 1 sampai dengan \"+bil+\" adalah \"+jumBilGenap);\n",
    "System.out.print(\"Angka genap dalam range tersebut adalah \");\n",
    "\n",
    "do{\n",
    "    i++;\n",
    "    if(i%2==0){\n",
    "        totalGenap += i;\n",
    "        if(i == bil){;\n",
    "        System.out.print(i);    \n",
    "        }else{\n",
    "        System.out.print(i + \",\");\n",
    "        }\n",
    "    }else{\n",
    "        continue;\n",
    "    }\n",
    "\n",
    "}\n",
    "while(i < bil);\n",
    "avg = (double) totalGenap /jumBilGenap;\n",
    "System.out.println(\"\");\n",
    "System.out.println(\"Hasil penjumlahan bilangan genap dari 1 sampai \"+bil+\" adalah \"+totalGenap);\n",
    "System.out.println(\"Rata-rata bilangan genap dari 1 sampai \"+bil+\" adalah \"+avg);\n"
   ]
  },
  {
   "cell_type": "markdown",
   "metadata": {},
   "source": [
    "2. Buatlah program untuk menampilkan angka 1 hingga angka masukan pengguna secara berurutan dan melompati angka kelipatan 5. Seperti tampilan di bawah ini\n",
    "<p align=\"left\">\n",
    "<img width=\"184\" height=\"328\" src=\"images/tugas1.jpg\" align=\"left\">\n",
    "</p>"
   ]
  },
  {
   "cell_type": "code",
   "execution_count": 12,
   "metadata": {},
   "outputs": [
    {
     "name": "stdout",
     "output_type": "stream",
     "text": [
      "Masukkan Angka: 19\n",
      "1\n",
      "2\n",
      "3\n",
      "4\n",
      "6\n",
      "7\n",
      "8\n",
      "9\n",
      "11\n",
      "12\n",
      "13\n",
      "14\n",
      "16\n",
      "17\n",
      "18\n",
      "19\n"
     ]
    }
   ],
   "source": [
    "// Ketik kode program disini\n",
    "import java.util.Scanner;\n",
    "Scanner input = new Scanner(System.in);\n",
    "int angka, i;\n",
    "System.out.print(\"Masukkan Angka: \");\n",
    "    angka = input.nextInt();\n",
    "i = 1;\n",
    "do{\n",
    "   if(i%5==0)continue; \n",
    "    System.out.println(i);\n",
    "} \n",
    "while(i++ <= angka);\n"
   ]
  },
  {
   "cell_type": "markdown",
   "metadata": {},
   "source": [
    "3. Buatlah sebuah program yang menampilkan deret bilangan fibonacci sebagai berikut. Dimana bilangan yang terletak di sebelah kanan adalah hasil penjumlahan dari 2 bilangan sebelumnya\n",
    " <p align=\"left\">\n",
    "    <img width=\"451\" height=\"226\" src=\"images/fibo.png\" align=\"left\">\n",
    "    </p>\n"
   ]
  },
  {
   "cell_type": "markdown",
   "metadata": {},
   "source": [
    "##### // Ketik kode program disini"
   ]
  },
  {
   "cell_type": "code",
   "execution_count": 15,
   "metadata": {},
   "outputs": [
    {
     "name": "stdout",
     "output_type": "stream",
     "text": [
      "Masukkan jumlah deret Fibonacci: 89\n",
      "Sum of : 2+0=2\n",
      "Sum of : 1+2=3\n",
      "Sum of : 3+3=6\n",
      "Sum of : 4+6=10\n",
      "Sum of : 7+10=17\n",
      "Sum of : 11+17=28\n",
      "Sum of : 18+28=46\n",
      "Sum of : 29+46=75\n",
      "Sum of : 47+75=122\n",
      "Sum of : 76+122=198\n"
     ]
    }
   ],
   "source": [
    "Scanner input = new Scanner(System.in);\n",
    "int a1, a2, a3, angka;\n",
    "System.out.print(\"Masukkan jumlah deret Fibonacci: \");\n",
    "angka = input.nextInt();\n",
    "\n",
    "for(a1 = 2;a1 < angka;a1++){\n",
    "    a3 = a1 + a2;\n",
    "    System.out.println(\"Sum of : \" +a1+ \"+\" +a2+ \"=\" +a3);\n",
    "    a1 = a2;\n",
    "    a2 = a3;\n",
    "    if(a3 == angka)break;\n",
    "}"
   ]
  },
  {
   "cell_type": "code",
   "execution_count": null,
   "metadata": {},
   "outputs": [],
   "source": []
  }
 ],
 "metadata": {
  "kernelspec": {
   "display_name": "Java",
   "language": "java",
   "name": "java"
  },
  "language_info": {
   "codemirror_mode": "java",
   "file_extension": ".jshell",
   "mimetype": "text/x-java-source",
   "name": "Java",
   "pygments_lexer": "java",
   "version": "11.0.12+8-LTS-237"
  },
  "nteract": {
   "version": "nteract-on-jupyter@2.1.3"
  }
 },
 "nbformat": 4,
 "nbformat_minor": 1
}
